{
 "cells": [
  {
   "cell_type": "markdown",
   "id": "738b306d",
   "metadata": {},
   "source": [
    "### Projeto com Feedback 4\n",
    "\n",
    "#### Prevendo Customer Churn em Operadoras de Telecom\n",
    "\n",
    "Identificar Rotatividade dos clientes (customer churn) de operadora de TELECOM. Prever se os clientes abandonarão o relacionamento comercial.\n",
    "Análise é um trabalho de classificação (sim/não)"
   ]
  },
  {
   "cell_type": "code",
   "execution_count": 1,
   "id": "6c4ed8cf",
   "metadata": {},
   "outputs": [],
   "source": [
    "#imports\n",
    "import pandas as pd\n",
    "import missingno as msn\n",
    "import matplotlib.pylab as plt\n",
    "import seaborn as sns\n",
    "from sklearn.metrics import confusion_matrix\n",
    "from sklearn.metrics import classification_report\n",
    "from sklearn.model_selection import cross_val_score\n",
    "from sklearn.model_selection import cross_val_score\n",
    "import numpy as np\n",
    "import warnings\n",
    "warnings.filterwarnings('ignore')\n",
    "sns.set_theme(style=\"whitegrid\")"
   ]
  },
  {
   "cell_type": "code",
   "execution_count": 2,
   "id": "d518e0c9",
   "metadata": {},
   "outputs": [],
   "source": [
    "# importando dados para análise, usando pandas\n",
    "telecon_df = pd.read_csv('projeto4_telecom_treino.csv')\n",
    "telecon_df_test = pd.read_csv('projeto4_telecom_teste.csv')"
   ]
  },
  {
   "cell_type": "code",
   "execution_count": 3,
   "id": "97f399f3",
   "metadata": {},
   "outputs": [
    {
     "data": {
      "text/html": [
       "<div>\n",
       "<style scoped>\n",
       "    .dataframe tbody tr th:only-of-type {\n",
       "        vertical-align: middle;\n",
       "    }\n",
       "\n",
       "    .dataframe tbody tr th {\n",
       "        vertical-align: top;\n",
       "    }\n",
       "\n",
       "    .dataframe thead th {\n",
       "        text-align: right;\n",
       "    }\n",
       "</style>\n",
       "<table border=\"1\" class=\"dataframe\">\n",
       "  <thead>\n",
       "    <tr style=\"text-align: right;\">\n",
       "      <th></th>\n",
       "      <th>Unnamed: 0</th>\n",
       "      <th>state</th>\n",
       "      <th>account_length</th>\n",
       "      <th>area_code</th>\n",
       "      <th>international_plan</th>\n",
       "      <th>voice_mail_plan</th>\n",
       "      <th>number_vmail_messages</th>\n",
       "      <th>total_day_minutes</th>\n",
       "      <th>total_day_calls</th>\n",
       "      <th>total_day_charge</th>\n",
       "      <th>...</th>\n",
       "      <th>total_eve_calls</th>\n",
       "      <th>total_eve_charge</th>\n",
       "      <th>total_night_minutes</th>\n",
       "      <th>total_night_calls</th>\n",
       "      <th>total_night_charge</th>\n",
       "      <th>total_intl_minutes</th>\n",
       "      <th>total_intl_calls</th>\n",
       "      <th>total_intl_charge</th>\n",
       "      <th>number_customer_service_calls</th>\n",
       "      <th>churn</th>\n",
       "    </tr>\n",
       "  </thead>\n",
       "  <tbody>\n",
       "    <tr>\n",
       "      <th>0</th>\n",
       "      <td>1</td>\n",
       "      <td>KS</td>\n",
       "      <td>128</td>\n",
       "      <td>area_code_415</td>\n",
       "      <td>no</td>\n",
       "      <td>yes</td>\n",
       "      <td>25</td>\n",
       "      <td>265.1</td>\n",
       "      <td>110</td>\n",
       "      <td>45.07</td>\n",
       "      <td>...</td>\n",
       "      <td>99</td>\n",
       "      <td>16.78</td>\n",
       "      <td>244.7</td>\n",
       "      <td>91</td>\n",
       "      <td>11.01</td>\n",
       "      <td>10.0</td>\n",
       "      <td>3</td>\n",
       "      <td>2.70</td>\n",
       "      <td>1</td>\n",
       "      <td>no</td>\n",
       "    </tr>\n",
       "    <tr>\n",
       "      <th>1</th>\n",
       "      <td>2</td>\n",
       "      <td>OH</td>\n",
       "      <td>107</td>\n",
       "      <td>area_code_415</td>\n",
       "      <td>no</td>\n",
       "      <td>yes</td>\n",
       "      <td>26</td>\n",
       "      <td>161.6</td>\n",
       "      <td>123</td>\n",
       "      <td>27.47</td>\n",
       "      <td>...</td>\n",
       "      <td>103</td>\n",
       "      <td>16.62</td>\n",
       "      <td>254.4</td>\n",
       "      <td>103</td>\n",
       "      <td>11.45</td>\n",
       "      <td>13.7</td>\n",
       "      <td>3</td>\n",
       "      <td>3.70</td>\n",
       "      <td>1</td>\n",
       "      <td>no</td>\n",
       "    </tr>\n",
       "    <tr>\n",
       "      <th>2</th>\n",
       "      <td>3</td>\n",
       "      <td>NJ</td>\n",
       "      <td>137</td>\n",
       "      <td>area_code_415</td>\n",
       "      <td>no</td>\n",
       "      <td>no</td>\n",
       "      <td>0</td>\n",
       "      <td>243.4</td>\n",
       "      <td>114</td>\n",
       "      <td>41.38</td>\n",
       "      <td>...</td>\n",
       "      <td>110</td>\n",
       "      <td>10.30</td>\n",
       "      <td>162.6</td>\n",
       "      <td>104</td>\n",
       "      <td>7.32</td>\n",
       "      <td>12.2</td>\n",
       "      <td>5</td>\n",
       "      <td>3.29</td>\n",
       "      <td>0</td>\n",
       "      <td>no</td>\n",
       "    </tr>\n",
       "    <tr>\n",
       "      <th>3</th>\n",
       "      <td>4</td>\n",
       "      <td>OH</td>\n",
       "      <td>84</td>\n",
       "      <td>area_code_408</td>\n",
       "      <td>yes</td>\n",
       "      <td>no</td>\n",
       "      <td>0</td>\n",
       "      <td>299.4</td>\n",
       "      <td>71</td>\n",
       "      <td>50.90</td>\n",
       "      <td>...</td>\n",
       "      <td>88</td>\n",
       "      <td>5.26</td>\n",
       "      <td>196.9</td>\n",
       "      <td>89</td>\n",
       "      <td>8.86</td>\n",
       "      <td>6.6</td>\n",
       "      <td>7</td>\n",
       "      <td>1.78</td>\n",
       "      <td>2</td>\n",
       "      <td>no</td>\n",
       "    </tr>\n",
       "    <tr>\n",
       "      <th>4</th>\n",
       "      <td>5</td>\n",
       "      <td>OK</td>\n",
       "      <td>75</td>\n",
       "      <td>area_code_415</td>\n",
       "      <td>yes</td>\n",
       "      <td>no</td>\n",
       "      <td>0</td>\n",
       "      <td>166.7</td>\n",
       "      <td>113</td>\n",
       "      <td>28.34</td>\n",
       "      <td>...</td>\n",
       "      <td>122</td>\n",
       "      <td>12.61</td>\n",
       "      <td>186.9</td>\n",
       "      <td>121</td>\n",
       "      <td>8.41</td>\n",
       "      <td>10.1</td>\n",
       "      <td>3</td>\n",
       "      <td>2.73</td>\n",
       "      <td>3</td>\n",
       "      <td>no</td>\n",
       "    </tr>\n",
       "  </tbody>\n",
       "</table>\n",
       "<p>5 rows × 21 columns</p>\n",
       "</div>"
      ],
      "text/plain": [
       "   Unnamed: 0 state  account_length      area_code international_plan  \\\n",
       "0           1    KS             128  area_code_415                 no   \n",
       "1           2    OH             107  area_code_415                 no   \n",
       "2           3    NJ             137  area_code_415                 no   \n",
       "3           4    OH              84  area_code_408                yes   \n",
       "4           5    OK              75  area_code_415                yes   \n",
       "\n",
       "  voice_mail_plan  number_vmail_messages  total_day_minutes  total_day_calls  \\\n",
       "0             yes                     25              265.1              110   \n",
       "1             yes                     26              161.6              123   \n",
       "2              no                      0              243.4              114   \n",
       "3              no                      0              299.4               71   \n",
       "4              no                      0              166.7              113   \n",
       "\n",
       "   total_day_charge  ...  total_eve_calls  total_eve_charge  \\\n",
       "0             45.07  ...               99             16.78   \n",
       "1             27.47  ...              103             16.62   \n",
       "2             41.38  ...              110             10.30   \n",
       "3             50.90  ...               88              5.26   \n",
       "4             28.34  ...              122             12.61   \n",
       "\n",
       "   total_night_minutes  total_night_calls  total_night_charge  \\\n",
       "0                244.7                 91               11.01   \n",
       "1                254.4                103               11.45   \n",
       "2                162.6                104                7.32   \n",
       "3                196.9                 89                8.86   \n",
       "4                186.9                121                8.41   \n",
       "\n",
       "   total_intl_minutes  total_intl_calls  total_intl_charge  \\\n",
       "0                10.0                 3               2.70   \n",
       "1                13.7                 3               3.70   \n",
       "2                12.2                 5               3.29   \n",
       "3                 6.6                 7               1.78   \n",
       "4                10.1                 3               2.73   \n",
       "\n",
       "   number_customer_service_calls  churn  \n",
       "0                              1     no  \n",
       "1                              1     no  \n",
       "2                              0     no  \n",
       "3                              2     no  \n",
       "4                              3     no  \n",
       "\n",
       "[5 rows x 21 columns]"
      ]
     },
     "execution_count": 3,
     "metadata": {},
     "output_type": "execute_result"
    }
   ],
   "source": [
    "# visualizando primeiros registros\n",
    "telecon_df.head()"
   ]
  },
  {
   "cell_type": "markdown",
   "id": "398a7d57",
   "metadata": {},
   "source": [
    "### Verificando variáveis categóricas para converter em numéricas"
   ]
  },
  {
   "cell_type": "code",
   "execution_count": 4,
   "id": "cd85df05",
   "metadata": {},
   "outputs": [
    {
     "data": {
      "text/plain": [
       "array(['no', 'yes'], dtype=object)"
      ]
     },
     "execution_count": 4,
     "metadata": {},
     "output_type": "execute_result"
    }
   ],
   "source": [
    "telecon_df['international_plan'].unique()"
   ]
  },
  {
   "cell_type": "code",
   "execution_count": 5,
   "id": "f481dfbd",
   "metadata": {},
   "outputs": [],
   "source": [
    "telecon_df['international_plan'] = telecon_df['international_plan'].replace(['yes','no'],[0,1])\n",
    "telecon_df_test['international_plan'] = telecon_df_test['international_plan'].replace(['yes','no'],[0,1])"
   ]
  },
  {
   "cell_type": "code",
   "execution_count": 6,
   "id": "24272dd6",
   "metadata": {},
   "outputs": [
    {
     "data": {
      "text/plain": [
       "array(['yes', 'no'], dtype=object)"
      ]
     },
     "execution_count": 6,
     "metadata": {},
     "output_type": "execute_result"
    }
   ],
   "source": [
    "telecon_df['voice_mail_plan'].unique()"
   ]
  },
  {
   "cell_type": "code",
   "execution_count": 7,
   "id": "c383cc27",
   "metadata": {},
   "outputs": [],
   "source": [
    "telecon_df['voice_mail_plan'] = telecon_df['voice_mail_plan'].replace(['yes','no'],[0,1])\n",
    "telecon_df_test['voice_mail_plan'] = telecon_df_test['voice_mail_plan'].replace(['yes','no'],[0,1])"
   ]
  },
  {
   "cell_type": "markdown",
   "id": "68742164",
   "metadata": {},
   "source": [
    "### convertendo variavel target que está categórica par numérica"
   ]
  },
  {
   "cell_type": "code",
   "execution_count": 8,
   "id": "67df113e",
   "metadata": {},
   "outputs": [
    {
     "data": {
      "text/plain": [
       "array(['no', 'yes'], dtype=object)"
      ]
     },
     "execution_count": 8,
     "metadata": {},
     "output_type": "execute_result"
    }
   ],
   "source": [
    "telecon_df['churn'].unique()"
   ]
  },
  {
   "cell_type": "code",
   "execution_count": 9,
   "id": "7f149771",
   "metadata": {},
   "outputs": [],
   "source": [
    "telecon_df['churn'] = telecon_df['churn'].replace(['yes','no'],[0,1])\n",
    "telecon_df_test['churn'] = telecon_df_test['churn'].replace(['yes','no'],[0,1])"
   ]
  },
  {
   "cell_type": "markdown",
   "id": "9b763bb1",
   "metadata": {},
   "source": [
    "### Removendo variáveis que não seráo utilizadas na análise"
   ]
  },
  {
   "cell_type": "code",
   "execution_count": 10,
   "id": "1f2ec61a",
   "metadata": {},
   "outputs": [],
   "source": [
    "telecon_df.drop(['Unnamed: 0'], axis=1, inplace=True)\n",
    "telecon_df.drop(['state'], axis=1, inplace=True)\n",
    "telecon_df.drop(['area_code'], axis=1, inplace=True)\n",
    "\n",
    "telecon_df_test.drop(['Unnamed: 0'], axis=1, inplace=True)\n",
    "telecon_df_test.drop(['state'], axis=1, inplace=True)\n",
    "telecon_df_test.drop(['area_code'], axis=1, inplace=True)"
   ]
  },
  {
   "cell_type": "code",
   "execution_count": 11,
   "id": "12214f62",
   "metadata": {},
   "outputs": [
    {
     "data": {
      "text/plain": [
       "<AxesSubplot:>"
      ]
     },
     "execution_count": 11,
     "metadata": {},
     "output_type": "execute_result"
    },
    {
     "data": {
      "image/png": "[encoded data removed]",
      "text/plain": [
       "<Figure size 1800x720 with 2 Axes>"
      ]
     },
     "metadata": {},
     "output_type": "display_data"
    }
   ],
   "source": [
    "# verificando se possue dados missing\n",
    "msn.matrix(telecon_df)"
   ]
  },
  {
   "cell_type": "code",
   "execution_count": 12,
   "id": "f55c07e4",
   "metadata": {},
   "outputs": [
    {
     "data": {
      "text/plain": [
       "False"
      ]
     },
     "execution_count": 12,
     "metadata": {},
     "output_type": "execute_result"
    }
   ],
   "source": [
    "# verificando se o dataset possui dados missing\n",
    "telecon_df.isna().values.any()"
   ]
  },
  {
   "cell_type": "code",
   "execution_count": 13,
   "id": "60d84e1e",
   "metadata": {},
   "outputs": [
    {
     "data": {
      "text/html": [
       "<div>\n",
       "<style scoped>\n",
       "    .dataframe tbody tr th:only-of-type {\n",
       "        vertical-align: middle;\n",
       "    }\n",
       "\n",
       "    .dataframe tbody tr th {\n",
       "        vertical-align: top;\n",
       "    }\n",
       "\n",
       "    .dataframe thead th {\n",
       "        text-align: right;\n",
       "    }\n",
       "</style>\n",
       "<table border=\"1\" class=\"dataframe\">\n",
       "  <thead>\n",
       "    <tr style=\"text-align: right;\">\n",
       "      <th></th>\n",
       "      <th>account_length</th>\n",
       "      <th>international_plan</th>\n",
       "      <th>voice_mail_plan</th>\n",
       "      <th>number_vmail_messages</th>\n",
       "      <th>total_day_minutes</th>\n",
       "      <th>total_day_calls</th>\n",
       "      <th>total_day_charge</th>\n",
       "      <th>total_eve_minutes</th>\n",
       "      <th>total_eve_calls</th>\n",
       "      <th>total_eve_charge</th>\n",
       "      <th>total_night_minutes</th>\n",
       "      <th>total_night_calls</th>\n",
       "      <th>total_night_charge</th>\n",
       "      <th>total_intl_minutes</th>\n",
       "      <th>total_intl_calls</th>\n",
       "      <th>total_intl_charge</th>\n",
       "      <th>number_customer_service_calls</th>\n",
       "      <th>churn</th>\n",
       "    </tr>\n",
       "  </thead>\n",
       "  <tbody>\n",
       "    <tr>\n",
       "      <th>count</th>\n",
       "      <td>3333.000000</td>\n",
       "      <td>3333.000000</td>\n",
       "      <td>3333.000000</td>\n",
       "      <td>3333.000000</td>\n",
       "      <td>3333.000000</td>\n",
       "      <td>3333.000000</td>\n",
       "      <td>3333.000000</td>\n",
       "      <td>3333.000000</td>\n",
       "      <td>3333.000000</td>\n",
       "      <td>3333.000000</td>\n",
       "      <td>3333.000000</td>\n",
       "      <td>3333.000000</td>\n",
       "      <td>3333.000000</td>\n",
       "      <td>3333.000000</td>\n",
       "      <td>3333.000000</td>\n",
       "      <td>3333.000000</td>\n",
       "      <td>3333.000000</td>\n",
       "      <td>3333.000000</td>\n",
       "    </tr>\n",
       "    <tr>\n",
       "      <th>mean</th>\n",
       "      <td>101.064806</td>\n",
       "      <td>0.903090</td>\n",
       "      <td>0.723372</td>\n",
       "      <td>8.099010</td>\n",
       "      <td>179.775098</td>\n",
       "      <td>100.435644</td>\n",
       "      <td>30.562307</td>\n",
       "      <td>200.980348</td>\n",
       "      <td>100.114311</td>\n",
       "      <td>17.083540</td>\n",
       "      <td>200.872037</td>\n",
       "      <td>100.107711</td>\n",
       "      <td>9.039325</td>\n",
       "      <td>10.237294</td>\n",
       "      <td>4.479448</td>\n",
       "      <td>2.764581</td>\n",
       "      <td>1.562856</td>\n",
       "      <td>0.855086</td>\n",
       "    </tr>\n",
       "    <tr>\n",
       "      <th>std</th>\n",
       "      <td>39.822106</td>\n",
       "      <td>0.295879</td>\n",
       "      <td>0.447398</td>\n",
       "      <td>13.688365</td>\n",
       "      <td>54.467389</td>\n",
       "      <td>20.069084</td>\n",
       "      <td>9.259435</td>\n",
       "      <td>50.713844</td>\n",
       "      <td>19.922625</td>\n",
       "      <td>4.310668</td>\n",
       "      <td>50.573847</td>\n",
       "      <td>19.568609</td>\n",
       "      <td>2.275873</td>\n",
       "      <td>2.791840</td>\n",
       "      <td>2.461214</td>\n",
       "      <td>0.753773</td>\n",
       "      <td>1.315491</td>\n",
       "      <td>0.352067</td>\n",
       "    </tr>\n",
       "    <tr>\n",
       "      <th>min</th>\n",
       "      <td>1.000000</td>\n",
       "      <td>0.000000</td>\n",
       "      <td>0.000000</td>\n",
       "      <td>0.000000</td>\n",
       "      <td>0.000000</td>\n",
       "      <td>0.000000</td>\n",
       "      <td>0.000000</td>\n",
       "      <td>0.000000</td>\n",
       "      <td>0.000000</td>\n",
       "      <td>0.000000</td>\n",
       "      <td>23.200000</td>\n",
       "      <td>33.000000</td>\n",
       "      <td>1.040000</td>\n",
       "      <td>0.000000</td>\n",
       "      <td>0.000000</td>\n",
       "      <td>0.000000</td>\n",
       "      <td>0.000000</td>\n",
       "      <td>0.000000</td>\n",
       "    </tr>\n",
       "    <tr>\n",
       "      <th>25%</th>\n",
       "      <td>74.000000</td>\n",
       "      <td>1.000000</td>\n",
       "      <td>0.000000</td>\n",
       "      <td>0.000000</td>\n",
       "      <td>143.700000</td>\n",
       "      <td>87.000000</td>\n",
       "      <td>24.430000</td>\n",
       "      <td>166.600000</td>\n",
       "      <td>87.000000</td>\n",
       "      <td>14.160000</td>\n",
       "      <td>167.000000</td>\n",
       "      <td>87.000000</td>\n",
       "      <td>7.520000</td>\n",
       "      <td>8.500000</td>\n",
       "      <td>3.000000</td>\n",
       "      <td>2.300000</td>\n",
       "      <td>1.000000</td>\n",
       "      <td>1.000000</td>\n",
       "    </tr>\n",
       "    <tr>\n",
       "      <th>50%</th>\n",
       "      <td>101.000000</td>\n",
       "      <td>1.000000</td>\n",
       "      <td>1.000000</td>\n",
       "      <td>0.000000</td>\n",
       "      <td>179.400000</td>\n",
       "      <td>101.000000</td>\n",
       "      <td>30.500000</td>\n",
       "      <td>201.400000</td>\n",
       "      <td>100.000000</td>\n",
       "      <td>17.120000</td>\n",
       "      <td>201.200000</td>\n",
       "      <td>100.000000</td>\n",
       "      <td>9.050000</td>\n",
       "      <td>10.300000</td>\n",
       "      <td>4.000000</td>\n",
       "      <td>2.780000</td>\n",
       "      <td>1.000000</td>\n",
       "      <td>1.000000</td>\n",
       "    </tr>\n",
       "    <tr>\n",
       "      <th>75%</th>\n",
       "      <td>127.000000</td>\n",
       "      <td>1.000000</td>\n",
       "      <td>1.000000</td>\n",
       "      <td>20.000000</td>\n",
       "      <td>216.400000</td>\n",
       "      <td>114.000000</td>\n",
       "      <td>36.790000</td>\n",
       "      <td>235.300000</td>\n",
       "      <td>114.000000</td>\n",
       "      <td>20.000000</td>\n",
       "      <td>235.300000</td>\n",
       "      <td>113.000000</td>\n",
       "      <td>10.590000</td>\n",
       "      <td>12.100000</td>\n",
       "      <td>6.000000</td>\n",
       "      <td>3.270000</td>\n",
       "      <td>2.000000</td>\n",
       "      <td>1.000000</td>\n",
       "    </tr>\n",
       "    <tr>\n",
       "      <th>max</th>\n",
       "      <td>243.000000</td>\n",
       "      <td>1.000000</td>\n",
       "      <td>1.000000</td>\n",
       "      <td>51.000000</td>\n",
       "      <td>350.800000</td>\n",
       "      <td>165.000000</td>\n",
       "      <td>59.640000</td>\n",
       "      <td>363.700000</td>\n",
       "      <td>170.000000</td>\n",
       "      <td>30.910000</td>\n",
       "      <td>395.000000</td>\n",
       "      <td>175.000000</td>\n",
       "      <td>17.770000</td>\n",
       "      <td>20.000000</td>\n",
       "      <td>20.000000</td>\n",
       "      <td>5.400000</td>\n",
       "      <td>9.000000</td>\n",
       "      <td>1.000000</td>\n",
       "    </tr>\n",
       "  </tbody>\n",
       "</table>\n",
       "</div>"
      ],
      "text/plain": [
       "       account_length  international_plan  voice_mail_plan  \\\n",
       "count     3333.000000         3333.000000      3333.000000   \n",
       "mean       101.064806            0.903090         0.723372   \n",
       "std         39.822106            0.295879         0.447398   \n",
       "min          1.000000            0.000000         0.000000   \n",
       "25%         74.000000            1.000000         0.000000   \n",
       "50%        101.000000            1.000000         1.000000   \n",
       "75%        127.000000            1.000000         1.000000   \n",
       "max        243.000000            1.000000         1.000000   \n",
       "\n",
       "       number_vmail_messages  total_day_minutes  total_day_calls  \\\n",
       "count            3333.000000        3333.000000      3333.000000   \n",
       "mean                8.099010         179.775098       100.435644   \n",
       "std                13.688365          54.467389        20.069084   \n",
       "min                 0.000000           0.000000         0.000000   \n",
       "25%                 0.000000         143.700000        87.000000   \n",
       "50%                 0.000000         179.400000       101.000000   \n",
       "75%                20.000000         216.400000       114.000000   \n",
       "max                51.000000         350.800000       165.000000   \n",
       "\n",
       "       total_day_charge  total_eve_minutes  total_eve_calls  total_eve_charge  \\\n",
       "count       3333.000000        3333.000000      3333.000000       3333.000000   \n",
       "mean          30.562307         200.980348       100.114311         17.083540   \n",
       "std            9.259435          50.713844        19.922625          4.310668   \n",
       "min            0.000000           0.000000         0.000000          0.000000   \n",
       "25%           24.430000         166.600000        87.000000         14.160000   \n",
       "50%           30.500000         201.400000       100.000000         17.120000   \n",
       "75%           36.790000         235.300000       114.000000         20.000000   \n",
       "max           59.640000         363.700000       170.000000         30.910000   \n",
       "\n",
       "       total_night_minutes  total_night_calls  total_night_charge  \\\n",
       "count          3333.000000        3333.000000         3333.000000   \n",
       "mean            200.872037         100.107711            9.039325   \n",
       "std              50.573847          19.568609            2.275873   \n",
       "min              23.200000          33.000000            1.040000   \n",
       "25%             167.000000          87.000000            7.520000   \n",
       "50%             201.200000         100.000000            9.050000   \n",
       "75%             235.300000         113.000000           10.590000   \n",
       "max             395.000000         175.000000           17.770000   \n",
       "\n",
       "       total_intl_minutes  total_intl_calls  total_intl_charge  \\\n",
       "count         3333.000000       3333.000000        3333.000000   \n",
       "mean            10.237294          4.479448           2.764581   \n",
       "std              2.791840          2.461214           0.753773   \n",
       "min              0.000000          0.000000           0.000000   \n",
       "25%              8.500000          3.000000           2.300000   \n",
       "50%             10.300000          4.000000           2.780000   \n",
       "75%             12.100000          6.000000           3.270000   \n",
       "max             20.000000         20.000000           5.400000   \n",
       "\n",
       "       number_customer_service_calls        churn  \n",
       "count                    3333.000000  3333.000000  \n",
       "mean                        1.562856     0.855086  \n",
       "std                         1.315491     0.352067  \n",
       "min                         0.000000     0.000000  \n",
       "25%                         1.000000     1.000000  \n",
       "50%                         1.000000     1.000000  \n",
       "75%                         2.000000     1.000000  \n",
       "max                         9.000000     1.000000  "
      ]
     },
     "execution_count": 13,
     "metadata": {},
     "output_type": "execute_result"
    }
   ],
   "source": [
    "# verificando estatistica descritiva das colunas\n",
    "telecon_df.describe()"
   ]
  },
  {
   "cell_type": "markdown",
   "id": "cdd43629",
   "metadata": {},
   "source": [
    "### Verificando graficamente com boxplot a distribuição dos dados, para verificar outliers"
   ]
  },
  {
   "cell_type": "code",
   "execution_count": 14,
   "id": "dd7c9c92",
   "metadata": {},
   "outputs": [
    {
     "data": {
      "image/png": "[encoded data removed]",
      "text/plain": [
       "<Figure size 1080x720 with 1 Axes>"
      ]
     },
     "metadata": {},
     "output_type": "display_data"
    }
   ],
   "source": [
    "\n",
    "fig = plt.figure(figsize =(15, 10))\n",
    " \n",
    "# Creating axes instance\n",
    "ax = fig.add_axes([0, 0, 1, 1])\n",
    " \n",
    "# Creating plot\n",
    "bp = ax.boxplot(telecon_df)\n",
    " \n",
    "# show plot\n",
    "plt.show()"
   ]
  },
  {
   "cell_type": "code",
   "execution_count": 15,
   "id": "554c8dcf",
   "metadata": {},
   "outputs": [
    {
     "data": {
      "text/plain": [
       "<AxesSubplot:xlabel='total_day_charge'>"
      ]
     },
     "execution_count": 15,
     "metadata": {},
     "output_type": "execute_result"
    },
    {
     "data": {
      "image/png": "[encoded data removed]",
      "text/plain": [
       "<Figure size 720x360 with 1 Axes>"
      ]
     },
     "metadata": {},
     "output_type": "display_data"
    }
   ],
   "source": [
    "fig = plt.figure(figsize =(10, 5))\n",
    "sns.boxplot(telecon_df['total_day_charge'])"
   ]
  },
  {
   "cell_type": "code",
   "execution_count": 16,
   "id": "9f3e00d9",
   "metadata": {},
   "outputs": [
    {
     "data": {
      "text/plain": [
       "<AxesSubplot:xlabel='number_customer_service_calls'>"
      ]
     },
     "execution_count": 16,
     "metadata": {},
     "output_type": "execute_result"
    },
    {
     "data": {
      "image/png": "[encoded data removed]",
      "text/plain": [
       "<Figure size 432x288 with 1 Axes>"
      ]
     },
     "metadata": {},
     "output_type": "display_data"
    }
   ],
   "source": [
    "sns.boxplot(telecon_df['number_customer_service_calls'], orient=\"h\")"
   ]
  },
  {
   "cell_type": "code",
   "execution_count": 17,
   "id": "9459661b",
   "metadata": {},
   "outputs": [
    {
     "data": {
      "text/plain": [
       "<AxesSubplot:xlabel='total_intl_charge'>"
      ]
     },
     "execution_count": 17,
     "metadata": {},
     "output_type": "execute_result"
    },
    {
     "data": {
      "image/png": "[encoded data removed]",
      "text/plain": [
       "<Figure size 432x288 with 1 Axes>"
      ]
     },
     "metadata": {},
     "output_type": "display_data"
    }
   ],
   "source": [
    "sns.boxplot(telecon_df['total_intl_charge'], orient=\"h\")"
   ]
  },
  {
   "cell_type": "code",
   "execution_count": 18,
   "id": "109d145a",
   "metadata": {},
   "outputs": [
    {
     "data": {
      "text/plain": [
       "account_length                     int64\n",
       "international_plan                 int64\n",
       "voice_mail_plan                    int64\n",
       "number_vmail_messages              int64\n",
       "total_day_minutes                float64\n",
       "total_day_calls                    int64\n",
       "total_day_charge                 float64\n",
       "total_eve_minutes                float64\n",
       "total_eve_calls                    int64\n",
       "total_eve_charge                 float64\n",
       "total_night_minutes              float64\n",
       "total_night_calls                  int64\n",
       "total_night_charge               float64\n",
       "total_intl_minutes               float64\n",
       "total_intl_calls                   int64\n",
       "total_intl_charge                float64\n",
       "number_customer_service_calls      int64\n",
       "churn                              int64\n",
       "dtype: object"
      ]
     },
     "execution_count": 18,
     "metadata": {},
     "output_type": "execute_result"
    }
   ],
   "source": [
    "# verificando tipo das colunas\n",
    "telecon_df.dtypes"
   ]
  },
  {
   "cell_type": "code",
   "execution_count": 19,
   "id": "f1e0f929",
   "metadata": {},
   "outputs": [
    {
     "data": {
      "text/html": [
       "<div>\n",
       "<style scoped>\n",
       "    .dataframe tbody tr th:only-of-type {\n",
       "        vertical-align: middle;\n",
       "    }\n",
       "\n",
       "    .dataframe tbody tr th {\n",
       "        vertical-align: top;\n",
       "    }\n",
       "\n",
       "    .dataframe thead th {\n",
       "        text-align: right;\n",
       "    }\n",
       "</style>\n",
       "<table border=\"1\" class=\"dataframe\">\n",
       "  <thead>\n",
       "    <tr style=\"text-align: right;\">\n",
       "      <th></th>\n",
       "      <th>account_length</th>\n",
       "      <th>international_plan</th>\n",
       "      <th>voice_mail_plan</th>\n",
       "      <th>number_vmail_messages</th>\n",
       "      <th>total_day_minutes</th>\n",
       "      <th>total_day_calls</th>\n",
       "      <th>total_day_charge</th>\n",
       "      <th>total_eve_minutes</th>\n",
       "      <th>total_eve_calls</th>\n",
       "      <th>total_eve_charge</th>\n",
       "      <th>total_night_minutes</th>\n",
       "      <th>total_night_calls</th>\n",
       "      <th>total_night_charge</th>\n",
       "      <th>total_intl_minutes</th>\n",
       "      <th>total_intl_calls</th>\n",
       "      <th>total_intl_charge</th>\n",
       "      <th>number_customer_service_calls</th>\n",
       "      <th>churn</th>\n",
       "    </tr>\n",
       "  </thead>\n",
       "  <tbody>\n",
       "    <tr>\n",
       "      <th>account_length</th>\n",
       "      <td>1.000000</td>\n",
       "      <td>-0.024735</td>\n",
       "      <td>-0.002918</td>\n",
       "      <td>-0.004628</td>\n",
       "      <td>0.006216</td>\n",
       "      <td>0.038470</td>\n",
       "      <td>0.006214</td>\n",
       "      <td>-0.006757</td>\n",
       "      <td>0.019260</td>\n",
       "      <td>-0.006745</td>\n",
       "      <td>-0.008955</td>\n",
       "      <td>-0.013176</td>\n",
       "      <td>-0.008960</td>\n",
       "      <td>0.009514</td>\n",
       "      <td>0.020661</td>\n",
       "      <td>0.009546</td>\n",
       "      <td>-0.003796</td>\n",
       "      <td>-0.016541</td>\n",
       "    </tr>\n",
       "    <tr>\n",
       "      <th>international_plan</th>\n",
       "      <td>-0.024735</td>\n",
       "      <td>1.000000</td>\n",
       "      <td>0.006006</td>\n",
       "      <td>-0.008745</td>\n",
       "      <td>-0.049396</td>\n",
       "      <td>-0.003755</td>\n",
       "      <td>-0.049398</td>\n",
       "      <td>-0.019100</td>\n",
       "      <td>-0.006114</td>\n",
       "      <td>-0.019106</td>\n",
       "      <td>0.028905</td>\n",
       "      <td>-0.012451</td>\n",
       "      <td>0.028913</td>\n",
       "      <td>-0.045871</td>\n",
       "      <td>-0.017366</td>\n",
       "      <td>-0.045780</td>\n",
       "      <td>0.024522</td>\n",
       "      <td>0.259852</td>\n",
       "    </tr>\n",
       "    <tr>\n",
       "      <th>voice_mail_plan</th>\n",
       "      <td>-0.002918</td>\n",
       "      <td>0.006006</td>\n",
       "      <td>1.000000</td>\n",
       "      <td>-0.956927</td>\n",
       "      <td>0.001684</td>\n",
       "      <td>0.011086</td>\n",
       "      <td>0.001686</td>\n",
       "      <td>-0.021545</td>\n",
       "      <td>0.006444</td>\n",
       "      <td>-0.021559</td>\n",
       "      <td>-0.006079</td>\n",
       "      <td>-0.015553</td>\n",
       "      <td>-0.006064</td>\n",
       "      <td>0.001318</td>\n",
       "      <td>-0.007618</td>\n",
       "      <td>0.001276</td>\n",
       "      <td>0.017824</td>\n",
       "      <td>-0.102148</td>\n",
       "    </tr>\n",
       "    <tr>\n",
       "      <th>number_vmail_messages</th>\n",
       "      <td>-0.004628</td>\n",
       "      <td>-0.008745</td>\n",
       "      <td>-0.956927</td>\n",
       "      <td>1.000000</td>\n",
       "      <td>0.000778</td>\n",
       "      <td>-0.009548</td>\n",
       "      <td>0.000776</td>\n",
       "      <td>0.017562</td>\n",
       "      <td>-0.005864</td>\n",
       "      <td>0.017578</td>\n",
       "      <td>0.007681</td>\n",
       "      <td>0.007123</td>\n",
       "      <td>0.007663</td>\n",
       "      <td>0.002856</td>\n",
       "      <td>0.013957</td>\n",
       "      <td>0.002884</td>\n",
       "      <td>-0.013263</td>\n",
       "      <td>0.089728</td>\n",
       "    </tr>\n",
       "    <tr>\n",
       "      <th>total_day_minutes</th>\n",
       "      <td>0.006216</td>\n",
       "      <td>-0.049396</td>\n",
       "      <td>0.001684</td>\n",
       "      <td>0.000778</td>\n",
       "      <td>1.000000</td>\n",
       "      <td>0.006750</td>\n",
       "      <td>1.000000</td>\n",
       "      <td>0.007043</td>\n",
       "      <td>0.015769</td>\n",
       "      <td>0.007029</td>\n",
       "      <td>0.004323</td>\n",
       "      <td>0.022972</td>\n",
       "      <td>0.004300</td>\n",
       "      <td>-0.010155</td>\n",
       "      <td>0.008033</td>\n",
       "      <td>-0.010092</td>\n",
       "      <td>-0.013423</td>\n",
       "      <td>-0.205151</td>\n",
       "    </tr>\n",
       "    <tr>\n",
       "      <th>total_day_calls</th>\n",
       "      <td>0.038470</td>\n",
       "      <td>-0.003755</td>\n",
       "      <td>0.011086</td>\n",
       "      <td>-0.009548</td>\n",
       "      <td>0.006750</td>\n",
       "      <td>1.000000</td>\n",
       "      <td>0.006753</td>\n",
       "      <td>-0.021451</td>\n",
       "      <td>0.006462</td>\n",
       "      <td>-0.021449</td>\n",
       "      <td>0.022938</td>\n",
       "      <td>-0.019557</td>\n",
       "      <td>0.022927</td>\n",
       "      <td>0.021565</td>\n",
       "      <td>0.004574</td>\n",
       "      <td>0.021666</td>\n",
       "      <td>-0.018942</td>\n",
       "      <td>-0.018459</td>\n",
       "    </tr>\n",
       "    <tr>\n",
       "      <th>total_day_charge</th>\n",
       "      <td>0.006214</td>\n",
       "      <td>-0.049398</td>\n",
       "      <td>0.001686</td>\n",
       "      <td>0.000776</td>\n",
       "      <td>1.000000</td>\n",
       "      <td>0.006753</td>\n",
       "      <td>1.000000</td>\n",
       "      <td>0.007050</td>\n",
       "      <td>0.015769</td>\n",
       "      <td>0.007036</td>\n",
       "      <td>0.004324</td>\n",
       "      <td>0.022972</td>\n",
       "      <td>0.004301</td>\n",
       "      <td>-0.010157</td>\n",
       "      <td>0.008032</td>\n",
       "      <td>-0.010094</td>\n",
       "      <td>-0.013427</td>\n",
       "      <td>-0.205151</td>\n",
       "    </tr>\n",
       "    <tr>\n",
       "      <th>total_eve_minutes</th>\n",
       "      <td>-0.006757</td>\n",
       "      <td>-0.019100</td>\n",
       "      <td>-0.021545</td>\n",
       "      <td>0.017562</td>\n",
       "      <td>0.007043</td>\n",
       "      <td>-0.021451</td>\n",
       "      <td>0.007050</td>\n",
       "      <td>1.000000</td>\n",
       "      <td>-0.011430</td>\n",
       "      <td>1.000000</td>\n",
       "      <td>-0.012584</td>\n",
       "      <td>0.007586</td>\n",
       "      <td>-0.012593</td>\n",
       "      <td>-0.011035</td>\n",
       "      <td>0.002541</td>\n",
       "      <td>-0.011067</td>\n",
       "      <td>-0.012985</td>\n",
       "      <td>-0.092796</td>\n",
       "    </tr>\n",
       "    <tr>\n",
       "      <th>total_eve_calls</th>\n",
       "      <td>0.019260</td>\n",
       "      <td>-0.006114</td>\n",
       "      <td>0.006444</td>\n",
       "      <td>-0.005864</td>\n",
       "      <td>0.015769</td>\n",
       "      <td>0.006462</td>\n",
       "      <td>0.015769</td>\n",
       "      <td>-0.011430</td>\n",
       "      <td>1.000000</td>\n",
       "      <td>-0.011423</td>\n",
       "      <td>-0.002093</td>\n",
       "      <td>0.007710</td>\n",
       "      <td>-0.002056</td>\n",
       "      <td>0.008703</td>\n",
       "      <td>0.017434</td>\n",
       "      <td>0.008674</td>\n",
       "      <td>0.002423</td>\n",
       "      <td>-0.009233</td>\n",
       "    </tr>\n",
       "    <tr>\n",
       "      <th>total_eve_charge</th>\n",
       "      <td>-0.006745</td>\n",
       "      <td>-0.019106</td>\n",
       "      <td>-0.021559</td>\n",
       "      <td>0.017578</td>\n",
       "      <td>0.007029</td>\n",
       "      <td>-0.021449</td>\n",
       "      <td>0.007036</td>\n",
       "      <td>1.000000</td>\n",
       "      <td>-0.011423</td>\n",
       "      <td>1.000000</td>\n",
       "      <td>-0.012592</td>\n",
       "      <td>0.007596</td>\n",
       "      <td>-0.012601</td>\n",
       "      <td>-0.011043</td>\n",
       "      <td>0.002541</td>\n",
       "      <td>-0.011074</td>\n",
       "      <td>-0.012987</td>\n",
       "      <td>-0.092786</td>\n",
       "    </tr>\n",
       "    <tr>\n",
       "      <th>total_night_minutes</th>\n",
       "      <td>-0.008955</td>\n",
       "      <td>0.028905</td>\n",
       "      <td>-0.006079</td>\n",
       "      <td>0.007681</td>\n",
       "      <td>0.004323</td>\n",
       "      <td>0.022938</td>\n",
       "      <td>0.004324</td>\n",
       "      <td>-0.012584</td>\n",
       "      <td>-0.002093</td>\n",
       "      <td>-0.012592</td>\n",
       "      <td>1.000000</td>\n",
       "      <td>0.011204</td>\n",
       "      <td>0.999999</td>\n",
       "      <td>-0.015207</td>\n",
       "      <td>-0.012353</td>\n",
       "      <td>-0.015180</td>\n",
       "      <td>-0.009288</td>\n",
       "      <td>-0.035493</td>\n",
       "    </tr>\n",
       "    <tr>\n",
       "      <th>total_night_calls</th>\n",
       "      <td>-0.013176</td>\n",
       "      <td>-0.012451</td>\n",
       "      <td>-0.015553</td>\n",
       "      <td>0.007123</td>\n",
       "      <td>0.022972</td>\n",
       "      <td>-0.019557</td>\n",
       "      <td>0.022972</td>\n",
       "      <td>0.007586</td>\n",
       "      <td>0.007710</td>\n",
       "      <td>0.007596</td>\n",
       "      <td>0.011204</td>\n",
       "      <td>1.000000</td>\n",
       "      <td>0.011188</td>\n",
       "      <td>-0.013605</td>\n",
       "      <td>0.000305</td>\n",
       "      <td>-0.013630</td>\n",
       "      <td>-0.012802</td>\n",
       "      <td>-0.006141</td>\n",
       "    </tr>\n",
       "    <tr>\n",
       "      <th>total_night_charge</th>\n",
       "      <td>-0.008960</td>\n",
       "      <td>0.028913</td>\n",
       "      <td>-0.006064</td>\n",
       "      <td>0.007663</td>\n",
       "      <td>0.004300</td>\n",
       "      <td>0.022927</td>\n",
       "      <td>0.004301</td>\n",
       "      <td>-0.012593</td>\n",
       "      <td>-0.002056</td>\n",
       "      <td>-0.012601</td>\n",
       "      <td>0.999999</td>\n",
       "      <td>0.011188</td>\n",
       "      <td>1.000000</td>\n",
       "      <td>-0.015214</td>\n",
       "      <td>-0.012329</td>\n",
       "      <td>-0.015186</td>\n",
       "      <td>-0.009277</td>\n",
       "      <td>-0.035496</td>\n",
       "    </tr>\n",
       "    <tr>\n",
       "      <th>total_intl_minutes</th>\n",
       "      <td>0.009514</td>\n",
       "      <td>-0.045871</td>\n",
       "      <td>0.001318</td>\n",
       "      <td>0.002856</td>\n",
       "      <td>-0.010155</td>\n",
       "      <td>0.021565</td>\n",
       "      <td>-0.010157</td>\n",
       "      <td>-0.011035</td>\n",
       "      <td>0.008703</td>\n",
       "      <td>-0.011043</td>\n",
       "      <td>-0.015207</td>\n",
       "      <td>-0.013605</td>\n",
       "      <td>-0.015214</td>\n",
       "      <td>1.000000</td>\n",
       "      <td>0.032304</td>\n",
       "      <td>0.999993</td>\n",
       "      <td>-0.009640</td>\n",
       "      <td>-0.068239</td>\n",
       "    </tr>\n",
       "    <tr>\n",
       "      <th>total_intl_calls</th>\n",
       "      <td>0.020661</td>\n",
       "      <td>-0.017366</td>\n",
       "      <td>-0.007618</td>\n",
       "      <td>0.013957</td>\n",
       "      <td>0.008033</td>\n",
       "      <td>0.004574</td>\n",
       "      <td>0.008032</td>\n",
       "      <td>0.002541</td>\n",
       "      <td>0.017434</td>\n",
       "      <td>0.002541</td>\n",
       "      <td>-0.012353</td>\n",
       "      <td>0.000305</td>\n",
       "      <td>-0.012329</td>\n",
       "      <td>0.032304</td>\n",
       "      <td>1.000000</td>\n",
       "      <td>0.032372</td>\n",
       "      <td>-0.017561</td>\n",
       "      <td>0.052844</td>\n",
       "    </tr>\n",
       "    <tr>\n",
       "      <th>total_intl_charge</th>\n",
       "      <td>0.009546</td>\n",
       "      <td>-0.045780</td>\n",
       "      <td>0.001276</td>\n",
       "      <td>0.002884</td>\n",
       "      <td>-0.010092</td>\n",
       "      <td>0.021666</td>\n",
       "      <td>-0.010094</td>\n",
       "      <td>-0.011067</td>\n",
       "      <td>0.008674</td>\n",
       "      <td>-0.011074</td>\n",
       "      <td>-0.015180</td>\n",
       "      <td>-0.013630</td>\n",
       "      <td>-0.015186</td>\n",
       "      <td>0.999993</td>\n",
       "      <td>0.032372</td>\n",
       "      <td>1.000000</td>\n",
       "      <td>-0.009675</td>\n",
       "      <td>-0.068259</td>\n",
       "    </tr>\n",
       "    <tr>\n",
       "      <th>number_customer_service_calls</th>\n",
       "      <td>-0.003796</td>\n",
       "      <td>0.024522</td>\n",
       "      <td>0.017824</td>\n",
       "      <td>-0.013263</td>\n",
       "      <td>-0.013423</td>\n",
       "      <td>-0.018942</td>\n",
       "      <td>-0.013427</td>\n",
       "      <td>-0.012985</td>\n",
       "      <td>0.002423</td>\n",
       "      <td>-0.012987</td>\n",
       "      <td>-0.009288</td>\n",
       "      <td>-0.012802</td>\n",
       "      <td>-0.009277</td>\n",
       "      <td>-0.009640</td>\n",
       "      <td>-0.017561</td>\n",
       "      <td>-0.009675</td>\n",
       "      <td>1.000000</td>\n",
       "      <td>-0.208750</td>\n",
       "    </tr>\n",
       "    <tr>\n",
       "      <th>churn</th>\n",
       "      <td>-0.016541</td>\n",
       "      <td>0.259852</td>\n",
       "      <td>-0.102148</td>\n",
       "      <td>0.089728</td>\n",
       "      <td>-0.205151</td>\n",
       "      <td>-0.018459</td>\n",
       "      <td>-0.205151</td>\n",
       "      <td>-0.092796</td>\n",
       "      <td>-0.009233</td>\n",
       "      <td>-0.092786</td>\n",
       "      <td>-0.035493</td>\n",
       "      <td>-0.006141</td>\n",
       "      <td>-0.035496</td>\n",
       "      <td>-0.068239</td>\n",
       "      <td>0.052844</td>\n",
       "      <td>-0.068259</td>\n",
       "      <td>-0.208750</td>\n",
       "      <td>1.000000</td>\n",
       "    </tr>\n",
       "  </tbody>\n",
       "</table>\n",
       "</div>"
      ],
      "text/plain": [
       "                               account_length  international_plan  \\\n",
       "account_length                       1.000000           -0.024735   \n",
       "international_plan                  -0.024735            1.000000   \n",
       "voice_mail_plan                     -0.002918            0.006006   \n",
       "number_vmail_messages               -0.004628           -0.008745   \n",
       "total_day_minutes                    0.006216           -0.049396   \n",
       "total_day_calls                      0.038470           -0.003755   \n",
       "total_day_charge                     0.006214           -0.049398   \n",
       "total_eve_minutes                   -0.006757           -0.019100   \n",
       "total_eve_calls                      0.019260           -0.006114   \n",
       "total_eve_charge                    -0.006745           -0.019106   \n",
       "total_night_minutes                 -0.008955            0.028905   \n",
       "total_night_calls                   -0.013176           -0.012451   \n",
       "total_night_charge                  -0.008960            0.028913   \n",
       "total_intl_minutes                   0.009514           -0.045871   \n",
       "total_intl_calls                     0.020661           -0.017366   \n",
       "total_intl_charge                    0.009546           -0.045780   \n",
       "number_customer_service_calls       -0.003796            0.024522   \n",
       "churn                               -0.016541            0.259852   \n",
       "\n",
       "                               voice_mail_plan  number_vmail_messages  \\\n",
       "account_length                       -0.002918              -0.004628   \n",
       "international_plan                    0.006006              -0.008745   \n",
       "voice_mail_plan                       1.000000              -0.956927   \n",
       "number_vmail_messages                -0.956927               1.000000   \n",
       "total_day_minutes                     0.001684               0.000778   \n",
       "total_day_calls                       0.011086              -0.009548   \n",
       "total_day_charge                      0.001686               0.000776   \n",
       "total_eve_minutes                    -0.021545               0.017562   \n",
       "total_eve_calls                       0.006444              -0.005864   \n",
       "total_eve_charge                     -0.021559               0.017578   \n",
       "total_night_minutes                  -0.006079               0.007681   \n",
       "total_night_calls                    -0.015553               0.007123   \n",
       "total_night_charge                   -0.006064               0.007663   \n",
       "total_intl_minutes                    0.001318               0.002856   \n",
       "total_intl_calls                     -0.007618               0.013957   \n",
       "total_intl_charge                     0.001276               0.002884   \n",
       "number_customer_service_calls         0.017824              -0.013263   \n",
       "churn                                -0.102148               0.089728   \n",
       "\n",
       "                               total_day_minutes  total_day_calls  \\\n",
       "account_length                          0.006216         0.038470   \n",
       "international_plan                     -0.049396        -0.003755   \n",
       "voice_mail_plan                         0.001684         0.011086   \n",
       "number_vmail_messages                   0.000778        -0.009548   \n",
       "total_day_minutes                       1.000000         0.006750   \n",
       "total_day_calls                         0.006750         1.000000   \n",
       "total_day_charge                        1.000000         0.006753   \n",
       "total_eve_minutes                       0.007043        -0.021451   \n",
       "total_eve_calls                         0.015769         0.006462   \n",
       "total_eve_charge                        0.007029        -0.021449   \n",
       "total_night_minutes                     0.004323         0.022938   \n",
       "total_night_calls                       0.022972        -0.019557   \n",
       "total_night_charge                      0.004300         0.022927   \n",
       "total_intl_minutes                     -0.010155         0.021565   \n",
       "total_intl_calls                        0.008033         0.004574   \n",
       "total_intl_charge                      -0.010092         0.021666   \n",
       "number_customer_service_calls          -0.013423        -0.018942   \n",
       "churn                                  -0.205151        -0.018459   \n",
       "\n",
       "                               total_day_charge  total_eve_minutes  \\\n",
       "account_length                         0.006214          -0.006757   \n",
       "international_plan                    -0.049398          -0.019100   \n",
       "voice_mail_plan                        0.001686          -0.021545   \n",
       "number_vmail_messages                  0.000776           0.017562   \n",
       "total_day_minutes                      1.000000           0.007043   \n",
       "total_day_calls                        0.006753          -0.021451   \n",
       "total_day_charge                       1.000000           0.007050   \n",
       "total_eve_minutes                      0.007050           1.000000   \n",
       "total_eve_calls                        0.015769          -0.011430   \n",
       "total_eve_charge                       0.007036           1.000000   \n",
       "total_night_minutes                    0.004324          -0.012584   \n",
       "total_night_calls                      0.022972           0.007586   \n",
       "total_night_charge                     0.004301          -0.012593   \n",
       "total_intl_minutes                    -0.010157          -0.011035   \n",
       "total_intl_calls                       0.008032           0.002541   \n",
       "total_intl_charge                     -0.010094          -0.011067   \n",
       "number_customer_service_calls         -0.013427          -0.012985   \n",
       "churn                                 -0.205151          -0.092796   \n",
       "\n",
       "                               total_eve_calls  total_eve_charge  \\\n",
       "account_length                        0.019260         -0.006745   \n",
       "international_plan                   -0.006114         -0.019106   \n",
       "voice_mail_plan                       0.006444         -0.021559   \n",
       "number_vmail_messages                -0.005864          0.017578   \n",
       "total_day_minutes                     0.015769          0.007029   \n",
       "total_day_calls                       0.006462         -0.021449   \n",
       "total_day_charge                      0.015769          0.007036   \n",
       "total_eve_minutes                    -0.011430          1.000000   \n",
       "total_eve_calls                       1.000000         -0.011423   \n",
       "total_eve_charge                     -0.011423          1.000000   \n",
       "total_night_minutes                  -0.002093         -0.012592   \n",
       "total_night_calls                     0.007710          0.007596   \n",
       "total_night_charge                   -0.002056         -0.012601   \n",
       "total_intl_minutes                    0.008703         -0.011043   \n",
       "total_intl_calls                      0.017434          0.002541   \n",
       "total_intl_charge                     0.008674         -0.011074   \n",
       "number_customer_service_calls         0.002423         -0.012987   \n",
       "churn                                -0.009233         -0.092786   \n",
       "\n",
       "                               total_night_minutes  total_night_calls  \\\n",
       "account_length                           -0.008955          -0.013176   \n",
       "international_plan                        0.028905          -0.012451   \n",
       "voice_mail_plan                          -0.006079          -0.015553   \n",
       "number_vmail_messages                     0.007681           0.007123   \n",
       "total_day_minutes                         0.004323           0.022972   \n",
       "total_day_calls                           0.022938          -0.019557   \n",
       "total_day_charge                          0.004324           0.022972   \n",
       "total_eve_minutes                        -0.012584           0.007586   \n",
       "total_eve_calls                          -0.002093           0.007710   \n",
       "total_eve_charge                         -0.012592           0.007596   \n",
       "total_night_minutes                       1.000000           0.011204   \n",
       "total_night_calls                         0.011204           1.000000   \n",
       "total_night_charge                        0.999999           0.011188   \n",
       "total_intl_minutes                       -0.015207          -0.013605   \n",
       "total_intl_calls                         -0.012353           0.000305   \n",
       "total_intl_charge                        -0.015180          -0.013630   \n",
       "number_customer_service_calls            -0.009288          -0.012802   \n",
       "churn                                    -0.035493          -0.006141   \n",
       "\n",
       "                               total_night_charge  total_intl_minutes  \\\n",
       "account_length                          -0.008960            0.009514   \n",
       "international_plan                       0.028913           -0.045871   \n",
       "voice_mail_plan                         -0.006064            0.001318   \n",
       "number_vmail_messages                    0.007663            0.002856   \n",
       "total_day_minutes                        0.004300           -0.010155   \n",
       "total_day_calls                          0.022927            0.021565   \n",
       "total_day_charge                         0.004301           -0.010157   \n",
       "total_eve_minutes                       -0.012593           -0.011035   \n",
       "total_eve_calls                         -0.002056            0.008703   \n",
       "total_eve_charge                        -0.012601           -0.011043   \n",
       "total_night_minutes                      0.999999           -0.015207   \n",
       "total_night_calls                        0.011188           -0.013605   \n",
       "total_night_charge                       1.000000           -0.015214   \n",
       "total_intl_minutes                      -0.015214            1.000000   \n",
       "total_intl_calls                        -0.012329            0.032304   \n",
       "total_intl_charge                       -0.015186            0.999993   \n",
       "number_customer_service_calls           -0.009277           -0.009640   \n",
       "churn                                   -0.035496           -0.068239   \n",
       "\n",
       "                               total_intl_calls  total_intl_charge  \\\n",
       "account_length                         0.020661           0.009546   \n",
       "international_plan                    -0.017366          -0.045780   \n",
       "voice_mail_plan                       -0.007618           0.001276   \n",
       "number_vmail_messages                  0.013957           0.002884   \n",
       "total_day_minutes                      0.008033          -0.010092   \n",
       "total_day_calls                        0.004574           0.021666   \n",
       "total_day_charge                       0.008032          -0.010094   \n",
       "total_eve_minutes                      0.002541          -0.011067   \n",
       "total_eve_calls                        0.017434           0.008674   \n",
       "total_eve_charge                       0.002541          -0.011074   \n",
       "total_night_minutes                   -0.012353          -0.015180   \n",
       "total_night_calls                      0.000305          -0.013630   \n",
       "total_night_charge                    -0.012329          -0.015186   \n",
       "total_intl_minutes                     0.032304           0.999993   \n",
       "total_intl_calls                       1.000000           0.032372   \n",
       "total_intl_charge                      0.032372           1.000000   \n",
       "number_customer_service_calls         -0.017561          -0.009675   \n",
       "churn                                  0.052844          -0.068259   \n",
       "\n",
       "                               number_customer_service_calls     churn  \n",
       "account_length                                     -0.003796 -0.016541  \n",
       "international_plan                                  0.024522  0.259852  \n",
       "voice_mail_plan                                     0.017824 -0.102148  \n",
       "number_vmail_messages                              -0.013263  0.089728  \n",
       "total_day_minutes                                  -0.013423 -0.205151  \n",
       "total_day_calls                                    -0.018942 -0.018459  \n",
       "total_day_charge                                   -0.013427 -0.205151  \n",
       "total_eve_minutes                                  -0.012985 -0.092796  \n",
       "total_eve_calls                                     0.002423 -0.009233  \n",
       "total_eve_charge                                   -0.012987 -0.092786  \n",
       "total_night_minutes                                -0.009288 -0.035493  \n",
       "total_night_calls                                  -0.012802 -0.006141  \n",
       "total_night_charge                                 -0.009277 -0.035496  \n",
       "total_intl_minutes                                 -0.009640 -0.068239  \n",
       "total_intl_calls                                   -0.017561  0.052844  \n",
       "total_intl_charge                                  -0.009675 -0.068259  \n",
       "number_customer_service_calls                       1.000000 -0.208750  \n",
       "churn                                              -0.208750  1.000000  "
      ]
     },
     "execution_count": 19,
     "metadata": {},
     "output_type": "execute_result"
    }
   ],
   "source": [
    "# verificando a correlação entre as variáveis\n",
    "telecon_df.corr()"
   ]
  },
  {
   "cell_type": "markdown",
   "id": "fc9a33a2",
   "metadata": {},
   "source": [
    "### Plotando um scaterplot (gráfico de dispersão) entre algumas variáveis preditoras"
   ]
  },
  {
   "cell_type": "code",
   "execution_count": 20,
   "id": "35550b38",
   "metadata": {},
   "outputs": [
    {
     "data": {
      "text/plain": [
       "<matplotlib.collections.PathCollection at 0x7ff12d95d4f0>"
      ]
     },
     "execution_count": 20,
     "metadata": {},
     "output_type": "execute_result"
    },
    {
     "data": {
      "image/png": "[encoded data removed]",
      "text/plain": [
       "<Figure size 432x288 with 1 Axes>"
      ]
     },
     "metadata": {},
     "output_type": "display_data"
    }
   ],
   "source": [
    "plt.scatter(telecon_df['account_length'],telecon_df['total_intl_calls'], c=telecon_df['churn'])"
   ]
  },
  {
   "cell_type": "code",
   "execution_count": 21,
   "id": "782640d2",
   "metadata": {},
   "outputs": [
    {
     "data": {
      "text/plain": [
       "<matplotlib.collections.PathCollection at 0x7ff12da56dc0>"
      ]
     },
     "execution_count": 21,
     "metadata": {},
     "output_type": "execute_result"
    },
    {
     "data": {
      "image/png": "[encoded data removed]",
      "text/plain": [
       "<Figure size 432x288 with 1 Axes>"
      ]
     },
     "metadata": {},
     "output_type": "display_data"
    }
   ],
   "source": [
    "plt.scatter(telecon_df['number_vmail_messages'],telecon_df['number_vmail_messages'], c=telecon_df['churn'])"
   ]
  },
  {
   "cell_type": "code",
   "execution_count": 22,
   "id": "e3a56d07",
   "metadata": {},
   "outputs": [
    {
     "data": {
      "text/plain": [
       "<matplotlib.collections.PathCollection at 0x7ff12db01fa0>"
      ]
     },
     "execution_count": 22,
     "metadata": {},
     "output_type": "execute_result"
    },
    {
     "data": {
      "image/png": "[encoded data removed]",
      "text/plain": [
       "<Figure size 432x288 with 1 Axes>"
      ]
     },
     "metadata": {},
     "output_type": "display_data"
    }
   ],
   "source": [
    "plt.scatter(telecon_df['total_intl_charge'],telecon_df['total_intl_minutes'], c=telecon_df['churn'])"
   ]
  },
  {
   "cell_type": "code",
   "execution_count": 23,
   "id": "94bf8184",
   "metadata": {},
   "outputs": [],
   "source": [
    "# separando em dados de treino e teste\n",
    "X_train = telecon_df.drop('churn', axis=1)\n",
    "Y_train = telecon_df['churn']\n",
    "\n",
    "X_test = telecon_df_test.drop('churn', axis=1)\n",
    "Y_test = telecon_df_test['churn']\n"
   ]
  },
  {
   "cell_type": "code",
   "execution_count": 24,
   "id": "ce0503a3",
   "metadata": {},
   "outputs": [],
   "source": [
    "# utilizando SVM com configuração padrão\n",
    "from sklearn import svm"
   ]
  },
  {
   "cell_type": "code",
   "execution_count": 25,
   "id": "a1ed7afd",
   "metadata": {},
   "outputs": [],
   "source": [
    "modelo = svm.SVC()"
   ]
  },
  {
   "cell_type": "code",
   "execution_count": 26,
   "id": "3bdf9fc4",
   "metadata": {},
   "outputs": [
    {
     "data": {
      "text/plain": [
       "SVC()"
      ]
     },
     "execution_count": 26,
     "metadata": {},
     "output_type": "execute_result"
    }
   ],
   "source": [
    "modelo.fit(X_train, Y_train)"
   ]
  },
  {
   "cell_type": "code",
   "execution_count": 27,
   "id": "45f4f8fc",
   "metadata": {},
   "outputs": [
    {
     "name": "stdout",
     "output_type": "stream",
     "text": [
      "Acurácia Final 74.808%\n"
     ]
    }
   ],
   "source": [
    "# fazendo validação cruzada par avaliar o modelo\n",
    "resultado = cross_val_score(modelo, X_test, Y_test, cv=5, scoring='roc_auc')\n",
    "\n",
    "print(\"Acurácia Final %.3f%%\" % (resultado.mean() * 100.0))"
   ]
  },
  {
   "cell_type": "code",
   "execution_count": 28,
   "id": "e0e7537a",
   "metadata": {},
   "outputs": [],
   "source": [
    "valores_previstos = modelo.predict(X_test)"
   ]
  },
  {
   "cell_type": "markdown",
   "id": "4f128e70",
   "metadata": {},
   "source": [
    "#### verificando porcentagem de acertos e erros (verdadeiro positivo, falso positivo, verdadeiro negativo, falso negativo)"
   ]
  },
  {
   "cell_type": "code",
   "execution_count": 29,
   "id": "65d0a206",
   "metadata": {},
   "outputs": [
    {
     "data": {
      "text/plain": [
       "<AxesSubplot:>"
      ]
     },
     "execution_count": 29,
     "metadata": {},
     "output_type": "execute_result"
    },
    {
     "data": {
      "image/png": "[encoded data removed]",
      "text/plain": [
       "<Figure size 432x288 with 2 Axes>"
      ]
     },
     "metadata": {},
     "output_type": "display_data"
    }
   ],
   "source": [
    "cm = confusion_matrix(valores_previstos, Y_test)\n",
    "sns.heatmap(cm/np.sum(cm), annot=True, \n",
    "            fmt='.2%', cmap='Blues')"
   ]
  },
  {
   "cell_type": "code",
   "execution_count": 30,
   "id": "9532b2db",
   "metadata": {},
   "outputs": [
    {
     "name": "stdout",
     "output_type": "stream",
     "text": [
      "              precision    recall  f1-score   support\n",
      "\n",
      "           0       1.00      0.02      0.04       224\n",
      "           1       0.87      1.00      0.93      1443\n",
      "\n",
      "    accuracy                           0.87      1667\n",
      "   macro avg       0.93      0.51      0.48      1667\n",
      "weighted avg       0.89      0.87      0.81      1667\n",
      "\n"
     ]
    }
   ],
   "source": [
    "# relatório de classificação\n",
    "print(classification_report(Y_test, valores_previstos))"
   ]
  },
  {
   "cell_type": "code",
   "execution_count": 31,
   "id": "8f97ab3e",
   "metadata": {},
   "outputs": [],
   "source": [
    "telecon_df2 = telecon_df.drop('churn', axis=1)"
   ]
  },
  {
   "cell_type": "code",
   "execution_count": 32,
   "id": "35344b20",
   "metadata": {},
   "outputs": [],
   "source": [
    "# normalizando os dados para ficar na mesma escala, com comprimento igual a 1\n",
    "# aplicando Normalizer\n",
    "from sklearn.preprocessing import MinMaxScaler"
   ]
  },
  {
   "cell_type": "code",
   "execution_count": 33,
   "id": "fb432c42",
   "metadata": {},
   "outputs": [],
   "source": [
    "# instanciando modelo de normalizer\n",
    "scaler = MinMaxScaler().fit(telecon_df2)"
   ]
  },
  {
   "cell_type": "code",
   "execution_count": 34,
   "id": "722d7cf7",
   "metadata": {},
   "outputs": [],
   "source": [
    "# carregando modelo (treinando), removendo a coluna target\n",
    "normalizedX = scaler.transform(telecon_df2)"
   ]
  },
  {
   "cell_type": "code",
   "execution_count": 35,
   "id": "55cd432d",
   "metadata": {},
   "outputs": [],
   "source": [
    "norm_telecon_df2 = pd.DataFrame(normalizedX, columns=telecon_df2.columns)"
   ]
  },
  {
   "cell_type": "code",
   "execution_count": 36,
   "id": "53e1dc11",
   "metadata": {},
   "outputs": [
    {
     "data": {
      "text/html": [
       "<div>\n",
       "<style scoped>\n",
       "    .dataframe tbody tr th:only-of-type {\n",
       "        vertical-align: middle;\n",
       "    }\n",
       "\n",
       "    .dataframe tbody tr th {\n",
       "        vertical-align: top;\n",
       "    }\n",
       "\n",
       "    .dataframe thead th {\n",
       "        text-align: right;\n",
       "    }\n",
       "</style>\n",
       "<table border=\"1\" class=\"dataframe\">\n",
       "  <thead>\n",
       "    <tr style=\"text-align: right;\">\n",
       "      <th></th>\n",
       "      <th>account_length</th>\n",
       "      <th>international_plan</th>\n",
       "      <th>voice_mail_plan</th>\n",
       "      <th>number_vmail_messages</th>\n",
       "      <th>total_day_minutes</th>\n",
       "      <th>total_day_calls</th>\n",
       "      <th>total_day_charge</th>\n",
       "      <th>total_eve_minutes</th>\n",
       "      <th>total_eve_calls</th>\n",
       "      <th>total_eve_charge</th>\n",
       "      <th>total_night_minutes</th>\n",
       "      <th>total_night_calls</th>\n",
       "      <th>total_night_charge</th>\n",
       "      <th>total_intl_minutes</th>\n",
       "      <th>total_intl_calls</th>\n",
       "      <th>total_intl_charge</th>\n",
       "      <th>number_customer_service_calls</th>\n",
       "    </tr>\n",
       "  </thead>\n",
       "  <tbody>\n",
       "    <tr>\n",
       "      <th>0</th>\n",
       "      <td>0.524793</td>\n",
       "      <td>1.0</td>\n",
       "      <td>0.0</td>\n",
       "      <td>0.490196</td>\n",
       "      <td>0.755701</td>\n",
       "      <td>0.666667</td>\n",
       "      <td>0.755701</td>\n",
       "      <td>0.542755</td>\n",
       "      <td>0.582353</td>\n",
       "      <td>0.542866</td>\n",
       "      <td>0.595750</td>\n",
       "      <td>0.408451</td>\n",
       "      <td>0.595935</td>\n",
       "      <td>0.500</td>\n",
       "      <td>0.15</td>\n",
       "      <td>0.500000</td>\n",
       "      <td>0.111111</td>\n",
       "    </tr>\n",
       "    <tr>\n",
       "      <th>1</th>\n",
       "      <td>0.438017</td>\n",
       "      <td>1.0</td>\n",
       "      <td>0.0</td>\n",
       "      <td>0.509804</td>\n",
       "      <td>0.460661</td>\n",
       "      <td>0.745455</td>\n",
       "      <td>0.460597</td>\n",
       "      <td>0.537531</td>\n",
       "      <td>0.605882</td>\n",
       "      <td>0.537690</td>\n",
       "      <td>0.621840</td>\n",
       "      <td>0.492958</td>\n",
       "      <td>0.622236</td>\n",
       "      <td>0.685</td>\n",
       "      <td>0.15</td>\n",
       "      <td>0.685185</td>\n",
       "      <td>0.111111</td>\n",
       "    </tr>\n",
       "    <tr>\n",
       "      <th>2</th>\n",
       "      <td>0.561983</td>\n",
       "      <td>1.0</td>\n",
       "      <td>1.0</td>\n",
       "      <td>0.000000</td>\n",
       "      <td>0.693843</td>\n",
       "      <td>0.690909</td>\n",
       "      <td>0.693830</td>\n",
       "      <td>0.333242</td>\n",
       "      <td>0.647059</td>\n",
       "      <td>0.333225</td>\n",
       "      <td>0.374933</td>\n",
       "      <td>0.500000</td>\n",
       "      <td>0.375374</td>\n",
       "      <td>0.610</td>\n",
       "      <td>0.25</td>\n",
       "      <td>0.609259</td>\n",
       "      <td>0.000000</td>\n",
       "    </tr>\n",
       "    <tr>\n",
       "      <th>3</th>\n",
       "      <td>0.342975</td>\n",
       "      <td>0.0</td>\n",
       "      <td>1.0</td>\n",
       "      <td>0.000000</td>\n",
       "      <td>0.853478</td>\n",
       "      <td>0.430303</td>\n",
       "      <td>0.853454</td>\n",
       "      <td>0.170195</td>\n",
       "      <td>0.517647</td>\n",
       "      <td>0.170171</td>\n",
       "      <td>0.467187</td>\n",
       "      <td>0.394366</td>\n",
       "      <td>0.467424</td>\n",
       "      <td>0.330</td>\n",
       "      <td>0.35</td>\n",
       "      <td>0.329630</td>\n",
       "      <td>0.222222</td>\n",
       "    </tr>\n",
       "    <tr>\n",
       "      <th>4</th>\n",
       "      <td>0.305785</td>\n",
       "      <td>0.0</td>\n",
       "      <td>1.0</td>\n",
       "      <td>0.000000</td>\n",
       "      <td>0.475200</td>\n",
       "      <td>0.684848</td>\n",
       "      <td>0.475184</td>\n",
       "      <td>0.407754</td>\n",
       "      <td>0.717647</td>\n",
       "      <td>0.407959</td>\n",
       "      <td>0.440290</td>\n",
       "      <td>0.619718</td>\n",
       "      <td>0.440526</td>\n",
       "      <td>0.505</td>\n",
       "      <td>0.15</td>\n",
       "      <td>0.505556</td>\n",
       "      <td>0.333333</td>\n",
       "    </tr>\n",
       "  </tbody>\n",
       "</table>\n",
       "</div>"
      ],
      "text/plain": [
       "   account_length  international_plan  voice_mail_plan  number_vmail_messages  \\\n",
       "0        0.524793                 1.0              0.0               0.490196   \n",
       "1        0.438017                 1.0              0.0               0.509804   \n",
       "2        0.561983                 1.0              1.0               0.000000   \n",
       "3        0.342975                 0.0              1.0               0.000000   \n",
       "4        0.305785                 0.0              1.0               0.000000   \n",
       "\n",
       "   total_day_minutes  total_day_calls  total_day_charge  total_eve_minutes  \\\n",
       "0           0.755701         0.666667          0.755701           0.542755   \n",
       "1           0.460661         0.745455          0.460597           0.537531   \n",
       "2           0.693843         0.690909          0.693830           0.333242   \n",
       "3           0.853478         0.430303          0.853454           0.170195   \n",
       "4           0.475200         0.684848          0.475184           0.407754   \n",
       "\n",
       "   total_eve_calls  total_eve_charge  total_night_minutes  total_night_calls  \\\n",
       "0         0.582353          0.542866             0.595750           0.408451   \n",
       "1         0.605882          0.537690             0.621840           0.492958   \n",
       "2         0.647059          0.333225             0.374933           0.500000   \n",
       "3         0.517647          0.170171             0.467187           0.394366   \n",
       "4         0.717647          0.407959             0.440290           0.619718   \n",
       "\n",
       "   total_night_charge  total_intl_minutes  total_intl_calls  \\\n",
       "0            0.595935               0.500              0.15   \n",
       "1            0.622236               0.685              0.15   \n",
       "2            0.375374               0.610              0.25   \n",
       "3            0.467424               0.330              0.35   \n",
       "4            0.440526               0.505              0.15   \n",
       "\n",
       "   total_intl_charge  number_customer_service_calls  \n",
       "0           0.500000                       0.111111  \n",
       "1           0.685185                       0.111111  \n",
       "2           0.609259                       0.000000  \n",
       "3           0.329630                       0.222222  \n",
       "4           0.505556                       0.333333  "
      ]
     },
     "execution_count": 36,
     "metadata": {},
     "output_type": "execute_result"
    }
   ],
   "source": [
    "norm_telecon_df2.head()"
   ]
  },
  {
   "cell_type": "code",
   "execution_count": 37,
   "id": "ef443960",
   "metadata": {},
   "outputs": [],
   "source": [
    "norm_telecon_df2['churn'] = telecon_df['churn']"
   ]
  },
  {
   "cell_type": "code",
   "execution_count": 38,
   "id": "0fb5a7eb",
   "metadata": {},
   "outputs": [],
   "source": [
    "from sklearn.decomposition import PCA"
   ]
  },
  {
   "cell_type": "code",
   "execution_count": 39,
   "id": "2d7313dc",
   "metadata": {},
   "outputs": [],
   "source": [
    "# aplicando algoritmo de PCA para diminuir a quantidade de features\n",
    "pca_fitted = PCA(n_components=8, random_state=42)\n",
    "new_dataset = pd.DataFrame(pca_fitted.fit_transform(norm_telecon_df2))"
   ]
  },
  {
   "cell_type": "code",
   "execution_count": 40,
   "id": "b0778fc9",
   "metadata": {},
   "outputs": [],
   "source": [
    "new_dataset['churn'] = telecon_df['churn']"
   ]
  },
  {
   "cell_type": "code",
   "execution_count": 41,
   "id": "38fd715f",
   "metadata": {},
   "outputs": [
    {
     "data": {
      "image/png": "[encoded data removed]",
      "text/plain": [
       "<Figure size 1080x720 with 1 Axes>"
      ]
     },
     "metadata": {},
     "output_type": "display_data"
    }
   ],
   "source": [
    "fig = plt.figure(figsize =(15, 10))\n",
    " \n",
    "# Creating axes instance\n",
    "ax = fig.add_axes([0, 0, 1, 1])\n",
    " \n",
    "# Creating plot\n",
    "bp = ax.boxplot(new_dataset)\n",
    " \n",
    "# show plot\n",
    "plt.show()"
   ]
  },
  {
   "cell_type": "markdown",
   "id": "5b7128df",
   "metadata": {},
   "source": [
    "# preparando as variáveis de teste\n",
    "\n",
    "aplicando preprocessamento com minmaxscaller\n",
    "\n",
    "diminuindo dimencionalidade com o PCA"
   ]
  },
  {
   "cell_type": "code",
   "execution_count": 42,
   "id": "c12d8a59",
   "metadata": {},
   "outputs": [],
   "source": [
    "\n",
    "telecon_df2_test = telecon_df_test.drop('churn', axis=1)\n",
    "\n",
    "scalerTest = MinMaxScaler().fit(telecon_df2_test)\n",
    "normalizedXTest = scalerTest.transform(telecon_df2_test)\n",
    "norm_telecon_df2Test = pd.DataFrame(normalizedXTest, columns=telecon_df2_test.columns)\n",
    "norm_telecon_df2Test['churn'] = telecon_df_test['churn']\n",
    "\n",
    "pca_fitted_test = PCA(n_components=8, random_state=42)\n",
    "new_datasetTest = pd.DataFrame(pca_fitted_test.fit_transform(norm_telecon_df2Test))\n",
    "\n",
    "new_datasetTest['churn'] = telecon_df_test['churn']"
   ]
  },
  {
   "cell_type": "code",
   "execution_count": 43,
   "id": "46ea77e9",
   "metadata": {},
   "outputs": [],
   "source": [
    "# carregando variaveis de treino e teste\n",
    "X_train = new_dataset.drop('churn', axis=1)\n",
    "Y_train = new_dataset['churn']\n",
    "\n",
    "X_test = new_datasetTest.drop('churn', axis=1)\n",
    "Y_test = new_datasetTest['churn']\n"
   ]
  },
  {
   "cell_type": "code",
   "execution_count": 44,
   "id": "c5097eb8",
   "metadata": {},
   "outputs": [],
   "source": [
    "# carregando algoritmo de classificação SVM\n",
    "modelo = svm.SVC()"
   ]
  },
  {
   "cell_type": "code",
   "execution_count": 45,
   "id": "cb4d0cec",
   "metadata": {},
   "outputs": [
    {
     "data": {
      "text/plain": [
       "SVC()"
      ]
     },
     "execution_count": 45,
     "metadata": {},
     "output_type": "execute_result"
    }
   ],
   "source": [
    "# treinando modelo (carregando algoritmo de classificação de acordo cos os dados de treino)\n",
    "modelo.fit(X_train, Y_train)"
   ]
  },
  {
   "cell_type": "code",
   "execution_count": 46,
   "id": "5c2ab3db",
   "metadata": {},
   "outputs": [
    {
     "name": "stdout",
     "output_type": "stream",
     "text": [
      "Acurácia Final 100.000%\n"
     ]
    }
   ],
   "source": [
    "# verificando acurácia do modelo\n",
    "resultado = cross_val_score(modelo, X_test, Y_test, cv=5, scoring='roc_auc')\n",
    "\n",
    "print(\"Acurácia Final %.3f%%\" % (resultado.mean() * 100.0))"
   ]
  },
  {
   "cell_type": "code",
   "execution_count": 47,
   "id": "ed0c8419",
   "metadata": {},
   "outputs": [
    {
     "name": "stdout",
     "output_type": "stream",
     "text": [
      "              precision    recall  f1-score   support\n",
      "\n",
      "           0       1.00      1.00      1.00       224\n",
      "           1       1.00      1.00      1.00      1443\n",
      "\n",
      "    accuracy                           1.00      1667\n",
      "   macro avg       1.00      1.00      1.00      1667\n",
      "weighted avg       1.00      1.00      1.00      1667\n",
      "\n"
     ]
    }
   ],
   "source": [
    "valores_previstos = modelo.predict(X_test)\n",
    "\n",
    "# relatório de classificação\n",
    "print(classification_report(Y_test, valores_previstos))"
   ]
  },
  {
   "cell_type": "code",
   "execution_count": 48,
   "id": "7716b62f",
   "metadata": {},
   "outputs": [],
   "source": [
    "# criando a matrix de confusão para vericar acertos e erros do modelo\n",
    "cm = confusion_matrix(valores_previstos, Y_test)"
   ]
  },
  {
   "cell_type": "markdown",
   "id": "54a03a1a",
   "metadata": {},
   "source": [
    "#### verificando porcentagem de acertos e erros (verdadeiro positivo, falso positivo, verdadeiro negativo, falso negativo)"
   ]
  },
  {
   "cell_type": "code",
   "execution_count": 49,
   "id": "4f7a4067",
   "metadata": {},
   "outputs": [
    {
     "data": {
      "text/plain": [
       "<AxesSubplot:>"
      ]
     },
     "execution_count": 49,
     "metadata": {},
     "output_type": "execute_result"
    },
    {
     "data": {
      "image/png": "[encoded data removed]",
      "text/plain": [
       "<Figure size 432x288 with 2 Axes>"
      ]
     },
     "metadata": {},
     "output_type": "display_data"
    }
   ],
   "source": [
    "sns.heatmap(cm/np.sum(cm), annot=True, fmt='.2%', cmap='Blues')"
   ]
  },
  {
   "cell_type": "code",
   "execution_count": null,
   "id": "33212fa8",
   "metadata": {},
   "outputs": [],
   "source": []
  }
 ],
 "metadata": {
  "kernelspec": {
   "display_name": "Python 3",
   "language": "python",
   "name": "python3"
  },
  "language_info": {
   "codemirror_mode": {
    "name": "ipython",
    "version": 3
   },
   "file_extension": ".py",
   "mimetype": "text/x-python",
   "name": "python",
   "nbconvert_exporter": "python",
   "pygments_lexer": "ipython3",
   "version": "3.8.5"
  }
 },
 "nbformat": 4,
 "nbformat_minor": 5
}
