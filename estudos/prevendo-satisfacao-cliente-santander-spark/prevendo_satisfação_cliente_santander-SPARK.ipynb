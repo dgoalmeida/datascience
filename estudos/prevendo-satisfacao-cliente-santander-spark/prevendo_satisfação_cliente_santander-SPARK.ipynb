{
 "cells": [
  {
   "cell_type": "markdown",
   "id": "30707d89",
   "metadata": {},
   "source": [
    "# Prevendo nivel de satisfação dos clientes santander\n",
    "\n",
    "Problema de negócio:\n",
    "Identificar o nivel de clientes insatisfeitos no inicio do relacionamento\n",
    "Trabalho é um problema de classificação para identificar se cliente deixou ou não deixou de ser cliente do banco\n",
    "\n",
    "Dados estão no kaggle\n",
    "https://www.kaggle.com/c/santander-customer-satisfaction\n",
    "\n",
    "### Utilizando Spark"
   ]
  },
  {
   "cell_type": "code",
   "execution_count": 1,
   "id": "a2ae44a3",
   "metadata": {},
   "outputs": [],
   "source": [
    "# imports\n",
    "from pyspark.sql.functions import col\n",
    "from pyspark.sql.types import DoubleType\n",
    "from pyspark.sql.types import IntegerType\n",
    "from pyspark.ml.linalg import Vectors\n",
    "from pyspark.ml.feature import PCA\n",
    "from pyspark.ml.clustering import KMeans\n",
    "from pyspark.ml.evaluation import MulticlassClassificationEvaluator"
   ]
  },
  {
   "cell_type": "code",
   "execution_count": 2,
   "id": "3efdc94d",
   "metadata": {},
   "outputs": [],
   "source": [
    "# criando a sessão do spark\n",
    "# definindo o master como local\n",
    "# definindo nome como sparkML\n",
    "spSession = SparkSession.builder.master('local').appName('sparkMl').getOrCreate()"
   ]
  },
  {
   "cell_type": "code",
   "execution_count": 3,
   "id": "c64b8a26",
   "metadata": {},
   "outputs": [],
   "source": [
    "# criando um RDD a partir do arquivo importado usando spark context\n",
    "santanderRDD = sc.textFile('santander-customer-satisfaction/train.csv')"
   ]
  },
  {
   "cell_type": "code",
   "execution_count": 4,
   "id": "9bd042e5",
   "metadata": {},
   "outputs": [],
   "source": [
    "# separando os dados por virgula\n",
    "santanderRDD2 = santanderRDD.map(lambda x: x.split(','))"
   ]
  },
  {
   "cell_type": "code",
   "execution_count": 5,
   "id": "13b58e51",
   "metadata": {},
   "outputs": [],
   "source": [
    "# obtendo o header\n",
    "header = santanderRDD2.first()"
   ]
  },
  {
   "cell_type": "code",
   "execution_count": 6,
   "id": "de11f96a",
   "metadata": {},
   "outputs": [],
   "source": [
    "# removendo primeira linha (header)\n",
    "santanderRDD3 = santanderRDD2.filter(lambda x: \"ID\" not in x)"
   ]
  },
  {
   "cell_type": "code",
   "execution_count": 7,
   "id": "9c323db3",
   "metadata": {},
   "outputs": [],
   "source": [
    "# convertendo rdd para dataframe do spark, usando os dados do header como schema\n",
    "sandanderDF = santanderRDD3.toDF(header)"
   ]
  },
  {
   "cell_type": "code",
   "execution_count": 8,
   "id": "87e939b2",
   "metadata": {
    "scrolled": true
   },
   "outputs": [],
   "source": [
    "# na conversão os dados ficaram como string, convertendo para Double\n",
    "sandanderDF = sandanderDF.select(*(col(c).cast(DoubleType()).alias(c) for c in sandanderDF.columns))"
   ]
  },
  {
   "cell_type": "code",
   "execution_count": 9,
   "id": "8454852b",
   "metadata": {},
   "outputs": [],
   "source": [
    "# removendo a coluna ID, cola não será usada \n",
    "sandanderDF = sandanderDF.drop('ID')"
   ]
  },
  {
   "cell_type": "code",
   "execution_count": 10,
   "id": "cc4fffa4",
   "metadata": {
    "scrolled": true
   },
   "outputs": [
    {
     "data": {
      "text/plain": [
       "DataFrame[var3: double, var15: double, imp_ent_var16_ult1: double, imp_op_var39_comer_ult1: double, imp_op_var39_comer_ult3: double, imp_op_var40_comer_ult1: double, imp_op_var40_comer_ult3: double, imp_op_var40_efect_ult1: double, imp_op_var40_efect_ult3: double, imp_op_var40_ult1: double, imp_op_var41_comer_ult1: double, imp_op_var41_comer_ult3: double, imp_op_var41_efect_ult1: double, imp_op_var41_efect_ult3: double, imp_op_var41_ult1: double, imp_op_var39_efect_ult1: double, imp_op_var39_efect_ult3: double, imp_op_var39_ult1: double, imp_sal_var16_ult1: double, ind_var1_0: double, ind_var1: double, ind_var2_0: double, ind_var2: double, ind_var5_0: double, ind_var5: double, ind_var6_0: double, ind_var6: double, ind_var8_0: double, ind_var8: double, ind_var12_0: double, ind_var12: double, ind_var13_0: double, ind_var13_corto_0: double, ind_var13_corto: double, ind_var13_largo_0: double, ind_var13_largo: double, ind_var13_medio_0: double, ind_var13_medio: double, ind_var13: double, ind_var14_0: double, ind_var14: double, ind_var17_0: double, ind_var17: double, ind_var18_0: double, ind_var18: double, ind_var19: double, ind_var20_0: double, ind_var20: double, ind_var24_0: double, ind_var24: double, ind_var25_cte: double, ind_var26_0: double, ind_var26_cte: double, ind_var26: double, ind_var25_0: double, ind_var25: double, ind_var27_0: double, ind_var28_0: double, ind_var28: double, ind_var27: double, ind_var29_0: double, ind_var29: double, ind_var30_0: double, ind_var30: double, ind_var31_0: double, ind_var31: double, ind_var32_cte: double, ind_var32_0: double, ind_var32: double, ind_var33_0: double, ind_var33: double, ind_var34_0: double, ind_var34: double, ind_var37_cte: double, ind_var37_0: double, ind_var37: double, ind_var39_0: double, ind_var40_0: double, ind_var40: double, ind_var41_0: double, ind_var41: double, ind_var39: double, ind_var44_0: double, ind_var44: double, ind_var46_0: double, ind_var46: double, num_var1_0: double, num_var1: double, num_var4: double, num_var5_0: double, num_var5: double, num_var6_0: double, num_var6: double, num_var8_0: double, num_var8: double, num_var12_0: double, num_var12: double, num_var13_0: double, num_var13_corto_0: double, num_var13_corto: double, num_var13_largo_0: double, num_var13_largo: double, num_var13_medio_0: double, num_var13_medio: double, num_var13: double, num_var14_0: double, num_var14: double, num_var17_0: double, num_var17: double, num_var18_0: double, num_var18: double, num_var20_0: double, num_var20: double, num_var24_0: double, num_var24: double, num_var26_0: double, num_var26: double, num_var25_0: double, num_var25: double, num_op_var40_hace2: double, num_op_var40_hace3: double, num_op_var40_ult1: double, num_op_var40_ult3: double, num_op_var41_hace2: double, num_op_var41_hace3: double, num_op_var41_ult1: double, num_op_var41_ult3: double, num_op_var39_hace2: double, num_op_var39_hace3: double, num_op_var39_ult1: double, num_op_var39_ult3: double, num_var27_0: double, num_var28_0: double, num_var28: double, num_var27: double, num_var29_0: double, num_var29: double, num_var30_0: double, num_var30: double, num_var31_0: double, num_var31: double, num_var32_0: double, num_var32: double, num_var33_0: double, num_var33: double, num_var34_0: double, num_var34: double, num_var35: double, num_var37_med_ult2: double, num_var37_0: double, num_var37: double, num_var39_0: double, num_var40_0: double, num_var40: double, num_var41_0: double, num_var41: double, num_var39: double, num_var42_0: double, num_var42: double, num_var44_0: double, num_var44: double, num_var46_0: double, num_var46: double, saldo_var1: double, saldo_var5: double, saldo_var6: double, saldo_var8: double, saldo_var12: double, saldo_var13_corto: double, saldo_var13_largo: double, saldo_var13_medio: double, saldo_var13: double, saldo_var14: double, saldo_var17: double, saldo_var18: double, saldo_var20: double, saldo_var24: double, saldo_var26: double, saldo_var25: double, saldo_var28: double, saldo_var27: double, saldo_var29: double, saldo_var30: double, saldo_var31: double, saldo_var32: double, saldo_var33: double, saldo_var34: double, saldo_var37: double, saldo_var40: double, saldo_var41: double, saldo_var42: double, saldo_var44: double, saldo_var46: double, var36: double, delta_imp_amort_var18_1y3: double, delta_imp_amort_var34_1y3: double, delta_imp_aport_var13_1y3: double, delta_imp_aport_var17_1y3: double, delta_imp_aport_var33_1y3: double, delta_imp_compra_var44_1y3: double, delta_imp_reemb_var13_1y3: double, delta_imp_reemb_var17_1y3: double, delta_imp_reemb_var33_1y3: double, delta_imp_trasp_var17_in_1y3: double, delta_imp_trasp_var17_out_1y3: double, delta_imp_trasp_var33_in_1y3: double, delta_imp_trasp_var33_out_1y3: double, delta_imp_venta_var44_1y3: double, delta_num_aport_var13_1y3: double, delta_num_aport_var17_1y3: double, delta_num_aport_var33_1y3: double, delta_num_compra_var44_1y3: double, delta_num_reemb_var13_1y3: double, delta_num_reemb_var17_1y3: double, delta_num_reemb_var33_1y3: double, delta_num_trasp_var17_in_1y3: double, delta_num_trasp_var17_out_1y3: double, delta_num_trasp_var33_in_1y3: double, delta_num_trasp_var33_out_1y3: double, delta_num_venta_var44_1y3: double, imp_amort_var18_hace3: double, imp_amort_var18_ult1: double, imp_amort_var34_hace3: double, imp_amort_var34_ult1: double, imp_aport_var13_hace3: double, imp_aport_var13_ult1: double, imp_aport_var17_hace3: double, imp_aport_var17_ult1: double, imp_aport_var33_hace3: double, imp_aport_var33_ult1: double, imp_var7_emit_ult1: double, imp_var7_recib_ult1: double, imp_compra_var44_hace3: double, imp_compra_var44_ult1: double, imp_reemb_var13_hace3: double, imp_reemb_var13_ult1: double, imp_reemb_var17_hace3: double, imp_reemb_var17_ult1: double, imp_reemb_var33_hace3: double, imp_reemb_var33_ult1: double, imp_var43_emit_ult1: double, imp_trans_var37_ult1: double, imp_trasp_var17_in_hace3: double, imp_trasp_var17_in_ult1: double, imp_trasp_var17_out_hace3: double, imp_trasp_var17_out_ult1: double, imp_trasp_var33_in_hace3: double, imp_trasp_var33_in_ult1: double, imp_trasp_var33_out_hace3: double, imp_trasp_var33_out_ult1: double, imp_venta_var44_hace3: double, imp_venta_var44_ult1: double, ind_var7_emit_ult1: double, ind_var7_recib_ult1: double, ind_var10_ult1: double, ind_var10cte_ult1: double, ind_var9_cte_ult1: double, ind_var9_ult1: double, ind_var43_emit_ult1: double, ind_var43_recib_ult1: double, var21: double, num_var2_0_ult1: double, num_var2_ult1: double, num_aport_var13_hace3: double, num_aport_var13_ult1: double, num_aport_var17_hace3: double, num_aport_var17_ult1: double, num_aport_var33_hace3: double, num_aport_var33_ult1: double, num_var7_emit_ult1: double, num_var7_recib_ult1: double, num_compra_var44_hace3: double, num_compra_var44_ult1: double, num_ent_var16_ult1: double, num_var22_hace2: double, num_var22_hace3: double, num_var22_ult1: double, num_var22_ult3: double, num_med_var22_ult3: double, num_med_var45_ult3: double, num_meses_var5_ult3: double, num_meses_var8_ult3: double, num_meses_var12_ult3: double, num_meses_var13_corto_ult3: double, num_meses_var13_largo_ult3: double, num_meses_var13_medio_ult3: double, num_meses_var17_ult3: double, num_meses_var29_ult3: double, num_meses_var33_ult3: double, num_meses_var39_vig_ult3: double, num_meses_var44_ult3: double, num_op_var39_comer_ult1: double, num_op_var39_comer_ult3: double, num_op_var40_comer_ult1: double, num_op_var40_comer_ult3: double, num_op_var40_efect_ult1: double, num_op_var40_efect_ult3: double, num_op_var41_comer_ult1: double, num_op_var41_comer_ult3: double, num_op_var41_efect_ult1: double, num_op_var41_efect_ult3: double, num_op_var39_efect_ult1: double, num_op_var39_efect_ult3: double, num_reemb_var13_hace3: double, num_reemb_var13_ult1: double, num_reemb_var17_hace3: double, num_reemb_var17_ult1: double, num_reemb_var33_hace3: double, num_reemb_var33_ult1: double, num_sal_var16_ult1: double, num_var43_emit_ult1: double, num_var43_recib_ult1: double, num_trasp_var11_ult1: double, num_trasp_var17_in_hace3: double, num_trasp_var17_in_ult1: double, num_trasp_var17_out_hace3: double, num_trasp_var17_out_ult1: double, num_trasp_var33_in_hace3: double, num_trasp_var33_in_ult1: double, num_trasp_var33_out_hace3: double, num_trasp_var33_out_ult1: double, num_venta_var44_hace3: double, num_venta_var44_ult1: double, num_var45_hace2: double, num_var45_hace3: double, num_var45_ult1: double, num_var45_ult3: double, saldo_var2_ult1: double, saldo_medio_var5_hace2: double, saldo_medio_var5_hace3: double, saldo_medio_var5_ult1: double, saldo_medio_var5_ult3: double, saldo_medio_var8_hace2: double, saldo_medio_var8_hace3: double, saldo_medio_var8_ult1: double, saldo_medio_var8_ult3: double, saldo_medio_var12_hace2: double, saldo_medio_var12_hace3: double, saldo_medio_var12_ult1: double, saldo_medio_var12_ult3: double, saldo_medio_var13_corto_hace2: double, saldo_medio_var13_corto_hace3: double, saldo_medio_var13_corto_ult1: double, saldo_medio_var13_corto_ult3: double, saldo_medio_var13_largo_hace2: double, saldo_medio_var13_largo_hace3: double, saldo_medio_var13_largo_ult1: double, saldo_medio_var13_largo_ult3: double, saldo_medio_var13_medio_hace2: double, saldo_medio_var13_medio_hace3: double, saldo_medio_var13_medio_ult1: double, saldo_medio_var13_medio_ult3: double, saldo_medio_var17_hace2: double, saldo_medio_var17_hace3: double, saldo_medio_var17_ult1: double, saldo_medio_var17_ult3: double, saldo_medio_var29_hace2: double, saldo_medio_var29_hace3: double, saldo_medio_var29_ult1: double, saldo_medio_var29_ult3: double, saldo_medio_var33_hace2: double, saldo_medio_var33_hace3: double, saldo_medio_var33_ult1: double, saldo_medio_var33_ult3: double, saldo_medio_var44_hace2: double, saldo_medio_var44_hace3: double, saldo_medio_var44_ult1: double, saldo_medio_var44_ult3: double, var38: double, TARGET: double]"
      ]
     },
     "execution_count": 10,
     "metadata": {},
     "output_type": "execute_result"
    }
   ],
   "source": [
    "# colocando os dados em cache para melhorar performance\n",
    "sandanderDF.cache()"
   ]
  },
  {
   "cell_type": "code",
   "execution_count": 11,
   "id": "46bea616",
   "metadata": {},
   "outputs": [
    {
     "name": "stdout",
     "output_type": "stream",
     "text": [
      "+-------+-------------------+------------------+------------------+-----------------------+-----------------------+-----------------------+-----------------------+-----------------------+-----------------------+-----------------+-----------------------+-----------------------+-----------------------+-----------------------+------------------+-----------------------+-----------------------+-----------------+------------------+--------------------+--------------------+----------+--------+------------------+------------------+--------------------+--------------------+--------------------+--------------------+-------------------+--------------------+-------------------+-------------------+--------------------+--------------------+--------------------+--------------------+--------------------+-------------------+-------------------+-------------------+--------------------+--------------------+--------------------+--------------------+--------------------+--------------------+--------------------+--------------------+--------------------+--------------------+--------------------+--------------------+--------------------+--------------------+--------------------+-----------+-----------+---------+---------+--------------------+--------------------+-------------------+------------------+--------------------+-------------------+--------------------+--------------------+--------------------+-------------------+--------------------+--------------------+--------------------+-------------------+-------------------+-------------------+-------------------+-------------------+--------------------+-------------------+---------+--------------------+--------------------+--------------------+-----------+---------+--------------------+--------------------+------------------+------------------+------------------+--------------------+--------------------+-------------------+-------------------+------------------+-------------------+-------------------+------------------+------------------+-------------------+--------------------+--------------------+--------------------+-------------------+-------------------+--------------------+--------------------+--------------------+--------------------+--------------------+--------------------+-------------------+------------------+-------------------+-------------------+-------------------+-------------------+-------------------+--------------------+--------------------+-------------------+-------------------+------------------+-------------------+------------------+------------------+------------------+-------------------+------------------+------------------+-----------+-----------+---------+---------+--------------------+--------------------+------------------+------------------+--------------------+-------------------+--------------------+--------------------+--------------------+--------------------+--------------------+--------------------+-----------------+-------------------+-------------------+-------------------+------------------+-------------------+--------------------+------------------+---------+--------------------+------------------+------------------+--------------------+--------------------+-----------+---------+------------------+------------------+-------------------+------------------+-----------------+------------------+-----------------+------------------+-----------------+-----------------+------------------+------------------+------------------+-----------------+-----------------+-----------------+-----------+-----------+-------------------+------------------+------------------+------------------+------------------+------------------+-----------------+------------------+-----------+------------------+-----------------+-----------+------------------+-------------------------+-------------------------+-------------------------+-------------------------+-------------------------+--------------------------+-------------------------+-------------------------+-------------------------+----------------------------+-----------------------------+----------------------------+-----------------------------+-------------------------+-------------------------+-------------------------+-------------------------+--------------------------+-------------------------+-------------------------+-------------------------+----------------------------+-----------------------------+----------------------------+-----------------------------+-------------------------+---------------------+--------------------+---------------------+--------------------+---------------------+--------------------+---------------------+--------------------+---------------------+--------------------+------------------+-------------------+----------------------+---------------------+---------------------+--------------------+---------------------+--------------------+---------------------+--------------------+-------------------+--------------------+------------------------+-----------------------+-------------------------+------------------------+------------------------+-----------------------+-------------------------+------------------------+---------------------+--------------------+--------------------+--------------------+-------------------+-------------------+-------------------+-------------------+-------------------+--------------------+-----------------+---------------+-------------+---------------------+--------------------+---------------------+--------------------+---------------------+--------------------+--------------------+--------------------+----------------------+---------------------+-------------------+------------------+------------------+-----------------+------------------+------------------+------------------+-------------------+--------------------+--------------------+--------------------------+--------------------------+--------------------------+--------------------+--------------------+--------------------+------------------------+--------------------+-----------------------+-----------------------+-----------------------+-----------------------+-----------------------+-----------------------+-----------------------+-----------------------+-----------------------+-----------------------+-----------------------+-----------------------+---------------------+--------------------+---------------------+--------------------+---------------------+--------------------+--------------------+-------------------+--------------------+--------------------+------------------------+-----------------------+-------------------------+------------------------+------------------------+-----------------------+-------------------------+------------------------+---------------------+--------------------+------------------+------------------+-----------------+------------------+---------------+----------------------+----------------------+---------------------+---------------------+----------------------+----------------------+---------------------+---------------------+-----------------------+-----------------------+----------------------+----------------------+-----------------------------+-----------------------------+----------------------------+----------------------------+-----------------------------+-----------------------------+----------------------------+----------------------------+-----------------------------+-----------------------------+----------------------------+----------------------------+-----------------------+-----------------------+----------------------+----------------------+-----------------------+-----------------------+----------------------+----------------------+-----------------------+-----------------------+----------------------+----------------------+-----------------------+-----------------------+----------------------+----------------------+------------------+-------------------+\n",
      "|summary|               var3|             var15|imp_ent_var16_ult1|imp_op_var39_comer_ult1|imp_op_var39_comer_ult3|imp_op_var40_comer_ult1|imp_op_var40_comer_ult3|imp_op_var40_efect_ult1|imp_op_var40_efect_ult3|imp_op_var40_ult1|imp_op_var41_comer_ult1|imp_op_var41_comer_ult3|imp_op_var41_efect_ult1|imp_op_var41_efect_ult3| imp_op_var41_ult1|imp_op_var39_efect_ult1|imp_op_var39_efect_ult3|imp_op_var39_ult1|imp_sal_var16_ult1|          ind_var1_0|            ind_var1|ind_var2_0|ind_var2|        ind_var5_0|          ind_var5|          ind_var6_0|            ind_var6|          ind_var8_0|            ind_var8|        ind_var12_0|           ind_var12|        ind_var13_0|  ind_var13_corto_0|     ind_var13_corto|   ind_var13_largo_0|     ind_var13_largo|   ind_var13_medio_0|     ind_var13_medio|          ind_var13|        ind_var14_0|          ind_var14|         ind_var17_0|           ind_var17|         ind_var18_0|           ind_var18|           ind_var19|         ind_var20_0|           ind_var20|         ind_var24_0|           ind_var24|       ind_var25_cte|         ind_var26_0|       ind_var26_cte|           ind_var26|         ind_var25_0|           ind_var25|ind_var27_0|ind_var28_0|ind_var28|ind_var27|         ind_var29_0|           ind_var29|        ind_var30_0|         ind_var30|         ind_var31_0|          ind_var31|       ind_var32_cte|         ind_var32_0|           ind_var32|        ind_var33_0|           ind_var33|         ind_var34_0|           ind_var34|      ind_var37_cte|        ind_var37_0|          ind_var37|        ind_var39_0|        ind_var40_0|           ind_var40|        ind_var41_0|ind_var41|           ind_var39|         ind_var44_0|           ind_var44|ind_var46_0|ind_var46|          num_var1_0|            num_var1|          num_var4|        num_var5_0|          num_var5|          num_var6_0|            num_var6|         num_var8_0|           num_var8|       num_var12_0|          num_var12|        num_var13_0| num_var13_corto_0|   num_var13_corto|  num_var13_largo_0|     num_var13_largo|   num_var13_medio_0|     num_var13_medio|          num_var13|        num_var14_0|           num_var14|         num_var17_0|           num_var17|         num_var18_0|           num_var18|         num_var20_0|          num_var20|       num_var24_0|          num_var24|        num_var26_0|          num_var26|        num_var25_0|          num_var25|  num_op_var40_hace2|  num_op_var40_hace3|  num_op_var40_ult1|  num_op_var40_ult3|num_op_var41_hace2| num_op_var41_hace3| num_op_var41_ult1| num_op_var41_ult3|num_op_var39_hace2| num_op_var39_hace3| num_op_var39_ult1| num_op_var39_ult3|num_var27_0|num_var28_0|num_var28|num_var27|         num_var29_0|           num_var29|       num_var30_0|         num_var30|         num_var31_0|          num_var31|         num_var32_0|           num_var32|         num_var33_0|           num_var33|         num_var34_0|           num_var34|        num_var35| num_var37_med_ult2|        num_var37_0|          num_var37|       num_var39_0|        num_var40_0|           num_var40|       num_var41_0|num_var41|           num_var39|       num_var42_0|         num_var42|         num_var44_0|           num_var44|num_var46_0|num_var46|        saldo_var1|        saldo_var5|         saldo_var6|        saldo_var8|      saldo_var12| saldo_var13_corto|saldo_var13_largo| saldo_var13_medio|      saldo_var13|      saldo_var14|       saldo_var17|       saldo_var18|       saldo_var20|      saldo_var24|      saldo_var26|      saldo_var25|saldo_var28|saldo_var27|        saldo_var29|       saldo_var30|       saldo_var31|       saldo_var32|       saldo_var33|       saldo_var34|      saldo_var37|       saldo_var40|saldo_var41|       saldo_var42|      saldo_var44|saldo_var46|             var36|delta_imp_amort_var18_1y3|delta_imp_amort_var34_1y3|delta_imp_aport_var13_1y3|delta_imp_aport_var17_1y3|delta_imp_aport_var33_1y3|delta_imp_compra_var44_1y3|delta_imp_reemb_var13_1y3|delta_imp_reemb_var17_1y3|delta_imp_reemb_var33_1y3|delta_imp_trasp_var17_in_1y3|delta_imp_trasp_var17_out_1y3|delta_imp_trasp_var33_in_1y3|delta_imp_trasp_var33_out_1y3|delta_imp_venta_var44_1y3|delta_num_aport_var13_1y3|delta_num_aport_var17_1y3|delta_num_aport_var33_1y3|delta_num_compra_var44_1y3|delta_num_reemb_var13_1y3|delta_num_reemb_var17_1y3|delta_num_reemb_var33_1y3|delta_num_trasp_var17_in_1y3|delta_num_trasp_var17_out_1y3|delta_num_trasp_var33_in_1y3|delta_num_trasp_var33_out_1y3|delta_num_venta_var44_1y3|imp_amort_var18_hace3|imp_amort_var18_ult1|imp_amort_var34_hace3|imp_amort_var34_ult1|imp_aport_var13_hace3|imp_aport_var13_ult1|imp_aport_var17_hace3|imp_aport_var17_ult1|imp_aport_var33_hace3|imp_aport_var33_ult1|imp_var7_emit_ult1|imp_var7_recib_ult1|imp_compra_var44_hace3|imp_compra_var44_ult1|imp_reemb_var13_hace3|imp_reemb_var13_ult1|imp_reemb_var17_hace3|imp_reemb_var17_ult1|imp_reemb_var33_hace3|imp_reemb_var33_ult1|imp_var43_emit_ult1|imp_trans_var37_ult1|imp_trasp_var17_in_hace3|imp_trasp_var17_in_ult1|imp_trasp_var17_out_hace3|imp_trasp_var17_out_ult1|imp_trasp_var33_in_hace3|imp_trasp_var33_in_ult1|imp_trasp_var33_out_hace3|imp_trasp_var33_out_ult1|imp_venta_var44_hace3|imp_venta_var44_ult1|  ind_var7_emit_ult1| ind_var7_recib_ult1|     ind_var10_ult1|  ind_var10cte_ult1|  ind_var9_cte_ult1|      ind_var9_ult1|ind_var43_emit_ult1|ind_var43_recib_ult1|            var21|num_var2_0_ult1|num_var2_ult1|num_aport_var13_hace3|num_aport_var13_ult1|num_aport_var17_hace3|num_aport_var17_ult1|num_aport_var33_hace3|num_aport_var33_ult1|  num_var7_emit_ult1| num_var7_recib_ult1|num_compra_var44_hace3|num_compra_var44_ult1| num_ent_var16_ult1|   num_var22_hace2|   num_var22_hace3|   num_var22_ult1|    num_var22_ult3|num_med_var22_ult3|num_med_var45_ult3|num_meses_var5_ult3| num_meses_var8_ult3|num_meses_var12_ult3|num_meses_var13_corto_ult3|num_meses_var13_largo_ult3|num_meses_var13_medio_ult3|num_meses_var17_ult3|num_meses_var29_ult3|num_meses_var33_ult3|num_meses_var39_vig_ult3|num_meses_var44_ult3|num_op_var39_comer_ult1|num_op_var39_comer_ult3|num_op_var40_comer_ult1|num_op_var40_comer_ult3|num_op_var40_efect_ult1|num_op_var40_efect_ult3|num_op_var41_comer_ult1|num_op_var41_comer_ult3|num_op_var41_efect_ult1|num_op_var41_efect_ult3|num_op_var39_efect_ult1|num_op_var39_efect_ult3|num_reemb_var13_hace3|num_reemb_var13_ult1|num_reemb_var17_hace3|num_reemb_var17_ult1|num_reemb_var33_hace3|num_reemb_var33_ult1|  num_sal_var16_ult1|num_var43_emit_ult1|num_var43_recib_ult1|num_trasp_var11_ult1|num_trasp_var17_in_hace3|num_trasp_var17_in_ult1|num_trasp_var17_out_hace3|num_trasp_var17_out_ult1|num_trasp_var33_in_hace3|num_trasp_var33_in_ult1|num_trasp_var33_out_hace3|num_trasp_var33_out_ult1|num_venta_var44_hace3|num_venta_var44_ult1|   num_var45_hace2|   num_var45_hace3|   num_var45_ult1|    num_var45_ult3|saldo_var2_ult1|saldo_medio_var5_hace2|saldo_medio_var5_hace3|saldo_medio_var5_ult1|saldo_medio_var5_ult3|saldo_medio_var8_hace2|saldo_medio_var8_hace3|saldo_medio_var8_ult1|saldo_medio_var8_ult3|saldo_medio_var12_hace2|saldo_medio_var12_hace3|saldo_medio_var12_ult1|saldo_medio_var12_ult3|saldo_medio_var13_corto_hace2|saldo_medio_var13_corto_hace3|saldo_medio_var13_corto_ult1|saldo_medio_var13_corto_ult3|saldo_medio_var13_largo_hace2|saldo_medio_var13_largo_hace3|saldo_medio_var13_largo_ult1|saldo_medio_var13_largo_ult3|saldo_medio_var13_medio_hace2|saldo_medio_var13_medio_hace3|saldo_medio_var13_medio_ult1|saldo_medio_var13_medio_ult3|saldo_medio_var17_hace2|saldo_medio_var17_hace3|saldo_medio_var17_ult1|saldo_medio_var17_ult3|saldo_medio_var29_hace2|saldo_medio_var29_hace3|saldo_medio_var29_ult1|saldo_medio_var29_ult3|saldo_medio_var33_hace2|saldo_medio_var33_hace3|saldo_medio_var33_ult1|saldo_medio_var33_ult3|saldo_medio_var44_hace2|saldo_medio_var44_hace3|saldo_medio_var44_ult1|saldo_medio_var44_ult3|             var38|             TARGET|\n",
      "+-------+-------------------+------------------+------------------+-----------------------+-----------------------+-----------------------+-----------------------+-----------------------+-----------------------+-----------------+-----------------------+-----------------------+-----------------------+-----------------------+------------------+-----------------------+-----------------------+-----------------+------------------+--------------------+--------------------+----------+--------+------------------+------------------+--------------------+--------------------+--------------------+--------------------+-------------------+--------------------+-------------------+-------------------+--------------------+--------------------+--------------------+--------------------+--------------------+-------------------+-------------------+-------------------+--------------------+--------------------+--------------------+--------------------+--------------------+--------------------+--------------------+--------------------+--------------------+--------------------+--------------------+--------------------+--------------------+--------------------+--------------------+-----------+-----------+---------+---------+--------------------+--------------------+-------------------+------------------+--------------------+-------------------+--------------------+--------------------+--------------------+-------------------+--------------------+--------------------+--------------------+-------------------+-------------------+-------------------+-------------------+-------------------+--------------------+-------------------+---------+--------------------+--------------------+--------------------+-----------+---------+--------------------+--------------------+------------------+------------------+------------------+--------------------+--------------------+-------------------+-------------------+------------------+-------------------+-------------------+------------------+------------------+-------------------+--------------------+--------------------+--------------------+-------------------+-------------------+--------------------+--------------------+--------------------+--------------------+--------------------+--------------------+-------------------+------------------+-------------------+-------------------+-------------------+-------------------+-------------------+--------------------+--------------------+-------------------+-------------------+------------------+-------------------+------------------+------------------+------------------+-------------------+------------------+------------------+-----------+-----------+---------+---------+--------------------+--------------------+------------------+------------------+--------------------+-------------------+--------------------+--------------------+--------------------+--------------------+--------------------+--------------------+-----------------+-------------------+-------------------+-------------------+------------------+-------------------+--------------------+------------------+---------+--------------------+------------------+------------------+--------------------+--------------------+-----------+---------+------------------+------------------+-------------------+------------------+-----------------+------------------+-----------------+------------------+-----------------+-----------------+------------------+------------------+------------------+-----------------+-----------------+-----------------+-----------+-----------+-------------------+------------------+------------------+------------------+------------------+------------------+-----------------+------------------+-----------+------------------+-----------------+-----------+------------------+-------------------------+-------------------------+-------------------------+-------------------------+-------------------------+--------------------------+-------------------------+-------------------------+-------------------------+----------------------------+-----------------------------+----------------------------+-----------------------------+-------------------------+-------------------------+-------------------------+-------------------------+--------------------------+-------------------------+-------------------------+-------------------------+----------------------------+-----------------------------+----------------------------+-----------------------------+-------------------------+---------------------+--------------------+---------------------+--------------------+---------------------+--------------------+---------------------+--------------------+---------------------+--------------------+------------------+-------------------+----------------------+---------------------+---------------------+--------------------+---------------------+--------------------+---------------------+--------------------+-------------------+--------------------+------------------------+-----------------------+-------------------------+------------------------+------------------------+-----------------------+-------------------------+------------------------+---------------------+--------------------+--------------------+--------------------+-------------------+-------------------+-------------------+-------------------+-------------------+--------------------+-----------------+---------------+-------------+---------------------+--------------------+---------------------+--------------------+---------------------+--------------------+--------------------+--------------------+----------------------+---------------------+-------------------+------------------+------------------+-----------------+------------------+------------------+------------------+-------------------+--------------------+--------------------+--------------------------+--------------------------+--------------------------+--------------------+--------------------+--------------------+------------------------+--------------------+-----------------------+-----------------------+-----------------------+-----------------------+-----------------------+-----------------------+-----------------------+-----------------------+-----------------------+-----------------------+-----------------------+-----------------------+---------------------+--------------------+---------------------+--------------------+---------------------+--------------------+--------------------+-------------------+--------------------+--------------------+------------------------+-----------------------+-------------------------+------------------------+------------------------+-----------------------+-------------------------+------------------------+---------------------+--------------------+------------------+------------------+-----------------+------------------+---------------+----------------------+----------------------+---------------------+---------------------+----------------------+----------------------+---------------------+---------------------+-----------------------+-----------------------+----------------------+----------------------+-----------------------------+-----------------------------+----------------------------+----------------------------+-----------------------------+-----------------------------+----------------------------+----------------------------+-----------------------------+-----------------------------+----------------------------+----------------------------+-----------------------+-----------------------+----------------------+----------------------+-----------------------+-----------------------+----------------------+----------------------+-----------------------+-----------------------+----------------------+----------------------+-----------------------+-----------------------+----------------------+----------------------+------------------+-------------------+\n",
      "|  count|              76020|             76020|             76020|                  76020|                  76020|                  76020|                  76020|                  76020|                  76020|            76020|                  76020|                  76020|                  76020|                  76020|             76020|                  76020|                  76020|            76020|             76020|               76020|               76020|     76020|   76020|             76020|             76020|               76020|               76020|               76020|               76020|              76020|               76020|              76020|              76020|               76020|               76020|               76020|               76020|               76020|              76020|              76020|              76020|               76020|               76020|               76020|               76020|               76020|               76020|               76020|               76020|               76020|               76020|               76020|               76020|               76020|               76020|               76020|      76020|      76020|    76020|    76020|               76020|               76020|              76020|             76020|               76020|              76020|               76020|               76020|               76020|              76020|               76020|               76020|               76020|              76020|              76020|              76020|              76020|              76020|               76020|              76020|    76020|               76020|               76020|               76020|      76020|    76020|               76020|               76020|             76020|             76020|             76020|               76020|               76020|              76020|              76020|             76020|              76020|              76020|             76020|             76020|              76020|               76020|               76020|               76020|              76020|              76020|               76020|               76020|               76020|               76020|               76020|               76020|              76020|             76020|              76020|              76020|              76020|              76020|              76020|               76020|               76020|              76020|              76020|             76020|              76020|             76020|             76020|             76020|              76020|             76020|             76020|      76020|      76020|    76020|    76020|               76020|               76020|             76020|             76020|               76020|              76020|               76020|               76020|               76020|               76020|               76020|               76020|            76020|              76020|              76020|              76020|             76020|              76020|               76020|             76020|    76020|               76020|             76020|             76020|               76020|               76020|      76020|    76020|             76020|             76020|              76020|             76020|            76020|             76020|            76020|             76020|            76020|            76020|             76020|             76020|             76020|            76020|            76020|            76020|      76020|      76020|              76020|             76020|             76020|             76020|             76020|             76020|            76020|             76020|      76020|             76020|            76020|      76020|             76020|                    76020|                    76020|                    76020|                    76020|                    76020|                     76020|                    76020|                    76020|                    76020|                       76020|                        76020|                       76020|                        76020|                    76020|                    76020|                    76020|                    76020|                     76020|                    76020|                    76020|                    76020|                       76020|                        76020|                       76020|                        76020|                    76020|                76020|               76020|                76020|               76020|                76020|               76020|                76020|               76020|                76020|               76020|             76020|              76020|                 76020|                76020|                76020|               76020|                76020|               76020|                76020|               76020|              76020|               76020|                   76020|                  76020|                    76020|                   76020|                   76020|                  76020|                    76020|                   76020|                76020|               76020|               76020|               76020|              76020|              76020|              76020|              76020|              76020|               76020|            76020|          76020|        76020|                76020|               76020|                76020|               76020|                76020|               76020|               76020|               76020|                 76020|                76020|              76020|             76020|             76020|            76020|             76020|             76020|             76020|              76020|               76020|               76020|                     76020|                     76020|                     76020|               76020|               76020|               76020|                   76020|               76020|                  76020|                  76020|                  76020|                  76020|                  76020|                  76020|                  76020|                  76020|                  76020|                  76020|                  76020|                  76020|                76020|               76020|                76020|               76020|                76020|               76020|               76020|              76020|               76020|               76020|                   76020|                  76020|                    76020|                   76020|                   76020|                  76020|                    76020|                   76020|                76020|               76020|             76020|             76020|            76020|             76020|          76020|                 76020|                 76020|                76020|                76020|                 76020|                 76020|                76020|                76020|                  76020|                  76020|                 76020|                 76020|                        76020|                        76020|                       76020|                       76020|                        76020|                        76020|                       76020|                       76020|                        76020|                        76020|                       76020|                       76020|                  76020|                  76020|                 76020|                 76020|                  76020|                  76020|                 76020|                 76020|                  76020|                  76020|                 76020|                 76020|                  76020|                  76020|                 76020|                 76020|             76020|              76020|\n",
      "|   mean|-1523.1992765061825| 33.21286503551697| 86.20826519337017|      72.36306708760867|      119.5296322020525|     3.5591298342541435|      6.472697711128652|    0.41294632991318075|     0.5673524072612471|3.160715469613259|      68.80393725335446|     113.05693449092374|      68.20514048934493|     113.22505761641676|137.24276322020555|       68.6180868192581|       113.792410023678|140.4034786898188|5.4776756116811365|0.011457511181268087|0.003762167850565...|       0.0|     0.0|0.9580242041568009|0.6637595369639568|1.052354643514864...|2.630886608787161...|0.032833464877663775|0.028597737437516445|0.06752170481452249|0.045461720599842145|0.05224940805051302|0.04293606945540647|0.041475927387529594|0.010168376742962379|0.009997369113391212|2.630886608787161...|2.630886608787161...|0.05085503814785583|0.02365167061299658|0.00530123651670613|0.001802157327019...|0.001446987634832...|2.630886608787161...|2.630886608787161...|0.004196264141015522|0.003630623520126...| 0.00269665877400684|0.042370428834517235|0.037884767166535126|0.026427255985267035|0.024638253091291765|0.027558537227045515|0.024638253091291765|0.023638516179952645|0.023638516179952645|        0.0|        0.0|      0.0|      0.0|1.052354643514864...|2.630886608787161...| 0.9954880294659301|0.7328334648776638|0.004275190739279137|0.00367008681925809|0.001210207840042094|0.001078663509602...|0.001078663509602...|7.49802683504341E-4|6.314127861089187E-4|2.630886608787161...|2.630886608787161...|0.07229676400947119|0.06525914233096554|0.06525914233096554| 0.8807550644567219|0.01141804788213628|0.003722704551433...| 0.8792817679558012|      0.0|0.003722704551433...|0.001881083925282...|0.001696921862667719|        0.0|      0.0|0.034451460142067875|0.011325966850828728|1.0794396211523283| 2.894041041831097| 1.999171270718232|3.157063930544593...|7.892659826361483E-5|0.09853985793212312|0.08579321231254933|0.2112470402525651|0.13800315706393054|0.16771902131018154|0.1303078137332281|0.1245067087608524|0.03733228097868982|0.035240726124704025|7.892659826361483E-5|7.892659826361483E-5|0.15982636148382004|0.07269139700078926|0.016140489344909234|0.011878453038674033|0.008879242304656669|7.892659826361483E-5|7.892659826361483E-5|0.010891870560378847|0.00808997632202052| 0.127663772691397|0.11377269139700079|0.08938437253354381|0.08938437253354381|0.08516179952644042|0.08516179952644042|0.020244672454617207|0.001026045777426993|0.05702446724546172|0.07829518547750591|1.6011444356748223|0.09392265193370165|2.8588397790055247|4.5539068666140485|1.6213891081294396|0.09494869771112865|2.9158642462509867| 4.632202052091555|        0.0|        0.0|      0.0|      0.0|3.157063930544593...|7.892659826361483E-5| 3.371862667719021|2.3828729281767957|0.020126282557221785|0.01606156274664562|0.004222573007103394|0.004222573007103394|0.002565114443567482|0.002091554853985...|7.892659826361483E-5|7.892659826361483E-5|3.299368587213891|0.26353591160220996|0.41878453038674035|0.41878453038674035| 2.724940805051302|0.03429360694554065|0.011168113654301499|2.6992501973164957|      0.0|0.011168113654301499|  3.20414364640884| 2.217995264404104|0.005682715074980268|0.005090765588003157|        0.0|      0.0| 48.44910694554063|1028.4682352012633|0.41447513812154696|141.22678413575375|6021.615900947121| 4993.752970007893|1493.682269928966|0.5130228887134964|6487.948262825573|69.09620047355956|183.40589660615626| 43.40962904498816|27.399455801104974|5925.120244672454|76.08163338595111|72.73569258089978|        0.0|        0.0|0.41447513812154696|13679.673658247804| 292.2909672454618|3.3459408050513013|12.532332675611679|0.6708760852407262|36.90719376479876|4.3686018153117585|        0.0|7191.7253954222615|96.35273796369377|        0.0| 40.44907918968693|        263088.6608524073|        263088.6608524073|      4.867140223587234E7|        5130228.886430353|       131544.33014110575|         9208103.129716748|        4998684.556195738|        2630886.608510918|       131544.33042620364|           526177.3216785056|            526177.3217048146|           657721.6520520916|           131544.33042620364|        5524861.877952005|      4.867140223569017E7|        5130228.886433395|       131544.33019600104|         9208103.129768481|        4998684.556195738|        2630886.608510918|       131544.33042620364|           526177.3216785056|            526177.3217048146|           657721.6520520916|           131544.33042620364|        5524861.877986057|                  0.0| 0.23118942383583269|                  0.0| 0.01805130228887135|    2823.949089187056|   619.5850098658248|     98.7887691397001|  31.105322809786895|   2.9857932123125495| 0.04814522494080505| 2.721453827940016| 127.69820994475138|    13.964580505130227|   116.78252801894237|                  0.0|  46.180243093922655|  0.15821033938437254|  12.569400552486186|                  0.0| 0.01578531965272297|  854.1207470402528|  1932.9544317284917|      1.8748082083662196|     2.5126783741120757|                      0.0|      1.9136160220994474|      2.7897722967640095|     0.3147012628255722|                      0.0|     0.03946329913180742|    3.787136937647987|   81.43382794001579|3.946329913180741...| 0.00269665877400684|0.08087345435411734|0.09215995790581426|0.09686924493554327|0.08591160220994475|0.06658774006840305| 0.12930807682188897|32.54932912391476|            0.0|          0.0|  0.07588792423046567|0.017955801104972375| 0.001539068666140...|0.003393843725335438| 0.001065509076558...|3.157063930544593...|1.183898973954222...|0.010299921073401736|  0.001854775059194...| 0.007537490134175217|0.18796369376479874|1.2986977111286504|1.1848855564325178|0.560655090765588|3.0442383583267563| 0.635872138910813|  4.02466456195738| 1.9799789529071297|0.053604314654038414| 0.10205209155485398|       0.09892133649039726|      0.017403314917127072|      5.261773217574322...|0.002959747434885...|1.052354643514864...|0.001512759800052...|      1.5927913706919232|0.003578005787950...|     2.1947908445146016|     3.6070639305445935|     0.0749802683504341|    0.14483030781373324|   0.002486187845303867|    0.00367008681925809|     2.1198105761641672|       3.46223362273086|     0.7194159431728493|     1.2121546961325966|     0.7219021310181531|     1.2158247829518547|                  0.0|0.001499605367008682| 3.946329913180741...|0.001183898973954...|                  0.0|3.946329913180741...|0.004932912391475927|0.39281767955801106|  0.8149960536700869| 0.12067876874506708|    1.183898973954222...|   1.578531965272296...|                      0.0|    1.578531965272296...|    2.367797947908445...|   2.367797947908445...|                      0.0|    3.946329913180741...| 1.578531965272296...|0.004419889502762431| 5.393212312549329|3.8943962115232833|4.363496448303078|13.651104972375691|            0.0|     1579.135311365434|     891.3658634569586|   1077.2567557221794|    1048.856447119174|     68.27545185477506|      9.50528689818469|   124.62096172059977|   110.02657537490137|      3997.023327940017|      613.5344431728494|     5703.008172454617|     4401.002439226523|           3639.4199392265195|            556.1841779794794|           4852.261813733227|          3857.8485422257318|            771.2274490923442|           162.17043883188632|           956.9502071823202|           750.9562730860297|          0.17532438831886346|                          0.0|          0.5130228887134964|          0.3441740331491713|      91.17181057616416|     36.463183504340975|    131.03156590370955|    109.21694356748223|    0.21307103393843724|   0.001910023677979479|   0.25390686661404893|   0.18662983425414365|      7.935823993685873|     1.3651460142067877|    12.215579715864248|     8.784074191002368|      31.50532438831886|     1.8585749802683504|     76.02616535122336|     56.61435122336228|117235.80943035988| 0.0395685345961589|\n",
      "| stddev|  39033.46236386333|12.956485816411226|1614.7573127238231|     339.31583090662576|      546.2662940572903|      93.15574870597051|     153.73706555483875|     30.604863766118697|     36.513513214598326|95.26820436513137|      319.6055161935654|      512.1548226015157|      531.8979171800803|       950.086397947145| 697.7125960738256|      535.4737496303787|      953.5786239926582|712.7672396850874| 465.3911486143622| 0.10642549323813502|  0.0612214280074944|       0.0|     0.0| 0.200535177471687|0.4724253908664895|0.010257961495049954|0.005129183171334563|  0.1782017008671452|  0.1666741500194409| 0.2509249936548106| 0.20831592210738675| 0.2225310288862692|0.20271434076456346| 0.19938956292924634| 0.10032503804252478| 0.09948644088963024|0.005129183171334572|0.005129183171334572|  0.219703068253334|0.15196240607437908| 0.0726168215642414| 0.04241383288426634|  0.0380120095315567|0.005129183171334574|0.005129183171334574|   0.064642946071799| 0.06014557073473624|0.051859639251420404|  0.2014341315302553| 0.19091880751314064| 0.16040322496547135| 0.15502104920621884| 0.16370527414865024| 0.15502104920621884| 0.15192116487707694| 0.15192116487707694|        0.0|        0.0|      0.0|      0.0|0.010257961495049954|0.005129183171334563|0.06701993540257138| 0.442482941088892|  0.0652454556382431|0.06047036781231904| 0.03476721354332463| 0.03282551094383418| 0.03282551094383418|0.02737243751300777| 0.02512015932959862|0.005129183171334571|0.005129183171334571|0.25898035485707466|0.24698418797414942|0.24698418797414942|0.32407863623001065|0.10624417419148123|0.060900696306897865|0.32580168323147674|      0.0|0.060900696306897865|0.043330937526433196|0.041159016063544614|        0.0|      0.0|  0.3203785060085554|  0.1846262473630797|0.9095657237439615|0.6564789677141972|1.4319015296755797|  0.0307738844851501|0.015387549514003791| 0.5349299151581228| 0.5000224500583234|0.8902359673816064| 0.6372586540676302| 0.7458218155768288|0.6188262959176156|0.5987457566978134|0.40482187850872725|   0.381372635807546|0.015387549514003757|0.015387549514003757| 0.7130222010222591| 0.6108150135112799| 0.22426018898283592| 0.36248007772075785| 0.28876830440741597|0.015387549514003682|0.015387549514003682|  0.1804367122042093|0.15557891775426122|0.6084815909828906| 0.5736623721672224| 0.6285962395145609| 0.6285962395145609| 0.6121096352602363| 0.6121096352602363|  0.8976177156007861| 0.18076224365765836| 1.8273735550842054|  2.558215975166821| 7.322004216980756| 1.2152178380184726| 10.88631352532504|16.891800706403764| 7.389538587706936| 1.2285099275765807|11.112898760745827|17.175900018588244|        0.0|        0.0|      0.0|      0.0|  0.0307738844851501|0.015387549514003791|1.3366536576034895|1.6427865621462867| 0.40662386070786444| 0.3316089069936072| 0.13970239682751637| 0.13970239682751637| 0.10145677240156388|  0.0863382128094128|  0.0153875495140037|  0.0153875495140037|2.868216626890094| 1.6502734099741074| 2.2411408753325683| 2.2411408753325683|1.1391586014845538|0.31928496700439946| 0.18270208892069453|1.1052967291810685|      0.0| 0.18270208892069453|0.9441228089837151|1.4977033439283352| 0.13135013787843194| 0.12347704819063361|        0.0|      0.0|10937.473019109886| 9852.140072527221|  83.09679698652012|2515.6563021251172| 48144.7139698487|32619.134245103658|20016.48914852264|113.59755883712096| 38416.7539674215|2839.618964458056| 22698.12995505968|10934.966158835825|2477.8107436355663|48008.52934166355| 739.776626037471|726.8826687778514|        0.0|        0.0|  83.09679698652012| 63014.07814239112|23316.398822034647|126.68015248046406| 797.8395567059795|141.44859764285644|472.0988629483023| 113.9687563239742|        0.0| 49145.31387851227|5218.428364852782|        0.0|47.362719151109296|      5.129183170821647E7|     5.1291831708216384E7|      6.959536539899071E8|     2.2644346784096846E8|      3.626904057361562E7|      3.0331081797425795E8|     2.2352296512492138E8|     1.6217980919332212E8|      3.626904057361453E7|         7.253664981828205E7|          7.253664981828187E7|         8.109790649506775E7|          3.626904057361453E7|     2.3498685292372084E8|      6.959536539899193E8|     2.2644346784096843E8|      3.626904057361545E7|       3.033108179742564E8|     2.2352296512492138E8|     1.6217980919332212E8|      3.626904057361453E7|         7.253664981828205E7|          7.253664981828187E7|         8.109790649506775E7|          3.626904057361453E7|     2.3498685292372003E8|                  0.0|   57.32095849552559|                  0.0|   4.099461294591174|    25334.46810636832|  11252.995089336508|     22120.7191637133|  2457.0912823059343|   226.86298366620397|   6.022692400223035| 554.2494365228584|  6368.996730956748|    1151.5108617094334|   13620.442171747223|                  0.0|  2859.7365909910504|   43.621319137856865|   1093.133882728578|                  0.0|   4.352284869268953| 14255.888099873255|  25355.717429236884|      388.24502179649005|     508.96883064358076|                      0.0|      357.40532967611637|       323.8142610312041|      53.40808459934798|                      0.0|      10.880712173172471|    811.9760864660012|   11282.41338601116|0.006281899464612409|0.051859639251420585|0.27264247019765303|0.28925352316689884| 0.2957815835370624| 0.2802353151503016|0.24930830421370248|  0.3355428126703074| 393.834939489818|            0.0|          0.0|   0.5524991392519588| 0.28875654708835297|  0.10491919047483446|  0.1740594556289026|  0.06966286184873968|0.034406610932219577| 0.01884569839383727|  0.2287822648119923|   0.09911130364373216|  0.31545268893275874| 0.9950163691186783|3.4502675115608916|3.2633331684280202|2.104410084492389|  6.20611585538469| 1.835267013349665|10.930333686731586| 1.2989240035838077|  0.3349083006852164| 0.48768735851066075|       0.48606398003072177|       0.21309476012370354|      0.010258366342669144| 0.07764794893007902| 0.01357031357581152| 0.06248703493544903|      0.7196546093966083|  0.0881743982609712|      9.131405659617325|      14.91972565740487|      2.089408332122335|      4.288144677326987|     0.1471715156244951|    0.20206826119030513|      8.799494284495983|     14.140650328829036|     3.2109992752242897|      5.160396257938065|     3.2263144199442637|      5.181091548657118|                  0.0| 0.06705688954418229|  0.01088071217317241| 0.09852257434592597|                  0.0|0.010880712173172456| 0.15494880242557493| 2.2158531336590657|  3.5576596805402394|  1.1721482093645936|    0.024329884041796302|    0.02176099494766073|                      0.0|      0.0217609949476607|     0.02665131635020293|   0.030774592974308918|                      0.0|    0.010880712173172453|  0.02665190069484509|  0.2642563577907936|14.496095435576779| 10.41682123933776|14.40648479412076| 33.30401217924143|            0.0|     12148.45239841831|     9888.596999748348|    9614.906985285335|    8189.948852342305|     1733.838225812453|      519.389156902327|    2205.249803698204|   1935.3057132601132|      37773.13899698369|      9292.752725961012|     46202.53670003154|    35507.183164507245|            26359.17422269173|            7182.642532490863|           31886.61518891431|          25572.245054899035|           13082.155867241254|           4698.8680753684375|          16006.980565275106|          12422.518373492638|            34.62551835279823|                          0.0|          113.59755883712096|           73.37651278520282|     15392.475711616602|       8612.39521232997|    14956.526225630794|    13082.157458258891|      41.82044445214997|     0.5266264691815457|     52.07877538036457|    31.879418036269087|     455.88721798807876|     113.95963725464276|     783.2073988969236|     538.4392105449973|     2013.1253926380525|     147.78658417851835|    4040.3378419073033|    2852.5793973583172|182664.59850287254|0.19494451923252235|\n",
      "|    min|          -999999.0|               5.0|               0.0|                    0.0|                    0.0|                    0.0|                    0.0|                    0.0|                    0.0|              0.0|                    0.0|                    0.0|                    0.0|                    0.0|               0.0|                    0.0|                    0.0|              0.0|               0.0|                 0.0|                 0.0|       0.0|     0.0|               0.0|               0.0|                 0.0|                 0.0|                 0.0|                 0.0|                0.0|                 0.0|                0.0|                0.0|                 0.0|                 0.0|                 0.0|                 0.0|                 0.0|                0.0|                0.0|                0.0|                 0.0|                 0.0|                 0.0|                 0.0|                 0.0|                 0.0|                 0.0|                 0.0|                 0.0|                 0.0|                 0.0|                 0.0|                 0.0|                 0.0|                 0.0|        0.0|        0.0|      0.0|      0.0|                 0.0|                 0.0|                0.0|               0.0|                 0.0|                0.0|                 0.0|                 0.0|                 0.0|                0.0|                 0.0|                 0.0|                 0.0|                0.0|                0.0|                0.0|                0.0|                0.0|                 0.0|                0.0|      0.0|                 0.0|                 0.0|                 0.0|        0.0|      0.0|                 0.0|                 0.0|               0.0|               0.0|               0.0|                 0.0|                 0.0|                0.0|                0.0|               0.0|                0.0|                0.0|               0.0|               0.0|                0.0|                 0.0|                 0.0|                 0.0|                0.0|                0.0|                 0.0|                 0.0|                 0.0|                 0.0|                 0.0|                 0.0|                0.0|               0.0|                0.0|                0.0|                0.0|                0.0|                0.0|                 0.0|                 0.0|                0.0|                0.0|               0.0|                0.0|               0.0|               0.0|               0.0|                0.0|               0.0|               0.0|        0.0|        0.0|      0.0|      0.0|                 0.0|                 0.0|               0.0|               0.0|                 0.0|                0.0|                 0.0|                 0.0|                 0.0|                 0.0|                 0.0|                 0.0|              0.0|                0.0|                0.0|                0.0|               0.0|                0.0|                 0.0|               0.0|      0.0|                 0.0|               0.0|               0.0|                 0.0|                 0.0|        0.0|      0.0|              -0.9|          -2895.72|                0.0|          -4942.26|              0.0|               0.0|              0.0|               0.0|              0.0|              0.0|               0.0|               0.0|               0.0|              0.0|              0.0|              0.0|        0.0|        0.0|                0.0|          -4942.26|               0.0|               0.0|               0.0|               0.0|              0.0|              -0.9|        0.0|          -4942.26|              0.0|        0.0|               0.0|                      0.0|                      0.0|                     -1.0|                     -1.0|                     -1.0|                      -1.0|                      0.0|                     -1.0|                      0.0|                        -1.0|                          0.0|                        -1.0|                          0.0|                     -1.0|                     -1.0|                     -1.0|                     -1.0|                      -1.0|                      0.0|                     -1.0|                      0.0|                        -1.0|                          0.0|                        -1.0|                          0.0|                     -1.0|                  0.0|                 0.0|                  0.0|                 0.0|                  0.0|                 0.0|                  0.0|                 0.0|                  0.0|                 0.0|               0.0|                0.0|                   0.0|                  0.0|                  0.0|                 0.0|                  0.0|                 0.0|                  0.0|                 0.0|                0.0|                 0.0|                     0.0|                    0.0|                      0.0|                     0.0|                     0.0|                    0.0|                      0.0|                     0.0|                  0.0|                 0.0|                 0.0|                 0.0|                0.0|                0.0|                0.0|                0.0|                0.0|                 0.0|              0.0|            0.0|          0.0|                  0.0|                 0.0|                  0.0|                 0.0|                  0.0|                 0.0|                 0.0|                 0.0|                   0.0|                  0.0|                0.0|               0.0|               0.0|              0.0|               0.0|               0.0|               0.0|                0.0|                 0.0|                 0.0|                       0.0|                       0.0|                       0.0|                 0.0|                 0.0|                 0.0|                     0.0|                 0.0|                    0.0|                    0.0|                    0.0|                    0.0|                    0.0|                    0.0|                    0.0|                    0.0|                    0.0|                    0.0|                    0.0|                    0.0|                  0.0|                 0.0|                  0.0|                 0.0|                  0.0|                 0.0|                 0.0|                0.0|                 0.0|                 0.0|                     0.0|                    0.0|                      0.0|                     0.0|                     0.0|                    0.0|                      0.0|                     0.0|                  0.0|                 0.0|               0.0|               0.0|              0.0|               0.0|            0.0|               -128.37|                 -8.04|              -922.38|              -476.07|               -287.67|                   0.0|             -3401.34|             -1844.52|                    0.0|                    0.0|                   0.0|                   0.0|                          0.0|                          0.0|                         0.0|                         0.0|                          0.0|                          0.0|                         0.0|                         0.0|                          0.0|                          0.0|                         0.0|                         0.0|                  -0.03|                    0.0|                   0.0|                   0.0|                    0.0|                    0.0|                   0.0|                   0.0|                    0.0|                    0.0|                   0.0|                   0.0|                    0.0|                    0.0|                   0.0|                   0.0|           5163.75|                0.0|\n",
      "|    max|              238.0|             105.0|          210000.0|               12888.03|               21024.81|                8237.82|               11073.57|                 6600.0|                 6600.0|          8237.82|               12888.03|               16566.81|                45990.0|               131100.0|          47598.09|                45990.0|               131100.0|         47598.09|          105000.0|                 1.0|                 1.0|       0.0|     0.0|               1.0|               1.0|                 1.0|                 1.0|                 1.0|                 1.0|                1.0|                 1.0|                1.0|                1.0|                 1.0|                 1.0|                 1.0|                 1.0|                 1.0|                1.0|                1.0|                1.0|                 1.0|                 1.0|                 1.0|                 1.0|                 1.0|                 1.0|                 1.0|                 1.0|                 1.0|                 1.0|                 1.0|                 1.0|                 1.0|                 1.0|                 1.0|        0.0|        0.0|      0.0|      0.0|                 1.0|                 1.0|                1.0|               1.0|                 1.0|                1.0|                 1.0|                 1.0|                 1.0|                1.0|                 1.0|                 1.0|                 1.0|                1.0|                1.0|                1.0|                1.0|                1.0|                 1.0|                1.0|      0.0|                 1.0|                 1.0|                 1.0|        0.0|      0.0|                 6.0|                 6.0|               7.0|              15.0|              15.0|                 3.0|                 3.0|                6.0|                3.0|             111.0|               15.0|               18.0|               6.0|               6.0|               18.0|                18.0|                 3.0|                 3.0|               18.0|              111.0|                12.0|                36.0|                27.0|                 3.0|                 3.0|                 3.0|                3.0|               9.0|                6.0|               33.0|               33.0|               33.0|               33.0|               117.0|                48.0|              234.0|              351.0|             249.0|               81.0|             468.0|             468.0|             249.0|               81.0|             468.0|             468.0|        0.0|        0.0|      0.0|      0.0|                 3.0|                 3.0|             114.0|              33.0|                36.0|               27.0|                12.0|                12.0|                12.0|                 6.0|                 3.0|                 3.0|             36.0|              105.0|              114.0|              114.0|              33.0|                6.0|                 3.0|              33.0|      0.0|                 3.0|             114.0|              18.0|                 6.0|                 3.0|        0.0|      0.0|         3000000.0|         619329.15|            19531.8|          240045.0|       3008077.32|          450000.0|        1500000.0|           30000.0|        1500000.0|         450000.0|        6119500.14|         3000000.0|         455858.16|       3008077.32|         69756.72|         69756.72|        0.0|        0.0|            19531.8|        3458077.32|        6119500.14|          12210.78|          142078.8|           36000.0|          60000.0|           8192.61|        0.0|        3008077.32|        740006.61|        0.0|              99.0|            9.999999999E9|            9.999999999E9|            9.999999999E9|            9.999999999E9|            9.999999999E9|             9.999999999E9|            9.999999999E9|            9.999999999E9|            9.999999999E9|               9.999999999E9|                9.999999999E9|               9.999999999E9|                9.999999999E9|            9.999999999E9|            9.999999999E9|            9.999999999E9|            9.999999999E9|             9.999999999E9|            9.999999999E9|            9.999999999E9|            9.999999999E9|               9.999999999E9|                9.999999999E9|               9.999999999E9|                9.999999999E9|            9.999999999E9|                  0.0|             15691.8|                  0.0|             1096.02|             840000.0|            450000.0|           6083691.87|           432457.32|              36000.0|              1260.0|         145384.92|          1039260.0|             210001.35|           3410058.66|                  0.0|            450000.0|             12027.15|           182132.97|                  0.0|              1200.0|          1155003.0|           2310003.0|                96781.44|              133730.58|                      0.0|                69622.29|                49581.27|               13207.32|                      0.0|                  3000.0|             209834.4|          2754476.46|                 1.0|                 1.0|                1.0|                1.0|                1.0|                1.0|                1.0|                 1.0|          30000.0|            0.0|          0.0|                 24.0|                30.0|                 12.0|                21.0|                 12.0|                 6.0|                 3.0|                24.0|                   9.0|                 39.0|               60.0|             123.0|             108.0|             96.0|             234.0|              78.0|             267.0|                3.0|                 3.0|                 3.0|                       3.0|                       3.0|                       2.0|                 3.0|                 2.0|                 3.0|                     3.0|                 3.0|                  438.0|                  600.0|                  210.0|                  582.0|                   24.0|                   24.0|                  438.0|                  438.0|                   90.0|                  156.0|                   90.0|                  156.0|                  0.0|                 3.0|                  3.0|                21.0|                  0.0|                 3.0|                15.0|              180.0|               264.0|                93.0|                     6.0|                    3.0|                      0.0|                     3.0|                     3.0|                    6.0|                      0.0|                     3.0|                  6.0|                39.0|             342.0|             339.0|            510.0|             801.0|            0.0|             812137.26|            1542339.36|             601428.6|            544365.57|             231351.99|              77586.21|             228031.8|             177582.0|             3000538.14|              668335.32|             3004185.6|            2272859.43|                     450000.0|                     304838.7|                    450000.0|                    450000.0|                     840000.0|                     534000.0|                   1500000.0|                  1034482.74|                      7741.95|                          0.0|                     30000.0|                    18870.99|             4210084.23|             2368558.95|            3998687.46|            3525776.88|               10430.01|                  145.2|              13793.67|               7331.34|               50003.88|               20385.72|             138831.63|              91778.73|              438329.22|               24650.01|              681462.9|              397884.3|     2.203473876E7|                1.0|\n",
      "+-------+-------------------+------------------+------------------+-----------------------+-----------------------+-----------------------+-----------------------+-----------------------+-----------------------+-----------------+-----------------------+-----------------------+-----------------------+-----------------------+------------------+-----------------------+-----------------------+-----------------+------------------+--------------------+--------------------+----------+--------+------------------+------------------+--------------------+--------------------+--------------------+--------------------+-------------------+--------------------+-------------------+-------------------+--------------------+--------------------+--------------------+--------------------+--------------------+-------------------+-------------------+-------------------+--------------------+--------------------+--------------------+--------------------+--------------------+--------------------+--------------------+--------------------+--------------------+--------------------+--------------------+--------------------+--------------------+--------------------+--------------------+-----------+-----------+---------+---------+--------------------+--------------------+-------------------+------------------+--------------------+-------------------+--------------------+--------------------+--------------------+-------------------+--------------------+--------------------+--------------------+-------------------+-------------------+-------------------+-------------------+-------------------+--------------------+-------------------+---------+--------------------+--------------------+--------------------+-----------+---------+--------------------+--------------------+------------------+------------------+------------------+--------------------+--------------------+-------------------+-------------------+------------------+-------------------+-------------------+------------------+------------------+-------------------+--------------------+--------------------+--------------------+-------------------+-------------------+--------------------+--------------------+--------------------+--------------------+--------------------+--------------------+-------------------+------------------+-------------------+-------------------+-------------------+-------------------+-------------------+--------------------+--------------------+-------------------+-------------------+------------------+-------------------+------------------+------------------+------------------+-------------------+------------------+------------------+-----------+-----------+---------+---------+--------------------+--------------------+------------------+------------------+--------------------+-------------------+--------------------+--------------------+--------------------+--------------------+--------------------+--------------------+-----------------+-------------------+-------------------+-------------------+------------------+-------------------+--------------------+------------------+---------+--------------------+------------------+------------------+--------------------+--------------------+-----------+---------+------------------+------------------+-------------------+------------------+-----------------+------------------+-----------------+------------------+-----------------+-----------------+------------------+------------------+------------------+-----------------+-----------------+-----------------+-----------+-----------+-------------------+------------------+------------------+------------------+------------------+------------------+-----------------+------------------+-----------+------------------+-----------------+-----------+------------------+-------------------------+-------------------------+-------------------------+-------------------------+-------------------------+--------------------------+-------------------------+-------------------------+-------------------------+----------------------------+-----------------------------+----------------------------+-----------------------------+-------------------------+-------------------------+-------------------------+-------------------------+--------------------------+-------------------------+-------------------------+-------------------------+----------------------------+-----------------------------+----------------------------+-----------------------------+-------------------------+---------------------+--------------------+---------------------+--------------------+---------------------+--------------------+---------------------+--------------------+---------------------+--------------------+------------------+-------------------+----------------------+---------------------+---------------------+--------------------+---------------------+--------------------+---------------------+--------------------+-------------------+--------------------+------------------------+-----------------------+-------------------------+------------------------+------------------------+-----------------------+-------------------------+------------------------+---------------------+--------------------+--------------------+--------------------+-------------------+-------------------+-------------------+-------------------+-------------------+--------------------+-----------------+---------------+-------------+---------------------+--------------------+---------------------+--------------------+---------------------+--------------------+--------------------+--------------------+----------------------+---------------------+-------------------+------------------+------------------+-----------------+------------------+------------------+------------------+-------------------+--------------------+--------------------+--------------------------+--------------------------+--------------------------+--------------------+--------------------+--------------------+------------------------+--------------------+-----------------------+-----------------------+-----------------------+-----------------------+-----------------------+-----------------------+-----------------------+-----------------------+-----------------------+-----------------------+-----------------------+-----------------------+---------------------+--------------------+---------------------+--------------------+---------------------+--------------------+--------------------+-------------------+--------------------+--------------------+------------------------+-----------------------+-------------------------+------------------------+------------------------+-----------------------+-------------------------+------------------------+---------------------+--------------------+------------------+------------------+-----------------+------------------+---------------+----------------------+----------------------+---------------------+---------------------+----------------------+----------------------+---------------------+---------------------+-----------------------+-----------------------+----------------------+----------------------+-----------------------------+-----------------------------+----------------------------+----------------------------+-----------------------------+-----------------------------+----------------------------+----------------------------+-----------------------------+-----------------------------+----------------------------+----------------------------+-----------------------+-----------------------+----------------------+----------------------+-----------------------+-----------------------+----------------------+----------------------+-----------------------+-----------------------+----------------------+----------------------+-----------------------+-----------------------+----------------------+----------------------+------------------+-------------------+\n",
      "\n"
     ]
    },
    {
     "data": {
      "text/plain": [
       "None"
      ]
     },
     "metadata": {},
     "output_type": "display_data"
    }
   ],
   "source": [
    "display(sandanderDF.describe().show())"
   ]
  },
  {
   "cell_type": "code",
   "execution_count": 12,
   "id": "4a5fb24e",
   "metadata": {
    "scrolled": true
   },
   "outputs": [
    {
     "data": {
      "text/plain": [
       "[Row(var3=2.0, var15=23.0, imp_ent_var16_ult1=0.0, imp_op_var39_comer_ult1=0.0, imp_op_var39_comer_ult3=0.0, imp_op_var40_comer_ult1=0.0, imp_op_var40_comer_ult3=0.0, imp_op_var40_efect_ult1=0.0, imp_op_var40_efect_ult3=0.0, imp_op_var40_ult1=0.0, imp_op_var41_comer_ult1=0.0, imp_op_var41_comer_ult3=0.0, imp_op_var41_efect_ult1=0.0, imp_op_var41_efect_ult3=0.0, imp_op_var41_ult1=0.0, imp_op_var39_efect_ult1=0.0, imp_op_var39_efect_ult3=0.0, imp_op_var39_ult1=0.0, imp_sal_var16_ult1=0.0, ind_var1_0=0.0, ind_var1=0.0, ind_var2_0=0.0, ind_var2=0.0, ind_var5_0=1.0, ind_var5=0.0, ind_var6_0=0.0, ind_var6=0.0, ind_var8_0=0.0, ind_var8=0.0, ind_var12_0=0.0, ind_var12=0.0, ind_var13_0=0.0, ind_var13_corto_0=0.0, ind_var13_corto=0.0, ind_var13_largo_0=0.0, ind_var13_largo=0.0, ind_var13_medio_0=0.0, ind_var13_medio=0.0, ind_var13=0.0, ind_var14_0=0.0, ind_var14=0.0, ind_var17_0=0.0, ind_var17=0.0, ind_var18_0=0.0, ind_var18=0.0, ind_var19=0.0, ind_var20_0=0.0, ind_var20=0.0, ind_var24_0=0.0, ind_var24=0.0, ind_var25_cte=0.0, ind_var26_0=0.0, ind_var26_cte=0.0, ind_var26=0.0, ind_var25_0=0.0, ind_var25=0.0, ind_var27_0=0.0, ind_var28_0=0.0, ind_var28=0.0, ind_var27=0.0, ind_var29_0=0.0, ind_var29=0.0, ind_var30_0=1.0, ind_var30=0.0, ind_var31_0=0.0, ind_var31=0.0, ind_var32_cte=0.0, ind_var32_0=0.0, ind_var32=0.0, ind_var33_0=0.0, ind_var33=0.0, ind_var34_0=0.0, ind_var34=0.0, ind_var37_cte=0.0, ind_var37_0=0.0, ind_var37=0.0, ind_var39_0=1.0, ind_var40_0=0.0, ind_var40=0.0, ind_var41_0=1.0, ind_var41=0.0, ind_var39=0.0, ind_var44_0=0.0, ind_var44=0.0, ind_var46_0=0.0, ind_var46=0.0, num_var1_0=0.0, num_var1=0.0, num_var4=0.0, num_var5_0=3.0, num_var5=0.0, num_var6_0=0.0, num_var6=0.0, num_var8_0=0.0, num_var8=0.0, num_var12_0=0.0, num_var12=0.0, num_var13_0=0.0, num_var13_corto_0=0.0, num_var13_corto=0.0, num_var13_largo_0=0.0, num_var13_largo=0.0, num_var13_medio_0=0.0, num_var13_medio=0.0, num_var13=0.0, num_var14_0=0.0, num_var14=0.0, num_var17_0=0.0, num_var17=0.0, num_var18_0=0.0, num_var18=0.0, num_var20_0=0.0, num_var20=0.0, num_var24_0=0.0, num_var24=0.0, num_var26_0=0.0, num_var26=0.0, num_var25_0=0.0, num_var25=0.0, num_op_var40_hace2=0.0, num_op_var40_hace3=0.0, num_op_var40_ult1=0.0, num_op_var40_ult3=0.0, num_op_var41_hace2=0.0, num_op_var41_hace3=0.0, num_op_var41_ult1=0.0, num_op_var41_ult3=0.0, num_op_var39_hace2=0.0, num_op_var39_hace3=0.0, num_op_var39_ult1=0.0, num_op_var39_ult3=0.0, num_var27_0=0.0, num_var28_0=0.0, num_var28=0.0, num_var27=0.0, num_var29_0=0.0, num_var29=0.0, num_var30_0=3.0, num_var30=0.0, num_var31_0=0.0, num_var31=0.0, num_var32_0=0.0, num_var32=0.0, num_var33_0=0.0, num_var33=0.0, num_var34_0=0.0, num_var34=0.0, num_var35=0.0, num_var37_med_ult2=0.0, num_var37_0=0.0, num_var37=0.0, num_var39_0=3.0, num_var40_0=0.0, num_var40=0.0, num_var41_0=3.0, num_var41=0.0, num_var39=0.0, num_var42_0=3.0, num_var42=0.0, num_var44_0=0.0, num_var44=0.0, num_var46_0=0.0, num_var46=0.0, saldo_var1=0.0, saldo_var5=0.0, saldo_var6=0.0, saldo_var8=0.0, saldo_var12=0.0, saldo_var13_corto=0.0, saldo_var13_largo=0.0, saldo_var13_medio=0.0, saldo_var13=0.0, saldo_var14=0.0, saldo_var17=0.0, saldo_var18=0.0, saldo_var20=0.0, saldo_var24=0.0, saldo_var26=0.0, saldo_var25=0.0, saldo_var28=0.0, saldo_var27=0.0, saldo_var29=0.0, saldo_var30=0.0, saldo_var31=0.0, saldo_var32=0.0, saldo_var33=0.0, saldo_var34=0.0, saldo_var37=0.0, saldo_var40=0.0, saldo_var41=0.0, saldo_var42=0.0, saldo_var44=0.0, saldo_var46=0.0, var36=99.0, delta_imp_amort_var18_1y3=0.0, delta_imp_amort_var34_1y3=0.0, delta_imp_aport_var13_1y3=0.0, delta_imp_aport_var17_1y3=0.0, delta_imp_aport_var33_1y3=0.0, delta_imp_compra_var44_1y3=0.0, delta_imp_reemb_var13_1y3=0.0, delta_imp_reemb_var17_1y3=0.0, delta_imp_reemb_var33_1y3=0.0, delta_imp_trasp_var17_in_1y3=0.0, delta_imp_trasp_var17_out_1y3=0.0, delta_imp_trasp_var33_in_1y3=0.0, delta_imp_trasp_var33_out_1y3=0.0, delta_imp_venta_var44_1y3=0.0, delta_num_aport_var13_1y3=0.0, delta_num_aport_var17_1y3=0.0, delta_num_aport_var33_1y3=0.0, delta_num_compra_var44_1y3=0.0, delta_num_reemb_var13_1y3=0.0, delta_num_reemb_var17_1y3=0.0, delta_num_reemb_var33_1y3=0.0, delta_num_trasp_var17_in_1y3=0.0, delta_num_trasp_var17_out_1y3=0.0, delta_num_trasp_var33_in_1y3=0.0, delta_num_trasp_var33_out_1y3=0.0, delta_num_venta_var44_1y3=0.0, imp_amort_var18_hace3=0.0, imp_amort_var18_ult1=0.0, imp_amort_var34_hace3=0.0, imp_amort_var34_ult1=0.0, imp_aport_var13_hace3=0.0, imp_aport_var13_ult1=0.0, imp_aport_var17_hace3=0.0, imp_aport_var17_ult1=0.0, imp_aport_var33_hace3=0.0, imp_aport_var33_ult1=0.0, imp_var7_emit_ult1=0.0, imp_var7_recib_ult1=0.0, imp_compra_var44_hace3=0.0, imp_compra_var44_ult1=0.0, imp_reemb_var13_hace3=0.0, imp_reemb_var13_ult1=0.0, imp_reemb_var17_hace3=0.0, imp_reemb_var17_ult1=0.0, imp_reemb_var33_hace3=0.0, imp_reemb_var33_ult1=0.0, imp_var43_emit_ult1=0.0, imp_trans_var37_ult1=0.0, imp_trasp_var17_in_hace3=0.0, imp_trasp_var17_in_ult1=0.0, imp_trasp_var17_out_hace3=0.0, imp_trasp_var17_out_ult1=0.0, imp_trasp_var33_in_hace3=0.0, imp_trasp_var33_in_ult1=0.0, imp_trasp_var33_out_hace3=0.0, imp_trasp_var33_out_ult1=0.0, imp_venta_var44_hace3=0.0, imp_venta_var44_ult1=0.0, ind_var7_emit_ult1=0.0, ind_var7_recib_ult1=0.0, ind_var10_ult1=0.0, ind_var10cte_ult1=0.0, ind_var9_cte_ult1=0.0, ind_var9_ult1=0.0, ind_var43_emit_ult1=0.0, ind_var43_recib_ult1=0.0, var21=0.0, num_var2_0_ult1=0.0, num_var2_ult1=0.0, num_aport_var13_hace3=0.0, num_aport_var13_ult1=0.0, num_aport_var17_hace3=0.0, num_aport_var17_ult1=0.0, num_aport_var33_hace3=0.0, num_aport_var33_ult1=0.0, num_var7_emit_ult1=0.0, num_var7_recib_ult1=0.0, num_compra_var44_hace3=0.0, num_compra_var44_ult1=0.0, num_ent_var16_ult1=0.0, num_var22_hace2=0.0, num_var22_hace3=0.0, num_var22_ult1=0.0, num_var22_ult3=0.0, num_med_var22_ult3=0.0, num_med_var45_ult3=0.0, num_meses_var5_ult3=0.0, num_meses_var8_ult3=0.0, num_meses_var12_ult3=0.0, num_meses_var13_corto_ult3=0.0, num_meses_var13_largo_ult3=0.0, num_meses_var13_medio_ult3=0.0, num_meses_var17_ult3=0.0, num_meses_var29_ult3=0.0, num_meses_var33_ult3=0.0, num_meses_var39_vig_ult3=2.0, num_meses_var44_ult3=0.0, num_op_var39_comer_ult1=0.0, num_op_var39_comer_ult3=0.0, num_op_var40_comer_ult1=0.0, num_op_var40_comer_ult3=0.0, num_op_var40_efect_ult1=0.0, num_op_var40_efect_ult3=0.0, num_op_var41_comer_ult1=0.0, num_op_var41_comer_ult3=0.0, num_op_var41_efect_ult1=0.0, num_op_var41_efect_ult3=0.0, num_op_var39_efect_ult1=0.0, num_op_var39_efect_ult3=0.0, num_reemb_var13_hace3=0.0, num_reemb_var13_ult1=0.0, num_reemb_var17_hace3=0.0, num_reemb_var17_ult1=0.0, num_reemb_var33_hace3=0.0, num_reemb_var33_ult1=0.0, num_sal_var16_ult1=0.0, num_var43_emit_ult1=0.0, num_var43_recib_ult1=0.0, num_trasp_var11_ult1=0.0, num_trasp_var17_in_hace3=0.0, num_trasp_var17_in_ult1=0.0, num_trasp_var17_out_hace3=0.0, num_trasp_var17_out_ult1=0.0, num_trasp_var33_in_hace3=0.0, num_trasp_var33_in_ult1=0.0, num_trasp_var33_out_hace3=0.0, num_trasp_var33_out_ult1=0.0, num_venta_var44_hace3=0.0, num_venta_var44_ult1=0.0, num_var45_hace2=0.0, num_var45_hace3=0.0, num_var45_ult1=0.0, num_var45_ult3=0.0, saldo_var2_ult1=0.0, saldo_medio_var5_hace2=0.0, saldo_medio_var5_hace3=0.0, saldo_medio_var5_ult1=0.0, saldo_medio_var5_ult3=0.0, saldo_medio_var8_hace2=0.0, saldo_medio_var8_hace3=0.0, saldo_medio_var8_ult1=0.0, saldo_medio_var8_ult3=0.0, saldo_medio_var12_hace2=0.0, saldo_medio_var12_hace3=0.0, saldo_medio_var12_ult1=0.0, saldo_medio_var12_ult3=0.0, saldo_medio_var13_corto_hace2=0.0, saldo_medio_var13_corto_hace3=0.0, saldo_medio_var13_corto_ult1=0.0, saldo_medio_var13_corto_ult3=0.0, saldo_medio_var13_largo_hace2=0.0, saldo_medio_var13_largo_hace3=0.0, saldo_medio_var13_largo_ult1=0.0, saldo_medio_var13_largo_ult3=0.0, saldo_medio_var13_medio_hace2=0.0, saldo_medio_var13_medio_hace3=0.0, saldo_medio_var13_medio_ult1=0.0, saldo_medio_var13_medio_ult3=0.0, saldo_medio_var17_hace2=0.0, saldo_medio_var17_hace3=0.0, saldo_medio_var17_ult1=0.0, saldo_medio_var17_ult3=0.0, saldo_medio_var29_hace2=0.0, saldo_medio_var29_hace3=0.0, saldo_medio_var29_ult1=0.0, saldo_medio_var29_ult3=0.0, saldo_medio_var33_hace2=0.0, saldo_medio_var33_hace3=0.0, saldo_medio_var33_ult1=0.0, saldo_medio_var33_ult3=0.0, saldo_medio_var44_hace2=0.0, saldo_medio_var44_hace3=0.0, saldo_medio_var44_ult1=0.0, saldo_medio_var44_ult3=0.0, var38=39205.17, TARGET=0.0)]"
      ]
     },
     "execution_count": 12,
     "metadata": {},
     "output_type": "execute_result"
    }
   ],
   "source": [
    "# exibindo primeira linha\n",
    "sandanderDF.head(1)"
   ]
  },
  {
   "cell_type": "code",
   "execution_count": 13,
   "id": "cd32233b",
   "metadata": {},
   "outputs": [
    {
     "name": "stdout",
     "output_type": "stream",
     "text": [
      "Correlação da variável TARGET com var3 0.004474798175536685\n",
      "Correlação da variável TARGET com var15 0.1013220985607169\n",
      "Correlação da variável TARGET com imp_ent_var16_ult1 -1.7460253766297183e-05\n",
      "Correlação da variável TARGET com imp_op_var39_comer_ult1 0.010353129575421496\n",
      "Correlação da variável TARGET com imp_op_var39_comer_ult3 0.0035169224416893973\n",
      "Correlação da variável TARGET com imp_op_var40_comer_ult1 0.0031193869489658296\n",
      "Correlação da variável TARGET com imp_op_var40_comer_ult3 -0.0003578690699807045\n",
      "Correlação da variável TARGET com imp_op_var40_efect_ult1 0.01922144928852695\n",
      "Correlação da variável TARGET com imp_op_var40_efect_ult3 0.019965206754799267\n",
      "Correlação da variável TARGET com imp_op_var40_ult1 0.0030872912147492\n",
      "Correlação da variável TARGET com imp_op_var41_comer_ult1 0.010082404008577805\n",
      "Correlação da variável TARGET com imp_op_var41_comer_ult3 0.0038585869783322783\n",
      "Correlação da variável TARGET com imp_op_var41_efect_ult1 0.02947851812252822\n",
      "Correlação da variável TARGET com imp_op_var41_efect_ult3 0.021485888881387284\n",
      "Correlação da variável TARGET com imp_op_var41_ult1 0.02758646200026426\n",
      "Correlação da variável TARGET com imp_op_var39_efect_ult1 0.03038026091665548\n",
      "Correlação da variável TARGET com imp_op_var39_efect_ult3 0.02217169102025323\n",
      "Correlação da variável TARGET com imp_op_var39_ult1 0.027416443434902505\n",
      "Correlação da variável TARGET com imp_sal_var16_ult1 0.0005094220620922863\n",
      "Correlação da variável TARGET com ind_var1_0 0.0016078192876507267\n",
      "Correlação da variável TARGET com ind_var1 0.00957090763396027\n",
      "Correlação da variável TARGET com ind_var2_0 nan\n",
      "Correlação da variável TARGET com ind_var2 nan\n",
      "Correlação da variável TARGET com ind_var5_0 -0.032887767539956675\n",
      "Correlação da variável TARGET com ind_var5 -0.13534850220210157\n",
      "Correlação da variável TARGET com ind_var6_0 -0.0020823115452682566\n",
      "Correlação da variável TARGET com ind_var6 -0.0010411146833006358\n",
      "Correlação da variável TARGET com ind_var8_0 0.04666549435362118\n",
      "Correlação da variável TARGET com ind_var8 0.027926030196463655\n",
      "Correlação da variável TARGET com ind_var12_0 -0.03821493590236826\n",
      "Correlação da variável TARGET com ind_var12 -0.0342546889739869\n",
      "Correlação da variável TARGET com ind_var13_0 -0.039470673166269656\n",
      "Correlação da variável TARGET com ind_var13_corto_0 -0.03433671323042934\n",
      "Correlação da variável TARGET com ind_var13_corto -0.03443814444504617\n",
      "Correlação da variável TARGET com ind_var13_largo_0 -0.01922729212560709\n",
      "Correlação da variável TARGET com ind_var13_largo -0.019040467782169068\n",
      "Correlação da variável TARGET com ind_var13_medio_0 -0.0010411146833006325\n",
      "Correlação da variável TARGET com ind_var13_medio -0.0010411146833006325\n",
      "Correlação da variável TARGET com ind_var13 -0.03961192773482232\n",
      "Correlação da variável TARGET com ind_var14_0 -0.020046236993624452\n",
      "Correlação da variável TARGET com ind_var14 -0.007383880693568441\n",
      "Correlação da variável TARGET com ind_var17_0 -0.005442498400165864\n",
      "Correlação da variável TARGET com ind_var17 -0.0041762143793011575\n",
      "Correlação da variável TARGET com ind_var18_0 -0.0010411146833006334\n",
      "Correlação da variável TARGET com ind_var18 -0.0010411146833006334\n",
      "Correlação da variável TARGET com ind_var19 -0.00795674203175383\n",
      "Correlação da variável TARGET com ind_var20_0 -0.01225242961358178\n",
      "Correlação da variável TARGET com ind_var20 -0.010554584817499263\n",
      "Correlação da variável TARGET com ind_var24_0 -0.030300062808123272\n",
      "Correlação da variável TARGET com ind_var24 -0.03214815438464901\n",
      "Correlação da variável TARGET com ind_var25_cte 0.023350706357698356\n",
      "Correlação da variável TARGET com ind_var26_0 0.019103954241323516\n",
      "Correlação da variável TARGET com ind_var26_cte 0.023538027658766753\n",
      "Correlação da variável TARGET com ind_var26 0.019103954241323516\n",
      "Correlação da variável TARGET com ind_var25_0 0.0194969638491962\n",
      "Correlação da variável TARGET com ind_var25 0.0194969638491962\n",
      "Correlação da variável TARGET com ind_var27_0 nan\n",
      "Correlação da variável TARGET com ind_var28_0 nan\n",
      "Correlação da variável TARGET com ind_var28 nan\n",
      "Correlação da variável TARGET com ind_var27 nan\n",
      "Correlação da variável TARGET com ind_var29_0 -0.0020823115452682566\n",
      "Correlação da variável TARGET com ind_var29 -0.0010411146833006358\n",
      "Correlação da variável TARGET com ind_var30_0 0.009637532091821263\n",
      "Correlação da variável TARGET com ind_var30 -0.1498105195215866\n",
      "Correlação da variável TARGET com ind_var31_0 -0.009163031527156695\n",
      "Correlação da variável TARGET com ind_var31 -0.007855493892345867\n",
      "Correlação da variável TARGET com ind_var32_cte 0.002638993830983336\n",
      "Correlação da variável TARGET com ind_var32_0 -0.0005028598892445048\n",
      "Correlação da variável TARGET com ind_var32 -0.0005028598892445048\n",
      "Correlação da variável TARGET com ind_var33_0 -0.0055600432167797285\n",
      "Correlação da variável TARGET com ind_var33 -0.0051019433527775115\n",
      "Correlação da variável TARGET com ind_var34_0 -0.0010411146833006334\n",
      "Correlação da variável TARGET com ind_var34 -0.0010411146833006334\n",
      "Correlação da variável TARGET com ind_var37_cte 0.0024834400374269005\n",
      "Correlação da variável TARGET com ind_var37_0 0.0031967014906444536\n",
      "Correlação da variável TARGET com ind_var37 0.003196701490644453\n",
      "Correlação da variável TARGET com ind_var39_0 -0.03504527878512576\n",
      "Correlação da variável TARGET com ind_var40_0 0.0016859565614648123\n",
      "Correlação da variável TARGET com ind_var40 0.009752839796038975\n",
      "Correlação da variável TARGET com ind_var41_0 -0.034149182283882\n",
      "Correlação da variável TARGET com ind_var41 nan\n",
      "Correlação da variável TARGET com ind_var39 0.009752839796038975\n",
      "Correlação da variável TARGET com ind_var44_0 -0.005697024699868949\n",
      "Correlação da variável TARGET com ind_var44 -0.0050894546565947016\n",
      "Correlação da variável TARGET com ind_var46_0 nan\n",
      "Correlação da variável TARGET com ind_var46 nan\n",
      "Correlação da variável TARGET com num_var1_0 0.0021841503626223893\n",
      "Correlação da variável TARGET com num_var1 0.009477654565149544\n",
      "Correlação da variável TARGET com num_var4 -0.08019367160804017\n",
      "Correlação da variável TARGET com num_var5_0 -0.028911980034363977\n",
      "Correlação da variável TARGET com num_var5 -0.13409523664942222\n",
      "Correlação da variável TARGET com num_var6_0 -0.0020823115452682397\n",
      "Correlação da variável TARGET com num_var6 -0.001041114683300633\n",
      "Correlação da variável TARGET com num_var8_0 0.04662218467932013\n",
      "Correlação da variável TARGET com num_var8 0.027926030196463864\n",
      "Correlação da variável TARGET com num_var12_0 -0.025652632709008607\n",
      "Correlação da variável TARGET com num_var12 -0.03410829401572498\n",
      "Correlação da variável TARGET com num_var13_0 -0.03804490577647793\n",
      "Correlação da variável TARGET com num_var13_corto_0 -0.03423580505610484\n",
      "Correlação da variável TARGET com num_var13_corto -0.034431709419395266\n",
      "Correlação da variável TARGET com num_var13_largo_0 -0.01771812356515599\n",
      "Correlação da variável TARGET com num_var13_largo -0.017694370368032397\n",
      "Correlação da variável TARGET com num_var13_medio_0 -0.0010411146833006317\n",
      "Correlação da variável TARGET com num_var13_medio -0.0010411146833006317\n",
      "Correlação da variável TARGET com num_var13 -0.038399938657465146\n",
      "Correlação da variável TARGET com num_var14_0 -0.003607583627587863\n",
      "Correlação da variável TARGET com num_var14 -0.007387144633475057\n",
      "Correlação da variável TARGET com num_var17_0 -0.002183710218270266\n",
      "Correlação da variável TARGET com num_var17 -0.0013340101850203155\n",
      "Correlação da variável TARGET com num_var18_0 -0.0010411146833006377\n",
      "Correlação da variável TARGET com num_var18 -0.0010411146833006377\n",
      "Correlação da variável TARGET com num_var20_0 -0.012252429613581788\n",
      "Correlação da variável TARGET com num_var20 -0.010554584817499251\n",
      "Correlação da variável TARGET com num_var24_0 -0.030276251920152115\n",
      "Correlação da variável TARGET com num_var24 -0.03213927406908701\n",
      "Correlação da variável TARGET com num_var26_0 0.018156006490273713\n",
      "Correlação da variável TARGET com num_var26 0.018156006490273713\n",
      "Correlação da variável TARGET com num_var25_0 0.01872235468571021\n",
      "Correlação da variável TARGET com num_var25 0.01872235468571021\n",
      "Correlação da variável TARGET com num_op_var40_hace2 -0.002999193477159829\n",
      "Correlação da variável TARGET com num_op_var40_hace3 -0.001152135780091376\n",
      "Correlação da variável TARGET com num_op_var40_ult1 0.0014205816899548061\n",
      "Correlação da variável TARGET com num_op_var40_ult3 -0.00011901201310436512\n",
      "Correlação da variável TARGET com num_op_var41_hace2 0.007619298817911812\n"
     ]
    },
    {
     "name": "stdout",
     "output_type": "stream",
     "text": [
      "Correlação da variável TARGET com num_op_var41_hace3 -0.0011949275362012248\n",
      "Correlação da variável TARGET com num_op_var41_ult1 0.011241645053677312\n",
      "Correlação da variável TARGET com num_op_var41_ult3 0.010461674068047194\n",
      "Correlação da variável TARGET com num_op_var39_hace2 0.007185348347176049\n",
      "Correlação da variável TARGET com num_op_var39_hace3 -0.001351523393070222\n",
      "Correlação da variável TARGET com num_op_var39_ult1 0.011246031183984552\n",
      "Correlação da variável TARGET com num_op_var39_ult3 0.010270906024646568\n",
      "Correlação da variável TARGET com num_var27_0 nan\n",
      "Correlação da variável TARGET com num_var28_0 nan\n",
      "Correlação da variável TARGET com num_var28 nan\n",
      "Correlação da variável TARGET com num_var27 nan\n",
      "Correlação da variável TARGET com num_var29_0 -0.0020823115452682393\n",
      "Correlação da variável TARGET com num_var29 -0.001041114683300633\n",
      "Correlação da variável TARGET com num_var30_0 -0.033902726457946813\n",
      "Correlação da variável TARGET com num_var30 -0.1382890341310544\n",
      "Correlação da variável TARGET com num_var31_0 -0.0050680509341210975\n",
      "Correlação da variável TARGET com num_var31 -0.004336994772578049\n",
      "Correlação da variável TARGET com num_var32_0 -0.000338836659712663\n",
      "Correlação da variável TARGET com num_var32 -0.000338836659712663\n",
      "Correlação da variável TARGET com num_var33_0 -0.005131807460405001\n",
      "Correlação da variável TARGET com num_var33 -0.004917120534123466\n",
      "Correlação da variável TARGET com num_var34_0 -0.0010411146833006362\n",
      "Correlação da variável TARGET com num_var34 -0.0010411146833006362\n",
      "Correlação da variável TARGET com num_var35 -0.07687242112603887\n",
      "Correlação da variável TARGET com num_var37_med_ult2 -2.9277726026597103e-05\n",
      "Correlação da variável TARGET com num_var37_0 0.0016348072615708276\n",
      "Correlação da variável TARGET com num_var37 0.0016348072615708276\n",
      "Correlação da variável TARGET com num_var39_0 -0.029180745021763415\n",
      "Correlação da variável TARGET com num_var40_0 0.0022919814998462328\n",
      "Correlação da variável TARGET com num_var40 0.00975283979603897\n",
      "Correlação da variável TARGET com num_var41_0 -0.03030199545709127\n",
      "Correlação da variável TARGET com num_var41 nan\n",
      "Correlação da variável TARGET com num_var39 0.00975283979603897\n",
      "Correlação da variável TARGET com num_var42_0 -0.017944151398396436\n",
      "Correlação da variável TARGET com num_var42 -0.13569286688354953\n",
      "Correlação da variável TARGET com num_var44_0 -0.005699136506670872\n",
      "Correlação da variável TARGET com num_var44 -0.005089454656594697\n",
      "Correlação da variável TARGET com num_var46_0 nan\n",
      "Correlação da variável TARGET com num_var46 nan\n",
      "Correlação da variável TARGET com saldo_var1 -0.0006952451871793968\n",
      "Correlação da variável TARGET com saldo_var5 -0.014131579512050097\n",
      "Correlação da variável TARGET com saldo_var6 -0.0010124156521805218\n",
      "Correlação da variável TARGET com saldo_var8 -0.0037443749325114994\n",
      "Correlação da variável TARGET com saldo_var12 -0.021881572678732645\n",
      "Correlação da variável TARGET com saldo_var13_corto -0.02584272503899096\n",
      "Correlação da variável TARGET com saldo_var13_largo -0.014590352688343439\n",
      "Correlação da variável TARGET com saldo_var13_medio -0.0009166686799414274\n",
      "Correlação da variável TARGET com saldo_var13 -0.029547501224398368\n",
      "Correlação da variável TARGET com saldo_var14 -0.004392941874220088\n",
      "Correlação da variável TARGET com saldo_var17 -0.0007744035591954078\n",
      "Correlação da variável TARGET com saldo_var18 -0.0008057740580527632\n",
      "Correlação da variável TARGET com saldo_var20 -0.0022444940335412875\n",
      "Correlação da variável TARGET com saldo_var24 -0.021567966349748606\n",
      "Correlação da variável TARGET com saldo_var26 0.005108276279508341\n",
      "Correlação da variável TARGET com saldo_var25 0.005090702872533106\n",
      "Correlação da variável TARGET com saldo_var28 nan\n",
      "Correlação da variável TARGET com saldo_var27 nan\n",
      "Correlação da variável TARGET com saldo_var29 -0.0010124156521805218\n",
      "Correlação da variável TARGET com saldo_var30 -0.03709220544541526\n",
      "Correlação da variável TARGET com saldo_var31 -0.00137194361662609\n",
      "Correlação da variável TARGET com saldo_var32 0.0006207736527009004\n",
      "Correlação da variável TARGET com saldo_var33 -0.003188313367459895\n",
      "Correlação da variável TARGET com saldo_var34 -0.000962694109740849\n",
      "Correlação da variável TARGET com saldo_var37 0.004480833619728251\n",
      "Correlação da variável TARGET com saldo_var40 0.011784442992410512\n",
      "Correlação da variável TARGET com saldo_var41 nan\n",
      "Correlação da variável TARGET com saldo_var42 -0.024462394329052548\n",
      "Correlação da variável TARGET com saldo_var44 -0.002274153930811191\n",
      "Correlação da variável TARGET com saldo_var46 nan\n",
      "Correlação da variável TARGET com var36 0.10291932386991194\n",
      "Correlação da variável TARGET com delta_imp_amort_var18_1y3 -0.0010411146833006382\n",
      "Correlação da variável TARGET com delta_imp_amort_var34_1y3 -0.0010411146833006369\n",
      "Correlação da variável TARGET com delta_imp_aport_var13_1y3 -0.008377573087312143\n",
      "Correlação da variável TARGET com delta_imp_aport_var17_1y3 -0.0016186206400079645\n",
      "Correlação da variável TARGET com delta_imp_aport_var33_1y3 -0.0007361744088692524\n",
      "Correlação da variável TARGET com delta_imp_compra_var44_1y3 -0.0017125977527234467\n",
      "Correlação da variável TARGET com delta_imp_reemb_var13_1y3 -0.0015203168548203754\n",
      "Correlação da variável TARGET com delta_imp_reemb_var17_1y3 0.0008680512173947086\n",
      "Correlação da variável TARGET com delta_imp_reemb_var33_1y3 -0.0007361744104648056\n",
      "Correlação da variável TARGET com delta_imp_trasp_var17_in_1y3 -0.001472377873969032\n",
      "Correlação da variável TARGET com delta_imp_trasp_var17_out_1y3 -0.0014723778740426583\n",
      "Correlação da variável TARGET com delta_imp_trasp_var33_in_1y3 -0.001646179335148701\n",
      "Correlação da variável TARGET com delta_imp_trasp_var33_out_1y3 -0.0007361744104648022\n",
      "Correlação da variável TARGET com delta_imp_venta_var44_1y3 -0.0047722425645466415\n",
      "Correlação da variável TARGET com delta_num_aport_var13_1y3 -0.00837757308725894\n",
      "Correlação da variável TARGET com delta_num_aport_var17_1y3 -0.0016186206400106672\n",
      "Correlação da variável TARGET com delta_num_aport_var33_1y3 -0.0007361744091764791\n",
      "Correlação da variável TARGET com delta_num_compra_var44_1y3 -0.0017125977527580499\n",
      "Correlação da variável TARGET com delta_num_reemb_var13_1y3 -0.0015203168548203754\n",
      "Correlação da variável TARGET com delta_num_reemb_var17_1y3 0.0008680512173947084\n",
      "Correlação da variável TARGET com delta_num_reemb_var33_1y3 -0.0007361744104648056\n",
      "Correlação da variável TARGET com delta_num_trasp_var17_in_1y3 -0.001472377873969032\n",
      "Correlação da variável TARGET com delta_num_trasp_var17_out_1y3 -0.0014723778740426583\n",
      "Correlação da variável TARGET com delta_num_trasp_var33_in_1y3 -0.001646179335148701\n",
      "Correlação da variável TARGET com delta_num_trasp_var33_out_1y3 -0.0007361744104648022\n",
      "Correlação da variável TARGET com delta_num_venta_var44_1y3 -0.004772242564576075\n",
      "Correlação da variável TARGET com imp_amort_var18_hace3 nan\n",
      "Correlação da variável TARGET com imp_amort_var18_ult1 -0.0008186517011916434\n",
      "Correlação da variável TARGET com imp_amort_var34_hace3 nan\n",
      "Correlação da variável TARGET com imp_amort_var34_ult1 -0.0008937712869715747\n",
      "Correlação da variável TARGET com imp_aport_var13_hace3 -0.020979007266250158\n",
      "Correlação da variável TARGET com imp_aport_var13_ult1 -0.009317414186468613\n",
      "Correlação da variável TARGET com imp_aport_var17_hace3 -0.0009064690535795526\n",
      "Correlação da variável TARGET com imp_aport_var17_ult1 0.0011244073931677538\n",
      "Correlação da variável TARGET com imp_aport_var33_hace3 -0.002671411164810264\n",
      "Correlação da variável TARGET com imp_aport_var33_ult1 -0.0016225839925770365\n",
      "Correlação da variável TARGET com imp_var7_emit_ult1 -0.0009966446965734511\n",
      "Correlação da variável TARGET com imp_var7_recib_ult1 -0.00305224189239528\n",
      "Correlação da variável TARGET com imp_compra_var44_hace3 -0.0024615264403958764\n",
      "Correlação da variável TARGET com imp_compra_var44_ult1 -0.0011920230497824114\n",
      "Correlação da variável TARGET com imp_reemb_var13_hace3 nan\n",
      "Correlação da variável TARGET com imp_reemb_var13_ult1 0.001677444862427979\n",
      "Correlação da variável TARGET com imp_reemb_var17_hace3 -0.0007361744104648032\n",
      "Correlação da variável TARGET com imp_reemb_var17_ult1 0.00890907593211065\n",
      "Correlação da variável TARGET com imp_reemb_var33_hace3 nan\n",
      "Correlação da variável TARGET com imp_reemb_var33_ult1 -0.0007361744104648066\n",
      "Correlação da variável TARGET com imp_var43_emit_ult1 -0.004261113825499592\n",
      "Correlação da variável TARGET com imp_trans_var37_ult1 -0.010928155905629473\n"
     ]
    },
    {
     "name": "stdout",
     "output_type": "stream",
     "text": [
      "Correlação da variável TARGET com imp_trasp_var17_in_hace3 -0.0009801568973627926\n",
      "Correlação da variável TARGET com imp_trasp_var17_in_ult1 -0.0010020522439791854\n",
      "Correlação da variável TARGET com imp_trasp_var17_out_hace3 nan\n",
      "Correlação da variável TARGET com imp_trasp_var17_out_ult1 -0.0010867719583534296\n",
      "Correlação da variável TARGET com imp_trasp_var33_in_hace3 -0.001748708558855794\n",
      "Correlação da variável TARGET com imp_trasp_var33_in_ult1 -0.0011960136398964203\n",
      "Correlação da variável TARGET com imp_trasp_var33_out_hace3 nan\n",
      "Correlação da variável TARGET com imp_trasp_var33_out_ult1 -0.000736174410464798\n",
      "Correlação da variável TARGET com imp_venta_var44_hace3 -0.0009467000929316941\n",
      "Correlação da variável TARGET com imp_venta_var44_ult1 -0.001465033284778904\n",
      "Correlação da variável TARGET com ind_var7_emit_ult1 -0.0012751082558142494\n",
      "Correlação da variável TARGET com ind_var7_recib_ult1 0.0011560337613095246\n",
      "Correlação da variável TARGET com ind_var10_ult1 0.010328785675873383\n",
      "Correlação da variável TARGET com ind_var10cte_ult1 0.00928077012691704\n",
      "Correlação da variável TARGET com ind_var9_cte_ult1 0.0076693518611003686\n",
      "Correlação da variável TARGET com ind_var9_ult1 0.008566911308413309\n",
      "Correlação da variável TARGET com ind_var43_emit_ult1 -0.00684668880615203\n",
      "Correlação da variável TARGET com ind_var43_recib_ult1 -0.021107524395759417\n",
      "Correlação da variável TARGET com var21 -0.0037194611842342896\n",
      "Correlação da variável TARGET com num_var2_0_ult1 nan\n",
      "Correlação da variável TARGET com num_var2_ult1 nan\n",
      "Correlação da variável TARGET com num_aport_var13_hace3 -0.026047543090105443\n",
      "Correlação da variável TARGET com num_aport_var13_ult1 -0.008415322406778745\n",
      "Correlação da variável TARGET com num_aport_var17_hace3 -0.002977472200248275\n",
      "Correlação da variável TARGET com num_aport_var17_ult1 0.004183537734517507\n",
      "Correlação da variável TARGET com num_aport_var33_hace3 -0.0031045631020256074\n",
      "Correlação da variável TARGET com num_aport_var33_ult1 -0.0018624564646142234\n",
      "Correlação da variável TARGET com num_var7_emit_ult1 -0.0012751082558142474\n",
      "Correlação da variável TARGET com num_var7_recib_ult1 -0.0002896862291305646\n",
      "Correlação da variável TARGET com num_compra_var44_hace3 -0.0037985050546891865\n",
      "Correlação da variável TARGET com num_compra_var44_ult1 -0.003566484589537267\n",
      "Correlação da variável TARGET com num_ent_var16_ult1 0.007026162410258141\n",
      "Correlação da variável TARGET com num_var22_hace2 0.009788882808653414\n",
      "Correlação da variável TARGET com num_var22_hace3 -0.002856350541917358\n",
      "Correlação da variável TARGET com num_var22_ult1 0.0251889458610663\n",
      "Correlação da variável TARGET com num_var22_ult3 0.012481383583200367\n",
      "Correlação da variável TARGET com num_med_var22_ult3 0.016262269955026117\n",
      "Correlação da variável TARGET com num_med_var45_ult3 0.0020669526035314006\n",
      "Correlação da variável TARGET com num_meses_var5_ult3 -0.14825285370249178\n",
      "Correlação da variável TARGET com num_meses_var8_ult3 0.025942741941408658\n",
      "Correlação da variável TARGET com num_meses_var12_ult3 -0.03195846817532825\n",
      "Correlação da variável TARGET com num_meses_var13_corto_ult3 -0.034367326480930174\n",
      "Correlação da variável TARGET com num_meses_var13_largo_ult3 -0.01657692062633902\n",
      "Correlação da variável TARGET com num_meses_var13_medio_ult3 -0.0010411146833006325\n",
      "Correlação da variável TARGET com num_meses_var17_ult3 -0.005998873276223012\n",
      "Correlação da variável TARGET com num_meses_var29_ult3 -0.0015740440729485794\n",
      "Correlação da variável TARGET com num_meses_var33_ult3 -0.00491388182069379\n",
      "Correlação da variável TARGET com num_meses_var39_vig_ult3 -0.01116900339459068\n",
      "Correlação da variável TARGET com num_meses_var44_ult3 -0.00670593520804051\n",
      "Correlação da variável TARGET com num_op_var39_comer_ult1 0.004995975427456119\n",
      "Correlação da variável TARGET com num_op_var39_comer_ult3 0.0035320769243948986\n",
      "Correlação da variável TARGET com num_op_var40_comer_ult1 -0.0014707629938524446\n",
      "Correlação da variável TARGET com num_op_var40_comer_ult3 -0.002229013179372774\n",
      "Correlação da variável TARGET com num_op_var40_efect_ult1 0.0185792882324642\n",
      "Correlação da variável TARGET com num_op_var40_efect_ult3 0.01835348035500584\n",
      "Correlação da variável TARGET com num_op_var41_comer_ult1 0.005533647863526446\n",
      "Correlação da variável TARGET com num_op_var41_comer_ult3 0.004402622811959213\n",
      "Correlação da variável TARGET com num_op_var41_efect_ult1 0.02103581380904258\n",
      "Correlação da variável TARGET com num_op_var41_efect_ult3 0.019599214086691998\n",
      "Correlação da variável TARGET com num_op_var39_efect_ult1 0.021783470472849578\n",
      "Correlação da variável TARGET com num_op_var39_efect_ult3 0.02023673311095889\n",
      "Correlação da variável TARGET com num_reemb_var13_hace3 nan\n",
      "Correlação da variável TARGET com num_reemb_var13_ult1 -0.0015203168548203892\n",
      "Correlação da variável TARGET com num_reemb_var17_hace3 -0.0007361744104648012\n",
      "Correlação da variável TARGET com num_reemb_var17_ult1 0.011943963230544719\n",
      "Correlação da variável TARGET com num_reemb_var33_hace3 nan\n",
      "Correlação da variável TARGET com num_reemb_var33_ult1 -0.0007361744104648017\n",
      "Correlação da variável TARGET com num_sal_var16_ult1 0.009215760713140024\n",
      "Correlação da variável TARGET com num_var43_emit_ult1 -0.002362995149651907\n",
      "Correlação da variável TARGET com num_var43_recib_ult1 -0.016511071089375193\n",
      "Correlação da variável TARGET com num_trasp_var11_ult1 -0.009326183557720222\n",
      "Correlação da variável TARGET com num_trasp_var17_in_hace3 -0.0009876868121231341\n",
      "Correlação da variável TARGET com num_trasp_var17_in_ult1 -0.0014723778740426566\n",
      "Correlação da variável TARGET com num_trasp_var17_out_hace3 nan\n",
      "Correlação da variável TARGET com num_trasp_var17_out_ult1 -0.0014723778740426548\n",
      "Correlação da variável TARGET com num_trasp_var33_in_hace3 -0.001803310972921919\n",
      "Correlação da variável TARGET com num_trasp_var33_in_ult1 -0.0015616977048975497\n",
      "Correlação da variável TARGET com num_trasp_var33_out_hace3 nan\n",
      "Correlação da variável TARGET com num_trasp_var33_out_ult1 -0.000736174410464803\n",
      "Correlação da variável TARGET com num_venta_var44_hace3 -0.0012021809568083346\n",
      "Correlação da variável TARGET com num_venta_var44_ult1 -0.003394928382751523\n",
      "Correlação da variável TARGET com num_var45_hace2 -0.0009858393026301155\n",
      "Correlação da variável TARGET com num_var45_hace3 -0.006117327642914783\n",
      "Correlação da variável TARGET com num_var45_ult1 0.008007629735752449\n",
      "Correlação da variável TARGET com num_var45_ult3 0.0011214224487515155\n",
      "Correlação da variável TARGET com saldo_var2_ult1 nan\n",
      "Correlação da variável TARGET com saldo_medio_var5_hace2 -0.020079496332524042\n",
      "Correlação da variável TARGET com saldo_medio_var5_hace3 -0.016034142577760455\n",
      "Correlação da variável TARGET com saldo_medio_var5_ult1 -0.01566628299214503\n",
      "Correlação da variável TARGET com saldo_medio_var5_ult3 -0.01898908139013775\n",
      "Correlação da variável TARGET com saldo_medio_var8_hace2 -0.004952248725811811\n",
      "Correlação da variável TARGET com saldo_medio_var8_hace3 -0.00304895879039348\n",
      "Correlação da variável TARGET com saldo_medio_var8_ult1 -0.003294362302458198\n",
      "Correlação da variável TARGET com saldo_medio_var8_ult3 -0.002938907509242965\n",
      "Correlação da variável TARGET com saldo_medio_var12_hace2 -0.017708450518388024\n",
      "Correlação da variável TARGET com saldo_medio_var12_hace3 -0.011866686964455427\n",
      "Correlação da variável TARGET com saldo_medio_var12_ult1 -0.021008403261325127\n",
      "Correlação da variável TARGET com saldo_medio_var12_ult3 -0.021203114523795582\n",
      "Correlação da variável TARGET com saldo_medio_var13_corto_hace2 -0.02309351055437811\n",
      "Correlação da variável TARGET com saldo_medio_var13_corto_hace3 -0.013977403411210397\n",
      "Correlação da variável TARGET com saldo_medio_var13_corto_ult1 -0.025621129881619298\n",
      "Correlação da variável TARGET com saldo_medio_var13_corto_ult3 -0.024932197193656944\n",
      "Correlação da variável TARGET com saldo_medio_var13_largo_hace2 -0.011965967225160698\n",
      "Correlação da variável TARGET com saldo_medio_var13_largo_hace3 -0.0070052411439800386\n",
      "Correlação da variável TARGET com saldo_medio_var13_largo_ult1 -0.012134575077198817\n",
      "Correlação da variável TARGET com saldo_medio_var13_largo_ult3 -0.01227014377564698\n",
      "Correlação da variável TARGET com saldo_medio_var13_medio_hace2 -0.0010277576039490165\n",
      "Correlação da variável TARGET com saldo_medio_var13_medio_hace3 nan\n"
     ]
    },
    {
     "name": "stdout",
     "output_type": "stream",
     "text": [
      "Correlação da variável TARGET com saldo_medio_var13_medio_ult1 -0.0009166686799414274\n",
      "Correlação da variável TARGET com saldo_medio_var13_medio_ult3 -0.0009520629897784518\n",
      "Correlação da variável TARGET com saldo_medio_var17_hace2 -0.001202255444284875\n",
      "Correlação da variável TARGET com saldo_medio_var17_hace3 -0.0008593602909916307\n",
      "Correlação da variável TARGET com saldo_medio_var17_ult1 -0.0005825814801326777\n",
      "Correlação da variável TARGET com saldo_medio_var17_ult3 -0.00032758746581768673\n",
      "Correlação da variável TARGET com saldo_medio_var29_hace2 -0.0010341425774526717\n",
      "Correlação da variável TARGET com saldo_medio_var29_hace3 -0.0007361744104648011\n",
      "Correlação da variável TARGET com saldo_medio_var29_ult1 -0.000989596914522271\n",
      "Correlação da variável TARGET com saldo_medio_var29_ult3 -0.001188270554947012\n",
      "Correlação da variável TARGET com saldo_medio_var33_hace2 -0.0035332898128533495\n",
      "Correlação da variável TARGET com saldo_medio_var33_hace3 -0.0024314911720265775\n",
      "Correlação da variável TARGET com saldo_medio_var33_ult1 -0.003165788888573169\n",
      "Correlação da variável TARGET com saldo_medio_var33_ult3 -0.0033113414559341136\n",
      "Correlação da variável TARGET com saldo_medio_var44_hace2 -0.0031765652351320966\n",
      "Correlação da variável TARGET com saldo_medio_var44_hace3 -0.002552640909007516\n",
      "Correlação da variável TARGET com saldo_medio_var44_ult1 -0.0031036790276660255\n",
      "Correlação da variável TARGET com saldo_medio_var44_ult3 -0.0030147381032516606\n",
      "Correlação da variável TARGET com var38 -0.019509837571079366\n",
      "Correlação da variável TARGET com TARGET 1.0\n"
     ]
    }
   ],
   "source": [
    "# Encontrando a correlação entre a variável target com as variáveis preditoras\n",
    "for i in sandanderDF.columns:\n",
    "    if not(isinstance(sandanderDF.select(i).take(1)[0][0], str)) :\n",
    "        print(\"Correlação da variável TARGET com\", i, sandanderDF.stat.corr('TARGET', i))"
   ]
  },
  {
   "cell_type": "code",
   "execution_count": 14,
   "id": "0a293dcd",
   "metadata": {},
   "outputs": [],
   "source": [
    "# mutando o tipo da variavel target para integer (tipo foi alterado durante o pré-processamento)\n",
    "sandanderDF = sandanderDF.withColumn(\"TARGET\",sandanderDF.TARGET.cast(IntegerType()))"
   ]
  },
  {
   "cell_type": "code",
   "execution_count": 15,
   "id": "6d07da79",
   "metadata": {},
   "outputs": [],
   "source": [
    "# Criando um LabeledPoint (target, Vector[features])\n",
    "def transformaVar(row) :\n",
    "    obj = (row[\"TARGET\"], Vectors.dense([row[\"var38\"], \n",
    "                                          row[\"saldo_medio_var13_largo_ult3\"], \n",
    "                                          row[\"saldo_medio_var13_largo_ult1\"], \n",
    "                                          row[\"saldo_medio_var13_largo_hace2\"],\n",
    "                                          row[\"saldo_medio_var13_corto_ult3\"], row[\"saldo_medio_var13_corto_ult1\"],\n",
    "                                          row[\"saldo_medio_var13_corto_hace3\"], row[\"saldo_medio_var13_corto_hace2\"], \n",
    "                                          row[\"saldo_medio_var12_ult3\"], row[\"saldo_medio_var12_ult1\"], row[\"saldo_medio_var12_hace3\"],  \n",
    "                                          row[\"saldo_medio_var12_hace2\"], row[\"saldo_medio_var5_ult3\"], row[\"saldo_medio_var5_ult1\"], \n",
    "                                          row[\"saldo_medio_var5_hace3\"], row[\"saldo_medio_var5_hace2\"], row[\"num_var43_recib_ult1\"],\n",
    "                                          row[\"num_reemb_var17_ult1\"], row[\"num_op_var39_efect_ult3\"], row[\"num_op_var39_efect_ult1\"],\n",
    "                                          row[\"num_op_var41_efect_ult3\"], row[\"num_op_var41_efect_ult1\"], row[\"num_op_var40_efect_ult3\"],\n",
    "                                          row[\"num_op_var40_efect_ult1\"], row[\"num_meses_var39_vig_ult3\"], row[\"num_meses_var13_largo_ult3\"],\n",
    "                                          row[\"num_meses_var13_corto_ult3\"], row[\"num_meses_var12_ult3\"], row[\"num_meses_var8_ult3\"],\n",
    "                                          row[\"num_meses_var5_ult3\"], row[\"num_var22_ult3\"], row[\"num_var22_ult1\"], row[\"ind_var10_ult1\"],\n",
    "                                          row[\"var36\"], row[\"saldo_var24\"], row[\"saldo_var13\"], row[\"saldo_var13_largo\"],\n",
    "                                          row[\"saldo_var13_corto\"], row[\"saldo_var12\"], row[\"saldo_var5\"],\n",
    "                                          row[\"num_var42\"], row[\"num_var37_med_ult2\"], row[\"num_var35\"],\n",
    "                                          row[\"num_var30\"], row[\"num_var30_0\"], row[\"num_op_var39_ult3\"], row[\"num_op_var41_ult1\"],\n",
    "                                          row[\"num_var25\"], row[\"num_var26\"], row[\"num_var24\"], row[\"num_var24_0\"],\n",
    "                                          row[\"num_var20\"], row[\"num_var20_0\"], row[\"num_var13\"], row[\"num_var13_corto\"],\n",
    "                                          row[\"num_var13_corto_0\"], row[\"num_var12_0\"], row[\"num_var8\"], row[\"num_var8_0\"],\n",
    "                                          row[\"num_var5\"], row[\"num_var4\"], row[\"ind_var41_0\"], row[\"ind_var30\"],\n",
    "                                          row[\"ind_var25\"], row[\"ind_var26\"], row[\"ind_var26_0\"], row[\"ind_var26_cte\"],\n",
    "                                          row[\"ind_var24\"], row[\"ind_var24_0\"], row[\"ind_var13\"], row[\"ind_var5\"], row[\"imp_op_var39_efect_ult1\"],\n",
    "                                          row[\"imp_op_var41_ult1\"], row[\"imp_op_var39_ult1\"], row[\"imp_op_var41_ult1\"], row[\"imp_op_var41_ult1\"],\n",
    "                                          row[\"imp_ent_var16_ult1\"],row[\"var15\"]]))\n",
    "    return obj"
   ]
  },
  {
   "cell_type": "code",
   "execution_count": 16,
   "id": "d202fb8b",
   "metadata": {},
   "outputs": [
    {
     "name": "stdout",
     "output_type": "stream",
     "text": [
      "+-----+--------------------+\n",
      "|label|            features|\n",
      "+-----+--------------------+\n",
      "|    0|[39205.17,0.0,0.0...|\n",
      "|    0|[49278.03,0.0,0.0...|\n",
      "|    0|[67333.77,0.0,0.0...|\n",
      "|    0|[64007.97,0.0,0.0...|\n",
      "|    0|[117310.979016494...|\n",
      "|    0|[87975.75,0.0,0.0...|\n",
      "|    0|[94956.66,0.0,0.0...|\n",
      "|    0|[251638.95,0.0,0....|\n",
      "|    0|[101962.02,0.0,0....|\n",
      "|    0|[356463.06,0.0,0....|\n",
      "+-----+--------------------+\n",
      "only showing top 10 rows\n",
      "\n"
     ]
    }
   ],
   "source": [
    "# converte o dataframe para RDD, para usar os recursos do SPARK, e com a função map aplica a função transformVar, criando um vetor denso\n",
    "sandanderRDD4 = sandanderDF.rdd.map(transformaVar)\n",
    "\n",
    "# convert novamente para dataframe do spark\n",
    "sandanderDF = spSession.createDataFrame(sandanderRDD4,[\"label\", \"features\"])\n",
    "\n",
    "# exibe as primeiras 10 linhas\n",
    "sandanderDF.select(\"label\",\"features\").show(10)"
   ]
  },
  {
   "cell_type": "code",
   "execution_count": 17,
   "id": "8bbde4bb",
   "metadata": {},
   "outputs": [
    {
     "name": "stdout",
     "output_type": "stream",
     "text": [
      "+-----+--------------------------------------------------------------------------------------------------------------------------------------------------------------------------------------------------------------------------------------------------------------------------------------------------------------------------------------------------------------------------+\n",
      "|label|features                                                                                                                                                                                                                                                                                                                                                                  |\n",
      "+-----+--------------------------------------------------------------------------------------------------------------------------------------------------------------------------------------------------------------------------------------------------------------------------------------------------------------------------------------------------------------------------+\n",
      "|0    |[39205.17,0.0,0.0,0.0,0.0,0.0,0.0,0.0,0.0,0.0,0.0,0.0,0.0,0.0,0.0,0.0,0.0,0.0,0.0,0.0,0.0,0.0,0.0,0.0,2.0,0.0,0.0,0.0,0.0,0.0,0.0,0.0,0.0,99.0,0.0,0.0,0.0,0.0,0.0,0.0,0.0,0.0,0.0,0.0,3.0,0.0,0.0,0.0,0.0,0.0,0.0,0.0,0.0,0.0,0.0,0.0,0.0,0.0,0.0,0.0,0.0,1.0,0.0,0.0,0.0,0.0,0.0,0.0,0.0,0.0,0.0,0.0,0.0,0.0,0.0,0.0,0.0,23.0]                                          |\n",
      "|0    |[49278.03,0.0,0.0,0.0,240.75,300.0,122.22,300.0,0.0,0.0,0.0,0.0,0.0,0.0,88.89,0.0,0.0,0.0,0.0,0.0,0.0,0.0,0.0,0.0,2.0,0.0,3.0,0.0,0.0,1.0,0.0,0.0,0.0,3.0,0.0,300.0,0.0,300.0,0.0,0.0,0.0,0.0,3.0,3.0,6.0,0.0,0.0,0.0,0.0,0.0,0.0,0.0,0.0,3.0,3.0,3.0,0.0,0.0,0.0,0.0,1.0,1.0,1.0,0.0,0.0,0.0,0.0,0.0,0.0,1.0,0.0,0.0,0.0,0.0,0.0,0.0,0.0,34.0]                           |\n",
      "|0    |[67333.77,0.0,0.0,0.0,0.0,0.0,0.0,0.0,0.0,0.0,0.0,0.0,2.07,3.0,0.18,3.0,0.0,0.0,0.0,0.0,0.0,0.0,0.0,0.0,1.0,0.0,0.0,0.0,0.0,3.0,0.0,0.0,0.0,99.0,0.0,0.0,0.0,0.0,0.0,3.0,3.0,0.0,3.0,3.0,3.0,0.0,0.0,0.0,0.0,0.0,0.0,0.0,0.0,0.0,0.0,0.0,0.0,0.0,0.0,3.0,1.0,1.0,1.0,0.0,0.0,0.0,0.0,0.0,0.0,0.0,1.0,0.0,0.0,0.0,0.0,0.0,0.0,23.0]                                        |\n",
      "|0    |[64007.97,0.0,0.0,0.0,0.0,0.0,0.0,0.0,0.0,0.0,0.0,0.0,138.84,91.56,0.0,186.09,0.0,0.0,0.0,0.0,0.0,0.0,0.0,0.0,1.0,0.0,0.0,0.0,0.0,2.0,3.0,0.0,1.0,2.0,0.0,0.0,0.0,0.0,0.0,70.62,3.0,6.0,9.0,3.0,3.0,9.0,9.0,0.0,0.0,0.0,0.0,0.0,0.0,0.0,0.0,0.0,0.0,0.0,0.0,3.0,3.0,1.0,1.0,0.0,0.0,0.0,0.0,0.0,0.0,0.0,1.0,0.0,195.0,195.0,195.0,195.0,0.0,37.0]                         |\n",
      "|0    |[117310.979016494,0.0,0.0,0.0,0.0,0.0,0.0,0.0,85501.89,85501.89,0.0,0.0,13501.47,40501.08,0.3,3.0,6.0,0.0,0.0,0.0,0.0,0.0,0.0,0.0,2.0,0.0,0.0,1.0,0.0,3.0,9.0,6.0,0.0,1.0,135003.0,0.0,0.0,0.0,135003.0,0.0,3.0,0.0,3.0,3.0,6.0,0.0,0.0,0.0,0.0,3.0,3.0,0.0,0.0,0.0,0.0,0.0,3.0,0.0,0.0,0.0,1.0,1.0,1.0,0.0,0.0,0.0,0.0,1.0,1.0,0.0,0.0,0.0,0.0,0.0,0.0,0.0,0.0,39.0]     |\n",
      "|0    |[87975.75,0.0,0.0,0.0,0.0,0.0,0.0,0.0,0.0,0.0,0.0,0.0,0.0,0.0,0.0,0.0,0.0,0.0,0.0,0.0,0.0,0.0,0.0,0.0,2.0,0.0,0.0,0.0,0.0,0.0,0.0,0.0,0.0,99.0,0.0,0.0,0.0,0.0,0.0,0.0,0.0,0.0,0.0,0.0,3.0,0.0,0.0,0.0,0.0,0.0,0.0,0.0,0.0,0.0,0.0,0.0,0.0,0.0,0.0,0.0,0.0,1.0,0.0,0.0,0.0,0.0,0.0,0.0,0.0,0.0,0.0,0.0,0.0,0.0,0.0,0.0,0.0,23.0]                                          |\n",
      "|0    |[94956.66,0.0,0.0,0.0,0.0,0.0,0.0,0.0,0.0,0.0,0.0,0.0,2.13,3.0,0.42,3.0,0.0,0.0,0.0,0.0,0.0,0.0,0.0,0.0,2.0,0.0,0.0,0.0,0.0,3.0,0.0,0.0,0.0,3.0,0.0,0.0,0.0,0.0,0.0,3.0,3.0,0.0,3.0,3.0,3.0,0.0,0.0,0.0,0.0,0.0,0.0,0.0,0.0,0.0,0.0,0.0,0.0,0.0,0.0,3.0,1.0,1.0,1.0,0.0,0.0,0.0,0.0,0.0,0.0,0.0,1.0,0.0,0.0,0.0,0.0,0.0,0.0,27.0]                                         |\n",
      "|0    |[251638.95,0.0,0.0,0.0,0.0,0.0,0.0,0.0,0.0,0.0,0.0,0.0,2.94,3.0,0.0,2.88,0.0,0.0,0.0,0.0,0.0,0.0,0.0,0.0,1.0,0.0,0.0,0.0,0.0,2.0,0.0,0.0,0.0,2.0,0.0,0.0,0.0,0.0,0.0,3.0,3.0,0.0,3.0,3.0,3.0,0.0,0.0,0.0,0.0,0.0,0.0,0.0,0.0,0.0,0.0,0.0,0.0,0.0,0.0,3.0,1.0,1.0,1.0,0.0,0.0,0.0,0.0,0.0,0.0,0.0,1.0,0.0,0.0,0.0,0.0,0.0,0.0,26.0]                                        |\n",
      "|0    |[101962.02,0.0,0.0,0.0,0.0,0.0,0.0,0.0,0.0,0.0,0.0,0.0,0.0,0.0,0.0,0.0,0.0,0.0,0.0,0.0,0.0,0.0,0.0,0.0,2.0,0.0,0.0,0.0,0.0,0.0,0.0,0.0,0.0,99.0,0.0,0.0,0.0,0.0,0.0,0.0,0.0,0.0,0.0,0.0,3.0,0.0,0.0,0.0,0.0,0.0,0.0,0.0,0.0,0.0,0.0,0.0,0.0,0.0,0.0,0.0,0.0,1.0,0.0,0.0,0.0,0.0,0.0,0.0,0.0,0.0,0.0,0.0,0.0,0.0,0.0,0.0,0.0,45.0]                                         |\n",
      "|0    |[356463.06,0.0,0.0,0.0,0.0,0.0,0.0,0.0,0.0,0.0,0.0,0.0,2.91,3.0,0.0,2.79,0.0,0.0,0.0,0.0,0.0,0.0,0.0,0.0,0.0,0.0,0.0,0.0,0.0,2.0,0.0,0.0,0.0,2.0,0.0,0.0,0.0,0.0,0.0,3.0,3.0,0.0,3.0,3.0,3.0,0.0,0.0,0.0,0.0,0.0,0.0,0.0,0.0,0.0,0.0,0.0,0.0,0.0,0.0,3.0,1.0,0.0,1.0,0.0,0.0,0.0,0.0,0.0,0.0,0.0,1.0,0.0,0.0,0.0,0.0,0.0,0.0,25.0]                                        |\n",
      "|0    |[125424.06,0.0,0.0,0.0,0.0,0.0,0.0,0.0,0.0,0.0,0.0,0.0,0.0,0.0,0.0,0.0,3.0,0.0,0.0,0.0,0.0,0.0,0.0,0.0,2.0,0.0,0.0,0.0,3.0,0.0,0.0,0.0,1.0,1.0,0.0,0.0,0.0,0.0,0.0,0.0,3.0,9.0,6.0,3.0,3.0,0.0,0.0,0.0,0.0,0.0,0.0,0.0,0.0,0.0,0.0,0.0,0.0,3.0,3.0,0.0,2.0,1.0,1.0,0.0,0.0,0.0,0.0,0.0,0.0,0.0,0.0,0.0,0.0,0.0,0.0,0.0,0.0,42.0]                                          |\n",
      "|0    |[75368.52,0.0,0.0,0.0,0.0,0.0,0.0,0.0,0.0,0.0,0.0,0.0,0.0,0.0,0.0,0.0,0.0,0.0,0.0,0.0,0.0,0.0,0.0,0.0,2.0,0.0,0.0,0.0,0.0,0.0,0.0,0.0,0.0,99.0,0.0,0.0,0.0,0.0,0.0,0.0,0.0,0.0,0.0,0.0,3.0,0.0,0.0,0.0,0.0,0.0,0.0,0.0,0.0,0.0,0.0,0.0,0.0,0.0,0.0,0.0,0.0,1.0,0.0,0.0,0.0,0.0,0.0,0.0,0.0,0.0,0.0,0.0,0.0,0.0,0.0,0.0,0.0,26.0]                                          |\n",
      "|0    |[122220.09,0.0,0.0,0.0,0.0,0.0,0.0,0.0,0.0,0.0,0.0,0.0,69.69,90.0,29.04,90.0,0.0,0.0,0.0,0.0,0.0,0.0,0.0,0.0,2.0,0.0,0.0,0.0,0.0,3.0,0.0,0.0,0.0,99.0,0.0,0.0,0.0,0.0,0.0,90.0,3.0,0.0,3.0,3.0,3.0,0.0,0.0,0.0,0.0,0.0,0.0,0.0,0.0,0.0,0.0,0.0,0.0,0.0,0.0,3.0,1.0,1.0,1.0,0.0,0.0,0.0,0.0,0.0,0.0,0.0,1.0,0.0,0.0,0.0,0.0,0.0,0.0,51.0]                                  |\n",
      "|0    |[118436.97,0.0,0.0,0.0,0.0,0.0,0.0,0.0,116129.07,116129.07,0.0,0.0,54623.64,3870.93,39999.99,120000.0,3.0,0.0,0.0,0.0,0.0,0.0,0.0,0.0,2.0,0.0,0.0,1.0,0.0,3.0,15.0,3.0,0.0,1.0,120000.0,0.0,0.0,0.0,120000.0,0.0,3.0,0.0,3.0,3.0,6.0,0.0,0.0,0.0,0.0,3.0,3.0,0.0,0.0,0.0,0.0,0.0,3.0,0.0,0.0,0.0,1.0,1.0,1.0,0.0,0.0,0.0,0.0,1.0,1.0,0.0,0.0,0.0,0.0,0.0,0.0,0.0,0.0,43.0]|\n",
      "|0    |[95294.13,0.0,0.0,0.0,0.0,0.0,0.0,0.0,0.0,0.0,0.0,0.0,0.0,0.0,99.33,633.87,3.0,0.0,18.0,6.0,18.0,6.0,0.0,0.0,2.0,0.0,0.0,0.0,1.0,2.0,6.0,0.0,1.0,1.0,0.0,0.0,0.0,0.0,0.0,0.0,3.0,3.0,12.0,3.0,3.0,126.0,72.0,6.0,6.0,0.0,0.0,0.0,0.0,0.0,0.0,0.0,0.0,3.0,3.0,0.0,4.0,1.0,1.0,1.0,1.0,1.0,1.0,0.0,0.0,0.0,0.0,360.0,1446.48,1446.48,1446.48,1446.48,600.0,33.0]            |\n",
      "|0    |[104403.87,0.0,0.0,0.0,0.0,0.0,0.0,0.0,0.0,0.0,0.0,0.0,2.31,3.0,0.96,3.0,0.0,0.0,0.0,0.0,0.0,0.0,0.0,0.0,2.0,0.0,0.0,0.0,0.0,3.0,0.0,0.0,0.0,99.0,0.0,0.0,0.0,0.0,0.0,3.0,3.0,0.0,3.0,3.0,3.0,0.0,0.0,0.0,0.0,0.0,0.0,0.0,0.0,0.0,0.0,0.0,0.0,0.0,0.0,3.0,1.0,1.0,1.0,0.0,0.0,0.0,0.0,0.0,0.0,0.0,1.0,0.0,0.0,0.0,0.0,0.0,0.0,30.0]                                       |\n",
      "|0    |[117310.979016494,0.0,0.0,0.0,0.0,0.0,0.0,0.0,0.0,0.0,0.0,0.0,0.0,0.0,0.0,0.0,0.0,0.0,0.0,0.0,0.0,0.0,0.0,0.0,0.0,0.0,0.0,0.0,0.0,0.0,0.0,0.0,0.0,99.0,0.0,0.0,0.0,0.0,0.0,0.0,0.0,0.0,0.0,0.0,3.0,0.0,0.0,0.0,0.0,0.0,0.0,0.0,0.0,0.0,0.0,0.0,0.0,0.0,0.0,0.0,0.0,0.0,0.0,0.0,0.0,0.0,0.0,0.0,0.0,0.0,0.0,0.0,0.0,0.0,0.0,0.0,0.0,44.0]                                  |\n",
      "|0    |[153014.13,0.0,0.0,0.0,0.0,0.0,0.0,0.0,0.0,0.0,0.0,0.0,220.8,423.21,95.07,144.15,3.0,0.0,0.0,0.0,0.0,0.0,0.0,0.0,2.0,0.0,0.0,0.0,0.0,3.0,3.0,0.0,0.0,1.0,0.0,0.0,0.0,0.0,0.0,3079.05,3.0,0.0,6.0,3.0,3.0,15.0,9.0,0.0,0.0,0.0,0.0,0.0,0.0,0.0,0.0,0.0,0.0,0.0,0.0,3.0,2.0,1.0,1.0,0.0,0.0,0.0,0.0,0.0,0.0,0.0,1.0,0.0,55.2,55.2,55.2,55.2,0.0,36.0]                       |\n",
      "|0    |[168943.23,0.0,0.0,0.0,0.0,0.0,0.0,0.0,0.0,0.0,0.0,0.0,1930.62,3860.16,0.0,1.05,3.0,0.0,0.0,0.0,0.0,0.0,0.0,0.0,2.0,0.0,0.0,0.0,0.0,2.0,9.0,3.0,0.0,1.0,0.0,0.0,0.0,0.0,0.0,9003.0,3.0,0.0,3.0,3.0,3.0,0.0,0.0,0.0,0.0,0.0,0.0,0.0,0.0,0.0,0.0,0.0,0.0,0.0,0.0,3.0,1.0,1.0,1.0,0.0,0.0,0.0,0.0,0.0,0.0,0.0,1.0,0.0,0.0,0.0,0.0,0.0,0.0,55.0]                              |\n",
      "|0    |[96601.14,0.0,0.0,0.0,0.0,0.0,0.0,0.0,0.0,0.0,0.0,0.0,25.02,30.0,15.03,30.0,0.0,0.0,0.0,0.0,0.0,0.0,0.0,0.0,1.0,0.0,0.0,0.0,0.0,3.0,0.0,0.0,0.0,3.0,0.0,0.0,0.0,0.0,0.0,30.0,3.0,0.0,3.0,3.0,3.0,0.0,0.0,0.0,0.0,0.0,0.0,0.0,0.0,0.0,0.0,0.0,0.0,0.0,0.0,3.0,1.0,1.0,1.0,0.0,0.0,0.0,0.0,0.0,0.0,0.0,1.0,0.0,0.0,0.0,0.0,0.0,0.0,28.0]                                    |\n",
      "+-----+--------------------------------------------------------------------------------------------------------------------------------------------------------------------------------------------------------------------------------------------------------------------------------------------------------------------------------------------------------------------------+\n",
      "only showing top 20 rows\n",
      "\n"
     ]
    }
   ],
   "source": [
    "#Aplicando Redução de Dimensionalidade com PCA\n",
    "featuresPCA = PCA(k = 20, inputCol = \"features\", outputCol = \"pcaFeatures\")\n",
    "pcaModel = featuresPCA.fit(sandanderDF)\n",
    "pcaResult = pcaModel.transform(sandanderDF).select(\"label\",\"features\")\n",
    "pcaResult.show(truncate = False)"
   ]
  },
  {
   "cell_type": "code",
   "execution_count": 18,
   "id": "f55f0339",
   "metadata": {},
   "outputs": [],
   "source": [
    "# Criando o modelo de classificação Kmeans\n",
    "kmeans = KMeans(k = 5, seed = 1)\n",
    "modelo = kmeans.fit(pcaResult)"
   ]
  },
  {
   "cell_type": "code",
   "execution_count": 19,
   "id": "af1c5713",
   "metadata": {
    "scrolled": false
   },
   "outputs": [
    {
     "name": "stdout",
     "output_type": "stream",
     "text": [
      "+-----+--------------------+----------+\n",
      "|label|            features|prediction|\n",
      "+-----+--------------------+----------+\n",
      "|    0|[39205.17,0.0,0.0...|         0|\n",
      "|    0|[49278.03,0.0,0.0...|         0|\n",
      "|    0|[67333.77,0.0,0.0...|         0|\n",
      "|    0|[64007.97,0.0,0.0...|         0|\n",
      "|    0|[117310.979016494...|         0|\n",
      "|    0|[87975.75,0.0,0.0...|         0|\n",
      "|    0|[94956.66,0.0,0.0...|         0|\n",
      "|    0|[251638.95,0.0,0....|         0|\n",
      "|    0|[101962.02,0.0,0....|         0|\n",
      "|    0|[356463.06,0.0,0....|         4|\n",
      "|    0|[125424.06,0.0,0....|         0|\n",
      "|    0|[75368.52,0.0,0.0...|         0|\n",
      "|    0|[122220.09,0.0,0....|         0|\n",
      "|    0|[118436.97,0.0,0....|         0|\n",
      "|    0|[95294.13,0.0,0.0...|         0|\n",
      "|    0|[104403.87,0.0,0....|         0|\n",
      "|    0|[117310.979016494...|         0|\n",
      "|    0|[153014.13,0.0,0....|         0|\n",
      "|    0|[168943.23,0.0,0....|         0|\n",
      "|    0|[96601.14,0.0,0.0...|         0|\n",
      "+-----+--------------------+----------+\n",
      "only showing top 20 rows\n",
      "\n"
     ]
    }
   ],
   "source": [
    "# Previsões\n",
    "previsoes = modelo.transform(pcaResult)\n",
    "previsoes.show()"
   ]
  },
  {
   "cell_type": "code",
   "execution_count": 20,
   "id": "38c5fb8a",
   "metadata": {},
   "outputs": [
    {
     "data": {
      "text/plain": [
       "0.9138253091291765"
      ]
     },
     "execution_count": 20,
     "metadata": {},
     "output_type": "execute_result"
    }
   ],
   "source": [
    "# Avaliando a acurácia\n",
    "previsoes = previsoes.withColumn(\"prediction\",previsoes.prediction.cast(DoubleType()))\n",
    "evaluator = MulticlassClassificationEvaluator(predictionCol = \"prediction\", labelCol = \"label\", metricName = \"accuracy\")\n",
    "evaluator.evaluate(previsoes) "
   ]
  }
 ],
 "metadata": {
  "kernelspec": {
   "display_name": "Python 3",
   "language": "python",
   "name": "python3"
  },
  "language_info": {
   "codemirror_mode": {
    "name": "ipython",
    "version": 3
   },
   "file_extension": ".py",
   "mimetype": "text/x-python",
   "name": "python",
   "nbconvert_exporter": "python",
   "pygments_lexer": "ipython3",
   "version": "3.8.5"
  }
 },
 "nbformat": 4,
 "nbformat_minor": 5
}
