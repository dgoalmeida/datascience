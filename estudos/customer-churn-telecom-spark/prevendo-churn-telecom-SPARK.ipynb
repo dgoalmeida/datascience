{
 "cells": [
  {
   "cell_type": "markdown",
   "id": "9a4c1628",
   "metadata": {},
   "source": [
    "### Projeto com Feedback 4\n",
    "\n",
    "#### Prevendo Customer Churn em Operadoras de Telecom\n",
    "\n",
    "Identificar Rotatividade dos clientes (customer churn) de operadora de TELECOM. Prever se os clientes abandonarão o relacionamento comercial. Análise é um trabalho de classificação (sim/não)\n",
    "\n",
    "Projeto utilizando Spark"
   ]
  },
  {
   "cell_type": "code",
   "execution_count": 1,
   "id": "3af3f24e",
   "metadata": {},
   "outputs": [],
   "source": [
    "#imports\n",
    "\n",
    "from pyspark.sql import Row\n",
    "from pyspark.ml.feature import StringIndexer\n",
    "from pyspark.sql.types import IntegerType\n",
    "from pyspark.sql.types import DoubleType\n",
    "from pyspark.ml.linalg import Vectors\n",
    "from pyspark.ml.classification import LinearSVC\n",
    "from pyspark.ml.evaluation import MulticlassClassificationEvaluator"
   ]
  },
  {
   "cell_type": "markdown",
   "id": "4d3e45c1",
   "metadata": {},
   "source": [
    "criando a sessão do spark, definindo o master como local, definindo nome como sparkML"
   ]
  },
  {
   "cell_type": "code",
   "execution_count": 2,
   "id": "a3fe5cc6",
   "metadata": {},
   "outputs": [],
   "source": [
    "spSession = SparkSession.builder.master('local').appName('sparkMl').getOrCreate()"
   ]
  },
  {
   "cell_type": "markdown",
   "id": "849fac54",
   "metadata": {},
   "source": [
    "criando um RDD a partir do arquivo importado usando spark context"
   ]
  },
  {
   "cell_type": "code",
   "execution_count": 3,
   "id": "19a4d3de",
   "metadata": {},
   "outputs": [],
   "source": [
    "telecomRDD = sc.textFile('projeto4_telecom_treino.csv')"
   ]
  },
  {
   "cell_type": "markdown",
   "id": "e14d891e",
   "metadata": {},
   "source": [
    "fazendo split dos dados atravéz do seu separador. criando novo RDD (RDD são imutáveis), Removendo a primeira coluna"
   ]
  },
  {
   "cell_type": "code",
   "execution_count": 4,
   "id": "1cf74c2e",
   "metadata": {},
   "outputs": [],
   "source": [
    "telecomRDD2 = telecomRDD.map(lambda x: x.split(',')[1:])"
   ]
  },
  {
   "cell_type": "code",
   "execution_count": 5,
   "id": "7283647e",
   "metadata": {},
   "outputs": [
    {
     "data": {
      "text/plain": [
       "[['\"state\"',\n",
       "  '\"account_length\"',\n",
       "  '\"area_code\"',\n",
       "  '\"international_plan\"',\n",
       "  '\"voice_mail_plan\"',\n",
       "  '\"number_vmail_messages\"',\n",
       "  '\"total_day_minutes\"',\n",
       "  '\"total_day_calls\"',\n",
       "  '\"total_day_charge\"',\n",
       "  '\"total_eve_minutes\"',\n",
       "  '\"total_eve_calls\"',\n",
       "  '\"total_eve_charge\"',\n",
       "  '\"total_night_minutes\"',\n",
       "  '\"total_night_calls\"',\n",
       "  '\"total_night_charge\"',\n",
       "  '\"total_intl_minutes\"',\n",
       "  '\"total_intl_calls\"',\n",
       "  '\"total_intl_charge\"',\n",
       "  '\"number_customer_service_calls\"',\n",
       "  '\"churn\"']]"
      ]
     },
     "execution_count": 5,
     "metadata": {},
     "output_type": "execute_result"
    }
   ],
   "source": [
    "telecomRDD2.take(1)"
   ]
  },
  {
   "cell_type": "markdown",
   "id": "be463bfc",
   "metadata": {},
   "source": [
    "### convertendo rdd para dataframe do spark"
   ]
  },
  {
   "cell_type": "code",
   "execution_count": 6,
   "id": "52033822",
   "metadata": {},
   "outputs": [],
   "source": [
    "# removendo primeira linha (header)\n",
    "telecomRDD3 = telecomRDD2.filter(lambda x: \"\\\"state\\\"\" not in x)"
   ]
  },
  {
   "cell_type": "code",
   "execution_count": 7,
   "id": "aeb0af18",
   "metadata": {},
   "outputs": [
    {
     "data": {
      "text/plain": [
       "[Row(ACCOUNT_LENGHT=128.0, INTERNATIONAL_PLAN='\"no\"', VOICE_MAIL_PLAN='\"yes\"', NUMBER_VMAIL_MESSAGES=25.0, TOTAL_DAY_MINUTES=265.1, TOTAL_DAY_CALLS=110.0, TOTAL_DAY_CHARGE=45.07, TOTAL_EVE_MINUTES=197.4, TOTAL_EVE_CALLS=99.0, TOTAL_EVE_CHARGE=16.78, TOTAL_NIGHT_MINUTES=244.7, TOTAL_NIGHT_CALLS=91.0, TOTAL_NIGHT_CHARGE=11.01, TOTAL_INTL_MINUTES=10.0, TOTAL_INTL_CALLS=3.0, TOTAL_INTL_CHARGE=2.7, NUMBER_CUSTOMER_SERVICE_CALLS=1.0, CHURN='\"no\"'),\n",
       " Row(ACCOUNT_LENGHT=107.0, INTERNATIONAL_PLAN='\"no\"', VOICE_MAIL_PLAN='\"yes\"', NUMBER_VMAIL_MESSAGES=26.0, TOTAL_DAY_MINUTES=161.6, TOTAL_DAY_CALLS=123.0, TOTAL_DAY_CHARGE=27.47, TOTAL_EVE_MINUTES=195.5, TOTAL_EVE_CALLS=103.0, TOTAL_EVE_CHARGE=16.62, TOTAL_NIGHT_MINUTES=254.4, TOTAL_NIGHT_CALLS=103.0, TOTAL_NIGHT_CHARGE=11.45, TOTAL_INTL_MINUTES=13.7, TOTAL_INTL_CALLS=3.0, TOTAL_INTL_CHARGE=3.7, NUMBER_CUSTOMER_SERVICE_CALLS=1.0, CHURN='\"no\"'),\n",
       " Row(ACCOUNT_LENGHT=137.0, INTERNATIONAL_PLAN='\"no\"', VOICE_MAIL_PLAN='\"no\"', NUMBER_VMAIL_MESSAGES=0.0, TOTAL_DAY_MINUTES=243.4, TOTAL_DAY_CALLS=114.0, TOTAL_DAY_CHARGE=41.38, TOTAL_EVE_MINUTES=121.2, TOTAL_EVE_CALLS=110.0, TOTAL_EVE_CHARGE=10.3, TOTAL_NIGHT_MINUTES=162.6, TOTAL_NIGHT_CALLS=104.0, TOTAL_NIGHT_CHARGE=7.32, TOTAL_INTL_MINUTES=12.2, TOTAL_INTL_CALLS=5.0, TOTAL_INTL_CHARGE=3.29, NUMBER_CUSTOMER_SERVICE_CALLS=0.0, CHURN='\"no\"'),\n",
       " Row(ACCOUNT_LENGHT=84.0, INTERNATIONAL_PLAN='\"yes\"', VOICE_MAIL_PLAN='\"no\"', NUMBER_VMAIL_MESSAGES=0.0, TOTAL_DAY_MINUTES=299.4, TOTAL_DAY_CALLS=71.0, TOTAL_DAY_CHARGE=50.9, TOTAL_EVE_MINUTES=61.9, TOTAL_EVE_CALLS=88.0, TOTAL_EVE_CHARGE=5.26, TOTAL_NIGHT_MINUTES=196.9, TOTAL_NIGHT_CALLS=89.0, TOTAL_NIGHT_CHARGE=8.86, TOTAL_INTL_MINUTES=6.6, TOTAL_INTL_CALLS=7.0, TOTAL_INTL_CHARGE=1.78, NUMBER_CUSTOMER_SERVICE_CALLS=2.0, CHURN='\"no\"'),\n",
       " Row(ACCOUNT_LENGHT=75.0, INTERNATIONAL_PLAN='\"yes\"', VOICE_MAIL_PLAN='\"no\"', NUMBER_VMAIL_MESSAGES=0.0, TOTAL_DAY_MINUTES=166.7, TOTAL_DAY_CALLS=113.0, TOTAL_DAY_CHARGE=28.34, TOTAL_EVE_MINUTES=148.3, TOTAL_EVE_CALLS=122.0, TOTAL_EVE_CHARGE=12.61, TOTAL_NIGHT_MINUTES=186.9, TOTAL_NIGHT_CALLS=121.0, TOTAL_NIGHT_CHARGE=8.41, TOTAL_INTL_MINUTES=10.1, TOTAL_INTL_CALLS=3.0, TOTAL_INTL_CHARGE=2.73, NUMBER_CUSTOMER_SERVICE_CALLS=3.0, CHURN='\"no\"')]"
      ]
     },
     "execution_count": 7,
     "metadata": {},
     "output_type": "execute_result"
    }
   ],
   "source": [
    "telecomRDD4 = telecomRDD3.map(lambda x: Row(ACCOUNT_LENGHT=float(x[1]), INTERNATIONAL_PLAN=x[3],\n",
    "                                            VOICE_MAIL_PLAN=x[4], NUMBER_VMAIL_MESSAGES=float(x[5]), \n",
    "                                            TOTAL_DAY_MINUTES=float(x[6]), TOTAL_DAY_CALLS=float(x[7]),\n",
    "                                            TOTAL_DAY_CHARGE=float(x[8]),TOTAL_EVE_MINUTES=float(x[9]),\n",
    "                                            TOTAL_EVE_CALLS=float(x[10]),TOTAL_EVE_CHARGE=float(x[11]),\n",
    "                                            TOTAL_NIGHT_MINUTES=float(x[12]), TOTAL_NIGHT_CALLS=float(x[13]),\n",
    "                                            TOTAL_NIGHT_CHARGE=float(x[14]), TOTAL_INTL_MINUTES=float(x[15]),\n",
    "                                            TOTAL_INTL_CALLS=float(x[16]), TOTAL_INTL_CHARGE=float(x[17]),\n",
    "                                            NUMBER_CUSTOMER_SERVICE_CALLS=float(x[18]), CHURN=x[19]))\n",
    "telecomRDD4.take(5)"
   ]
  },
  {
   "cell_type": "code",
   "execution_count": 8,
   "id": "ab5a0659",
   "metadata": {},
   "outputs": [],
   "source": [
    "telecomDF = spSession.createDataFrame(telecomRDD4)"
   ]
  },
  {
   "cell_type": "markdown",
   "id": "29d8b0fa",
   "metadata": {},
   "source": [
    "#### Convertendo variavel categórica em numérica"
   ]
  },
  {
   "cell_type": "code",
   "execution_count": 9,
   "id": "030169da",
   "metadata": {},
   "outputs": [],
   "source": [
    "stringIndice = StringIndexer(inputCol='INTERNATIONAL_PLAN', outputCol='IDX_INTERNATIONAL_PLAN')\n",
    "si_model = stringIndice.fit(telecomDF)\n",
    "telecomDF = si_model.transform(telecomDF)"
   ]
  },
  {
   "cell_type": "code",
   "execution_count": 10,
   "id": "3304c7e2",
   "metadata": {},
   "outputs": [
    {
     "data": {
      "text/plain": [
       "Row(ACCOUNT_LENGHT=128.0, INTERNATIONAL_PLAN='\"no\"', VOICE_MAIL_PLAN='\"yes\"', NUMBER_VMAIL_MESSAGES=25.0, TOTAL_DAY_MINUTES=265.1, TOTAL_DAY_CALLS=110.0, TOTAL_DAY_CHARGE=45.07, TOTAL_EVE_MINUTES=197.4, TOTAL_EVE_CALLS=99.0, TOTAL_EVE_CHARGE=16.78, TOTAL_NIGHT_MINUTES=244.7, TOTAL_NIGHT_CALLS=91.0, TOTAL_NIGHT_CHARGE=11.01, TOTAL_INTL_MINUTES=10.0, TOTAL_INTL_CALLS=3.0, TOTAL_INTL_CHARGE=2.7, NUMBER_CUSTOMER_SERVICE_CALLS=1.0, CHURN='\"no\"', IDX_INTERNATIONAL_PLAN=0.0)"
      ]
     },
     "execution_count": 10,
     "metadata": {},
     "output_type": "execute_result"
    }
   ],
   "source": [
    "telecomDF.head()"
   ]
  },
  {
   "cell_type": "code",
   "execution_count": 11,
   "id": "0443b3e6",
   "metadata": {},
   "outputs": [],
   "source": [
    "stringIndice = StringIndexer(inputCol='VOICE_MAIL_PLAN', outputCol='IDX_VOICE_MAIL_PLAN')\n",
    "si_model = stringIndice.fit(telecomDF)\n",
    "telecomDF = si_model.transform(telecomDF)"
   ]
  },
  {
   "cell_type": "code",
   "execution_count": 12,
   "id": "1152c047",
   "metadata": {},
   "outputs": [
    {
     "data": {
      "text/plain": [
       "Row(ACCOUNT_LENGHT=128.0, INTERNATIONAL_PLAN='\"no\"', VOICE_MAIL_PLAN='\"yes\"', NUMBER_VMAIL_MESSAGES=25.0, TOTAL_DAY_MINUTES=265.1, TOTAL_DAY_CALLS=110.0, TOTAL_DAY_CHARGE=45.07, TOTAL_EVE_MINUTES=197.4, TOTAL_EVE_CALLS=99.0, TOTAL_EVE_CHARGE=16.78, TOTAL_NIGHT_MINUTES=244.7, TOTAL_NIGHT_CALLS=91.0, TOTAL_NIGHT_CHARGE=11.01, TOTAL_INTL_MINUTES=10.0, TOTAL_INTL_CALLS=3.0, TOTAL_INTL_CHARGE=2.7, NUMBER_CUSTOMER_SERVICE_CALLS=1.0, CHURN='\"no\"', IDX_INTERNATIONAL_PLAN=0.0, IDX_VOICE_MAIL_PLAN=1.0)"
      ]
     },
     "execution_count": 12,
     "metadata": {},
     "output_type": "execute_result"
    }
   ],
   "source": [
    "telecomDF.head()"
   ]
  },
  {
   "cell_type": "code",
   "execution_count": 13,
   "id": "1d997903",
   "metadata": {},
   "outputs": [],
   "source": [
    "stringIndice = StringIndexer(inputCol='CHURN', outputCol='IDX_CHURN')\n",
    "si_model = stringIndice.fit(telecomDF)\n",
    "telecomDF = si_model.transform(telecomDF)"
   ]
  },
  {
   "cell_type": "code",
   "execution_count": 14,
   "id": "16fee68a",
   "metadata": {},
   "outputs": [
    {
     "data": {
      "text/plain": [
       "Row(ACCOUNT_LENGHT=128.0, INTERNATIONAL_PLAN='\"no\"', VOICE_MAIL_PLAN='\"yes\"', NUMBER_VMAIL_MESSAGES=25.0, TOTAL_DAY_MINUTES=265.1, TOTAL_DAY_CALLS=110.0, TOTAL_DAY_CHARGE=45.07, TOTAL_EVE_MINUTES=197.4, TOTAL_EVE_CALLS=99.0, TOTAL_EVE_CHARGE=16.78, TOTAL_NIGHT_MINUTES=244.7, TOTAL_NIGHT_CALLS=91.0, TOTAL_NIGHT_CHARGE=11.01, TOTAL_INTL_MINUTES=10.0, TOTAL_INTL_CALLS=3.0, TOTAL_INTL_CHARGE=2.7, NUMBER_CUSTOMER_SERVICE_CALLS=1.0, CHURN='\"no\"', IDX_INTERNATIONAL_PLAN=0.0, IDX_VOICE_MAIL_PLAN=1.0, IDX_CHURN=0.0)"
      ]
     },
     "execution_count": 14,
     "metadata": {},
     "output_type": "execute_result"
    }
   ],
   "source": [
    "telecomDF.head()"
   ]
  },
  {
   "cell_type": "markdown",
   "id": "2a18eb8e",
   "metadata": {},
   "source": [
    "Removendo colunas que não serão utilizadas"
   ]
  },
  {
   "cell_type": "code",
   "execution_count": 15,
   "id": "c8296245",
   "metadata": {},
   "outputs": [],
   "source": [
    "columns_to_drop = ['INTERNATIONAL_PLAN', 'VOICE_MAIL_PLAN','CHURN']\n",
    "telecomDF = telecomDF.drop(*columns_to_drop)"
   ]
  },
  {
   "cell_type": "code",
   "execution_count": 16,
   "id": "8ec5a863",
   "metadata": {},
   "outputs": [
    {
     "data": {
      "text/plain": [
       "Row(ACCOUNT_LENGHT=128.0, NUMBER_VMAIL_MESSAGES=25.0, TOTAL_DAY_MINUTES=265.1, TOTAL_DAY_CALLS=110.0, TOTAL_DAY_CHARGE=45.07, TOTAL_EVE_MINUTES=197.4, TOTAL_EVE_CALLS=99.0, TOTAL_EVE_CHARGE=16.78, TOTAL_NIGHT_MINUTES=244.7, TOTAL_NIGHT_CALLS=91.0, TOTAL_NIGHT_CHARGE=11.01, TOTAL_INTL_MINUTES=10.0, TOTAL_INTL_CALLS=3.0, TOTAL_INTL_CHARGE=2.7, NUMBER_CUSTOMER_SERVICE_CALLS=1.0, IDX_INTERNATIONAL_PLAN=0.0, IDX_VOICE_MAIL_PLAN=1.0, IDX_CHURN=0.0)"
      ]
     },
     "execution_count": 16,
     "metadata": {},
     "output_type": "execute_result"
    }
   ],
   "source": [
    "telecomDF.head()"
   ]
  },
  {
   "cell_type": "markdown",
   "id": "bb20145f",
   "metadata": {},
   "source": [
    "### Verificando estatistica descritiva dos dados"
   ]
  },
  {
   "cell_type": "code",
   "execution_count": 17,
   "id": "82e846ac",
   "metadata": {},
   "outputs": [
    {
     "name": "stdout",
     "output_type": "stream",
     "text": [
      "+-------+------------------+---------------------+------------------+------------------+------------------+\n",
      "|summary|    ACCOUNT_LENGHT|NUMBER_VMAIL_MESSAGES| TOTAL_DAY_MINUTES|   TOTAL_DAY_CALLS|  TOTAL_DAY_CHARGE|\n",
      "+-------+------------------+---------------------+------------------+------------------+------------------+\n",
      "|  count|              3333|                 3333|              3333|              3333|              3333|\n",
      "|   mean|101.06480648064806|    8.099009900990099|179.77509750975088|100.43564356435644|30.562307230723054|\n",
      "| stddev| 39.82210592859562|   13.688365372038595|  54.4673892023714|20.069084207300907| 9.259434553930506|\n",
      "|    min|               1.0|                  0.0|               0.0|               0.0|               0.0|\n",
      "|    max|             243.0|                 51.0|             350.8|             165.0|             59.64|\n",
      "+-------+------------------+---------------------+------------------+------------------+------------------+\n",
      "\n"
     ]
    }
   ],
   "source": [
    "telecomDF.describe('ACCOUNT_LENGHT','NUMBER_VMAIL_MESSAGES','TOTAL_DAY_MINUTES','TOTAL_DAY_CALLS','TOTAL_DAY_CHARGE').show()"
   ]
  },
  {
   "cell_type": "code",
   "execution_count": 18,
   "id": "330b9058",
   "metadata": {},
   "outputs": [
    {
     "name": "stdout",
     "output_type": "stream",
     "text": [
      "+-------+-----------------+------------------+------------------+-------------------+------------------+\n",
      "|summary|TOTAL_EVE_MINUTES|   TOTAL_EVE_CALLS|  TOTAL_EVE_CHARGE|TOTAL_NIGHT_MINUTES| TOTAL_NIGHT_CALLS|\n",
      "+-------+-----------------+------------------+------------------+-------------------+------------------+\n",
      "|  count|             3333|              3333|              3333|               3333|              3333|\n",
      "|   mean|200.9803480348034|100.11431143114311|17.083540354035424| 200.87203720372082|100.10771077107711|\n",
      "| stddev|  50.713844425812|19.922625293943103|4.3106676431103415|  50.57384701365836|19.568609346058555|\n",
      "|    min|              0.0|               0.0|               0.0|               23.2|              33.0|\n",
      "|    max|            363.7|             170.0|             30.91|              395.0|             175.0|\n",
      "+-------+-----------------+------------------+------------------+-------------------+------------------+\n",
      "\n"
     ]
    }
   ],
   "source": [
    "telecomDF.describe('TOTAL_EVE_MINUTES','TOTAL_EVE_CALLS','TOTAL_EVE_CHARGE','TOTAL_NIGHT_MINUTES','TOTAL_NIGHT_CALLS').show()"
   ]
  },
  {
   "cell_type": "code",
   "execution_count": 19,
   "id": "07ef0469",
   "metadata": {},
   "outputs": [
    {
     "name": "stdout",
     "output_type": "stream",
     "text": [
      "+-------+------------------+------------------+------------------+------------------+-----------------------------+\n",
      "|summary|TOTAL_NIGHT_CHARGE|TOTAL_INTL_MINUTES|  TOTAL_INTL_CALLS| TOTAL_INTL_CHARGE|NUMBER_CUSTOMER_SERVICE_CALLS|\n",
      "+-------+------------------+------------------+------------------+------------------+-----------------------------+\n",
      "|  count|              3333|              3333|              3333|              3333|                         3333|\n",
      "|   mean|  9.03932493249324|10.237293729372928|4.4794479447944795| 2.764581458145822|           1.5628562856285628|\n",
      "| stddev| 2.275872837660028|2.7918395484084138|2.4612142705460935|0.7537726126630463|           1.3154910448664763|\n",
      "|    min|              1.04|               0.0|               0.0|               0.0|                          0.0|\n",
      "|    max|             17.77|              20.0|              20.0|               5.4|                          9.0|\n",
      "+-------+------------------+------------------+------------------+------------------+-----------------------------+\n",
      "\n"
     ]
    }
   ],
   "source": [
    "telecomDF.describe('TOTAL_NIGHT_CHARGE','TOTAL_INTL_MINUTES','TOTAL_INTL_CALLS','TOTAL_INTL_CHARGE','NUMBER_CUSTOMER_SERVICE_CALLS').show()"
   ]
  },
  {
   "cell_type": "markdown",
   "id": "1867dcb4",
   "metadata": {},
   "source": [
    "### Verificando a correlação entre as variáveis e o target"
   ]
  },
  {
   "cell_type": "code",
   "execution_count": 20,
   "id": "77bc7689",
   "metadata": {},
   "outputs": [
    {
     "name": "stdout",
     "output_type": "stream",
     "text": [
      "Correlação entre a variável target IDX_CHURN e a variavel  ACCOUNT_LENGHT 0.016540742243674286\n",
      "Correlação entre a variável target IDX_CHURN e a variavel  NUMBER_VMAIL_MESSAGES -0.08972796983506418\n",
      "Correlação entre a variável target IDX_CHURN e a variavel  TOTAL_DAY_MINUTES 0.2051508292613899\n",
      "Correlação entre a variável target IDX_CHURN e a variavel  TOTAL_DAY_CALLS 0.018459311608577066\n",
      "Correlação entre a variável target IDX_CHURN e a variavel  TOTAL_DAY_CHARGE 0.20515074317015397\n",
      "Correlação entre a variável target IDX_CHURN e a variavel  TOTAL_EVE_MINUTES 0.09279579031259168\n",
      "Correlação entre a variável target IDX_CHURN e a variavel  TOTAL_EVE_CALLS 0.009233131913077921\n",
      "Correlação entre a variável target IDX_CHURN e a variavel  TOTAL_EVE_CHARGE 0.09278603942871391\n",
      "Correlação entre a variável target IDX_CHURN e a variavel  TOTAL_NIGHT_MINUTES 0.03549285342127406\n",
      "Correlação entre a variável target IDX_CHURN e a variavel  TOTAL_NIGHT_CALLS 0.006141203007399843\n",
      "Correlação entre a variável target IDX_CHURN e a variavel  TOTAL_NIGHT_CHARGE 0.0354955562405066\n",
      "Correlação entre a variável target IDX_CHURN e a variavel  TOTAL_INTL_MINUTES 0.06823877562717737\n",
      "Correlação entre a variável target IDX_CHURN e a variavel  TOTAL_INTL_CALLS -0.052844335774137816\n",
      "Correlação entre a variável target IDX_CHURN e a variavel  TOTAL_INTL_CHARGE 0.06825863150391472\n",
      "Correlação entre a variável target IDX_CHURN e a variavel  NUMBER_CUSTOMER_SERVICE_CALLS 0.20874999878379408\n",
      "Correlação entre a variável target IDX_CHURN e a variavel  IDX_INTERNATIONAL_PLAN 0.2598518473454819\n",
      "Correlação entre a variável target IDX_CHURN e a variavel  IDX_VOICE_MAIL_PLAN -0.1021481406701469\n",
      "Correlação entre a variável target IDX_CHURN e a variavel  IDX_CHURN 1.0\n"
     ]
    }
   ],
   "source": [
    "# encontrando a correlação entre a variáveis\n",
    "for i in telecomDF.columns:\n",
    "    if not(isinstance(telecomDF.select(i).take(1)[0][0], str)):\n",
    "        print(\"Correlação entre a variável target IDX_CHURN e a variavel \", i, telecomDF.stat.corr('IDX_CHURN',i))"
   ]
  },
  {
   "cell_type": "code",
   "execution_count": 21,
   "id": "51869fe0",
   "metadata": {},
   "outputs": [],
   "source": [
    "# mutando o tipo da variavel target para integer (tipo foi alterado durante o pré-processamento)\n",
    "telecomDF = telecomDF.withColumn(\"IDX_CHURN\",telecomDF.IDX_CHURN.cast(IntegerType()))"
   ]
  },
  {
   "cell_type": "markdown",
   "id": "8c7f85ce",
   "metadata": {},
   "source": [
    "### Criando um vetor denso"
   ]
  },
  {
   "cell_type": "code",
   "execution_count": 22,
   "id": "8e845da2",
   "metadata": {},
   "outputs": [],
   "source": [
    "# criando vetor denso\n",
    "def transformDenseVector(row):\n",
    "    obj = (row[\"IDX_CHURN\"], Vectors.dense([row[\"ACCOUNT_LENGHT\"], \n",
    "                                          row[\"NUMBER_VMAIL_MESSAGES\"], \n",
    "                                          row[\"TOTAL_DAY_MINUTES\"],\n",
    "                                           row[\"TOTAL_DAY_CALLS\"],\n",
    "                                           row[\"TOTAL_DAY_CHARGE\"],\n",
    "                                           row[\"TOTAL_EVE_MINUTES\"],\n",
    "                                           row[\"TOTAL_EVE_CALLS\"],\n",
    "                                           row[\"TOTAL_EVE_CHARGE\"],\n",
    "                                           row[\"TOTAL_NIGHT_MINUTES\"],\n",
    "                                           row[\"TOTAL_NIGHT_CALLS\"],\n",
    "                                           row[\"TOTAL_NIGHT_CHARGE\"],\n",
    "                                           row[\"TOTAL_INTL_MINUTES\"],\n",
    "                                           row[\"TOTAL_INTL_CALLS\"],\n",
    "                                           row[\"TOTAL_INTL_CHARGE\"],\n",
    "                                           row[\"NUMBER_CUSTOMER_SERVICE_CALLS\"],\n",
    "                                           row[\"IDX_INTERNATIONAL_PLAN\"],\n",
    "                                           row[\"IDX_VOICE_MAIL_PLAN\"]]))\n",
    "    return obj"
   ]
  },
  {
   "cell_type": "code",
   "execution_count": 23,
   "id": "852e27d8",
   "metadata": {},
   "outputs": [
    {
     "data": {
      "text/plain": [
       "[Row(ACCOUNT_LENGHT=128.0, NUMBER_VMAIL_MESSAGES=25.0, TOTAL_DAY_MINUTES=265.1, TOTAL_DAY_CALLS=110.0, TOTAL_DAY_CHARGE=45.07, TOTAL_EVE_MINUTES=197.4, TOTAL_EVE_CALLS=99.0, TOTAL_EVE_CHARGE=16.78, TOTAL_NIGHT_MINUTES=244.7, TOTAL_NIGHT_CALLS=91.0, TOTAL_NIGHT_CHARGE=11.01, TOTAL_INTL_MINUTES=10.0, TOTAL_INTL_CALLS=3.0, TOTAL_INTL_CHARGE=2.7, NUMBER_CUSTOMER_SERVICE_CALLS=1.0, IDX_INTERNATIONAL_PLAN=0.0, IDX_VOICE_MAIL_PLAN=1.0, IDX_CHURN=0)]"
      ]
     },
     "execution_count": 23,
     "metadata": {},
     "output_type": "execute_result"
    }
   ],
   "source": [
    "telecomDF.take(1)"
   ]
  },
  {
   "cell_type": "code",
   "execution_count": 24,
   "id": "1a1632a1",
   "metadata": {},
   "outputs": [
    {
     "name": "stdout",
     "output_type": "stream",
     "text": [
      "+-----+--------------------+\n",
      "|label|            features|\n",
      "+-----+--------------------+\n",
      "|    0|[128.0,25.0,265.1...|\n",
      "|    0|[107.0,26.0,161.6...|\n",
      "|    0|[137.0,0.0,243.4,...|\n",
      "|    0|[84.0,0.0,299.4,7...|\n",
      "|    0|[75.0,0.0,166.7,1...|\n",
      "|    0|[118.0,0.0,223.4,...|\n",
      "|    0|[121.0,24.0,218.2...|\n",
      "|    0|[147.0,0.0,157.0,...|\n",
      "|    0|[117.0,0.0,184.5,...|\n",
      "|    0|[141.0,37.0,258.6...|\n",
      "+-----+--------------------+\n",
      "only showing top 10 rows\n",
      "\n"
     ]
    }
   ],
   "source": [
    "# converte o dataframe para RDD, para usar os recursos do SPARK, e com a função map aplica a função transformVar, criando um vetor denso\n",
    "telecomRDD4 = telecomDF.rdd.map(transformDenseVector)\n",
    "\n",
    "# convert novamente para dataframe do spark\n",
    "telecomDF = spSession.createDataFrame(telecomRDD4,[\"label\", \"features\"])\n",
    "\n",
    "# exibe as primeiras 10 linhas\n",
    "telecomDF.select(\"label\",\"features\").show(10)"
   ]
  },
  {
   "cell_type": "markdown",
   "id": "0d864f29",
   "metadata": {},
   "source": [
    "### Utilizando Linear suport vector machine para classificação"
   ]
  },
  {
   "cell_type": "code",
   "execution_count": 25,
   "id": "f9a2452a",
   "metadata": {},
   "outputs": [],
   "source": [
    "# Criando o modelo de classificação Linear suport vector machine\n",
    "model = LinearSVC(maxIter=10, regParam=0.1)\n",
    "modelo = model.fit(telecomDF)"
   ]
  },
  {
   "cell_type": "code",
   "execution_count": 26,
   "id": "423269c5",
   "metadata": {},
   "outputs": [
    {
     "name": "stdout",
     "output_type": "stream",
     "text": [
      "+-----+--------------------+--------------------+----------+\n",
      "|label|            features|       rawPrediction|prediction|\n",
      "+-----+--------------------+--------------------+----------+\n",
      "|    0|[128.0,25.0,265.1...|[1.14907605389987...|       0.0|\n",
      "|    0|[107.0,26.0,161.6...|[1.22238680462497...|       0.0|\n",
      "|    0|[137.0,0.0,243.4,...|[1.09743462342406...|       0.0|\n",
      "|    0|[84.0,0.0,299.4,7...|[0.77334269223962...|       0.0|\n",
      "|    0|[75.0,0.0,166.7,1...|[0.99062449534574...|       0.0|\n",
      "|    0|[118.0,0.0,223.4,...|[1.00768460489193...|       0.0|\n",
      "|    0|[121.0,24.0,218.2...|[1.21527890248316...|       0.0|\n",
      "|    0|[147.0,0.0,157.0,...|[0.86063826522282...|       0.0|\n",
      "|    0|[117.0,0.0,184.5,...|[1.09033678541659...|       0.0|\n",
      "|    0|[141.0,37.0,258.6...|[1.17142894534126...|       0.0|\n",
      "|    1|[65.0,0.0,129.1,1...|[1.13064242261646...|       0.0|\n",
      "|    0|[74.0,0.0,187.7,1...|[1.14638914677247...|       0.0|\n",
      "|    0|[168.0,0.0,128.8,...|[0.96281719610780...|       0.0|\n",
      "|    0|[95.0,0.0,156.6,8...|[1.04934862660249...|       0.0|\n",
      "|    0|[62.0,0.0,120.7,7...|[1.01968215544548...|       0.0|\n",
      "|    1|[161.0,0.0,332.9,...|[1.09955379611251...|       0.0|\n",
      "|    0|[85.0,27.0,196.4,...|[1.11003636607151...|       0.0|\n",
      "|    0|[93.0,0.0,190.7,1...|[1.05059173560739...|       0.0|\n",
      "|    0|[76.0,33.0,189.7,...|[0.97268185450854...|       0.0|\n",
      "|    0|[73.0,0.0,224.4,9...|[0.95227620195987...|       0.0|\n",
      "+-----+--------------------+--------------------+----------+\n",
      "only showing top 20 rows\n",
      "\n"
     ]
    }
   ],
   "source": [
    "# Previsões\n",
    "previsoes = modelo.transform(telecomDF)\n",
    "previsoes.show()"
   ]
  },
  {
   "cell_type": "code",
   "execution_count": 27,
   "id": "334cf2c9",
   "metadata": {},
   "outputs": [
    {
     "data": {
      "text/plain": [
       "0.8550855085508551"
      ]
     },
     "execution_count": 27,
     "metadata": {},
     "output_type": "execute_result"
    }
   ],
   "source": [
    "# Avaliando a acurácia\n",
    "previsoes = previsoes.withColumn(\"prediction\",previsoes.prediction.cast(DoubleType()))\n",
    "evaluator = MulticlassClassificationEvaluator(predictionCol = \"prediction\", labelCol = \"label\", metricName = \"accuracy\")\n",
    "evaluator.evaluate(previsoes) "
   ]
  },
  {
   "cell_type": "code",
   "execution_count": null,
   "id": "0981ea7c",
   "metadata": {},
   "outputs": [],
   "source": []
  }
 ],
 "metadata": {
  "kernelspec": {
   "display_name": "Python 3",
   "language": "python",
   "name": "python3"
  },
  "language_info": {
   "codemirror_mode": {
    "name": "ipython",
    "version": 3
   },
   "file_extension": ".py",
   "mimetype": "text/x-python",
   "name": "python",
   "nbconvert_exporter": "python",
   "pygments_lexer": "ipython3",
   "version": "3.8.5"
  }
 },
 "nbformat": 4,
 "nbformat_minor": 5
}
