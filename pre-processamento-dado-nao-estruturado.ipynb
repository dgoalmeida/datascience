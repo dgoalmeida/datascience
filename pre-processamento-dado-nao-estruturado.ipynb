{
 "cells": [
  {
   "cell_type": "code",
   "execution_count": 1,
   "metadata": {},
   "outputs": [
    {
     "name": "stdout",
     "output_type": "stream",
     "text": [
      "Collecting spacy\n",
      "  Downloading spacy-3.0.6-cp38-cp38-macosx_10_9_x86_64.whl (12.5 MB)\n",
      "\u001b[K     |████████████████████████████████| 12.5 MB 4.2 MB/s eta 0:00:01\n",
      "\u001b[?25hCollecting pyLDAvis\n",
      "  Downloading pyLDAvis-3.3.1.tar.gz (1.7 MB)\n",
      "\u001b[K     |████████████████████████████████| 1.7 MB 17.1 MB/s eta 0:00:01\n",
      "\u001b[?25h  Installing build dependencies ... \u001b[?25ldone\n",
      "\u001b[?25h  Getting requirements to build wheel ... \u001b[?25ldone\n",
      "\u001b[?25h  Installing backend dependencies ... \u001b[?25ldone\n",
      "\u001b[?25h    Preparing wheel metadata ... \u001b[?25ldone\n",
      "\u001b[?25hRequirement already satisfied: jinja2 in /Users/dgoalmeida/opt/anaconda3/lib/python3.8/site-packages (from spacy) (2.11.2)\n",
      "Collecting thinc<8.1.0,>=8.0.3\n",
      "  Downloading thinc-8.0.3-cp38-cp38-macosx_10_9_x86_64.whl (1.1 MB)\n",
      "\u001b[K     |████████████████████████████████| 1.1 MB 27.7 MB/s eta 0:00:01\n",
      "\u001b[?25hCollecting wasabi<1.1.0,>=0.8.1\n",
      "  Downloading wasabi-0.8.2-py3-none-any.whl (23 kB)\n",
      "Collecting spacy-legacy<3.1.0,>=3.0.4\n",
      "  Downloading spacy_legacy-3.0.5-py2.py3-none-any.whl (12 kB)\n",
      "Requirement already satisfied: setuptools in /Users/dgoalmeida/opt/anaconda3/lib/python3.8/site-packages (from spacy) (50.3.1.post20201107)\n",
      "Collecting preshed<3.1.0,>=3.0.2\n",
      "  Downloading preshed-3.0.5-cp38-cp38-macosx_10_9_x86_64.whl (105 kB)\n",
      "\u001b[K     |████████████████████████████████| 105 kB 34.7 MB/s eta 0:00:01\n",
      "\u001b[?25hCollecting murmurhash<1.1.0,>=0.28.0\n",
      "  Downloading murmurhash-1.0.5-cp38-cp38-macosx_10_9_x86_64.whl (18 kB)\n",
      "Requirement already satisfied: tqdm<5.0.0,>=4.38.0 in /Users/dgoalmeida/opt/anaconda3/lib/python3.8/site-packages (from spacy) (4.50.2)\n",
      "Collecting typer<0.4.0,>=0.3.0\n",
      "  Downloading typer-0.3.2-py3-none-any.whl (21 kB)\n",
      "Collecting cymem<2.1.0,>=2.0.2\n",
      "  Downloading cymem-2.0.5-cp38-cp38-macosx_10_9_x86_64.whl (31 kB)\n",
      "Requirement already satisfied: requests<3.0.0,>=2.13.0 in /Users/dgoalmeida/opt/anaconda3/lib/python3.8/site-packages (from spacy) (2.24.0)\n",
      "Collecting srsly<3.0.0,>=2.4.1\n",
      "  Downloading srsly-2.4.1-cp38-cp38-macosx_10_9_x86_64.whl (450 kB)\n",
      "\u001b[K     |████████████████████████████████| 450 kB 26.7 MB/s eta 0:00:01\n",
      "\u001b[?25hCollecting catalogue<2.1.0,>=2.0.3\n",
      "  Downloading catalogue-2.0.4-py3-none-any.whl (16 kB)\n",
      "Collecting pathy>=0.3.5\n",
      "  Downloading pathy-0.5.2-py3-none-any.whl (42 kB)\n",
      "\u001b[K     |████████████████████████████████| 42 kB 2.9 MB/s  eta 0:00:01\n",
      "\u001b[?25hRequirement already satisfied: numpy>=1.15.0 in /Users/dgoalmeida/opt/anaconda3/lib/python3.8/site-packages (from spacy) (1.19.2)\n",
      "Requirement already satisfied: packaging>=20.0 in /Users/dgoalmeida/opt/anaconda3/lib/python3.8/site-packages (from spacy) (20.4)\n",
      "Collecting pydantic<1.8.0,>=1.7.1\n",
      "  Downloading pydantic-1.7.4-cp38-cp38-macosx_10_9_x86_64.whl (2.4 MB)\n",
      "\u001b[K     |████████████████████████████████| 2.4 MB 29.1 MB/s eta 0:00:01\n",
      "\u001b[?25hCollecting blis<0.8.0,>=0.4.0\n",
      "  Downloading blis-0.7.4-cp38-cp38-macosx_10_9_x86_64.whl (5.8 MB)\n",
      "\u001b[K     |████████████████████████████████| 5.8 MB 10.0 MB/s eta 0:00:01\n",
      "\u001b[?25hCollecting sklearn\n",
      "  Downloading sklearn-0.0.tar.gz (1.1 kB)\n",
      "Collecting gensim\n",
      "  Downloading gensim-4.0.1-cp38-cp38-macosx_10_9_x86_64.whl (23.9 MB)\n",
      "\u001b[K     |████████████████████████████████| 23.9 MB 6.1 MB/s eta 0:00:011\n",
      "\u001b[?25hCollecting funcy\n",
      "  Downloading funcy-1.16-py2.py3-none-any.whl (32 kB)\n",
      "Collecting pandas>=1.2.0\n",
      "  Downloading pandas-1.2.4-cp38-cp38-macosx_10_9_x86_64.whl (10.5 MB)\n",
      "\u001b[K     |████████████████████████████████| 10.5 MB 18.8 MB/s eta 0:00:01\n",
      "\u001b[?25hRequirement already satisfied: scikit-learn in /Users/dgoalmeida/opt/anaconda3/lib/python3.8/site-packages (from pyLDAvis) (0.23.2)\n",
      "Requirement already satisfied: future in /Users/dgoalmeida/opt/anaconda3/lib/python3.8/site-packages (from pyLDAvis) (0.18.2)\n",
      "Requirement already satisfied: numexpr in /Users/dgoalmeida/opt/anaconda3/lib/python3.8/site-packages (from pyLDAvis) (2.7.1)\n",
      "Requirement already satisfied: scipy in /Users/dgoalmeida/opt/anaconda3/lib/python3.8/site-packages (from pyLDAvis) (1.5.2)\n",
      "Requirement already satisfied: joblib in /Users/dgoalmeida/opt/anaconda3/lib/python3.8/site-packages (from pyLDAvis) (0.17.0)\n",
      "Requirement already satisfied: MarkupSafe>=0.23 in /Users/dgoalmeida/opt/anaconda3/lib/python3.8/site-packages (from jinja2->spacy) (1.1.1)\n",
      "Requirement already satisfied: click<7.2.0,>=7.1.1 in /Users/dgoalmeida/opt/anaconda3/lib/python3.8/site-packages (from typer<0.4.0,>=0.3.0->spacy) (7.1.2)\n",
      "Requirement already satisfied: idna<3,>=2.5 in /Users/dgoalmeida/opt/anaconda3/lib/python3.8/site-packages (from requests<3.0.0,>=2.13.0->spacy) (2.10)\n",
      "Requirement already satisfied: urllib3!=1.25.0,!=1.25.1,<1.26,>=1.21.1 in /Users/dgoalmeida/opt/anaconda3/lib/python3.8/site-packages (from requests<3.0.0,>=2.13.0->spacy) (1.25.11)\n",
      "Requirement already satisfied: chardet<4,>=3.0.2 in /Users/dgoalmeida/opt/anaconda3/lib/python3.8/site-packages (from requests<3.0.0,>=2.13.0->spacy) (3.0.4)\n",
      "Requirement already satisfied: certifi>=2017.4.17 in /Users/dgoalmeida/opt/anaconda3/lib/python3.8/site-packages (from requests<3.0.0,>=2.13.0->spacy) (2020.6.20)\n",
      "Collecting smart-open<4.0.0,>=2.2.0\n",
      "  Downloading smart_open-3.0.0.tar.gz (113 kB)\n",
      "\u001b[K     |████████████████████████████████| 113 kB 77.6 MB/s eta 0:00:01\n",
      "\u001b[?25hRequirement already satisfied: six in /Users/dgoalmeida/opt/anaconda3/lib/python3.8/site-packages (from packaging>=20.0->spacy) (1.15.0)\n",
      "Requirement already satisfied: pyparsing>=2.0.2 in /Users/dgoalmeida/opt/anaconda3/lib/python3.8/site-packages (from packaging>=20.0->spacy) (2.4.7)\n",
      "Requirement already satisfied: python-dateutil>=2.7.3 in /Users/dgoalmeida/opt/anaconda3/lib/python3.8/site-packages (from pandas>=1.2.0->pyLDAvis) (2.8.1)\n",
      "Requirement already satisfied: pytz>=2017.3 in /Users/dgoalmeida/opt/anaconda3/lib/python3.8/site-packages (from pandas>=1.2.0->pyLDAvis) (2020.1)\n",
      "Requirement already satisfied: threadpoolctl>=2.0.0 in /Users/dgoalmeida/opt/anaconda3/lib/python3.8/site-packages (from scikit-learn->pyLDAvis) (2.1.0)\n",
      "Building wheels for collected packages: pyLDAvis, sklearn, smart-open\n",
      "  Building wheel for pyLDAvis (PEP 517) ... \u001b[?25ldone\n",
      "\u001b[?25h  Created wheel for pyLDAvis: filename=pyLDAvis-3.3.1-py2.py3-none-any.whl size=136897 sha256=53f4e05dd5e88e2c386c9c13620588563fa6ba2243ce0c03255921c0ce6da579\n",
      "  Stored in directory: /Users/dgoalmeida/Library/Caches/pip/wheels/90/61/ec/9dbe9efc3acf9c4e37ba70fbbcc3f3a0ebd121060aa593181a\n",
      "  Building wheel for sklearn (setup.py) ... \u001b[?25ldone\n",
      "\u001b[?25h  Created wheel for sklearn: filename=sklearn-0.0-py2.py3-none-any.whl size=1316 sha256=07821458cb4e8135e428768e0fd552af06491f7a3d196b7ee60b8fec1c9a94b7\n",
      "  Stored in directory: /Users/dgoalmeida/Library/Caches/pip/wheels/22/0b/40/fd3f795caaa1fb4c6cb738bc1f56100be1e57da95849bfc897\n",
      "  Building wheel for smart-open (setup.py) ... \u001b[?25ldone\n",
      "\u001b[?25h  Created wheel for smart-open: filename=smart_open-3.0.0-py3-none-any.whl size=107095 sha256=0829e47b074d0b30dd02f29e0a4d87b7b1e74b265f29091555a3765133f560aa\n",
      "  Stored in directory: /Users/dgoalmeida/Library/Caches/pip/wheels/11/73/9a/f91ac1f1816436b16423617c5be5db048697ff152a9c4346f2\n",
      "Successfully built pyLDAvis sklearn smart-open\n",
      "Installing collected packages: wasabi, catalogue, srsly, cymem, murmurhash, preshed, pydantic, blis, thinc, spacy-legacy, typer, smart-open, pathy, spacy, sklearn, gensim, funcy, pandas, pyLDAvis\n",
      "  Attempting uninstall: pandas\n",
      "    Found existing installation: pandas 1.1.3\n",
      "    Uninstalling pandas-1.1.3:\n",
      "      Successfully uninstalled pandas-1.1.3\n",
      "\u001b[31mERROR: After October 2020 you may experience errors when installing or updating packages. This is because pip will change the way that it resolves dependency conflicts.\n",
      "\n",
      "We recommend you use --use-feature=2020-resolver to test your packages with the new resolver before it becomes the default.\n",
      "\n",
      "pyldavis 3.3.1 requires numpy>=1.20.0, but you'll have numpy 1.19.2 which is incompatible.\u001b[0m\n",
      "Successfully installed blis-0.7.4 catalogue-2.0.4 cymem-2.0.5 funcy-1.16 gensim-4.0.1 murmurhash-1.0.5 pandas-1.2.4 pathy-0.5.2 preshed-3.0.5 pyLDAvis-3.3.1 pydantic-1.7.4 sklearn-0.0 smart-open-3.0.0 spacy-3.0.6 spacy-legacy-3.0.5 srsly-2.4.1 thinc-8.0.3 typer-0.3.2 wasabi-0.8.2\n"
     ]
    }
   ],
   "source": [
    "!pip install spacy pyLDAvis"
   ]
  },
  {
   "cell_type": "code",
   "execution_count": 2,
   "metadata": {},
   "outputs": [
    {
     "name": "stdout",
     "output_type": "stream",
     "text": [
      "Collecting pt-core-news-sm==3.0.0\n",
      "  Downloading https://github.com/explosion/spacy-models/releases/download/pt_core_news_sm-3.0.0/pt_core_news_sm-3.0.0-py3-none-any.whl (22.1 MB)\n",
      "\u001b[K     |████████████████████████████████| 22.1 MB 4.2 MB/s eta 0:00:01\n",
      "\u001b[?25hRequirement already satisfied: spacy<3.1.0,>=3.0.0 in /Users/dgoalmeida/opt/anaconda3/lib/python3.8/site-packages (from pt-core-news-sm==3.0.0) (3.0.6)\n",
      "Requirement already satisfied: preshed<3.1.0,>=3.0.2 in /Users/dgoalmeida/opt/anaconda3/lib/python3.8/site-packages (from spacy<3.1.0,>=3.0.0->pt-core-news-sm==3.0.0) (3.0.5)\n",
      "Requirement already satisfied: srsly<3.0.0,>=2.4.1 in /Users/dgoalmeida/opt/anaconda3/lib/python3.8/site-packages (from spacy<3.1.0,>=3.0.0->pt-core-news-sm==3.0.0) (2.4.1)\n",
      "Requirement already satisfied: wasabi<1.1.0,>=0.8.1 in /Users/dgoalmeida/opt/anaconda3/lib/python3.8/site-packages (from spacy<3.1.0,>=3.0.0->pt-core-news-sm==3.0.0) (0.8.2)\n",
      "Requirement already satisfied: blis<0.8.0,>=0.4.0 in /Users/dgoalmeida/opt/anaconda3/lib/python3.8/site-packages (from spacy<3.1.0,>=3.0.0->pt-core-news-sm==3.0.0) (0.7.4)\n",
      "Requirement already satisfied: murmurhash<1.1.0,>=0.28.0 in /Users/dgoalmeida/opt/anaconda3/lib/python3.8/site-packages (from spacy<3.1.0,>=3.0.0->pt-core-news-sm==3.0.0) (1.0.5)\n",
      "Requirement already satisfied: thinc<8.1.0,>=8.0.3 in /Users/dgoalmeida/opt/anaconda3/lib/python3.8/site-packages (from spacy<3.1.0,>=3.0.0->pt-core-news-sm==3.0.0) (8.0.3)\n",
      "Requirement already satisfied: requests<3.0.0,>=2.13.0 in /Users/dgoalmeida/opt/anaconda3/lib/python3.8/site-packages (from spacy<3.1.0,>=3.0.0->pt-core-news-sm==3.0.0) (2.24.0)\n",
      "Requirement already satisfied: cymem<2.1.0,>=2.0.2 in /Users/dgoalmeida/opt/anaconda3/lib/python3.8/site-packages (from spacy<3.1.0,>=3.0.0->pt-core-news-sm==3.0.0) (2.0.5)\n",
      "Requirement already satisfied: catalogue<2.1.0,>=2.0.3 in /Users/dgoalmeida/opt/anaconda3/lib/python3.8/site-packages (from spacy<3.1.0,>=3.0.0->pt-core-news-sm==3.0.0) (2.0.4)\n",
      "Requirement already satisfied: typer<0.4.0,>=0.3.0 in /Users/dgoalmeida/opt/anaconda3/lib/python3.8/site-packages (from spacy<3.1.0,>=3.0.0->pt-core-news-sm==3.0.0) (0.3.2)\n",
      "Requirement already satisfied: pydantic<1.8.0,>=1.7.1 in /Users/dgoalmeida/opt/anaconda3/lib/python3.8/site-packages (from spacy<3.1.0,>=3.0.0->pt-core-news-sm==3.0.0) (1.7.4)\n",
      "Requirement already satisfied: setuptools in /Users/dgoalmeida/opt/anaconda3/lib/python3.8/site-packages (from spacy<3.1.0,>=3.0.0->pt-core-news-sm==3.0.0) (50.3.1.post20201107)\n",
      "Requirement already satisfied: tqdm<5.0.0,>=4.38.0 in /Users/dgoalmeida/opt/anaconda3/lib/python3.8/site-packages (from spacy<3.1.0,>=3.0.0->pt-core-news-sm==3.0.0) (4.50.2)\n",
      "Requirement already satisfied: numpy>=1.15.0 in /Users/dgoalmeida/opt/anaconda3/lib/python3.8/site-packages (from spacy<3.1.0,>=3.0.0->pt-core-news-sm==3.0.0) (1.19.2)\n",
      "Requirement already satisfied: packaging>=20.0 in /Users/dgoalmeida/opt/anaconda3/lib/python3.8/site-packages (from spacy<3.1.0,>=3.0.0->pt-core-news-sm==3.0.0) (20.4)\n",
      "Requirement already satisfied: spacy-legacy<3.1.0,>=3.0.4 in /Users/dgoalmeida/opt/anaconda3/lib/python3.8/site-packages (from spacy<3.1.0,>=3.0.0->pt-core-news-sm==3.0.0) (3.0.5)\n",
      "Requirement already satisfied: jinja2 in /Users/dgoalmeida/opt/anaconda3/lib/python3.8/site-packages (from spacy<3.1.0,>=3.0.0->pt-core-news-sm==3.0.0) (2.11.2)\n",
      "Requirement already satisfied: pathy>=0.3.5 in /Users/dgoalmeida/opt/anaconda3/lib/python3.8/site-packages (from spacy<3.1.0,>=3.0.0->pt-core-news-sm==3.0.0) (0.5.2)\n",
      "Requirement already satisfied: certifi>=2017.4.17 in /Users/dgoalmeida/opt/anaconda3/lib/python3.8/site-packages (from requests<3.0.0,>=2.13.0->spacy<3.1.0,>=3.0.0->pt-core-news-sm==3.0.0) (2020.6.20)\n",
      "Requirement already satisfied: urllib3!=1.25.0,!=1.25.1,<1.26,>=1.21.1 in /Users/dgoalmeida/opt/anaconda3/lib/python3.8/site-packages (from requests<3.0.0,>=2.13.0->spacy<3.1.0,>=3.0.0->pt-core-news-sm==3.0.0) (1.25.11)\n",
      "Requirement already satisfied: idna<3,>=2.5 in /Users/dgoalmeida/opt/anaconda3/lib/python3.8/site-packages (from requests<3.0.0,>=2.13.0->spacy<3.1.0,>=3.0.0->pt-core-news-sm==3.0.0) (2.10)\n",
      "Requirement already satisfied: chardet<4,>=3.0.2 in /Users/dgoalmeida/opt/anaconda3/lib/python3.8/site-packages (from requests<3.0.0,>=2.13.0->spacy<3.1.0,>=3.0.0->pt-core-news-sm==3.0.0) (3.0.4)\n",
      "Requirement already satisfied: click<7.2.0,>=7.1.1 in /Users/dgoalmeida/opt/anaconda3/lib/python3.8/site-packages (from typer<0.4.0,>=0.3.0->spacy<3.1.0,>=3.0.0->pt-core-news-sm==3.0.0) (7.1.2)\n",
      "Requirement already satisfied: pyparsing>=2.0.2 in /Users/dgoalmeida/opt/anaconda3/lib/python3.8/site-packages (from packaging>=20.0->spacy<3.1.0,>=3.0.0->pt-core-news-sm==3.0.0) (2.4.7)\n",
      "Requirement already satisfied: six in /Users/dgoalmeida/opt/anaconda3/lib/python3.8/site-packages (from packaging>=20.0->spacy<3.1.0,>=3.0.0->pt-core-news-sm==3.0.0) (1.15.0)\n",
      "Requirement already satisfied: MarkupSafe>=0.23 in /Users/dgoalmeida/opt/anaconda3/lib/python3.8/site-packages (from jinja2->spacy<3.1.0,>=3.0.0->pt-core-news-sm==3.0.0) (1.1.1)\n",
      "Requirement already satisfied: smart-open<4.0.0,>=2.2.0 in /Users/dgoalmeida/opt/anaconda3/lib/python3.8/site-packages (from pathy>=0.3.5->spacy<3.1.0,>=3.0.0->pt-core-news-sm==3.0.0) (3.0.0)\n",
      "Installing collected packages: pt-core-news-sm\n",
      "Successfully installed pt-core-news-sm-3.0.0\n",
      "\u001b[38;5;2m✔ Download and installation successful\u001b[0m\n",
      "You can now load the package via spacy.load('pt_core_news_sm')\n"
     ]
    }
   ],
   "source": [
    "!python -m spacy download pt_core_news_sm"
   ]
  },
  {
   "cell_type": "code",
   "execution_count": 3,
   "metadata": {},
   "outputs": [],
   "source": [
    "import pandas as pd\n",
    "import matplotlib.pyplot as plt\n",
    "import spacy\n",
    "import nltk\n",
    "import re\n",
    "from nltk import word_tokenize\n",
    "from nltk.util import ngrams\n",
    "from sklearn.decomposition import LatentDirichletAllocation\n",
    "from sklearn.feature_extraction.text import CountVectorizer\n",
    "from collections import Counter\n",
    "\n",
    "import warnings\n",
    "warnings.filterwarnings('ignore')"
   ]
  },
  {
   "cell_type": "code",
   "execution_count": 5,
   "metadata": {},
   "outputs": [
    {
     "name": "stderr",
     "output_type": "stream",
     "text": [
      "[nltk_data] Downloading package punkt to\n",
      "[nltk_data]     /Users/dgoalmeida/nltk_data...\n",
      "[nltk_data]   Package punkt is already up-to-date!\n"
     ]
    },
    {
     "data": {
      "text/plain": [
       "True"
      ]
     },
     "execution_count": 5,
     "metadata": {},
     "output_type": "execute_result"
    }
   ],
   "source": [
    "nltk.download('punkt')"
   ]
  },
  {
   "cell_type": "markdown",
   "metadata": {},
   "source": [
    "### Conjunto de dados"
   ]
  },
  {
   "cell_type": "code",
   "execution_count": 6,
   "metadata": {},
   "outputs": [],
   "source": [
    "# csv do kaggle https://www.kaggle.com/marlesson/news-of-the-site-folhauol\n",
    "news = pd.read_csv('/Users/dgoalmeida/Documents/datascience/data/articles.csv')"
   ]
  },
  {
   "cell_type": "code",
   "execution_count": 7,
   "metadata": {},
   "outputs": [
    {
     "data": {
      "text/html": [
       "<div>\n",
       "<style scoped>\n",
       "    .dataframe tbody tr th:only-of-type {\n",
       "        vertical-align: middle;\n",
       "    }\n",
       "\n",
       "    .dataframe tbody tr th {\n",
       "        vertical-align: top;\n",
       "    }\n",
       "\n",
       "    .dataframe thead th {\n",
       "        text-align: right;\n",
       "    }\n",
       "</style>\n",
       "<table border=\"1\" class=\"dataframe\">\n",
       "  <thead>\n",
       "    <tr style=\"text-align: right;\">\n",
       "      <th></th>\n",
       "      <th>title</th>\n",
       "      <th>text</th>\n",
       "      <th>date</th>\n",
       "      <th>category</th>\n",
       "      <th>subcategory</th>\n",
       "      <th>link</th>\n",
       "    </tr>\n",
       "  </thead>\n",
       "  <tbody>\n",
       "    <tr>\n",
       "      <th>0</th>\n",
       "      <td>Lula diz que está 'lascado', mas que ainda tem...</td>\n",
       "      <td>Com a possibilidade de uma condenação impedir ...</td>\n",
       "      <td>2017-09-10</td>\n",
       "      <td>poder</td>\n",
       "      <td>NaN</td>\n",
       "      <td>http://www1.folha.uol.com.br/poder/2017/10/192...</td>\n",
       "    </tr>\n",
       "    <tr>\n",
       "      <th>1</th>\n",
       "      <td>'Decidi ser escrava das mulheres que sofrem', ...</td>\n",
       "      <td>Para Oumou Sangaré, cantora e ativista malines...</td>\n",
       "      <td>2017-09-10</td>\n",
       "      <td>ilustrada</td>\n",
       "      <td>NaN</td>\n",
       "      <td>http://www1.folha.uol.com.br/ilustrada/2017/10...</td>\n",
       "    </tr>\n",
       "    <tr>\n",
       "      <th>2</th>\n",
       "      <td>Três reportagens da Folha ganham Prêmio Petrob...</td>\n",
       "      <td>Três reportagens da Folha foram vencedoras do ...</td>\n",
       "      <td>2017-09-10</td>\n",
       "      <td>poder</td>\n",
       "      <td>NaN</td>\n",
       "      <td>http://www1.folha.uol.com.br/poder/2017/10/192...</td>\n",
       "    </tr>\n",
       "    <tr>\n",
       "      <th>3</th>\n",
       "      <td>Filme 'Star Wars: Os Últimos Jedi' ganha trail...</td>\n",
       "      <td>A Disney divulgou na noite desta segunda-feira...</td>\n",
       "      <td>2017-09-10</td>\n",
       "      <td>ilustrada</td>\n",
       "      <td>NaN</td>\n",
       "      <td>http://www1.folha.uol.com.br/ilustrada/2017/10...</td>\n",
       "    </tr>\n",
       "    <tr>\n",
       "      <th>4</th>\n",
       "      <td>CBSS inicia acordos com fintechs e quer 30% do...</td>\n",
       "      <td>O CBSS, banco da holding Elopar dos sócios Bra...</td>\n",
       "      <td>2017-09-10</td>\n",
       "      <td>mercado</td>\n",
       "      <td>NaN</td>\n",
       "      <td>http://www1.folha.uol.com.br/mercado/2017/10/1...</td>\n",
       "    </tr>\n",
       "  </tbody>\n",
       "</table>\n",
       "</div>"
      ],
      "text/plain": [
       "                                               title  \\\n",
       "0  Lula diz que está 'lascado', mas que ainda tem...   \n",
       "1  'Decidi ser escrava das mulheres que sofrem', ...   \n",
       "2  Três reportagens da Folha ganham Prêmio Petrob...   \n",
       "3  Filme 'Star Wars: Os Últimos Jedi' ganha trail...   \n",
       "4  CBSS inicia acordos com fintechs e quer 30% do...   \n",
       "\n",
       "                                                text        date   category  \\\n",
       "0  Com a possibilidade de uma condenação impedir ...  2017-09-10      poder   \n",
       "1  Para Oumou Sangaré, cantora e ativista malines...  2017-09-10  ilustrada   \n",
       "2  Três reportagens da Folha foram vencedoras do ...  2017-09-10      poder   \n",
       "3  A Disney divulgou na noite desta segunda-feira...  2017-09-10  ilustrada   \n",
       "4  O CBSS, banco da holding Elopar dos sócios Bra...  2017-09-10    mercado   \n",
       "\n",
       "  subcategory                                               link  \n",
       "0         NaN  http://www1.folha.uol.com.br/poder/2017/10/192...  \n",
       "1         NaN  http://www1.folha.uol.com.br/ilustrada/2017/10...  \n",
       "2         NaN  http://www1.folha.uol.com.br/poder/2017/10/192...  \n",
       "3         NaN  http://www1.folha.uol.com.br/ilustrada/2017/10...  \n",
       "4         NaN  http://www1.folha.uol.com.br/mercado/2017/10/1...  "
      ]
     },
     "execution_count": 7,
     "metadata": {},
     "output_type": "execute_result"
    }
   ],
   "source": [
    "news.head()"
   ]
  },
  {
   "cell_type": "markdown",
   "metadata": {},
   "source": [
    "### filtrar por turismo"
   ]
  },
  {
   "cell_type": "code",
   "execution_count": 8,
   "metadata": {},
   "outputs": [],
   "source": [
    "turismo = news[news['category'] == 'turismo']"
   ]
  },
  {
   "cell_type": "code",
   "execution_count": 9,
   "metadata": {},
   "outputs": [
    {
     "name": "stdout",
     "output_type": "stream",
     "text": [
      "<class 'pandas.core.frame.DataFrame'>\n",
      "Int64Index: 1903 entries, 381 to 167031\n",
      "Data columns (total 6 columns):\n",
      " #   Column       Non-Null Count  Dtype \n",
      "---  ------       --------------  ----- \n",
      " 0   title        1903 non-null   object\n",
      " 1   text         1903 non-null   object\n",
      " 2   date         1903 non-null   object\n",
      " 3   category     1903 non-null   object\n",
      " 4   subcategory  0 non-null      object\n",
      " 5   link         1903 non-null   object\n",
      "dtypes: object(6)\n",
      "memory usage: 104.1+ KB\n"
     ]
    }
   ],
   "source": [
    "turismo.info()"
   ]
  },
  {
   "cell_type": "code",
   "execution_count": 10,
   "metadata": {},
   "outputs": [],
   "source": [
    "def limpa_texto(texto):\n",
    "    # remove caracreres no fim de uma linha\n",
    "    c = re.sub(r'\\n', ' ', texto)\n",
    "    c = re.sub(r'\\r', ' ', c)\n",
    "    \n",
    "    # remove caracteres alfanumericos\n",
    "    c = c.replace(':', '')\n",
    "    # removendo barra caso exista no texto\n",
    "    c = c.replace('/', '')\n",
    "    # removendo R$ por vazio\n",
    "    c = re.sub(r'R\\$', '', c)\n",
    "    c = re.sub(r'\\W', ' ', c)\n",
    "    \n",
    "    ## removendo multiplos espaços\n",
    "    c = re.sub(r'\\s+',' ', c)\n",
    "    \n",
    "    ## dando um trim na frase (removendo espaços no inicio e final de uma frase)\n",
    "    c = re.sub(r'^\\s+','', c)\n",
    "    c = re.sub(r'\\s+$','', c)\n",
    "    \n",
    "    return c.lower()"
   ]
  },
  {
   "cell_type": "code",
   "execution_count": 11,
   "metadata": {},
   "outputs": [],
   "source": [
    "from spacy.lang.pt import Portuguese"
   ]
  },
  {
   "cell_type": "code",
   "execution_count": 12,
   "metadata": {},
   "outputs": [],
   "source": [
    "STOP_WORDS = spacy.lang.pt.stop_words.STOP_WORDS"
   ]
  },
  {
   "cell_type": "code",
   "execution_count": 13,
   "metadata": {},
   "outputs": [
    {
     "data": {
      "text/plain": [
       "{'a',\n",
       " 'acerca',\n",
       " 'ademais',\n",
       " 'adeus',\n",
       " 'agora',\n",
       " 'ainda',\n",
       " 'algo',\n",
       " 'algumas',\n",
       " 'alguns',\n",
       " 'ali',\n",
       " 'além',\n",
       " 'ambas',\n",
       " 'ambos',\n",
       " 'antes',\n",
       " 'ao',\n",
       " 'aos',\n",
       " 'apenas',\n",
       " 'apoia',\n",
       " 'apoio',\n",
       " 'apontar',\n",
       " 'após',\n",
       " 'aquela',\n",
       " 'aquelas',\n",
       " 'aquele',\n",
       " 'aqueles',\n",
       " 'aqui',\n",
       " 'aquilo',\n",
       " 'as',\n",
       " 'assim',\n",
       " 'através',\n",
       " 'atrás',\n",
       " 'até',\n",
       " 'aí',\n",
       " 'baixo',\n",
       " 'bastante',\n",
       " 'bem',\n",
       " 'boa',\n",
       " 'bom',\n",
       " 'breve',\n",
       " 'cada',\n",
       " 'caminho',\n",
       " 'catorze',\n",
       " 'cedo',\n",
       " 'cento',\n",
       " 'certamente',\n",
       " 'certeza',\n",
       " 'cima',\n",
       " 'cinco',\n",
       " 'coisa',\n",
       " 'com',\n",
       " 'como',\n",
       " 'comprida',\n",
       " 'comprido',\n",
       " 'conhecida',\n",
       " 'conhecido',\n",
       " 'conselho',\n",
       " 'contra',\n",
       " 'contudo',\n",
       " 'corrente',\n",
       " 'cuja',\n",
       " 'cujo',\n",
       " 'custa',\n",
       " 'cá',\n",
       " 'da',\n",
       " 'daquela',\n",
       " 'daquele',\n",
       " 'dar',\n",
       " 'das',\n",
       " 'de',\n",
       " 'debaixo',\n",
       " 'demais',\n",
       " 'dentro',\n",
       " 'depois',\n",
       " 'des',\n",
       " 'desde',\n",
       " 'dessa',\n",
       " 'desse',\n",
       " 'desta',\n",
       " 'deste',\n",
       " 'deve',\n",
       " 'devem',\n",
       " 'deverá',\n",
       " 'dez',\n",
       " 'dezanove',\n",
       " 'dezasseis',\n",
       " 'dezassete',\n",
       " 'dezoito',\n",
       " 'diante',\n",
       " 'direita',\n",
       " 'disso',\n",
       " 'diz',\n",
       " 'dizem',\n",
       " 'dizer',\n",
       " 'do',\n",
       " 'dois',\n",
       " 'dos',\n",
       " 'doze',\n",
       " 'duas',\n",
       " 'dá',\n",
       " 'dão',\n",
       " 'e',\n",
       " 'ela',\n",
       " 'elas',\n",
       " 'ele',\n",
       " 'eles',\n",
       " 'em',\n",
       " 'embora',\n",
       " 'enquanto',\n",
       " 'entre',\n",
       " 'então',\n",
       " 'era',\n",
       " 'essa',\n",
       " 'essas',\n",
       " 'esse',\n",
       " 'esses',\n",
       " 'esta',\n",
       " 'estado',\n",
       " 'estar',\n",
       " 'estará',\n",
       " 'estas',\n",
       " 'estava',\n",
       " 'este',\n",
       " 'estes',\n",
       " 'esteve',\n",
       " 'estive',\n",
       " 'estivemos',\n",
       " 'estiveram',\n",
       " 'estiveste',\n",
       " 'estivestes',\n",
       " 'estou',\n",
       " 'está',\n",
       " 'estás',\n",
       " 'estão',\n",
       " 'eu',\n",
       " 'eventual',\n",
       " 'exemplo',\n",
       " 'falta',\n",
       " 'fará',\n",
       " 'favor',\n",
       " 'faz',\n",
       " 'fazeis',\n",
       " 'fazem',\n",
       " 'fazemos',\n",
       " 'fazer',\n",
       " 'fazes',\n",
       " 'fazia',\n",
       " 'faço',\n",
       " 'fez',\n",
       " 'fim',\n",
       " 'final',\n",
       " 'foi',\n",
       " 'fomos',\n",
       " 'for',\n",
       " 'fora',\n",
       " 'foram',\n",
       " 'forma',\n",
       " 'foste',\n",
       " 'fostes',\n",
       " 'fui',\n",
       " 'geral',\n",
       " 'grande',\n",
       " 'grandes',\n",
       " 'grupo',\n",
       " 'inclusive',\n",
       " 'iniciar',\n",
       " 'inicio',\n",
       " 'ir',\n",
       " 'irá',\n",
       " 'isso',\n",
       " 'isto',\n",
       " 'já',\n",
       " 'lado',\n",
       " 'lhe',\n",
       " 'ligado',\n",
       " 'local',\n",
       " 'logo',\n",
       " 'longe',\n",
       " 'lugar',\n",
       " 'lá',\n",
       " 'maior',\n",
       " 'maioria',\n",
       " 'maiorias',\n",
       " 'mais',\n",
       " 'mal',\n",
       " 'mas',\n",
       " 'me',\n",
       " 'meio',\n",
       " 'menor',\n",
       " 'menos',\n",
       " 'meses',\n",
       " 'mesmo',\n",
       " 'meu',\n",
       " 'meus',\n",
       " 'mil',\n",
       " 'minha',\n",
       " 'minhas',\n",
       " 'momento',\n",
       " 'muito',\n",
       " 'muitos',\n",
       " 'máximo',\n",
       " 'mês',\n",
       " 'na',\n",
       " 'nada',\n",
       " 'naquela',\n",
       " 'naquele',\n",
       " 'nas',\n",
       " 'nem',\n",
       " 'nenhuma',\n",
       " 'nessa',\n",
       " 'nesse',\n",
       " 'nesta',\n",
       " 'neste',\n",
       " 'no',\n",
       " 'nos',\n",
       " 'nossa',\n",
       " 'nossas',\n",
       " 'nosso',\n",
       " 'nossos',\n",
       " 'nova',\n",
       " 'novas',\n",
       " 'nove',\n",
       " 'novo',\n",
       " 'novos',\n",
       " 'num',\n",
       " 'numa',\n",
       " 'nunca',\n",
       " 'nuns',\n",
       " 'não',\n",
       " 'nível',\n",
       " 'nós',\n",
       " 'número',\n",
       " 'números',\n",
       " 'o',\n",
       " 'obrigada',\n",
       " 'obrigado',\n",
       " 'oitava',\n",
       " 'oitavo',\n",
       " 'oito',\n",
       " 'onde',\n",
       " 'ontem',\n",
       " 'onze',\n",
       " 'ora',\n",
       " 'os',\n",
       " 'ou',\n",
       " 'outra',\n",
       " 'outras',\n",
       " 'outros',\n",
       " 'para',\n",
       " 'parece',\n",
       " 'parte',\n",
       " 'partir',\n",
       " 'pegar',\n",
       " 'pela',\n",
       " 'pelas',\n",
       " 'pelo',\n",
       " 'pelos',\n",
       " 'perto',\n",
       " 'pode',\n",
       " 'podem',\n",
       " 'poder',\n",
       " 'poderá',\n",
       " 'podia',\n",
       " 'pois',\n",
       " 'ponto',\n",
       " 'pontos',\n",
       " 'por',\n",
       " 'porquanto',\n",
       " 'porque',\n",
       " 'porquê',\n",
       " 'portanto',\n",
       " 'porém',\n",
       " 'posição',\n",
       " 'possivelmente',\n",
       " 'posso',\n",
       " 'possível',\n",
       " 'pouca',\n",
       " 'pouco',\n",
       " 'povo',\n",
       " 'primeira',\n",
       " 'primeiro',\n",
       " 'próprio',\n",
       " 'próxima',\n",
       " 'próximo',\n",
       " 'puderam',\n",
       " 'pôde',\n",
       " 'põe',\n",
       " 'põem',\n",
       " 'quais',\n",
       " 'qual',\n",
       " 'qualquer',\n",
       " 'quando',\n",
       " 'quanto',\n",
       " 'quarta',\n",
       " 'quarto',\n",
       " 'quatro',\n",
       " 'que',\n",
       " 'quem',\n",
       " 'quer',\n",
       " 'querem',\n",
       " 'quero',\n",
       " 'questão',\n",
       " 'quieta',\n",
       " 'quieto',\n",
       " 'quinta',\n",
       " 'quinto',\n",
       " 'quinze',\n",
       " 'quê',\n",
       " 'relação',\n",
       " 'sabe',\n",
       " 'saber',\n",
       " 'se',\n",
       " 'segunda',\n",
       " 'segundo',\n",
       " 'sei',\n",
       " 'seis',\n",
       " 'sem',\n",
       " 'sempre',\n",
       " 'ser',\n",
       " 'seria',\n",
       " 'sete',\n",
       " 'seu',\n",
       " 'seus',\n",
       " 'sexta',\n",
       " 'sexto',\n",
       " 'sim',\n",
       " 'sistema',\n",
       " 'sob',\n",
       " 'sobre',\n",
       " 'sois',\n",
       " 'somente',\n",
       " 'somos',\n",
       " 'sou',\n",
       " 'sua',\n",
       " 'suas',\n",
       " 'são',\n",
       " 'sétima',\n",
       " 'sétimo',\n",
       " 'só',\n",
       " 'tais',\n",
       " 'tal',\n",
       " 'talvez',\n",
       " 'também',\n",
       " 'tanta',\n",
       " 'tanto',\n",
       " 'tarde',\n",
       " 'te',\n",
       " 'tem',\n",
       " 'temos',\n",
       " 'tempo',\n",
       " 'tendes',\n",
       " 'tenho',\n",
       " 'tens',\n",
       " 'tentar',\n",
       " 'tentaram',\n",
       " 'tente',\n",
       " 'tentei',\n",
       " 'ter',\n",
       " 'terceira',\n",
       " 'terceiro',\n",
       " 'teu',\n",
       " 'teus',\n",
       " 'teve',\n",
       " 'tipo',\n",
       " 'tive',\n",
       " 'tivemos',\n",
       " 'tiveram',\n",
       " 'tiveste',\n",
       " 'tivestes',\n",
       " 'toda',\n",
       " 'todas',\n",
       " 'todo',\n",
       " 'todos',\n",
       " 'treze',\n",
       " 'três',\n",
       " 'tu',\n",
       " 'tua',\n",
       " 'tuas',\n",
       " 'tudo',\n",
       " 'tão',\n",
       " 'têm',\n",
       " 'um',\n",
       " 'uma',\n",
       " 'umas',\n",
       " 'uns',\n",
       " 'usa',\n",
       " 'usar',\n",
       " 'vai',\n",
       " 'vais',\n",
       " 'valor',\n",
       " 'veja',\n",
       " 'vem',\n",
       " 'vens',\n",
       " 'ver',\n",
       " 'vez',\n",
       " 'vezes',\n",
       " 'vinda',\n",
       " 'vindo',\n",
       " 'vinte',\n",
       " 'você',\n",
       " 'vocês',\n",
       " 'vos',\n",
       " 'vossa',\n",
       " 'vossas',\n",
       " 'vosso',\n",
       " 'vossos',\n",
       " 'vários',\n",
       " 'vão',\n",
       " 'vêm',\n",
       " 'vós',\n",
       " 'zero',\n",
       " 'à',\n",
       " 'às',\n",
       " 'área',\n",
       " 'é',\n",
       " 'és',\n",
       " 'último'}"
      ]
     },
     "execution_count": 13,
     "metadata": {},
     "output_type": "execute_result"
    }
   ],
   "source": [
    "STOP_WORDS"
   ]
  },
  {
   "cell_type": "code",
   "execution_count": 14,
   "metadata": {},
   "outputs": [],
   "source": [
    "def remove_stop(texto):\n",
    "    doc = nlpt_pt(texto)\n",
    "    return \" \".join(x.text for x in doc if x.text not in STOP_WORDS)"
   ]
  },
  {
   "cell_type": "code",
   "execution_count": 15,
   "metadata": {},
   "outputs": [],
   "source": [
    "def limpa_texto2(texto):\n",
    "    doc = nlpt_pt(texto)\n",
    "    return \" \".join(x.lemma_ for x in doc if x.text not in STOP_WORDS)"
   ]
  },
  {
   "cell_type": "markdown",
   "metadata": {},
   "source": [
    "### Analise exploratória"
   ]
  },
  {
   "cell_type": "markdown",
   "metadata": {},
   "source": [
    "1. número de palavras no titulo das noticias"
   ]
  },
  {
   "cell_type": "code",
   "execution_count": 16,
   "metadata": {},
   "outputs": [],
   "source": [
    "turismo['title_n_words'] = turismo['title'].apply(lambda x : len(x.split()))"
   ]
  },
  {
   "cell_type": "code",
   "execution_count": 17,
   "metadata": {},
   "outputs": [
    {
     "data": {
      "text/html": [
       "<div>\n",
       "<style scoped>\n",
       "    .dataframe tbody tr th:only-of-type {\n",
       "        vertical-align: middle;\n",
       "    }\n",
       "\n",
       "    .dataframe tbody tr th {\n",
       "        vertical-align: top;\n",
       "    }\n",
       "\n",
       "    .dataframe thead th {\n",
       "        text-align: right;\n",
       "    }\n",
       "</style>\n",
       "<table border=\"1\" class=\"dataframe\">\n",
       "  <thead>\n",
       "    <tr style=\"text-align: right;\">\n",
       "      <th></th>\n",
       "      <th>title</th>\n",
       "      <th>text</th>\n",
       "      <th>date</th>\n",
       "      <th>category</th>\n",
       "      <th>subcategory</th>\n",
       "      <th>link</th>\n",
       "      <th>title_n_words</th>\n",
       "    </tr>\n",
       "  </thead>\n",
       "  <tbody>\n",
       "    <tr>\n",
       "      <th>381</th>\n",
       "      <td>Latam inaugura voo direto de 15 horas entre Ch...</td>\n",
       "      <td>Animem-se os que pretendem cruzar o Pacífico e...</td>\n",
       "      <td>2017-06-10</td>\n",
       "      <td>turismo</td>\n",
       "      <td>NaN</td>\n",
       "      <td>http://www1.folha.uol.com.br/turismo/2017/10/1...</td>\n",
       "      <td>11</td>\n",
       "    </tr>\n",
       "    <tr>\n",
       "      <th>414</th>\n",
       "      <td>Turismo de Las Vegas deve se recuperar em mese...</td>\n",
       "      <td>O massacre em Las Vegas afetará o turismo da c...</td>\n",
       "      <td>2017-06-10</td>\n",
       "      <td>turismo</td>\n",
       "      <td>NaN</td>\n",
       "      <td>http://www1.folha.uol.com.br/turismo/2017/10/1...</td>\n",
       "      <td>11</td>\n",
       "    </tr>\n",
       "    <tr>\n",
       "      <th>522</th>\n",
       "      <td>Brasileiro cria app para economizar no passeio...</td>\n",
       "      <td>Com cerca de 50 mil visitantes por dia, Veneza...</td>\n",
       "      <td>2017-05-10</td>\n",
       "      <td>turismo</td>\n",
       "      <td>NaN</td>\n",
       "      <td>http://www1.folha.uol.com.br/turismo/2017/10/1...</td>\n",
       "      <td>11</td>\n",
       "    </tr>\n",
       "    <tr>\n",
       "      <th>602</th>\n",
       "      <td>AirBnB passa a fazer reserva de restaurantes</td>\n",
       "      <td>A plataforma de hospedagem Airbnb anunciou que...</td>\n",
       "      <td>2017-05-10</td>\n",
       "      <td>turismo</td>\n",
       "      <td>NaN</td>\n",
       "      <td>http://www1.folha.uol.com.br/turismo/2017/10/1...</td>\n",
       "      <td>7</td>\n",
       "    </tr>\n",
       "    <tr>\n",
       "      <th>609</th>\n",
       "      <td>Museus lembram quatro décadas de opressão sovi...</td>\n",
       "      <td>Nos países que viveram sob a órbita da União S...</td>\n",
       "      <td>2017-05-10</td>\n",
       "      <td>turismo</td>\n",
       "      <td>NaN</td>\n",
       "      <td>http://www1.folha.uol.com.br/turismo/2017/10/1...</td>\n",
       "      <td>10</td>\n",
       "    </tr>\n",
       "  </tbody>\n",
       "</table>\n",
       "</div>"
      ],
      "text/plain": [
       "                                                 title  \\\n",
       "381  Latam inaugura voo direto de 15 horas entre Ch...   \n",
       "414  Turismo de Las Vegas deve se recuperar em mese...   \n",
       "522  Brasileiro cria app para economizar no passeio...   \n",
       "602       AirBnB passa a fazer reserva de restaurantes   \n",
       "609  Museus lembram quatro décadas de opressão sovi...   \n",
       "\n",
       "                                                  text        date category  \\\n",
       "381  Animem-se os que pretendem cruzar o Pacífico e...  2017-06-10  turismo   \n",
       "414  O massacre em Las Vegas afetará o turismo da c...  2017-06-10  turismo   \n",
       "522  Com cerca de 50 mil visitantes por dia, Veneza...  2017-05-10  turismo   \n",
       "602  A plataforma de hospedagem Airbnb anunciou que...  2017-05-10  turismo   \n",
       "609  Nos países que viveram sob a órbita da União S...  2017-05-10  turismo   \n",
       "\n",
       "    subcategory                                               link  \\\n",
       "381         NaN  http://www1.folha.uol.com.br/turismo/2017/10/1...   \n",
       "414         NaN  http://www1.folha.uol.com.br/turismo/2017/10/1...   \n",
       "522         NaN  http://www1.folha.uol.com.br/turismo/2017/10/1...   \n",
       "602         NaN  http://www1.folha.uol.com.br/turismo/2017/10/1...   \n",
       "609         NaN  http://www1.folha.uol.com.br/turismo/2017/10/1...   \n",
       "\n",
       "     title_n_words  \n",
       "381             11  \n",
       "414             11  \n",
       "522             11  \n",
       "602              7  \n",
       "609             10  "
      ]
     },
     "execution_count": 17,
     "metadata": {},
     "output_type": "execute_result"
    }
   ],
   "source": [
    "turismo.head()"
   ]
  },
  {
   "cell_type": "markdown",
   "metadata": {},
   "source": [
    "2. número de letras no titulo das noticias"
   ]
  },
  {
   "cell_type": "code",
   "execution_count": 18,
   "metadata": {},
   "outputs": [],
   "source": [
    "turismo['title_n_chars'] = turismo['title'].apply(lambda x : len(x.replace(\" \",\"\")))"
   ]
  },
  {
   "cell_type": "code",
   "execution_count": 19,
   "metadata": {},
   "outputs": [
    {
     "data": {
      "text/html": [
       "<div>\n",
       "<style scoped>\n",
       "    .dataframe tbody tr th:only-of-type {\n",
       "        vertical-align: middle;\n",
       "    }\n",
       "\n",
       "    .dataframe tbody tr th {\n",
       "        vertical-align: top;\n",
       "    }\n",
       "\n",
       "    .dataframe thead th {\n",
       "        text-align: right;\n",
       "    }\n",
       "</style>\n",
       "<table border=\"1\" class=\"dataframe\">\n",
       "  <thead>\n",
       "    <tr style=\"text-align: right;\">\n",
       "      <th></th>\n",
       "      <th>title</th>\n",
       "      <th>text</th>\n",
       "      <th>date</th>\n",
       "      <th>category</th>\n",
       "      <th>subcategory</th>\n",
       "      <th>link</th>\n",
       "      <th>title_n_words</th>\n",
       "      <th>title_n_chars</th>\n",
       "    </tr>\n",
       "  </thead>\n",
       "  <tbody>\n",
       "    <tr>\n",
       "      <th>381</th>\n",
       "      <td>Latam inaugura voo direto de 15 horas entre Ch...</td>\n",
       "      <td>Animem-se os que pretendem cruzar o Pacífico e...</td>\n",
       "      <td>2017-06-10</td>\n",
       "      <td>turismo</td>\n",
       "      <td>NaN</td>\n",
       "      <td>http://www1.folha.uol.com.br/turismo/2017/10/1...</td>\n",
       "      <td>11</td>\n",
       "      <td>51</td>\n",
       "    </tr>\n",
       "    <tr>\n",
       "      <th>414</th>\n",
       "      <td>Turismo de Las Vegas deve se recuperar em mese...</td>\n",
       "      <td>O massacre em Las Vegas afetará o turismo da c...</td>\n",
       "      <td>2017-06-10</td>\n",
       "      <td>turismo</td>\n",
       "      <td>NaN</td>\n",
       "      <td>http://www1.folha.uol.com.br/turismo/2017/10/1...</td>\n",
       "      <td>11</td>\n",
       "      <td>54</td>\n",
       "    </tr>\n",
       "    <tr>\n",
       "      <th>522</th>\n",
       "      <td>Brasileiro cria app para economizar no passeio...</td>\n",
       "      <td>Com cerca de 50 mil visitantes por dia, Veneza...</td>\n",
       "      <td>2017-05-10</td>\n",
       "      <td>turismo</td>\n",
       "      <td>NaN</td>\n",
       "      <td>http://www1.folha.uol.com.br/turismo/2017/10/1...</td>\n",
       "      <td>11</td>\n",
       "      <td>58</td>\n",
       "    </tr>\n",
       "    <tr>\n",
       "      <th>602</th>\n",
       "      <td>AirBnB passa a fazer reserva de restaurantes</td>\n",
       "      <td>A plataforma de hospedagem Airbnb anunciou que...</td>\n",
       "      <td>2017-05-10</td>\n",
       "      <td>turismo</td>\n",
       "      <td>NaN</td>\n",
       "      <td>http://www1.folha.uol.com.br/turismo/2017/10/1...</td>\n",
       "      <td>7</td>\n",
       "      <td>38</td>\n",
       "    </tr>\n",
       "    <tr>\n",
       "      <th>609</th>\n",
       "      <td>Museus lembram quatro décadas de opressão sovi...</td>\n",
       "      <td>Nos países que viveram sob a órbita da União S...</td>\n",
       "      <td>2017-05-10</td>\n",
       "      <td>turismo</td>\n",
       "      <td>NaN</td>\n",
       "      <td>http://www1.folha.uol.com.br/turismo/2017/10/1...</td>\n",
       "      <td>10</td>\n",
       "      <td>62</td>\n",
       "    </tr>\n",
       "  </tbody>\n",
       "</table>\n",
       "</div>"
      ],
      "text/plain": [
       "                                                 title  \\\n",
       "381  Latam inaugura voo direto de 15 horas entre Ch...   \n",
       "414  Turismo de Las Vegas deve se recuperar em mese...   \n",
       "522  Brasileiro cria app para economizar no passeio...   \n",
       "602       AirBnB passa a fazer reserva de restaurantes   \n",
       "609  Museus lembram quatro décadas de opressão sovi...   \n",
       "\n",
       "                                                  text        date category  \\\n",
       "381  Animem-se os que pretendem cruzar o Pacífico e...  2017-06-10  turismo   \n",
       "414  O massacre em Las Vegas afetará o turismo da c...  2017-06-10  turismo   \n",
       "522  Com cerca de 50 mil visitantes por dia, Veneza...  2017-05-10  turismo   \n",
       "602  A plataforma de hospedagem Airbnb anunciou que...  2017-05-10  turismo   \n",
       "609  Nos países que viveram sob a órbita da União S...  2017-05-10  turismo   \n",
       "\n",
       "    subcategory                                               link  \\\n",
       "381         NaN  http://www1.folha.uol.com.br/turismo/2017/10/1...   \n",
       "414         NaN  http://www1.folha.uol.com.br/turismo/2017/10/1...   \n",
       "522         NaN  http://www1.folha.uol.com.br/turismo/2017/10/1...   \n",
       "602         NaN  http://www1.folha.uol.com.br/turismo/2017/10/1...   \n",
       "609         NaN  http://www1.folha.uol.com.br/turismo/2017/10/1...   \n",
       "\n",
       "     title_n_words  title_n_chars  \n",
       "381             11             51  \n",
       "414             11             54  \n",
       "522             11             58  \n",
       "602              7             38  \n",
       "609             10             62  "
      ]
     },
     "execution_count": 19,
     "metadata": {},
     "output_type": "execute_result"
    }
   ],
   "source": [
    "turismo.head()"
   ]
  },
  {
   "cell_type": "code",
   "execution_count": 20,
   "metadata": {},
   "outputs": [
    {
     "data": {
      "text/html": [
       "<div>\n",
       "<style scoped>\n",
       "    .dataframe tbody tr th:only-of-type {\n",
       "        vertical-align: middle;\n",
       "    }\n",
       "\n",
       "    .dataframe tbody tr th {\n",
       "        vertical-align: top;\n",
       "    }\n",
       "\n",
       "    .dataframe thead th {\n",
       "        text-align: right;\n",
       "    }\n",
       "</style>\n",
       "<table border=\"1\" class=\"dataframe\">\n",
       "  <thead>\n",
       "    <tr style=\"text-align: right;\">\n",
       "      <th></th>\n",
       "      <th>title_n_words</th>\n",
       "      <th>title_n_chars</th>\n",
       "    </tr>\n",
       "  </thead>\n",
       "  <tbody>\n",
       "    <tr>\n",
       "      <th>count</th>\n",
       "      <td>1903.000000</td>\n",
       "      <td>1903.000000</td>\n",
       "    </tr>\n",
       "    <tr>\n",
       "      <th>mean</th>\n",
       "      <td>10.923805</td>\n",
       "      <td>55.666842</td>\n",
       "    </tr>\n",
       "    <tr>\n",
       "      <th>std</th>\n",
       "      <td>1.812440</td>\n",
       "      <td>6.309523</td>\n",
       "    </tr>\n",
       "    <tr>\n",
       "      <th>min</th>\n",
       "      <td>4.000000</td>\n",
       "      <td>25.000000</td>\n",
       "    </tr>\n",
       "    <tr>\n",
       "      <th>25%</th>\n",
       "      <td>10.000000</td>\n",
       "      <td>52.000000</td>\n",
       "    </tr>\n",
       "    <tr>\n",
       "      <th>50%</th>\n",
       "      <td>11.000000</td>\n",
       "      <td>57.000000</td>\n",
       "    </tr>\n",
       "    <tr>\n",
       "      <th>75%</th>\n",
       "      <td>12.000000</td>\n",
       "      <td>60.000000</td>\n",
       "    </tr>\n",
       "    <tr>\n",
       "      <th>max</th>\n",
       "      <td>20.000000</td>\n",
       "      <td>87.000000</td>\n",
       "    </tr>\n",
       "  </tbody>\n",
       "</table>\n",
       "</div>"
      ],
      "text/plain": [
       "       title_n_words  title_n_chars\n",
       "count    1903.000000    1903.000000\n",
       "mean       10.923805      55.666842\n",
       "std         1.812440       6.309523\n",
       "min         4.000000      25.000000\n",
       "25%        10.000000      52.000000\n",
       "50%        11.000000      57.000000\n",
       "75%        12.000000      60.000000\n",
       "max        20.000000      87.000000"
      ]
     },
     "execution_count": 20,
     "metadata": {},
     "output_type": "execute_result"
    }
   ],
   "source": [
    "turismo.describe()"
   ]
  },
  {
   "cell_type": "code",
   "execution_count": 21,
   "metadata": {},
   "outputs": [
    {
     "data": {
      "image/png": "[encoded data removed]",
      "text/plain": [
       "<Figure size 432x288 with 1 Axes>"
      ]
     },
     "metadata": {
      "needs_background": "light"
     },
     "output_type": "display_data"
    }
   ],
   "source": [
    "# histograma numero de palavras\n",
    "turismo.title_n_words.hist()\n",
    "plt.xlabel('número de palavras')\n",
    "plt.ylabel('qtd')\n",
    "plt.grid(b=None)\n",
    "plt.show()"
   ]
  },
  {
   "cell_type": "code",
   "execution_count": 22,
   "metadata": {},
   "outputs": [
    {
     "data": {
      "image/png": "[encoded data removed]",
      "text/plain": [
       "<Figure size 432x288 with 1 Axes>"
      ]
     },
     "metadata": {
      "needs_background": "light"
     },
     "output_type": "display_data"
    }
   ],
   "source": [
    "# histograma numero de letras\n",
    "turismo.title_n_chars.hist()\n",
    "plt.xlabel('número de palavras')\n",
    "plt.ylabel('qtd')\n",
    "plt.grid(b=None)\n",
    "plt.show()"
   ]
  },
  {
   "cell_type": "markdown",
   "metadata": {},
   "source": [
    "### limpeza os dados"
   ]
  },
  {
   "cell_type": "code",
   "execution_count": 23,
   "metadata": {},
   "outputs": [],
   "source": [
    "nlpt_pt = spacy.load('pt_core_news_sm')"
   ]
  },
  {
   "cell_type": "code",
   "execution_count": 24,
   "metadata": {},
   "outputs": [],
   "source": [
    "rev = turismo.iloc[0]['title']"
   ]
  },
  {
   "cell_type": "code",
   "execution_count": 25,
   "metadata": {},
   "outputs": [
    {
     "data": {
      "text/plain": [
       "'Latam inaugura voo direto de 15 horas entre Chile e Austrália'"
      ]
     },
     "execution_count": 25,
     "metadata": {},
     "output_type": "execute_result"
    }
   ],
   "source": [
    "rev"
   ]
  },
  {
   "cell_type": "code",
   "execution_count": 26,
   "metadata": {},
   "outputs": [],
   "source": [
    "rev = limpa_texto(rev)"
   ]
  },
  {
   "cell_type": "code",
   "execution_count": 27,
   "metadata": {},
   "outputs": [
    {
     "data": {
      "text/plain": [
       "'latam inaugura voo direto de 15 horas entre chile e austrália'"
      ]
     },
     "execution_count": 27,
     "metadata": {},
     "output_type": "execute_result"
    }
   ],
   "source": [
    "rev"
   ]
  },
  {
   "cell_type": "code",
   "execution_count": 28,
   "metadata": {},
   "outputs": [],
   "source": [
    "rev2 = turismo.iloc[5]['title']"
   ]
  },
  {
   "cell_type": "code",
   "execution_count": 29,
   "metadata": {},
   "outputs": [
    {
     "data": {
      "text/plain": [
       "\"'Viagem ao Japão é aula de cultura e tradição', diz ator Jayme Matarazzo\""
      ]
     },
     "execution_count": 29,
     "metadata": {},
     "output_type": "execute_result"
    }
   ],
   "source": [
    "rev2"
   ]
  },
  {
   "cell_type": "code",
   "execution_count": 30,
   "metadata": {},
   "outputs": [],
   "source": [
    "rev2 = limpa_texto(rev2)"
   ]
  },
  {
   "cell_type": "code",
   "execution_count": 31,
   "metadata": {},
   "outputs": [
    {
     "data": {
      "text/plain": [
       "'viagem ao japão é aula de cultura e tradição diz ator jayme matarazzo'"
      ]
     },
     "execution_count": 31,
     "metadata": {},
     "output_type": "execute_result"
    }
   ],
   "source": [
    "rev2"
   ]
  },
  {
   "cell_type": "code",
   "execution_count": 32,
   "metadata": {},
   "outputs": [],
   "source": [
    "rev = nlpt_pt(rev)"
   ]
  },
  {
   "cell_type": "code",
   "execution_count": 33,
   "metadata": {},
   "outputs": [
    {
     "data": {
      "text/plain": [
       "latam inaugura voo direto de 15 horas entre chile e austrália"
      ]
     },
     "execution_count": 33,
     "metadata": {},
     "output_type": "execute_result"
    }
   ],
   "source": [
    "rev"
   ]
  },
  {
   "cell_type": "code",
   "execution_count": 34,
   "metadata": {},
   "outputs": [],
   "source": [
    "def exibe_token(texto):\n",
    "    col_names = ['ALPHA','PUNCT','LIKE NUM','POS']\n",
    "    formatted_text = '{:>16}' * (len(col_names)+1)\n",
    "    print('\\n', formatted_text.format('INPUT WORD', *col_names), '\\n','='*130)\n",
    "    \n",
    "    for token in texto:\n",
    "        output = [token.text, token.is_alpha, token.is_punct, token.like_num, token.pos_]\n",
    "        print(formatted_text.format(*output))"
   ]
  },
  {
   "cell_type": "code",
   "execution_count": 36,
   "metadata": {},
   "outputs": [
    {
     "name": "stdout",
     "output_type": "stream",
     "text": [
      "\n",
      "       INPUT WORD           ALPHA           PUNCT        LIKE NUM             POS \n",
      " ==================================================================================================================================\n",
      "           latam               1               0               0            VERB\n",
      "        inaugura               1               0               0            VERB\n",
      "             voo               1               0               0            NOUN\n",
      "          direto               1               0               0             ADJ\n",
      "              de               1               0               0             ADP\n",
      "              15               0               0               1             NUM\n",
      "           horas               1               0               0            NOUN\n",
      "           entre               1               0               0             ADP\n",
      "           chile               1               0               0            VERB\n",
      "               e               1               0               0           CCONJ\n",
      "       austrália               1               0               0            VERB\n"
     ]
    }
   ],
   "source": [
    "exibe_token(rev)"
   ]
  },
  {
   "cell_type": "code",
   "execution_count": 37,
   "metadata": {},
   "outputs": [],
   "source": [
    "from spacy import displacy"
   ]
  },
  {
   "cell_type": "code",
   "execution_count": 39,
   "metadata": {},
   "outputs": [
    {
     "data": {
      "text/html": [
       "<span class=\"tex2jax_ignore\"><svg xmlns=\"http://www.w3.org/2000/svg\" xmlns:xlink=\"http://www.w3.org/1999/xlink\" xml:lang=\"pt\" id=\"730f1c608d294540938afefb6cbee654-0\" class=\"displacy\" width=\"1975\" height=\"574.5\" direction=\"ltr\" style=\"max-width: none; height: 574.5px; color: #000000; background: #ffffff; font-family: Arial; direction: ltr\">\n",
       "<text class=\"displacy-token\" fill=\"currentColor\" text-anchor=\"middle\" y=\"484.5\">\n",
       "    <tspan class=\"displacy-word\" fill=\"currentColor\" x=\"50\">latam</tspan>\n",
       "    <tspan class=\"displacy-tag\" dy=\"2em\" fill=\"currentColor\" x=\"50\">VERB</tspan>\n",
       "</text>\n",
       "\n",
       "<text class=\"displacy-token\" fill=\"currentColor\" text-anchor=\"middle\" y=\"484.5\">\n",
       "    <tspan class=\"displacy-word\" fill=\"currentColor\" x=\"225\">inaugura</tspan>\n",
       "    <tspan class=\"displacy-tag\" dy=\"2em\" fill=\"currentColor\" x=\"225\">VERB</tspan>\n",
       "</text>\n",
       "\n",
       "<text class=\"displacy-token\" fill=\"currentColor\" text-anchor=\"middle\" y=\"484.5\">\n",
       "    <tspan class=\"displacy-word\" fill=\"currentColor\" x=\"400\">voo</tspan>\n",
       "    <tspan class=\"displacy-tag\" dy=\"2em\" fill=\"currentColor\" x=\"400\">NOUN</tspan>\n",
       "</text>\n",
       "\n",
       "<text class=\"displacy-token\" fill=\"currentColor\" text-anchor=\"middle\" y=\"484.5\">\n",
       "    <tspan class=\"displacy-word\" fill=\"currentColor\" x=\"575\">direto</tspan>\n",
       "    <tspan class=\"displacy-tag\" dy=\"2em\" fill=\"currentColor\" x=\"575\">ADJ</tspan>\n",
       "</text>\n",
       "\n",
       "<text class=\"displacy-token\" fill=\"currentColor\" text-anchor=\"middle\" y=\"484.5\">\n",
       "    <tspan class=\"displacy-word\" fill=\"currentColor\" x=\"750\">de</tspan>\n",
       "    <tspan class=\"displacy-tag\" dy=\"2em\" fill=\"currentColor\" x=\"750\">ADP</tspan>\n",
       "</text>\n",
       "\n",
       "<text class=\"displacy-token\" fill=\"currentColor\" text-anchor=\"middle\" y=\"484.5\">\n",
       "    <tspan class=\"displacy-word\" fill=\"currentColor\" x=\"925\">15</tspan>\n",
       "    <tspan class=\"displacy-tag\" dy=\"2em\" fill=\"currentColor\" x=\"925\">NUM</tspan>\n",
       "</text>\n",
       "\n",
       "<text class=\"displacy-token\" fill=\"currentColor\" text-anchor=\"middle\" y=\"484.5\">\n",
       "    <tspan class=\"displacy-word\" fill=\"currentColor\" x=\"1100\">horas</tspan>\n",
       "    <tspan class=\"displacy-tag\" dy=\"2em\" fill=\"currentColor\" x=\"1100\">NOUN</tspan>\n",
       "</text>\n",
       "\n",
       "<text class=\"displacy-token\" fill=\"currentColor\" text-anchor=\"middle\" y=\"484.5\">\n",
       "    <tspan class=\"displacy-word\" fill=\"currentColor\" x=\"1275\">entre</tspan>\n",
       "    <tspan class=\"displacy-tag\" dy=\"2em\" fill=\"currentColor\" x=\"1275\">ADP</tspan>\n",
       "</text>\n",
       "\n",
       "<text class=\"displacy-token\" fill=\"currentColor\" text-anchor=\"middle\" y=\"484.5\">\n",
       "    <tspan class=\"displacy-word\" fill=\"currentColor\" x=\"1450\">chile</tspan>\n",
       "    <tspan class=\"displacy-tag\" dy=\"2em\" fill=\"currentColor\" x=\"1450\">VERB</tspan>\n",
       "</text>\n",
       "\n",
       "<text class=\"displacy-token\" fill=\"currentColor\" text-anchor=\"middle\" y=\"484.5\">\n",
       "    <tspan class=\"displacy-word\" fill=\"currentColor\" x=\"1625\">e</tspan>\n",
       "    <tspan class=\"displacy-tag\" dy=\"2em\" fill=\"currentColor\" x=\"1625\">CCONJ</tspan>\n",
       "</text>\n",
       "\n",
       "<text class=\"displacy-token\" fill=\"currentColor\" text-anchor=\"middle\" y=\"484.5\">\n",
       "    <tspan class=\"displacy-word\" fill=\"currentColor\" x=\"1800\">austrália</tspan>\n",
       "    <tspan class=\"displacy-tag\" dy=\"2em\" fill=\"currentColor\" x=\"1800\">VERB</tspan>\n",
       "</text>\n",
       "\n",
       "<g class=\"displacy-arrow\">\n",
       "    <path class=\"displacy-arc\" id=\"arrow-730f1c608d294540938afefb6cbee654-0-0\" stroke-width=\"2px\" d=\"M70,439.5 C70,352.0 205.0,352.0 205.0,439.5\" fill=\"none\" stroke=\"currentColor\"/>\n",
       "    <text dy=\"1.25em\" style=\"font-size: 0.8em; letter-spacing: 1px\">\n",
       "        <textPath xlink:href=\"#arrow-730f1c608d294540938afefb6cbee654-0-0\" class=\"displacy-label\" startOffset=\"50%\" side=\"left\" fill=\"currentColor\" text-anchor=\"middle\">xcomp</textPath>\n",
       "    </text>\n",
       "    <path class=\"displacy-arrowhead\" d=\"M205.0,441.5 L213.0,429.5 197.0,429.5\" fill=\"currentColor\"/>\n",
       "</g>\n",
       "\n",
       "<g class=\"displacy-arrow\">\n",
       "    <path class=\"displacy-arc\" id=\"arrow-730f1c608d294540938afefb6cbee654-0-1\" stroke-width=\"2px\" d=\"M245,439.5 C245,352.0 380.0,352.0 380.0,439.5\" fill=\"none\" stroke=\"currentColor\"/>\n",
       "    <text dy=\"1.25em\" style=\"font-size: 0.8em; letter-spacing: 1px\">\n",
       "        <textPath xlink:href=\"#arrow-730f1c608d294540938afefb6cbee654-0-1\" class=\"displacy-label\" startOffset=\"50%\" side=\"left\" fill=\"currentColor\" text-anchor=\"middle\">obj</textPath>\n",
       "    </text>\n",
       "    <path class=\"displacy-arrowhead\" d=\"M380.0,441.5 L388.0,429.5 372.0,429.5\" fill=\"currentColor\"/>\n",
       "</g>\n",
       "\n",
       "<g class=\"displacy-arrow\">\n",
       "    <path class=\"displacy-arc\" id=\"arrow-730f1c608d294540938afefb6cbee654-0-2\" stroke-width=\"2px\" d=\"M420,439.5 C420,352.0 555.0,352.0 555.0,439.5\" fill=\"none\" stroke=\"currentColor\"/>\n",
       "    <text dy=\"1.25em\" style=\"font-size: 0.8em; letter-spacing: 1px\">\n",
       "        <textPath xlink:href=\"#arrow-730f1c608d294540938afefb6cbee654-0-2\" class=\"displacy-label\" startOffset=\"50%\" side=\"left\" fill=\"currentColor\" text-anchor=\"middle\">amod</textPath>\n",
       "    </text>\n",
       "    <path class=\"displacy-arrowhead\" d=\"M555.0,441.5 L563.0,429.5 547.0,429.5\" fill=\"currentColor\"/>\n",
       "</g>\n",
       "\n",
       "<g class=\"displacy-arrow\">\n",
       "    <path class=\"displacy-arc\" id=\"arrow-730f1c608d294540938afefb6cbee654-0-3\" stroke-width=\"2px\" d=\"M770,439.5 C770,264.5 1085.0,264.5 1085.0,439.5\" fill=\"none\" stroke=\"currentColor\"/>\n",
       "    <text dy=\"1.25em\" style=\"font-size: 0.8em; letter-spacing: 1px\">\n",
       "        <textPath xlink:href=\"#arrow-730f1c608d294540938afefb6cbee654-0-3\" class=\"displacy-label\" startOffset=\"50%\" side=\"left\" fill=\"currentColor\" text-anchor=\"middle\">case</textPath>\n",
       "    </text>\n",
       "    <path class=\"displacy-arrowhead\" d=\"M770,441.5 L762,429.5 778,429.5\" fill=\"currentColor\"/>\n",
       "</g>\n",
       "\n",
       "<g class=\"displacy-arrow\">\n",
       "    <path class=\"displacy-arc\" id=\"arrow-730f1c608d294540938afefb6cbee654-0-4\" stroke-width=\"2px\" d=\"M945,439.5 C945,352.0 1080.0,352.0 1080.0,439.5\" fill=\"none\" stroke=\"currentColor\"/>\n",
       "    <text dy=\"1.25em\" style=\"font-size: 0.8em; letter-spacing: 1px\">\n",
       "        <textPath xlink:href=\"#arrow-730f1c608d294540938afefb6cbee654-0-4\" class=\"displacy-label\" startOffset=\"50%\" side=\"left\" fill=\"currentColor\" text-anchor=\"middle\">nummod</textPath>\n",
       "    </text>\n",
       "    <path class=\"displacy-arrowhead\" d=\"M945,441.5 L937,429.5 953,429.5\" fill=\"currentColor\"/>\n",
       "</g>\n",
       "\n",
       "<g class=\"displacy-arrow\">\n",
       "    <path class=\"displacy-arc\" id=\"arrow-730f1c608d294540938afefb6cbee654-0-5\" stroke-width=\"2px\" d=\"M420,439.5 C420,177.0 1090.0,177.0 1090.0,439.5\" fill=\"none\" stroke=\"currentColor\"/>\n",
       "    <text dy=\"1.25em\" style=\"font-size: 0.8em; letter-spacing: 1px\">\n",
       "        <textPath xlink:href=\"#arrow-730f1c608d294540938afefb6cbee654-0-5\" class=\"displacy-label\" startOffset=\"50%\" side=\"left\" fill=\"currentColor\" text-anchor=\"middle\">nmod</textPath>\n",
       "    </text>\n",
       "    <path class=\"displacy-arrowhead\" d=\"M1090.0,441.5 L1098.0,429.5 1082.0,429.5\" fill=\"currentColor\"/>\n",
       "</g>\n",
       "\n",
       "<g class=\"displacy-arrow\">\n",
       "    <path class=\"displacy-arc\" id=\"arrow-730f1c608d294540938afefb6cbee654-0-6\" stroke-width=\"2px\" d=\"M1295,439.5 C1295,352.0 1430.0,352.0 1430.0,439.5\" fill=\"none\" stroke=\"currentColor\"/>\n",
       "    <text dy=\"1.25em\" style=\"font-size: 0.8em; letter-spacing: 1px\">\n",
       "        <textPath xlink:href=\"#arrow-730f1c608d294540938afefb6cbee654-0-6\" class=\"displacy-label\" startOffset=\"50%\" side=\"left\" fill=\"currentColor\" text-anchor=\"middle\">mark</textPath>\n",
       "    </text>\n",
       "    <path class=\"displacy-arrowhead\" d=\"M1295,441.5 L1287,429.5 1303,429.5\" fill=\"currentColor\"/>\n",
       "</g>\n",
       "\n",
       "<g class=\"displacy-arrow\">\n",
       "    <path class=\"displacy-arc\" id=\"arrow-730f1c608d294540938afefb6cbee654-0-7\" stroke-width=\"2px\" d=\"M245,439.5 C245,89.5 1445.0,89.5 1445.0,439.5\" fill=\"none\" stroke=\"currentColor\"/>\n",
       "    <text dy=\"1.25em\" style=\"font-size: 0.8em; letter-spacing: 1px\">\n",
       "        <textPath xlink:href=\"#arrow-730f1c608d294540938afefb6cbee654-0-7\" class=\"displacy-label\" startOffset=\"50%\" side=\"left\" fill=\"currentColor\" text-anchor=\"middle\">advcl</textPath>\n",
       "    </text>\n",
       "    <path class=\"displacy-arrowhead\" d=\"M1445.0,441.5 L1453.0,429.5 1437.0,429.5\" fill=\"currentColor\"/>\n",
       "</g>\n",
       "\n",
       "<g class=\"displacy-arrow\">\n",
       "    <path class=\"displacy-arc\" id=\"arrow-730f1c608d294540938afefb6cbee654-0-8\" stroke-width=\"2px\" d=\"M1645,439.5 C1645,352.0 1780.0,352.0 1780.0,439.5\" fill=\"none\" stroke=\"currentColor\"/>\n",
       "    <text dy=\"1.25em\" style=\"font-size: 0.8em; letter-spacing: 1px\">\n",
       "        <textPath xlink:href=\"#arrow-730f1c608d294540938afefb6cbee654-0-8\" class=\"displacy-label\" startOffset=\"50%\" side=\"left\" fill=\"currentColor\" text-anchor=\"middle\">cc</textPath>\n",
       "    </text>\n",
       "    <path class=\"displacy-arrowhead\" d=\"M1645,441.5 L1637,429.5 1653,429.5\" fill=\"currentColor\"/>\n",
       "</g>\n",
       "\n",
       "<g class=\"displacy-arrow\">\n",
       "    <path class=\"displacy-arc\" id=\"arrow-730f1c608d294540938afefb6cbee654-0-9\" stroke-width=\"2px\" d=\"M245,439.5 C245,2.0 1800.0,2.0 1800.0,439.5\" fill=\"none\" stroke=\"currentColor\"/>\n",
       "    <text dy=\"1.25em\" style=\"font-size: 0.8em; letter-spacing: 1px\">\n",
       "        <textPath xlink:href=\"#arrow-730f1c608d294540938afefb6cbee654-0-9\" class=\"displacy-label\" startOffset=\"50%\" side=\"left\" fill=\"currentColor\" text-anchor=\"middle\">conj</textPath>\n",
       "    </text>\n",
       "    <path class=\"displacy-arrowhead\" d=\"M1800.0,441.5 L1808.0,429.5 1792.0,429.5\" fill=\"currentColor\"/>\n",
       "</g>\n",
       "</svg></span>"
      ],
      "text/plain": [
       "<IPython.core.display.HTML object>"
      ]
     },
     "metadata": {},
     "output_type": "display_data"
    }
   ],
   "source": [
    "displacy.render(rev, style='dep', jupyter=True)"
   ]
  },
  {
   "cell_type": "code",
   "execution_count": 38,
   "metadata": {},
   "outputs": [],
   "source": [
    "rev2 = nlpt_pt(rev2)"
   ]
  },
  {
   "cell_type": "code",
   "execution_count": 100,
   "metadata": {},
   "outputs": [
    {
     "name": "stdout",
     "output_type": "stream",
     "text": [
      "\n",
      "       INPUT WORD           ALPHA           PUNCT        LIKE NUM             POS \n",
      " ==================================================================================================================================\n",
      "          viagem               1               0               0            NOUN\n",
      "              ao               1               0               0             ADP\n",
      "           japão               1               0               0            NOUN\n",
      "               é               1               0               0             AUX\n",
      "            aula               1               0               0            NOUN\n",
      "              de               1               0               0             ADP\n",
      "         cultura               1               0               0            NOUN\n",
      "               e               1               0               0           CCONJ\n",
      "        tradição               1               0               0            NOUN\n",
      "             diz               1               0               0            VERB\n",
      "            ator               1               0               0            NOUN\n",
      "           jayme               1               0               0           PROPN\n",
      "       matarazzo               1               0               0             ADJ\n"
     ]
    }
   ],
   "source": [
    "exibe_token(rev2)"
   ]
  },
  {
   "cell_type": "code",
   "execution_count": 40,
   "metadata": {},
   "outputs": [],
   "source": [
    "turismo['title_clean'] = turismo['title'].apply(lambda x : limpa_texto(x))"
   ]
  },
  {
   "cell_type": "code",
   "execution_count": 41,
   "metadata": {},
   "outputs": [
    {
     "data": {
      "text/html": [
       "<div>\n",
       "<style scoped>\n",
       "    .dataframe tbody tr th:only-of-type {\n",
       "        vertical-align: middle;\n",
       "    }\n",
       "\n",
       "    .dataframe tbody tr th {\n",
       "        vertical-align: top;\n",
       "    }\n",
       "\n",
       "    .dataframe thead th {\n",
       "        text-align: right;\n",
       "    }\n",
       "</style>\n",
       "<table border=\"1\" class=\"dataframe\">\n",
       "  <thead>\n",
       "    <tr style=\"text-align: right;\">\n",
       "      <th></th>\n",
       "      <th>title</th>\n",
       "      <th>text</th>\n",
       "      <th>date</th>\n",
       "      <th>category</th>\n",
       "      <th>subcategory</th>\n",
       "      <th>link</th>\n",
       "      <th>title_n_words</th>\n",
       "      <th>title_n_chars</th>\n",
       "      <th>title_clean</th>\n",
       "    </tr>\n",
       "  </thead>\n",
       "  <tbody>\n",
       "    <tr>\n",
       "      <th>381</th>\n",
       "      <td>Latam inaugura voo direto de 15 horas entre Ch...</td>\n",
       "      <td>Animem-se os que pretendem cruzar o Pacífico e...</td>\n",
       "      <td>2017-06-10</td>\n",
       "      <td>turismo</td>\n",
       "      <td>NaN</td>\n",
       "      <td>http://www1.folha.uol.com.br/turismo/2017/10/1...</td>\n",
       "      <td>11</td>\n",
       "      <td>51</td>\n",
       "      <td>latam inaugura voo direto de 15 horas entre ch...</td>\n",
       "    </tr>\n",
       "    <tr>\n",
       "      <th>414</th>\n",
       "      <td>Turismo de Las Vegas deve se recuperar em mese...</td>\n",
       "      <td>O massacre em Las Vegas afetará o turismo da c...</td>\n",
       "      <td>2017-06-10</td>\n",
       "      <td>turismo</td>\n",
       "      <td>NaN</td>\n",
       "      <td>http://www1.folha.uol.com.br/turismo/2017/10/1...</td>\n",
       "      <td>11</td>\n",
       "      <td>54</td>\n",
       "      <td>turismo de las vegas deve se recuperar em mese...</td>\n",
       "    </tr>\n",
       "    <tr>\n",
       "      <th>522</th>\n",
       "      <td>Brasileiro cria app para economizar no passeio...</td>\n",
       "      <td>Com cerca de 50 mil visitantes por dia, Veneza...</td>\n",
       "      <td>2017-05-10</td>\n",
       "      <td>turismo</td>\n",
       "      <td>NaN</td>\n",
       "      <td>http://www1.folha.uol.com.br/turismo/2017/10/1...</td>\n",
       "      <td>11</td>\n",
       "      <td>58</td>\n",
       "      <td>brasileiro cria app para economizar no passeio...</td>\n",
       "    </tr>\n",
       "    <tr>\n",
       "      <th>602</th>\n",
       "      <td>AirBnB passa a fazer reserva de restaurantes</td>\n",
       "      <td>A plataforma de hospedagem Airbnb anunciou que...</td>\n",
       "      <td>2017-05-10</td>\n",
       "      <td>turismo</td>\n",
       "      <td>NaN</td>\n",
       "      <td>http://www1.folha.uol.com.br/turismo/2017/10/1...</td>\n",
       "      <td>7</td>\n",
       "      <td>38</td>\n",
       "      <td>airbnb passa a fazer reserva de restaurantes</td>\n",
       "    </tr>\n",
       "    <tr>\n",
       "      <th>609</th>\n",
       "      <td>Museus lembram quatro décadas de opressão sovi...</td>\n",
       "      <td>Nos países que viveram sob a órbita da União S...</td>\n",
       "      <td>2017-05-10</td>\n",
       "      <td>turismo</td>\n",
       "      <td>NaN</td>\n",
       "      <td>http://www1.folha.uol.com.br/turismo/2017/10/1...</td>\n",
       "      <td>10</td>\n",
       "      <td>62</td>\n",
       "      <td>museus lembram quatro décadas de opressão sovi...</td>\n",
       "    </tr>\n",
       "  </tbody>\n",
       "</table>\n",
       "</div>"
      ],
      "text/plain": [
       "                                                 title  \\\n",
       "381  Latam inaugura voo direto de 15 horas entre Ch...   \n",
       "414  Turismo de Las Vegas deve se recuperar em mese...   \n",
       "522  Brasileiro cria app para economizar no passeio...   \n",
       "602       AirBnB passa a fazer reserva de restaurantes   \n",
       "609  Museus lembram quatro décadas de opressão sovi...   \n",
       "\n",
       "                                                  text        date category  \\\n",
       "381  Animem-se os que pretendem cruzar o Pacífico e...  2017-06-10  turismo   \n",
       "414  O massacre em Las Vegas afetará o turismo da c...  2017-06-10  turismo   \n",
       "522  Com cerca de 50 mil visitantes por dia, Veneza...  2017-05-10  turismo   \n",
       "602  A plataforma de hospedagem Airbnb anunciou que...  2017-05-10  turismo   \n",
       "609  Nos países que viveram sob a órbita da União S...  2017-05-10  turismo   \n",
       "\n",
       "    subcategory                                               link  \\\n",
       "381         NaN  http://www1.folha.uol.com.br/turismo/2017/10/1...   \n",
       "414         NaN  http://www1.folha.uol.com.br/turismo/2017/10/1...   \n",
       "522         NaN  http://www1.folha.uol.com.br/turismo/2017/10/1...   \n",
       "602         NaN  http://www1.folha.uol.com.br/turismo/2017/10/1...   \n",
       "609         NaN  http://www1.folha.uol.com.br/turismo/2017/10/1...   \n",
       "\n",
       "     title_n_words  title_n_chars  \\\n",
       "381             11             51   \n",
       "414             11             54   \n",
       "522             11             58   \n",
       "602              7             38   \n",
       "609             10             62   \n",
       "\n",
       "                                           title_clean  \n",
       "381  latam inaugura voo direto de 15 horas entre ch...  \n",
       "414  turismo de las vegas deve se recuperar em mese...  \n",
       "522  brasileiro cria app para economizar no passeio...  \n",
       "602       airbnb passa a fazer reserva de restaurantes  \n",
       "609  museus lembram quatro décadas de opressão sovi...  "
      ]
     },
     "execution_count": 41,
     "metadata": {},
     "output_type": "execute_result"
    }
   ],
   "source": [
    "turismo.head()"
   ]
  },
  {
   "cell_type": "code",
   "execution_count": 42,
   "metadata": {},
   "outputs": [],
   "source": [
    "turismo['title_clean_no_stop'] = turismo['title_clean'].apply(lambda x : remove_stop(x))"
   ]
  },
  {
   "cell_type": "code",
   "execution_count": 43,
   "metadata": {},
   "outputs": [
    {
     "data": {
      "text/plain": [
       "'latam inaugura voo direto de 15 horas entre chile e austrália'"
      ]
     },
     "execution_count": 43,
     "metadata": {},
     "output_type": "execute_result"
    }
   ],
   "source": [
    "turismo.iloc[0]['title_clean']"
   ]
  },
  {
   "cell_type": "code",
   "execution_count": 44,
   "metadata": {},
   "outputs": [
    {
     "data": {
      "text/plain": [
       "'latam inaugura voo direto 15 horas chile austrália'"
      ]
     },
     "execution_count": 44,
     "metadata": {},
     "output_type": "execute_result"
    }
   ],
   "source": [
    "turismo.iloc[0]['title_clean_no_stop']"
   ]
  },
  {
   "cell_type": "markdown",
   "metadata": {},
   "source": [
    "### Lematização"
   ]
  },
  {
   "cell_type": "code",
   "execution_count": 45,
   "metadata": {},
   "outputs": [],
   "source": [
    "turismo['title_lemmas'] = turismo['title_clean_no_stop'].apply(lambda x : limpa_texto2(x))"
   ]
  },
  {
   "cell_type": "code",
   "execution_count": 46,
   "metadata": {},
   "outputs": [
    {
     "data": {
      "text/plain": [
       "'latir inaugurar voar direto 15 horar chile austrália'"
      ]
     },
     "execution_count": 46,
     "metadata": {},
     "output_type": "execute_result"
    }
   ],
   "source": [
    "turismo.iloc[0]['title_lemmas']"
   ]
  },
  {
   "cell_type": "code",
   "execution_count": 47,
   "metadata": {},
   "outputs": [
    {
     "data": {
      "text/plain": [
       "'viagem japão aula cultura tradição ator jayme matarazzo'"
      ]
     },
     "execution_count": 47,
     "metadata": {},
     "output_type": "execute_result"
    }
   ],
   "source": [
    "turismo.iloc[5]['title_lemmas']"
   ]
  },
  {
   "cell_type": "markdown",
   "metadata": {},
   "source": [
    "### N-grams"
   ]
  },
  {
   "cell_type": "code",
   "execution_count": 48,
   "metadata": {},
   "outputs": [],
   "source": [
    "titulos = \" \".join(turismo['title_lemmas'])"
   ]
  },
  {
   "cell_type": "code",
   "execution_count": 49,
   "metadata": {},
   "outputs": [],
   "source": [
    "token = word_tokenize(titulos)"
   ]
  },
  {
   "cell_type": "code",
   "execution_count": 50,
   "metadata": {},
   "outputs": [],
   "source": [
    "bigrams = ngrams(token,2)"
   ]
  },
  {
   "cell_type": "code",
   "execution_count": 51,
   "metadata": {},
   "outputs": [
    {
     "data": {
      "text/plain": [
       "[(('fotógrafo', 'registrar'), 39),\n",
       " (('atrair', 'turista'), 25),\n",
       " (('fotógrafo', 'clicar'), 23),\n",
       " (('álbum', 'viagem'), 22),\n",
       " (('companhia', 'aéreo'), 20),\n",
       " (('o', 'vegas'), 10),\n",
       " (('levar', 'turista'), 10),\n",
       " (('estação', 'esqui'), 10),\n",
       " (('o', 'angeles'), 10),\n",
       " (('opção', 'pacote'), 9)]"
      ]
     },
     "execution_count": 51,
     "metadata": {},
     "output_type": "execute_result"
    }
   ],
   "source": [
    "Counter(bigrams).most_common(10)"
   ]
  },
  {
   "cell_type": "code",
   "execution_count": 52,
   "metadata": {},
   "outputs": [],
   "source": [
    "trigrams = ngrams(token,3)"
   ]
  },
  {
   "cell_type": "code",
   "execution_count": 53,
   "metadata": {},
   "outputs": [
    {
     "data": {
      "text/plain": [
       "[(('fotógrafo', 'registrar', 'paisagem'), 5),\n",
       " (('mundo', 'fotógrafo', 'registrar'), 5),\n",
       " (('gamar', 'of', 'thrones'), 5),\n",
       " (('world', 'trade', 'center'), 5),\n",
       " (('temer', 'ensaiar', 'fotográfico'), 4),\n",
       " (('parque', 'harry', 'potter'), 4),\n",
       " (('inaugurar', 'museu', 'dedicar'), 4),\n",
       " (('fotógrafo', 'registrar', 'cena'), 4),\n",
       " (('virar', 'atração', 'turístico'), 3),\n",
       " (('ter', 'montanha', 'russo'), 3)]"
      ]
     },
     "execution_count": 53,
     "metadata": {},
     "output_type": "execute_result"
    }
   ],
   "source": [
    "Counter(trigrams).most_common(10)"
   ]
  },
  {
   "cell_type": "code",
   "execution_count": 54,
   "metadata": {},
   "outputs": [],
   "source": [
    "vectorizer = CountVectorizer(min_df=10, max_df= 0.9, stop_words=STOP_WORDS, lowercase=True)"
   ]
  },
  {
   "cell_type": "code",
   "execution_count": 55,
   "metadata": {},
   "outputs": [],
   "source": [
    "data_vectorizer = vectorizer.fit_transform(turismo['title_lemmas'])"
   ]
  },
  {
   "cell_type": "code",
   "execution_count": 56,
   "metadata": {},
   "outputs": [],
   "source": [
    "lda = LatentDirichletAllocation(n_components=2, max_iter=30, learning_method='online', verbose=True)"
   ]
  },
  {
   "cell_type": "code",
   "execution_count": 57,
   "metadata": {},
   "outputs": [
    {
     "name": "stdout",
     "output_type": "stream",
     "text": [
      "iteration: 1 of max_iter: 30\n",
      "iteration: 2 of max_iter: 30\n",
      "iteration: 3 of max_iter: 30\n",
      "iteration: 4 of max_iter: 30\n",
      "iteration: 5 of max_iter: 30\n",
      "iteration: 6 of max_iter: 30\n",
      "iteration: 7 of max_iter: 30\n",
      "iteration: 8 of max_iter: 30\n",
      "iteration: 9 of max_iter: 30\n",
      "iteration: 10 of max_iter: 30\n",
      "iteration: 11 of max_iter: 30\n",
      "iteration: 12 of max_iter: 30\n",
      "iteration: 13 of max_iter: 30\n",
      "iteration: 14 of max_iter: 30\n",
      "iteration: 15 of max_iter: 30\n",
      "iteration: 16 of max_iter: 30\n",
      "iteration: 17 of max_iter: 30\n",
      "iteration: 18 of max_iter: 30\n",
      "iteration: 19 of max_iter: 30\n",
      "iteration: 20 of max_iter: 30\n",
      "iteration: 21 of max_iter: 30\n",
      "iteration: 22 of max_iter: 30\n",
      "iteration: 23 of max_iter: 30\n",
      "iteration: 24 of max_iter: 30\n",
      "iteration: 25 of max_iter: 30\n",
      "iteration: 26 of max_iter: 30\n",
      "iteration: 27 of max_iter: 30\n",
      "iteration: 28 of max_iter: 30\n",
      "iteration: 29 of max_iter: 30\n",
      "iteration: 30 of max_iter: 30\n"
     ]
    }
   ],
   "source": [
    "data_lda = lda.fit_transform(data_vectorizer)"
   ]
  },
  {
   "cell_type": "code",
   "execution_count": 58,
   "metadata": {},
   "outputs": [],
   "source": [
    "import pyLDAvis.sklearn"
   ]
  },
  {
   "cell_type": "code",
   "execution_count": 60,
   "metadata": {},
   "outputs": [
    {
     "name": "stderr",
     "output_type": "stream",
     "text": [
      "/Users/dgoalmeida/opt/anaconda3/lib/python3.8/site-packages/ipykernel/ipkernel.py:287: DeprecationWarning: `should_run_async` will not call `transform_cell` automatically in the future. Please pass the result to `transformed_cell` argument and any exception that happen during thetransform in `preprocessing_exc_tuple` in IPython 7.17 and above.\n",
      "  and should_run_async(code)\n"
     ]
    }
   ],
   "source": [
    "pyLDAvis.enable_notebook()"
   ]
  },
  {
   "cell_type": "code",
   "execution_count": 61,
   "metadata": {},
   "outputs": [
    {
     "name": "stderr",
     "output_type": "stream",
     "text": [
      "/Users/dgoalmeida/opt/anaconda3/lib/python3.8/site-packages/ipykernel/ipkernel.py:287: DeprecationWarning: `should_run_async` will not call `transform_cell` automatically in the future. Please pass the result to `transformed_cell` argument and any exception that happen during thetransform in `preprocessing_exc_tuple` in IPython 7.17 and above.\n",
      "  and should_run_async(code)\n"
     ]
    }
   ],
   "source": [
    "dash = pyLDAvis.sklearn.prepare(lda, data_vectorizer, vectorizer, mds='tsne')"
   ]
  },
  {
   "cell_type": "code",
   "execution_count": 62,
   "metadata": {},
   "outputs": [
    {
     "name": "stderr",
     "output_type": "stream",
     "text": [
      "/Users/dgoalmeida/opt/anaconda3/lib/python3.8/site-packages/ipykernel/ipkernel.py:287: DeprecationWarning: `should_run_async` will not call `transform_cell` automatically in the future. Please pass the result to `transformed_cell` argument and any exception that happen during thetransform in `preprocessing_exc_tuple` in IPython 7.17 and above.\n",
      "  and should_run_async(code)\n"
     ]
    },
    {
     "data": {
      "text/html": [
       "\n",
       "<link rel=\"stylesheet\" type=\"text/css\" href=\"https://cdn.jsdelivr.net/gh/bmabey/pyLDAvis@3.3.1/pyLDAvis/js/ldavis.v1.0.0.css\">\n",
       "\n",
       "\n",
       "<div id=\"ldavis_el93231403427138506723241838160\"></div>\n",
       "<script type=\"text/javascript\">\n",
       "\n",
       "var ldavis_el93231403427138506723241838160_data = {\"mdsDat\": {\"x\": [-60.31231689453125, 60.31256103515625], \"y\": [141.36962890625, -141.369140625], \"topics\": [1, 2], \"cluster\": [1, 1], \"Freq\": [51.178293602073374, 48.82170639792663]}, \"tinfo\": {\"Term\": [\"turista\", \"turismo\", \"hotel\", \"fot\\u00f3grafo\", \"brasil\", \"cidade\", \"ano\", \"museu\", \"parque\", \"registrar\", \"praia\", \"pacote\", \"ilhar\", \"viajar\", \"pa\\u00eds\", \"tur\\u00edstico\", \"brasileiro\", \"conferir\", \"oferecer\", \"a\\u00e9reo\", \"atrair\", \"imagem\", \"site\", \"rir\", \"passar\", \"atra\\u00e7\\u00f5es\", \"roteiro\", \"ganhar\", \"it\\u00e1lia\", \"cruzeiro\", \"cidade\", \"ano\", \"parque\", \"tur\\u00edstico\", \"museu\", \"roteiro\", \"ganhar\", \"abrir\", \"atra\\u00e7\\u00f5es\", \"londres\", \"mostrar\", \"atrair\", \"virar\", \"levar\", \"visitar\", \"voltar\", \"atra\\u00e7\\u00e3o\", \"mar\", \"esqui\", \"passeio\", \"cruzeiro\", \"disney\", \"roto\", \"passear\", \"destinar\", \"pa\\u00eds\", \"revelar\", \"regi\\u00e3o\", \"inaugurar\", \"turista\", \"criar\", \"brasileiro\", \"rir\", \"eua\", \"foto\", \"paulo\", \"conhecer\", \"viagem\", \"mundo\", \"parir\", \"turismo\", \"fot\\u00f3grafo\", \"hotel\", \"brasil\", \"registrar\", \"pacote\", \"viajar\", \"praia\", \"ilhar\", \"a\\u00e9reo\", \"conferir\", \"oferecer\", \"imagem\", \"site\", \"destino\", \"clicar\", \"companhia\", \"avi\\u00e3o\", \"passar\", \"airbnb\", \"it\\u00e1lia\", \"dia\", \"aeroporto\", \"destaque\", \"luxar\", \"\\u00e1gua\", \"norte\", \"f\\u00e9ria\", \"op\\u00e7\\u00e3o\", \"voo\", \"cubar\", \"chino\", \"york\", \"alto\", \"visitante\", \"viagem\", \"mundo\", \"conhecer\"], \"Freq\": [188.0, 113.0, 105.0, 101.0, 78.0, 79.0, 72.0, 73.0, 64.0, 53.0, 50.0, 50.0, 47.0, 47.0, 54.0, 49.0, 58.0, 38.0, 38.0, 37.0, 41.0, 34.0, 34.0, 52.0, 34.0, 35.0, 34.0, 34.0, 32.0, 35.0, 78.79743974493162, 72.36243682146163, 63.84875011444881, 48.76295673727232, 72.67962587511813, 34.23296452707251, 33.67272583129619, 30.372303076010265, 34.95321768957813, 32.53189650999595, 28.491976308705777, 41.01128636842813, 28.70375843316421, 27.51316850155953, 27.085311862275052, 24.366120214969094, 20.900218858108992, 28.013783334928863, 23.764985617445355, 27.253901431861973, 34.945855452364974, 24.906485143271023, 23.295333932628317, 22.519973257522846, 22.77401722378687, 53.070963665455594, 20.29917685031227, 22.144337492914733, 32.66502975517475, 183.25136561186008, 31.780255799546765, 55.84768405024554, 48.41474880453216, 53.58772703206702, 30.304718005742377, 25.21285773200786, 44.10525168633085, 53.696301277532186, 41.41961305141424, 28.110177203406984, 113.28894052991495, 101.17258066347182, 105.0688243275431, 77.5009423228138, 53.045032354671015, 49.5736017884497, 46.67404991979242, 50.18223961054922, 46.98007790436227, 36.7839425633476, 38.21214266664987, 37.84494942036144, 33.52967753421111, 33.449148335238945, 30.546945228117863, 29.446903521096306, 25.022233817396533, 25.274242273910616, 33.51125957563448, 24.920266409394667, 31.408053490039688, 23.155056577630983, 21.81323603293594, 28.407862111633374, 22.606175179131515, 26.230216333776553, 24.15200998136957, 20.742184589888872, 20.050109359151907, 17.771465645666265, 25.298030094465044, 24.58419557554508, 22.829269407602656, 25.249066588004833, 25.95764768771563, 61.239078028186206, 40.36387622155967, 32.626600720831384], \"Total\": [188.0, 113.0, 105.0, 101.0, 78.0, 79.0, 72.0, 73.0, 64.0, 53.0, 50.0, 50.0, 47.0, 47.0, 54.0, 49.0, 58.0, 38.0, 38.0, 37.0, 41.0, 34.0, 34.0, 52.0, 34.0, 35.0, 34.0, 34.0, 32.0, 35.0, 79.41494120313925, 72.96905100173123, 64.42160377264908, 49.35199501381853, 73.71615528934558, 34.8099465738032, 34.26601705773343, 30.927449887411715, 35.604268022545064, 33.13786806877624, 29.035884173887528, 41.79761669225574, 29.288953451041852, 28.077875501858482, 27.726812871735213, 24.962099581924154, 21.416464629821217, 28.708880282132505, 24.3551747505977, 27.93122963146646, 35.82735124640869, 25.537115666685555, 23.893061747194913, 23.110331815262526, 23.37573694287751, 54.47953708812366, 20.841800147963525, 22.753467752501756, 33.56861179757864, 188.5340335586005, 32.85469806538059, 58.589582176612375, 52.01497135495797, 60.483640516742994, 32.34843932933127, 26.508004779244352, 76.73185240716224, 114.93537930571839, 81.78348927297391, 40.72567761921991, 113.90539590241345, 101.74164033268663, 105.73383880801492, 78.16141416331465, 53.592683043484264, 50.1261783434276, 47.24117837409626, 50.813573486266286, 47.58221831839034, 37.28905110886748, 38.76774915721223, 38.405718139771835, 34.080815034368875, 34.00220958068387, 31.096884305028656, 30.009125543419906, 25.531143139502312, 25.806453083403866, 34.22935119462755, 25.465093440934734, 32.095481987478145, 23.726238712089984, 22.356999098592894, 29.13079573677278, 23.181490959946537, 26.91345829689649, 24.8126332077564, 21.333890902956554, 20.626503243554474, 18.301461029716727, 26.053153244342507, 25.44182149914126, 23.694044025323915, 26.74011240752661, 27.784528738315647, 114.93537930571839, 81.78348927297391, 76.73185240716224], \"Category\": [\"Default\", \"Default\", \"Default\", \"Default\", \"Default\", \"Default\", \"Default\", \"Default\", \"Default\", \"Default\", \"Default\", \"Default\", \"Default\", \"Default\", \"Default\", \"Default\", \"Default\", \"Default\", \"Default\", \"Default\", \"Default\", \"Default\", \"Default\", \"Default\", \"Default\", \"Default\", \"Default\", \"Default\", \"Default\", \"Default\", \"Topic1\", \"Topic1\", \"Topic1\", \"Topic1\", \"Topic1\", \"Topic1\", \"Topic1\", \"Topic1\", \"Topic1\", \"Topic1\", \"Topic1\", \"Topic1\", \"Topic1\", \"Topic1\", \"Topic1\", \"Topic1\", \"Topic1\", \"Topic1\", \"Topic1\", \"Topic1\", \"Topic1\", \"Topic1\", \"Topic1\", \"Topic1\", \"Topic1\", \"Topic1\", \"Topic1\", \"Topic1\", \"Topic1\", \"Topic1\", \"Topic1\", \"Topic1\", \"Topic1\", \"Topic1\", \"Topic1\", \"Topic1\", \"Topic1\", \"Topic1\", \"Topic1\", \"Topic1\", \"Topic2\", \"Topic2\", \"Topic2\", \"Topic2\", \"Topic2\", \"Topic2\", \"Topic2\", \"Topic2\", \"Topic2\", \"Topic2\", \"Topic2\", \"Topic2\", \"Topic2\", \"Topic2\", \"Topic2\", \"Topic2\", \"Topic2\", \"Topic2\", \"Topic2\", \"Topic2\", \"Topic2\", \"Topic2\", \"Topic2\", \"Topic2\", \"Topic2\", \"Topic2\", \"Topic2\", \"Topic2\", \"Topic2\", \"Topic2\", \"Topic2\", \"Topic2\", \"Topic2\", \"Topic2\", \"Topic2\", \"Topic2\", \"Topic2\", \"Topic2\"], \"logprob\": [30.0, 29.0, 28.0, 27.0, 26.0, 25.0, 24.0, 23.0, 22.0, 21.0, 20.0, 19.0, 18.0, 17.0, 16.0, 15.0, 14.0, 13.0, 12.0, 11.0, 10.0, 9.0, 8.0, 7.0, 6.0, 5.0, 4.0, 3.0, 2.0, 1.0, -3.6002, -3.6854, -3.8106, -4.0801, -3.681, -4.4339, -4.4504, -4.5535, -4.4131, -4.4849, -4.6175, -4.2532, -4.61, -4.6524, -4.6681, -4.7739, -4.9273, -4.6344, -4.7989, -4.6619, -4.4133, -4.7519, -4.8188, -4.8527, -4.8415, -3.9954, -4.9565, -4.8695, -4.4808, -2.7562, -4.5082, -3.9444, -4.0873, -3.9858, -4.5558, -4.7397, -4.1805, -3.9837, -4.2433, -4.6309, -3.19, -3.3031, -3.2653, -3.5696, -3.9488, -4.0165, -4.0767, -4.0043, -4.0702, -4.3149, -4.2768, -4.2864, -4.4075, -4.4099, -4.5007, -4.5373, -4.7002, -4.6901, -4.4081, -4.7043, -4.4729, -4.7777, -4.8374, -4.5733, -4.8017, -4.653, -4.7356, -4.8878, -4.9217, -5.0423, -4.6892, -4.7178, -4.7919, -4.6911, -4.6635, -3.8051, -4.222, -4.4348], \"loglift\": [30.0, 29.0, 28.0, 27.0, 26.0, 25.0, 24.0, 23.0, 22.0, 21.0, 20.0, 19.0, 18.0, 17.0, 16.0, 15.0, 14.0, 13.0, 12.0, 11.0, 10.0, 9.0, 8.0, 7.0, 6.0, 5.0, 4.0, 3.0, 2.0, 1.0, 0.662, 0.6615, 0.6609, 0.6578, 0.6557, 0.6531, 0.6524, 0.6517, 0.6514, 0.6514, 0.6509, 0.6509, 0.6497, 0.6495, 0.6464, 0.6457, 0.6455, 0.6453, 0.6453, 0.6453, 0.6449, 0.6449, 0.6445, 0.644, 0.6438, 0.6437, 0.6435, 0.6427, 0.6426, 0.6414, 0.6366, 0.6219, 0.5981, 0.5488, 0.6046, 0.6198, 0.1161, -0.0912, -0.0105, 0.2991, 0.7116, 0.7114, 0.7107, 0.7085, 0.7067, 0.7059, 0.7049, 0.7045, 0.7043, 0.7034, 0.7026, 0.7023, 0.7007, 0.7006, 0.6992, 0.6981, 0.6969, 0.6962, 0.6958, 0.6954, 0.6953, 0.6926, 0.6924, 0.6919, 0.6919, 0.6913, 0.69, 0.6889, 0.6887, 0.6876, 0.6876, 0.6827, 0.6798, 0.6596, 0.649, 0.0874, 0.0109, -0.1382]}, \"token.table\": {\"Topic\": [1, 2, 1, 2, 1, 2, 1, 2, 1, 2, 1, 2, 1, 2, 1, 2, 1, 2, 1, 2, 1, 2, 1, 2, 1, 2, 1, 2, 1, 2, 1, 2, 1, 2, 1, 2, 1, 2, 1, 2, 1, 2, 1, 2, 1, 2, 1, 2, 1, 2, 1, 2, 1, 2, 1, 2, 1, 2, 1, 2, 1, 2, 1, 2, 1, 2, 1, 2, 1, 2, 1, 2, 1, 2, 1, 2, 1, 2, 1, 2, 1, 2, 1, 2, 1, 2, 1, 2, 1, 2, 1, 2, 1, 2, 1, 2, 1, 2, 1, 2, 1, 2, 1, 2, 1, 2, 1, 2, 1, 2, 1, 2, 1, 2, 1, 2, 1, 2, 1, 2, 1, 2, 1, 2, 1, 2, 1, 2, 1, 2, 1, 2, 1, 2, 1, 2, 1, 2, 1, 2, 1, 2, 1, 2, 1, 2, 1, 2, 1, 2], \"Freq\": [0.9700120801815861, 0.03233373600605287, 0.044728722114719684, 0.984031886523833, 0.03926944161110031, 0.9817360402775077, 0.03739700060941133, 0.9349250152352832, 0.9867196984416278, 0.01370444025613372, 0.980917172906571, 0.02392480909528222, 0.9805539972624, 0.04669304748868571, 0.9830282138601352, 0.028086520396003862, 0.038749997791951506, 0.9687499447987877, 0.026817523381875385, 0.9922483651293893, 0.01279403668299228, 0.9979348612733979, 0.9558013202960496, 0.05120364215871694, 0.03930536184422775, 0.9826340461056936, 0.9947750234798027, 0.01259208890480763, 0.033323196923986005, 0.9663727107955941, 0.03916785059470288, 0.979196264867572, 0.025794636566202688, 0.9801961895157021, 0.5734254891504873, 0.4300691168628655, 0.9739855145319021, 0.03043704732912194, 0.9769072728620534, 0.02791163636748724, 0.03838306981966384, 0.9595767454915961, 0.034327932852780484, 0.9611821198778536, 0.9839261990415239, 0.04277939995832713, 0.03215756248089107, 0.9968844369076233, 0.0421474306203637, 0.9693909042683652, 0.9789672540275859, 0.03915869016110343, 0.9854168670832886, 0.04105903612847035, 0.8928034016909382, 0.11573377429326977, 0.9274017733769965, 0.06182678489179977, 0.00982881735275826, 0.9927105526285842, 0.04687377490345257, 0.984349272972504, 0.9922367091195563, 0.02918343262116342, 0.009457710145337098, 0.9930595652603952, 0.02101625429290891, 0.9877639517667188, 0.02934202128063979, 0.9976287235417528, 0.9830612060752641, 0.02978973351743225, 0.0311570332668674, 0.9658680312728894, 0.9972264460730539, 0.035615230216894785, 0.9958395612991728, 0.030176956403005235, 0.04313786381246232, 0.9921708676866332, 0.9753079787450405, 0.034832427812322875, 0.9643240010297631, 0.03444014289392011, 0.5013236823774015, 0.4890962754901479, 0.9902849614642194, 0.013565547417318073, 0.04030205063795491, 0.9672492153109179, 0.026037789382316726, 0.9894359965280356, 0.04848131494670516, 0.9696262989341032, 0.019949655709811703, 0.9974827854905851, 0.6875269274042919, 0.3192089305805641, 0.9934555529828633, 0.015522743015357238, 0.0292146933873802, 0.9932995751709268, 0.9952258662426621, 0.04327068983663748, 0.9666599128017849, 0.0358022189926587, 0.9431113434676489, 0.037724453738705956, 0.972842333705398, 0.01835551573029053, 0.01967978103862891, 0.9839890519314455, 0.01865926360112659, 0.9889409708597091, 0.9668855859380419, 0.04394934481536554, 0.9596100076774905, 0.047980500383874525, 0.9228112358736256, 0.07690093632280214, 0.9767323235591306, 0.0287274212811509, 0.9626225488954022, 0.0418531542998001, 0.02940985342811617, 0.9705251631278337, 0.00877921534864541, 0.9920513343969312, 0.9706470314449598, 0.026520410695217482, 0.9928676639369903, 0.02026260538646919, 0.46982922339660593, 0.5307330116146844, 0.021167973247431308, 0.9948947426292715, 0.9901343879860762, 0.03414256510296815, 0.07198250576199063, 0.9357725749058781, 0.9737866420097592, 0.036066171926287374, 0.961457585778528, 0.040060732740772, 0.05464044637618083, 0.9835280347712549, 0.04220469916115678, 0.9707080807066059, 0.03715613166351477, 0.966059423251384], \"Term\": [\"abrir\", \"abrir\", \"aeroporto\", \"aeroporto\", \"airbnb\", \"airbnb\", \"alto\", \"alto\", \"ano\", \"ano\", \"atrair\", \"atrair\", \"atra\\u00e7\\u00e3o\", \"atra\\u00e7\\u00e3o\", \"atra\\u00e7\\u00f5es\", \"atra\\u00e7\\u00f5es\", \"avi\\u00e3o\", \"avi\\u00e3o\", \"a\\u00e9reo\", \"a\\u00e9reo\", \"brasil\", \"brasil\", \"brasileiro\", \"brasileiro\", \"chino\", \"chino\", \"cidade\", \"cidade\", \"clicar\", \"clicar\", \"companhia\", \"companhia\", \"conferir\", \"conferir\", \"conhecer\", \"conhecer\", \"criar\", \"criar\", \"cruzeiro\", \"cruzeiro\", \"cubar\", \"cubar\", \"destaque\", \"destaque\", \"destinar\", \"destinar\", \"destino\", \"destino\", \"dia\", \"dia\", \"disney\", \"disney\", \"esqui\", \"esqui\", \"eua\", \"eua\", \"foto\", \"foto\", \"fot\\u00f3grafo\", \"fot\\u00f3grafo\", \"f\\u00e9ria\", \"f\\u00e9ria\", \"ganhar\", \"ganhar\", \"hotel\", \"hotel\", \"ilhar\", \"ilhar\", \"imagem\", \"imagem\", \"inaugurar\", \"inaugurar\", \"it\\u00e1lia\", \"it\\u00e1lia\", \"levar\", \"levar\", \"londres\", \"londres\", \"luxar\", \"luxar\", \"mar\", \"mar\", \"mostrar\", \"mostrar\", \"mundo\", \"mundo\", \"museu\", \"museu\", \"norte\", \"norte\", \"oferecer\", \"oferecer\", \"op\\u00e7\\u00e3o\", \"op\\u00e7\\u00e3o\", \"pacote\", \"pacote\", \"parir\", \"parir\", \"parque\", \"parque\", \"passar\", \"passar\", \"passear\", \"passear\", \"passeio\", \"passeio\", \"paulo\", \"paulo\", \"pa\\u00eds\", \"pa\\u00eds\", \"praia\", \"praia\", \"registrar\", \"registrar\", \"regi\\u00e3o\", \"regi\\u00e3o\", \"revelar\", \"revelar\", \"rir\", \"rir\", \"roteiro\", \"roteiro\", \"roto\", \"roto\", \"site\", \"site\", \"turismo\", \"turismo\", \"turista\", \"turista\", \"tur\\u00edstico\", \"tur\\u00edstico\", \"viagem\", \"viagem\", \"viajar\", \"viajar\", \"virar\", \"virar\", \"visitante\", \"visitante\", \"visitar\", \"visitar\", \"voltar\", \"voltar\", \"voo\", \"voo\", \"york\", \"york\", \"\\u00e1gua\", \"\\u00e1gua\"]}, \"R\": 30, \"lambda.step\": 0.01, \"plot.opts\": {\"xlab\": \"PC1\", \"ylab\": \"PC2\"}, \"topic.order\": [2, 1]};\n",
       "\n",
       "function LDAvis_load_lib(url, callback){\n",
       "  var s = document.createElement('script');\n",
       "  s.src = url;\n",
       "  s.async = true;\n",
       "  s.onreadystatechange = s.onload = callback;\n",
       "  s.onerror = function(){console.warn(\"failed to load library \" + url);};\n",
       "  document.getElementsByTagName(\"head\")[0].appendChild(s);\n",
       "}\n",
       "\n",
       "if(typeof(LDAvis) !== \"undefined\"){\n",
       "   // already loaded: just create the visualization\n",
       "   !function(LDAvis){\n",
       "       new LDAvis(\"#\" + \"ldavis_el93231403427138506723241838160\", ldavis_el93231403427138506723241838160_data);\n",
       "   }(LDAvis);\n",
       "}else if(typeof define === \"function\" && define.amd){\n",
       "   // require.js is available: use it to load d3/LDAvis\n",
       "   require.config({paths: {d3: \"https://d3js.org/d3.v5\"}});\n",
       "   require([\"d3\"], function(d3){\n",
       "      window.d3 = d3;\n",
       "      LDAvis_load_lib(\"https://cdn.jsdelivr.net/gh/bmabey/pyLDAvis@3.3.1/pyLDAvis/js/ldavis.v3.0.0.js\", function(){\n",
       "        new LDAvis(\"#\" + \"ldavis_el93231403427138506723241838160\", ldavis_el93231403427138506723241838160_data);\n",
       "      });\n",
       "    });\n",
       "}else{\n",
       "    // require.js not available: dynamically load d3 & LDAvis\n",
       "    LDAvis_load_lib(\"https://d3js.org/d3.v5.js\", function(){\n",
       "         LDAvis_load_lib(\"https://cdn.jsdelivr.net/gh/bmabey/pyLDAvis@3.3.1/pyLDAvis/js/ldavis.v3.0.0.js\", function(){\n",
       "                 new LDAvis(\"#\" + \"ldavis_el93231403427138506723241838160\", ldavis_el93231403427138506723241838160_data);\n",
       "            })\n",
       "         });\n",
       "}\n",
       "</script>"
      ],
      "text/plain": [
       "PreparedData(topic_coordinates=               x           y  topics  cluster       Freq\n",
       "topic                                                   \n",
       "1     -60.312317  141.369629       1        1  51.178294\n",
       "0      60.312561 -141.369141       2        1  48.821706, topic_info=          Term        Freq       Total Category  logprob  loglift\n",
       "214    turista  188.000000  188.000000  Default  30.0000  30.0000\n",
       "213    turismo  113.000000  113.000000  Default  29.0000  29.0000\n",
       "114      hotel  105.000000  105.000000  Default  28.0000  28.0000\n",
       "103  fotógrafo  101.000000  101.000000  Default  27.0000  27.0000\n",
       "33      brasil   78.000000   78.000000  Default  26.0000  26.0000\n",
       "..         ...         ...         ...      ...      ...      ...\n",
       "11        alto   25.249067   26.740112   Topic2  -4.6911   0.6596\n",
       "228  visitante   25.957648   27.784529   Topic2  -4.6635   0.6490\n",
       "221     viagem   61.239078  114.935379   Topic2  -3.8051   0.0874\n",
       "138      mundo   40.363876   81.783489   Topic2  -4.2220   0.0109\n",
       "58    conhecer   32.626601   76.731852   Topic2  -4.4348  -0.1382\n",
       "\n",
       "[108 rows x 6 columns], token_table=      Topic      Freq       Term\n",
       "term                            \n",
       "6         1  0.970012      abrir\n",
       "6         2  0.032334      abrir\n",
       "7         1  0.044729  aeroporto\n",
       "7         2  0.984032  aeroporto\n",
       "9         1  0.039269     airbnb\n",
       "...     ...       ...        ...\n",
       "234       2  0.983528        voo\n",
       "236       1  0.042205       york\n",
       "236       2  0.970708       york\n",
       "238       1  0.037156       água\n",
       "238       2  0.966059       água\n",
       "\n",
       "[150 rows x 3 columns], R=30, lambda_step=0.01, plot_opts={'xlab': 'PC1', 'ylab': 'PC2'}, topic_order=[2, 1])"
      ]
     },
     "execution_count": 62,
     "metadata": {},
     "output_type": "execute_result"
    }
   ],
   "source": [
    "dash"
   ]
  },
  {
   "cell_type": "code",
   "execution_count": null,
   "metadata": {},
   "outputs": [],
   "source": []
  }
 ],
 "metadata": {
  "kernelspec": {
   "display_name": "Python 3",
   "language": "python",
   "name": "python3"
  },
  "language_info": {
   "codemirror_mode": {
    "name": "ipython",
    "version": 3
   },
   "file_extension": ".py",
   "mimetype": "text/x-python",
   "name": "python",
   "nbconvert_exporter": "python",
   "pygments_lexer": "ipython3",
   "version": "3.8.5"
  }
 },
 "nbformat": 4,
 "nbformat_minor": 5
}
