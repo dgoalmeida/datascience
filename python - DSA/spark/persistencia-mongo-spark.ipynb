{
 "cells": [
  {
   "cell_type": "code",
   "execution_count": 1,
   "id": "15fbe145",
   "metadata": {},
   "outputs": [],
   "source": [
    "from pyspark.sql import SQLContext\n",
    "from pyspark.sql import SparkSession\n",
    "from pyspark.sql import Row"
   ]
  },
  {
   "cell_type": "code",
   "execution_count": 2,
   "id": "e4927c1e",
   "metadata": {},
   "outputs": [],
   "source": [
    "# criando spark session\n",
    "spkSession = SparkSession.builder.master('local').appName('skarkSQL').getOrCreate()"
   ]
  },
  {
   "cell_type": "code",
   "execution_count": 3,
   "id": "44a51274",
   "metadata": {},
   "outputs": [],
   "source": [
    "sqlContext = SQLContext(sc)"
   ]
  },
  {
   "cell_type": "code",
   "execution_count": 4,
   "id": "6899ecf9",
   "metadata": {},
   "outputs": [],
   "source": [
    "carros = sc.textFile('data/carros.csv')"
   ]
  },
  {
   "cell_type": "code",
   "execution_count": 5,
   "id": "200f4ab5",
   "metadata": {},
   "outputs": [
    {
     "data": {
      "text/plain": [
       "198"
      ]
     },
     "execution_count": 5,
     "metadata": {},
     "output_type": "execute_result"
    }
   ],
   "source": [
    "carros.count()"
   ]
  },
  {
   "cell_type": "code",
   "execution_count": 6,
   "id": "bb6b4a9a",
   "metadata": {},
   "outputs": [],
   "source": [
    "# removendo primeira linha\n",
    "linhas = carros.filter(lambda x: 'FUELTYPE' not in x)"
   ]
  },
  {
   "cell_type": "code",
   "execution_count": 7,
   "id": "0e8fbe8a",
   "metadata": {},
   "outputs": [],
   "source": [
    "# dividindo o conjunto de dados em colunas\n",
    "linha2 = linhas.map(lambda x: x.split(','))"
   ]
  },
  {
   "cell_type": "code",
   "execution_count": 8,
   "id": "a3090602",
   "metadata": {},
   "outputs": [],
   "source": [
    "# dividindo cojunto de dados em colunas\n",
    "linhas3 = linha2.map(lambda x: Row(make=x[0], body=x[4], hp=int(x[7])))"
   ]
  },
  {
   "cell_type": "code",
   "execution_count": 9,
   "id": "17836b27",
   "metadata": {},
   "outputs": [],
   "source": [
    "?Row"
   ]
  },
  {
   "cell_type": "code",
   "execution_count": 10,
   "id": "a0abf368",
   "metadata": {},
   "outputs": [
    {
     "data": {
      "text/plain": [
       "[Row(make='subaru', body='hatchback', hp=69),\n",
       " Row(make='chevrolet', body='hatchback', hp=48),\n",
       " Row(make='mazda', body='hatchback', hp=68),\n",
       " Row(make='toyota', body='hatchback', hp=62),\n",
       " Row(make='mitsubishi', body='hatchback', hp=68),\n",
       " Row(make='honda', body='hatchback', hp=60),\n",
       " Row(make='nissan', body='sedan', hp=69),\n",
       " Row(make='dodge', body='hatchback', hp=68),\n",
       " Row(make='plymouth', body='hatchback', hp=68),\n",
       " Row(make='mazda', body='hatchback', hp=68),\n",
       " Row(make='mitsubishi', body='hatchback', hp=68),\n",
       " Row(make='dodge', body='hatchback', hp=68),\n",
       " Row(make='plymouth', body='hatchback', hp=68),\n",
       " Row(make='chevrolet', body='hatchback', hp=70),\n",
       " Row(make='toyota', body='hatchback', hp=62),\n",
       " Row(make='dodge', body='hatchback', hp=68),\n",
       " Row(make='honda', body='hatchback', hp=58),\n",
       " Row(make='toyota', body='hatchback', hp=62),\n",
       " Row(make='honda', body='hatchback', hp=76),\n",
       " Row(make='chevrolet', body='sedan', hp=70),\n",
       " Row(make='nissan', body='sedan', hp=69),\n",
       " Row(make='mitsubishi', body='hatchback', hp=68),\n",
       " Row(make='dodge', body='sedan', hp=68),\n",
       " Row(make='plymouth', body='sedan', hp=68),\n",
       " Row(make='mazda', body='sedan', hp=68),\n",
       " Row(make='isuzu', body='sedan', hp=78),\n",
       " Row(make='mazda', body='hatchback', hp=68),\n",
       " Row(make='nissan', body='sedan', hp=69),\n",
       " Row(make='honda', body='hatchback', hp=76),\n",
       " Row(make='toyota', body='wagon', hp=62),\n",
       " Row(make='toyota', body='sedan', hp=70),\n",
       " Row(make='mitsubishi', body='sedan', hp=88),\n",
       " Row(make='subaru', body='hatchback', hp=73),\n",
       " Row(make='nissan', body='sedan', hp=55),\n",
       " Row(make='subaru', body='sedan', hp=82),\n",
       " Row(make='honda', body='hatchback', hp=76),\n",
       " Row(make='toyota', body='hatchback', hp=70),\n",
       " Row(make='honda', body='sedan', hp=76),\n",
       " Row(make='honda', body='wagon', hp=76),\n",
       " Row(make='nissan', body='sedan', hp=69),\n",
       " Row(make='nissan', body='wagon', hp=69),\n",
       " Row(make='mazda', body='sedan', hp=68),\n",
       " Row(make='subaru', body='wagon', hp=82),\n",
       " Row(make='nissan', body='sedan', hp=69),\n",
       " Row(make='subaru', body='hatchback', hp=73),\n",
       " Row(make='dodge', body='sedan', hp=68),\n",
       " Row(make='plymouth', body='sedan', hp=68),\n",
       " Row(make='mitsubishi', body='hatchback', hp=102),\n",
       " Row(make='toyota', body='sedan', hp=70),\n",
       " Row(make='subaru', body='sedan', hp=82),\n",
       " Row(make='volkswagen', body='sedan', hp=52),\n",
       " Row(make='toyota', body='hatchback', hp=56),\n",
       " Row(make='nissan', body='hatchback', hp=69),\n",
       " Row(make='honda', body='hatchback', hp=86),\n",
       " Row(make='toyota', body='wagon', hp=62),\n",
       " Row(make='toyota', body='sedan', hp=56),\n",
       " Row(make='dodge', body='hatchback', hp=102),\n",
       " Row(make='plymouth', body='hatchback', hp=102),\n",
       " Row(make='volkswagen', body='sedan', hp=85),\n",
       " Row(make='volkswagen', body='sedan', hp=52),\n",
       " Row(make='nissan', body='wagon', hp=69),\n",
       " Row(make='subaru', body='wagon', hp=82),\n",
       " Row(make='toyota', body='sedan', hp=70),\n",
       " Row(make='mitsubishi', body='sedan', hp=88),\n",
       " Row(make='volkswagen', body='sedan', hp=85),\n",
       " Row(make='toyota', body='hatchback', hp=70),\n",
       " Row(make='nissan', body='hardtop', hp=69),\n",
       " Row(make='toyota', body='hatchback', hp=70),\n",
       " Row(make='toyota', body='hardtop', hp=116),\n",
       " Row(make='mazda', body='sedan', hp=84),\n",
       " Row(make='volkswagen', body='sedan', hp=85),\n",
       " Row(make='mitsubishi', body='hatchback', hp=88),\n",
       " Row(make='toyota', body='wagon', hp=62),\n",
       " Row(make='honda', body='sedan', hp=86),\n",
       " Row(make='mazda', body='hatchback', hp=84),\n",
       " Row(make='dodge', body='wagon', hp=88),\n",
       " Row(make='plymouth', body='wagon', hp=88),\n",
       " Row(make='toyota', body='sedan', hp=92),\n",
       " Row(make='nissan', body='hatchback', hp=97),\n",
       " Row(make='honda', body='hatchback', hp=86),\n",
       " Row(make='subaru', body='sedan', hp=82),\n",
       " Row(make='toyota', body='sedan', hp=70),\n",
       " Row(make='mitsubishi', body='sedan', hp=116),\n",
       " Row(make='mitsubishi', body='sedan', hp=116),\n",
       " Row(make='toyota', body='sedan', hp=112),\n",
       " Row(make='volkswagen', body='sedan', hp=68),\n",
       " Row(make='toyota', body='hatchback', hp=112),\n",
       " Row(make='nissan', body='sedan', hp=97),\n",
       " Row(make='toyota', body='hardtop', hp=116),\n",
       " Row(make='mitsubishi', body='hatchback', hp=116),\n",
       " Row(make='subaru', body='sedan', hp=94),\n",
       " Row(make='volkswagen', body='hatchback', hp=90),\n",
       " Row(make='toyota', body='hatchback', hp=92),\n",
       " Row(make='toyota', body='hatchback', hp=116),\n",
       " Row(make='volkswagen', body='sedan', hp=100),\n",
       " Row(make='subaru', body='wagon', hp=94),\n",
       " Row(make='mazda', body='sedan', hp=84),\n",
       " Row(make='honda', body='sedan', hp=86),\n",
       " Row(make='honda', body='sedan', hp=100),\n",
       " Row(make='mazda', body='hatchback', hp=84),\n",
       " Row(make='toyota', body='sedan', hp=73),\n",
       " Row(make='toyota', body='sedan', hp=92),\n",
       " Row(make='mazda', body='hatchback', hp=101),\n",
       " Row(make='isuzu', body='hatchback', hp=90),\n",
       " Row(make='toyota', body='hardtop', hp=116),\n",
       " Row(make='mazda', body='hatchback', hp=84),\n",
       " Row(make='toyota', body='hatchback', hp=92),\n",
       " Row(make='subaru', body='sedan', hp=111),\n",
       " Row(make='toyota', body='hatchback', hp=116),\n",
       " Row(make='volkswagen', body='convertible', hp=90),\n",
       " Row(make='subaru', body='wagon', hp=111),\n",
       " Row(make='mazda', body='hatchback', hp=101),\n",
       " Row(make='saab', body='hatchback', hp=110),\n",
       " Row(make='peugot', body='sedan', hp=97),\n",
       " Row(make='saab', body='sedan', hp=110),\n",
       " Row(make='volkswagen', body='wagon', hp=88),\n",
       " Row(make='peugot', body='wagon', hp=97),\n",
       " Row(make='mitsubishi', body='hatchback', hp=145),\n",
       " Row(make='plymouth', body='hatchback', hp=145),\n",
       " Row(make='volvo', body='sedan', hp=114),\n",
       " Row(make='honda', body='sedan', hp=101),\n",
       " Row(make='dodge', body='hatchback', hp=145),\n",
       " Row(make='peugot', body='sedan', hp=95),\n",
       " Row(make='volkswagen', body='sedan', hp=110),\n",
       " Row(make='volvo', body='wagon', hp=114),\n",
       " Row(make='alfa-romero', body='convertible', hp=111),\n",
       " Row(make='nissan', body='sedan', hp=152),\n",
       " Row(make='nissan', body='sedan', hp=152),\n",
       " Row(make='mazda', body='hatchback', hp=101),\n",
       " Row(make='volkswagen', body='sedan', hp=68),\n",
       " Row(make='peugot', body='wagon', hp=95),\n",
       " Row(make='audi', body='sedan', hp=102),\n",
       " Row(make='nissan', body='wagon', hp=152),\n",
       " Row(make='mitsubishi', body='hatchback', hp=145),\n",
       " Row(make='mitsubishi', body='hatchback', hp=145),\n",
       " Row(make='saab', body='hatchback', hp=110),\n",
       " Row(make='audi', body='sedan', hp=110),\n",
       " Row(make='saab', body='sedan', hp=110),\n",
       " Row(make='peugot', body='sedan', hp=95),\n",
       " Row(make='mazda', body='hatchback', hp=135),\n",
       " Row(make='toyota', body='sedan', hp=156),\n",
       " Row(make='toyota', body='wagon', hp=156),\n",
       " Row(make='volvo', body='sedan', hp=114),\n",
       " Row(make='toyota', body='hatchback', hp=161),\n",
       " Row(make='bmw', body='sedan', hp=101),\n",
       " Row(make='alfa-romero', body='convertible', hp=111),\n",
       " Row(make='alfa-romero', body='hatchback', hp=154),\n",
       " Row(make='mercury', body='hatchback', hp=175),\n",
       " Row(make='volvo', body='wagon', hp=114),\n",
       " Row(make='toyota', body='hatchback', hp=161),\n",
       " Row(make='peugot', body='sedan', hp=97),\n",
       " Row(make='peugot', body='wagon', hp=95),\n",
       " Row(make='volvo', body='sedan', hp=114),\n",
       " Row(make='peugot', body='sedan', hp=95),\n",
       " Row(make='bmw', body='sedan', hp=101),\n",
       " Row(make='peugot', body='wagon', hp=95),\n",
       " Row(make='nissan', body='hatchback', hp=160),\n",
       " Row(make='audi', body='sedan', hp=115),\n",
       " Row(make='toyota', body='convertible', hp=116),\n",
       " Row(make='audi', body='sedan', hp=110),\n",
       " Row(make='peugot', body='sedan', hp=95),\n",
       " Row(make='peugot', body='sedan', hp=142),\n",
       " Row(make='saab', body='hatchback', hp=160),\n",
       " Row(make='mazda', body='sedan', hp=120),\n",
       " Row(make='mazda', body='sedan', hp=72),\n",
       " Row(make='nissan', body='hatchback', hp=160),\n",
       " Row(make='volvo', body='sedan', hp=162),\n",
       " Row(make='saab', body='sedan', hp=160),\n",
       " Row(make='audi', body='wagon', hp=110),\n",
       " Row(make='volvo', body='wagon', hp=162),\n",
       " Row(make='volvo', body='sedan', hp=160),\n",
       " Row(make='nissan', body='hatchback', hp=200),\n",
       " Row(make='bmw', body='sedan', hp=121),\n",
       " Row(make='bmw', body='sedan', hp=121),\n",
       " Row(make='volvo', body='sedan', hp=134),\n",
       " Row(make='porsche', body='hatchback', hp=143),\n",
       " Row(make='volvo', body='sedan', hp=106),\n",
       " Row(make='volvo', body='sedan', hp=114),\n",
       " Row(make='audi', body='sedan', hp=140),\n",
       " Row(make='bmw', body='sedan', hp=121),\n",
       " Row(make='mercedes-benz', body='sedan', hp=123),\n",
       " Row(make='mercedes-benz', body='hardtop', hp=123),\n",
       " Row(make='mercedes-benz', body='wagon', hp=123),\n",
       " Row(make='bmw', body='sedan', hp=182),\n",
       " Row(make='mercedes-benz', body='sedan', hp=123),\n",
       " Row(make='jaguar', body='sedan', hp=176),\n",
       " Row(make='porsche', body='hardtop', hp=207),\n",
       " Row(make='porsche', body='hardtop', hp=207),\n",
       " Row(make='mercedes-benz', body='sedan', hp=155),\n",
       " Row(make='mercedes-benz', body='convertible', hp=155),\n",
       " Row(make='jaguar', body='sedan', hp=176),\n",
       " Row(make='jaguar', body='sedan', hp=262),\n",
       " Row(make='bmw', body='sedan', hp=182),\n",
       " Row(make='porsche', body='convertible', hp=207),\n",
       " Row(make='mercedes-benz', body='sedan', hp=184),\n",
       " Row(make='bmw', body='sedan', hp=182),\n",
       " Row(make='mercedes-benz', body='hardtop', hp=184)]"
      ]
     },
     "execution_count": 10,
     "metadata": {},
     "output_type": "execute_result"
    }
   ],
   "source": [
    "linhas3.collect()"
   ]
  },
  {
   "cell_type": "code",
   "execution_count": 11,
   "id": "44111b66",
   "metadata": {},
   "outputs": [],
   "source": [
    "carrosDf = spkSession.createDataFrame(linhas3)"
   ]
  },
  {
   "cell_type": "code",
   "execution_count": 12,
   "id": "0ec8a254",
   "metadata": {},
   "outputs": [
    {
     "data": {
      "text/plain": [
       "[Row(make='subaru', body='hatchback', hp=69),\n",
       " Row(make='chevrolet', body='hatchback', hp=48),\n",
       " Row(make='mazda', body='hatchback', hp=68),\n",
       " Row(make='toyota', body='hatchback', hp=62),\n",
       " Row(make='mitsubishi', body='hatchback', hp=68)]"
      ]
     },
     "execution_count": 12,
     "metadata": {},
     "output_type": "execute_result"
    }
   ],
   "source": [
    "carrosDf.head(5)"
   ]
  },
  {
   "cell_type": "code",
   "execution_count": 13,
   "id": "a2c87f22",
   "metadata": {},
   "outputs": [
    {
     "name": "stdout",
     "output_type": "stream",
     "text": [
      "+----------+---------+---+\n",
      "|      make|     body| hp|\n",
      "+----------+---------+---+\n",
      "|    subaru|hatchback| 69|\n",
      "| chevrolet|hatchback| 48|\n",
      "|     mazda|hatchback| 68|\n",
      "|    toyota|hatchback| 62|\n",
      "|mitsubishi|hatchback| 68|\n",
      "|     honda|hatchback| 60|\n",
      "|    nissan|    sedan| 69|\n",
      "|     dodge|hatchback| 68|\n",
      "|  plymouth|hatchback| 68|\n",
      "|     mazda|hatchback| 68|\n",
      "|mitsubishi|hatchback| 68|\n",
      "|     dodge|hatchback| 68|\n",
      "|  plymouth|hatchback| 68|\n",
      "| chevrolet|hatchback| 70|\n",
      "|    toyota|hatchback| 62|\n",
      "|     dodge|hatchback| 68|\n",
      "|     honda|hatchback| 58|\n",
      "|    toyota|hatchback| 62|\n",
      "|     honda|hatchback| 76|\n",
      "| chevrolet|    sedan| 70|\n",
      "+----------+---------+---+\n",
      "only showing top 20 rows\n",
      "\n"
     ]
    }
   ],
   "source": [
    "carrosDf.show()"
   ]
  },
  {
   "cell_type": "code",
   "execution_count": 14,
   "id": "d45a603d",
   "metadata": {},
   "outputs": [
    {
     "name": "stdout",
     "output_type": "stream",
     "text": [
      "+----------+---------+---+\n",
      "|      make|     body| hp|\n",
      "+----------+---------+---+\n",
      "|    subaru|hatchback| 69|\n",
      "| chevrolet|hatchback| 48|\n",
      "|     mazda|hatchback| 68|\n",
      "|    toyota|hatchback| 62|\n",
      "|mitsubishi|hatchback| 68|\n",
      "|     honda|hatchback| 60|\n",
      "|    nissan|    sedan| 69|\n",
      "|     dodge|hatchback| 68|\n",
      "|  plymouth|hatchback| 68|\n",
      "|     mazda|hatchback| 68|\n",
      "|mitsubishi|hatchback| 68|\n",
      "|     dodge|hatchback| 68|\n",
      "|  plymouth|hatchback| 68|\n",
      "| chevrolet|hatchback| 70|\n",
      "|    toyota|hatchback| 62|\n",
      "|     dodge|hatchback| 68|\n",
      "|     honda|hatchback| 58|\n",
      "|    toyota|hatchback| 62|\n",
      "|     honda|hatchback| 76|\n",
      "| chevrolet|    sedan| 70|\n",
      "+----------+---------+---+\n",
      "only showing top 20 rows\n",
      "\n"
     ]
    }
   ],
   "source": [
    "carrosDf.select('*').show()"
   ]
  },
  {
   "cell_type": "code",
   "execution_count": 15,
   "id": "447edaaa",
   "metadata": {},
   "outputs": [
    {
     "name": "stdout",
     "output_type": "stream",
     "text": [
      "+-----------+-----------+---+\n",
      "|       make|       body| hp|\n",
      "+-----------+-----------+---+\n",
      "|alfa-romero|  hatchback|154|\n",
      "|alfa-romero|convertible|111|\n",
      "|alfa-romero|convertible|111|\n",
      "|       audi|      sedan|110|\n",
      "|       audi|      wagon|110|\n",
      "|       audi|      sedan|140|\n",
      "|       audi|      sedan|110|\n",
      "|       audi|      sedan|115|\n",
      "|       audi|      sedan|102|\n",
      "|        bmw|      sedan|121|\n",
      "|        bmw|      sedan|121|\n",
      "|        bmw|      sedan|182|\n",
      "|        bmw|      sedan|182|\n",
      "|        bmw|      sedan|101|\n",
      "|        bmw|      sedan|182|\n",
      "|        bmw|      sedan|121|\n",
      "|        bmw|      sedan|101|\n",
      "|  chevrolet|  hatchback| 70|\n",
      "|  chevrolet|      sedan| 70|\n",
      "|  chevrolet|  hatchback| 48|\n",
      "+-----------+-----------+---+\n",
      "only showing top 20 rows\n",
      "\n"
     ]
    }
   ],
   "source": [
    "carrosDf.orderBy('make').show()"
   ]
  },
  {
   "cell_type": "code",
   "execution_count": 16,
   "id": "d23dfed6",
   "metadata": {},
   "outputs": [],
   "source": [
    "# criando o dataframe como uma tamp table\n",
    "carrosDf.createTempView('CarrosTB')"
   ]
  },
  {
   "cell_type": "code",
   "execution_count": 17,
   "id": "3140ff72",
   "metadata": {},
   "outputs": [
    {
     "name": "stdout",
     "output_type": "stream",
     "text": [
      "+------+---------+---+\n",
      "|  make|     body| hp|\n",
      "+------+---------+---+\n",
      "|nissan|    sedan| 69|\n",
      "|nissan|    sedan| 69|\n",
      "|nissan|    sedan| 69|\n",
      "|nissan|    sedan| 55|\n",
      "|nissan|    sedan| 69|\n",
      "|nissan|    wagon| 69|\n",
      "|nissan|    sedan| 69|\n",
      "|nissan|hatchback| 69|\n",
      "|nissan|    wagon| 69|\n",
      "|nissan|  hardtop| 69|\n",
      "|nissan|hatchback| 97|\n",
      "|nissan|    sedan| 97|\n",
      "|nissan|    sedan|152|\n",
      "|nissan|    sedan|152|\n",
      "|nissan|    wagon|152|\n",
      "|nissan|hatchback|160|\n",
      "|nissan|hatchback|160|\n",
      "|nissan|hatchback|200|\n",
      "+------+---------+---+\n",
      "\n"
     ]
    }
   ],
   "source": [
    "spkSession.sql(\"select * from CarrosTB where make = 'nissan'\").show()"
   ]
  },
  {
   "cell_type": "code",
   "execution_count": null,
   "id": "69257f7b",
   "metadata": {},
   "outputs": [],
   "source": [
    "!java -version"
   ]
  },
  {
   "cell_type": "code",
   "execution_count": 18,
   "id": "ba746a30",
   "metadata": {},
   "outputs": [
    {
     "name": "stdout",
     "output_type": "stream",
     "text": [
      "+-------------+-----------+-----------------+\n",
      "|         make|       body|          avg(hp)|\n",
      "+-------------+-----------+-----------------+\n",
      "|       nissan|      wagon|96.66666666666667|\n",
      "|       subaru|      sedan|             90.2|\n",
      "|     plymouth|      sedan|             68.0|\n",
      "|        dodge|  hatchback|             90.2|\n",
      "|       nissan|      sedan|             89.0|\n",
      "|        honda|      sedan|             89.8|\n",
      "|   mitsubishi|  hatchback|            105.0|\n",
      "|        mazda|      sedan|82.66666666666667|\n",
      "|  alfa-romero|convertible|            111.0|\n",
      "|mercedes-benz|convertible|            155.0|\n",
      "|     plymouth|      wagon|             88.0|\n",
      "|mercedes-benz|      wagon|            123.0|\n",
      "|        isuzu|  hatchback|             90.0|\n",
      "|       toyota|convertible|            116.0|\n",
      "|        mazda|  hatchback|             89.4|\n",
      "|    chevrolet|      sedan|             70.0|\n",
      "|      mercury|  hatchback|            175.0|\n",
      "|      porsche|  hatchback|            143.0|\n",
      "|        honda|      wagon|             76.0|\n",
      "|      porsche|convertible|            207.0|\n",
      "+-------------+-----------+-----------------+\n",
      "only showing top 20 rows\n",
      "\n"
     ]
    }
   ],
   "source": [
    "spkSession.sql(\"select make, body, avg(hp) from CarrosTB group by make, body\").show()"
   ]
  },
  {
   "cell_type": "code",
   "execution_count": 19,
   "id": "416f71e7",
   "metadata": {},
   "outputs": [
    {
     "data": {
      "text/plain": [
       "data/carros.csv MapPartitionsRDD[26] at textFile at NativeMethodAccessorImpl.java:0"
      ]
     },
     "execution_count": 19,
     "metadata": {},
     "output_type": "execute_result"
    }
   ],
   "source": [
    "# importando dados e colocando em cache\n",
    "carros = sc.textFile('data/carros.csv')\n",
    "carros.cache()"
   ]
  },
  {
   "cell_type": "code",
   "execution_count": 28,
   "id": "eca0b7c1",
   "metadata": {},
   "outputs": [
    {
     "data": {
      "text/plain": [
       "197"
      ]
     },
     "execution_count": 28,
     "metadata": {},
     "output_type": "execute_result"
    }
   ],
   "source": [
    "# removendo a primeira linha #header\n",
    "header = carros.first()\n",
    "linhas = carros.filter(lambda x: x != header)\n",
    "linhas.count()"
   ]
  },
  {
   "cell_type": "code",
   "execution_count": 29,
   "id": "230fe167",
   "metadata": {},
   "outputs": [],
   "source": [
    "#importando a função row\n",
    "from pyspark import Row"
   ]
  },
  {
   "cell_type": "code",
   "execution_count": 54,
   "id": "20d0ed71",
   "metadata": {},
   "outputs": [],
   "source": [
    "# convertendo para um vetor de linhas\n",
    "def transformaToNumeric(inputStr):\n",
    "    \n",
    "    attList = inputStr.split(\",\")\n",
    "    \n",
    "    doors = 1.0 if attList[3] == 'two' else 2.0\n",
    "    body =  1.0 if attList[4] == 'sedam' else 2.0\n",
    "    \n",
    "    # filtrando as colunas não necessárias \n",
    "    valores = Row(Door = doors, BODY = float(body), HP = float(attList[7]), RPM = float(attList[8]), MPG = float(attList[9]))\n",
    "    return valores"
   ]
  },
  {
   "cell_type": "code",
   "execution_count": 55,
   "id": "dd529acd",
   "metadata": {},
   "outputs": [
    {
     "data": {
      "text/plain": [
       "[Row(Door=1.0, BODY=2.0, HP=69.0, RPM=4900.0, MPG=31.0),\n",
       " Row(Door=1.0, BODY=2.0, HP=48.0, RPM=5100.0, MPG=47.0),\n",
       " Row(Door=1.0, BODY=2.0, HP=68.0, RPM=5000.0, MPG=30.0),\n",
       " Row(Door=1.0, BODY=2.0, HP=62.0, RPM=4800.0, MPG=35.0),\n",
       " Row(Door=1.0, BODY=2.0, HP=68.0, RPM=5500.0, MPG=37.0),\n",
       " Row(Door=1.0, BODY=2.0, HP=60.0, RPM=5500.0, MPG=38.0),\n",
       " Row(Door=1.0, BODY=2.0, HP=69.0, RPM=5200.0, MPG=31.0),\n",
       " Row(Door=1.0, BODY=2.0, HP=68.0, RPM=5500.0, MPG=37.0),\n",
       " Row(Door=1.0, BODY=2.0, HP=68.0, RPM=5500.0, MPG=37.0),\n",
       " Row(Door=1.0, BODY=2.0, HP=68.0, RPM=5000.0, MPG=31.0),\n",
       " Row(Door=1.0, BODY=2.0, HP=68.0, RPM=5500.0, MPG=31.0),\n",
       " Row(Door=2.0, BODY=2.0, HP=68.0, RPM=5500.0, MPG=31.0),\n",
       " Row(Door=2.0, BODY=2.0, HP=68.0, RPM=5500.0, MPG=31.0),\n",
       " Row(Door=1.0, BODY=2.0, HP=70.0, RPM=5400.0, MPG=38.0),\n",
       " Row(Door=1.0, BODY=2.0, HP=62.0, RPM=4800.0, MPG=31.0),\n",
       " Row(Door=1.0, BODY=2.0, HP=68.0, RPM=5500.0, MPG=31.0),\n",
       " Row(Door=1.0, BODY=2.0, HP=58.0, RPM=4800.0, MPG=49.0),\n",
       " Row(Door=2.0, BODY=2.0, HP=62.0, RPM=4800.0, MPG=31.0),\n",
       " Row(Door=1.0, BODY=2.0, HP=76.0, RPM=6000.0, MPG=30.0),\n",
       " Row(Door=2.0, BODY=2.0, HP=70.0, RPM=5400.0, MPG=38.0),\n",
       " Row(Door=1.0, BODY=2.0, HP=69.0, RPM=5200.0, MPG=31.0),\n",
       " Row(Door=1.0, BODY=2.0, HP=68.0, RPM=5500.0, MPG=31.0),\n",
       " Row(Door=2.0, BODY=2.0, HP=68.0, RPM=5500.0, MPG=31.0),\n",
       " Row(Door=2.0, BODY=2.0, HP=68.0, RPM=5500.0, MPG=31.0),\n",
       " Row(Door=2.0, BODY=2.0, HP=68.0, RPM=5000.0, MPG=31.0),\n",
       " Row(Door=2.0, BODY=2.0, HP=78.0, RPM=4800.0, MPG=24.0),\n",
       " Row(Door=1.0, BODY=2.0, HP=68.0, RPM=5000.0, MPG=31.0),\n",
       " Row(Door=2.0, BODY=2.0, HP=69.0, RPM=5200.0, MPG=31.0),\n",
       " Row(Door=1.0, BODY=2.0, HP=76.0, RPM=6000.0, MPG=31.0),\n",
       " Row(Door=2.0, BODY=2.0, HP=62.0, RPM=4800.0, MPG=31.0),\n",
       " Row(Door=2.0, BODY=2.0, HP=70.0, RPM=4800.0, MPG=30.0),\n",
       " Row(Door=2.0, BODY=2.0, HP=88.0, RPM=5000.0, MPG=25.0),\n",
       " Row(Door=1.0, BODY=2.0, HP=73.0, RPM=4400.0, MPG=26.0),\n",
       " Row(Door=1.0, BODY=2.0, HP=55.0, RPM=4800.0, MPG=45.0),\n",
       " Row(Door=2.0, BODY=2.0, HP=82.0, RPM=4800.0, MPG=32.0),\n",
       " Row(Door=1.0, BODY=2.0, HP=76.0, RPM=6000.0, MPG=30.0),\n",
       " Row(Door=2.0, BODY=2.0, HP=70.0, RPM=4800.0, MPG=30.0),\n",
       " Row(Door=2.0, BODY=2.0, HP=76.0, RPM=6000.0, MPG=30.0),\n",
       " Row(Door=2.0, BODY=2.0, HP=76.0, RPM=6000.0, MPG=30.0),\n",
       " Row(Door=1.0, BODY=2.0, HP=69.0, RPM=5200.0, MPG=31.0),\n",
       " Row(Door=2.0, BODY=2.0, HP=69.0, RPM=5200.0, MPG=31.0),\n",
       " Row(Door=2.0, BODY=2.0, HP=68.0, RPM=5000.0, MPG=31.0),\n",
       " Row(Door=2.0, BODY=2.0, HP=82.0, RPM=4800.0, MPG=28.0),\n",
       " Row(Door=2.0, BODY=2.0, HP=69.0, RPM=5200.0, MPG=31.0),\n",
       " Row(Door=1.0, BODY=2.0, HP=73.0, RPM=4400.0, MPG=26.0),\n",
       " Row(Door=2.0, BODY=2.0, HP=68.0, RPM=5500.0, MPG=31.0),\n",
       " Row(Door=2.0, BODY=2.0, HP=68.0, RPM=5500.0, MPG=31.0),\n",
       " Row(Door=1.0, BODY=2.0, HP=102.0, RPM=5500.0, MPG=24.0),\n",
       " Row(Door=2.0, BODY=2.0, HP=70.0, RPM=4800.0, MPG=38.0),\n",
       " Row(Door=2.0, BODY=2.0, HP=82.0, RPM=4400.0, MPG=28.0),\n",
       " Row(Door=1.0, BODY=2.0, HP=52.0, RPM=4800.0, MPG=37.0),\n",
       " Row(Door=2.0, BODY=2.0, HP=56.0, RPM=4500.0, MPG=38.0),\n",
       " Row(Door=1.0, BODY=2.0, HP=69.0, RPM=5200.0, MPG=31.0),\n",
       " Row(Door=1.0, BODY=2.0, HP=86.0, RPM=5800.0, MPG=27.0),\n",
       " Row(Door=2.0, BODY=2.0, HP=62.0, RPM=4800.0, MPG=27.0),\n",
       " Row(Door=2.0, BODY=2.0, HP=56.0, RPM=4500.0, MPG=34.0),\n",
       " Row(Door=1.0, BODY=2.0, HP=102.0, RPM=5500.0, MPG=24.0),\n",
       " Row(Door=1.0, BODY=2.0, HP=102.0, RPM=5500.0, MPG=24.0),\n",
       " Row(Door=1.0, BODY=2.0, HP=85.0, RPM=5250.0, MPG=27.0),\n",
       " Row(Door=2.0, BODY=2.0, HP=52.0, RPM=4800.0, MPG=37.0),\n",
       " Row(Door=2.0, BODY=2.0, HP=69.0, RPM=5200.0, MPG=31.0),\n",
       " Row(Door=2.0, BODY=2.0, HP=82.0, RPM=4800.0, MPG=23.0),\n",
       " Row(Door=1.0, BODY=2.0, HP=70.0, RPM=4800.0, MPG=29.0),\n",
       " Row(Door=2.0, BODY=2.0, HP=88.0, RPM=5000.0, MPG=25.0),\n",
       " Row(Door=2.0, BODY=2.0, HP=85.0, RPM=5250.0, MPG=27.0),\n",
       " Row(Door=1.0, BODY=2.0, HP=70.0, RPM=4800.0, MPG=29.0),\n",
       " Row(Door=1.0, BODY=2.0, HP=69.0, RPM=5200.0, MPG=31.0),\n",
       " Row(Door=2.0, BODY=2.0, HP=70.0, RPM=4800.0, MPG=28.0),\n",
       " Row(Door=1.0, BODY=2.0, HP=116.0, RPM=4800.0, MPG=24.0),\n",
       " Row(Door=2.0, BODY=2.0, HP=84.0, RPM=4800.0, MPG=26.0),\n",
       " Row(Door=2.0, BODY=2.0, HP=85.0, RPM=5250.0, MPG=27.0),\n",
       " Row(Door=1.0, BODY=2.0, HP=88.0, RPM=5000.0, MPG=25.0),\n",
       " Row(Door=2.0, BODY=2.0, HP=62.0, RPM=4800.0, MPG=27.0),\n",
       " Row(Door=2.0, BODY=2.0, HP=86.0, RPM=5800.0, MPG=27.0),\n",
       " Row(Door=1.0, BODY=2.0, HP=84.0, RPM=4800.0, MPG=26.0),\n",
       " Row(Door=2.0, BODY=2.0, HP=88.0, RPM=5000.0, MPG=24.0),\n",
       " Row(Door=2.0, BODY=2.0, HP=88.0, RPM=5000.0, MPG=24.0),\n",
       " Row(Door=2.0, BODY=2.0, HP=92.0, RPM=4200.0, MPG=29.0),\n",
       " Row(Door=2.0, BODY=2.0, HP=97.0, RPM=5200.0, MPG=27.0),\n",
       " Row(Door=1.0, BODY=2.0, HP=86.0, RPM=5800.0, MPG=27.0),\n",
       " Row(Door=2.0, BODY=2.0, HP=82.0, RPM=4800.0, MPG=24.0),\n",
       " Row(Door=2.0, BODY=2.0, HP=70.0, RPM=4800.0, MPG=28.0),\n",
       " Row(Door=2.0, BODY=2.0, HP=116.0, RPM=5500.0, MPG=23.0),\n",
       " Row(Door=2.0, BODY=2.0, HP=116.0, RPM=5500.0, MPG=23.0),\n",
       " Row(Door=1.0, BODY=2.0, HP=112.0, RPM=6600.0, MPG=26.0),\n",
       " Row(Door=2.0, BODY=2.0, HP=68.0, RPM=4500.0, MPG=37.0),\n",
       " Row(Door=1.0, BODY=2.0, HP=112.0, RPM=6600.0, MPG=26.0),\n",
       " Row(Door=2.0, BODY=2.0, HP=97.0, RPM=5200.0, MPG=27.0),\n",
       " Row(Door=1.0, BODY=2.0, HP=116.0, RPM=4800.0, MPG=24.0),\n",
       " Row(Door=1.0, BODY=2.0, HP=116.0, RPM=5500.0, MPG=23.0),\n",
       " Row(Door=2.0, BODY=2.0, HP=94.0, RPM=5200.0, MPG=26.0),\n",
       " Row(Door=1.0, BODY=2.0, HP=90.0, RPM=5500.0, MPG=24.0),\n",
       " Row(Door=2.0, BODY=2.0, HP=92.0, RPM=4200.0, MPG=27.0),\n",
       " Row(Door=1.0, BODY=2.0, HP=116.0, RPM=4800.0, MPG=24.0),\n",
       " Row(Door=2.0, BODY=2.0, HP=100.0, RPM=5500.0, MPG=26.0),\n",
       " Row(Door=2.0, BODY=2.0, HP=94.0, RPM=5200.0, MPG=25.0),\n",
       " Row(Door=2.0, BODY=2.0, HP=84.0, RPM=4800.0, MPG=26.0),\n",
       " Row(Door=2.0, BODY=2.0, HP=86.0, RPM=5800.0, MPG=27.0),\n",
       " Row(Door=1.0, BODY=2.0, HP=100.0, RPM=5500.0, MPG=25.0),\n",
       " Row(Door=1.0, BODY=2.0, HP=84.0, RPM=4800.0, MPG=26.0),\n",
       " Row(Door=2.0, BODY=2.0, HP=73.0, RPM=4500.0, MPG=30.0),\n",
       " Row(Door=2.0, BODY=2.0, HP=92.0, RPM=4200.0, MPG=27.0),\n",
       " Row(Door=1.0, BODY=2.0, HP=101.0, RPM=6000.0, MPG=17.0),\n",
       " Row(Door=1.0, BODY=2.0, HP=90.0, RPM=5000.0, MPG=24.0),\n",
       " Row(Door=1.0, BODY=2.0, HP=116.0, RPM=4800.0, MPG=24.0),\n",
       " Row(Door=2.0, BODY=2.0, HP=84.0, RPM=4800.0, MPG=26.0),\n",
       " Row(Door=2.0, BODY=2.0, HP=92.0, RPM=4200.0, MPG=27.0),\n",
       " Row(Door=2.0, BODY=2.0, HP=111.0, RPM=4800.0, MPG=24.0),\n",
       " Row(Door=1.0, BODY=2.0, HP=116.0, RPM=4800.0, MPG=24.0),\n",
       " Row(Door=1.0, BODY=2.0, HP=90.0, RPM=5500.0, MPG=24.0),\n",
       " Row(Door=2.0, BODY=2.0, HP=111.0, RPM=4800.0, MPG=23.0),\n",
       " Row(Door=1.0, BODY=2.0, HP=101.0, RPM=6000.0, MPG=17.0),\n",
       " Row(Door=1.0, BODY=2.0, HP=110.0, RPM=5250.0, MPG=21.0),\n",
       " Row(Door=2.0, BODY=2.0, HP=97.0, RPM=5000.0, MPG=19.0),\n",
       " Row(Door=2.0, BODY=2.0, HP=110.0, RPM=5250.0, MPG=21.0),\n",
       " Row(Door=2.0, BODY=2.0, HP=88.0, RPM=5500.0, MPG=25.0),\n",
       " Row(Door=2.0, BODY=2.0, HP=97.0, RPM=5000.0, MPG=19.0),\n",
       " Row(Door=1.0, BODY=2.0, HP=145.0, RPM=5000.0, MPG=19.0),\n",
       " Row(Door=1.0, BODY=2.0, HP=145.0, RPM=5000.0, MPG=19.0),\n",
       " Row(Door=2.0, BODY=2.0, HP=114.0, RPM=5400.0, MPG=23.0),\n",
       " Row(Door=2.0, BODY=2.0, HP=101.0, RPM=5800.0, MPG=24.0),\n",
       " Row(Door=1.0, BODY=2.0, HP=145.0, RPM=5000.0, MPG=19.0),\n",
       " Row(Door=2.0, BODY=2.0, HP=95.0, RPM=4150.0, MPG=28.0),\n",
       " Row(Door=2.0, BODY=2.0, HP=110.0, RPM=5500.0, MPG=19.0),\n",
       " Row(Door=2.0, BODY=2.0, HP=114.0, RPM=5400.0, MPG=23.0),\n",
       " Row(Door=1.0, BODY=2.0, HP=111.0, RPM=5000.0, MPG=21.0),\n",
       " Row(Door=2.0, BODY=2.0, HP=152.0, RPM=5200.0, MPG=17.0),\n",
       " Row(Door=2.0, BODY=2.0, HP=152.0, RPM=5200.0, MPG=19.0),\n",
       " Row(Door=1.0, BODY=2.0, HP=101.0, RPM=6000.0, MPG=17.0),\n",
       " Row(Door=2.0, BODY=2.0, HP=68.0, RPM=4500.0, MPG=33.0),\n",
       " Row(Door=2.0, BODY=2.0, HP=95.0, RPM=4150.0, MPG=25.0),\n",
       " Row(Door=2.0, BODY=2.0, HP=102.0, RPM=5500.0, MPG=24.0),\n",
       " Row(Door=2.0, BODY=2.0, HP=152.0, RPM=5200.0, MPG=17.0),\n",
       " Row(Door=1.0, BODY=2.0, HP=145.0, RPM=5000.0, MPG=19.0),\n",
       " Row(Door=1.0, BODY=2.0, HP=145.0, RPM=5000.0, MPG=19.0),\n",
       " Row(Door=1.0, BODY=2.0, HP=110.0, RPM=5250.0, MPG=21.0),\n",
       " Row(Door=1.0, BODY=2.0, HP=110.0, RPM=5500.0, MPG=19.0),\n",
       " Row(Door=2.0, BODY=2.0, HP=110.0, RPM=5250.0, MPG=21.0),\n",
       " Row(Door=2.0, BODY=2.0, HP=95.0, RPM=5000.0, MPG=19.0),\n",
       " Row(Door=1.0, BODY=2.0, HP=135.0, RPM=6000.0, MPG=16.0),\n",
       " Row(Door=2.0, BODY=2.0, HP=156.0, RPM=5200.0, MPG=20.0),\n",
       " Row(Door=2.0, BODY=2.0, HP=156.0, RPM=5200.0, MPG=19.0),\n",
       " Row(Door=2.0, BODY=2.0, HP=114.0, RPM=5400.0, MPG=24.0),\n",
       " Row(Door=1.0, BODY=2.0, HP=161.0, RPM=5200.0, MPG=19.0),\n",
       " Row(Door=1.0, BODY=2.0, HP=101.0, RPM=5800.0, MPG=23.0),\n",
       " Row(Door=1.0, BODY=2.0, HP=111.0, RPM=5000.0, MPG=21.0),\n",
       " Row(Door=1.0, BODY=2.0, HP=154.0, RPM=5000.0, MPG=19.0),\n",
       " Row(Door=1.0, BODY=2.0, HP=175.0, RPM=5000.0, MPG=19.0),\n",
       " Row(Door=2.0, BODY=2.0, HP=114.0, RPM=5400.0, MPG=24.0),\n",
       " Row(Door=1.0, BODY=2.0, HP=161.0, RPM=5200.0, MPG=20.0),\n",
       " Row(Door=2.0, BODY=2.0, HP=97.0, RPM=5000.0, MPG=19.0),\n",
       " Row(Door=2.0, BODY=2.0, HP=95.0, RPM=5000.0, MPG=19.0),\n",
       " Row(Door=2.0, BODY=2.0, HP=114.0, RPM=5400.0, MPG=23.0),\n",
       " Row(Door=2.0, BODY=2.0, HP=95.0, RPM=4150.0, MPG=28.0),\n",
       " Row(Door=2.0, BODY=2.0, HP=101.0, RPM=5800.0, MPG=23.0),\n",
       " Row(Door=2.0, BODY=2.0, HP=95.0, RPM=4150.0, MPG=25.0),\n",
       " Row(Door=1.0, BODY=2.0, HP=160.0, RPM=5200.0, MPG=19.0),\n",
       " Row(Door=2.0, BODY=2.0, HP=115.0, RPM=5500.0, MPG=18.0),\n",
       " Row(Door=1.0, BODY=2.0, HP=116.0, RPM=4800.0, MPG=24.0),\n",
       " Row(Door=2.0, BODY=2.0, HP=110.0, RPM=5500.0, MPG=19.0),\n",
       " Row(Door=2.0, BODY=2.0, HP=95.0, RPM=4150.0, MPG=28.0),\n",
       " Row(Door=2.0, BODY=2.0, HP=142.0, RPM=5600.0, MPG=18.0),\n",
       " Row(Door=1.0, BODY=2.0, HP=160.0, RPM=5500.0, MPG=19.0),\n",
       " Row(Door=2.0, BODY=2.0, HP=120.0, RPM=5000.0, MPG=19.0),\n",
       " Row(Door=2.0, BODY=2.0, HP=72.0, RPM=4200.0, MPG=31.0),\n",
       " Row(Door=1.0, BODY=2.0, HP=160.0, RPM=5200.0, MPG=19.0),\n",
       " Row(Door=2.0, BODY=2.0, HP=162.0, RPM=5100.0, MPG=17.0),\n",
       " Row(Door=2.0, BODY=2.0, HP=160.0, RPM=5500.0, MPG=19.0),\n",
       " Row(Door=2.0, BODY=2.0, HP=110.0, RPM=5500.0, MPG=19.0),\n",
       " Row(Door=2.0, BODY=2.0, HP=162.0, RPM=5100.0, MPG=17.0),\n",
       " Row(Door=2.0, BODY=2.0, HP=160.0, RPM=5300.0, MPG=19.0),\n",
       " Row(Door=1.0, BODY=2.0, HP=200.0, RPM=5200.0, MPG=17.0),\n",
       " Row(Door=1.0, BODY=2.0, HP=121.0, RPM=4250.0, MPG=21.0),\n",
       " Row(Door=2.0, BODY=2.0, HP=121.0, RPM=4250.0, MPG=21.0),\n",
       " Row(Door=2.0, BODY=2.0, HP=134.0, RPM=5500.0, MPG=18.0),\n",
       " Row(Door=1.0, BODY=2.0, HP=143.0, RPM=5500.0, MPG=19.0),\n",
       " Row(Door=2.0, BODY=2.0, HP=106.0, RPM=4800.0, MPG=26.0),\n",
       " Row(Door=2.0, BODY=2.0, HP=114.0, RPM=5400.0, MPG=19.0),\n",
       " Row(Door=2.0, BODY=2.0, HP=140.0, RPM=5500.0, MPG=17.0),\n",
       " Row(Door=2.0, BODY=2.0, HP=121.0, RPM=4250.0, MPG=20.0),\n",
       " Row(Door=2.0, BODY=2.0, HP=123.0, RPM=4350.0, MPG=22.0),\n",
       " Row(Door=1.0, BODY=2.0, HP=123.0, RPM=4350.0, MPG=22.0),\n",
       " Row(Door=2.0, BODY=2.0, HP=123.0, RPM=4350.0, MPG=22.0),\n",
       " Row(Door=2.0, BODY=2.0, HP=182.0, RPM=5400.0, MPG=16.0),\n",
       " Row(Door=2.0, BODY=2.0, HP=123.0, RPM=4350.0, MPG=22.0),\n",
       " Row(Door=2.0, BODY=2.0, HP=176.0, RPM=4750.0, MPG=15.0),\n",
       " Row(Door=1.0, BODY=2.0, HP=207.0, RPM=5900.0, MPG=17.0),\n",
       " Row(Door=1.0, BODY=2.0, HP=207.0, RPM=5900.0, MPG=17.0),\n",
       " Row(Door=2.0, BODY=2.0, HP=155.0, RPM=4750.0, MPG=16.0),\n",
       " Row(Door=1.0, BODY=2.0, HP=155.0, RPM=4750.0, MPG=16.0),\n",
       " Row(Door=2.0, BODY=2.0, HP=176.0, RPM=4750.0, MPG=15.0),\n",
       " Row(Door=1.0, BODY=2.0, HP=262.0, RPM=5000.0, MPG=13.0),\n",
       " Row(Door=2.0, BODY=2.0, HP=182.0, RPM=5400.0, MPG=15.0),\n",
       " Row(Door=1.0, BODY=2.0, HP=207.0, RPM=5900.0, MPG=17.0),\n",
       " Row(Door=2.0, BODY=2.0, HP=184.0, RPM=4500.0, MPG=14.0),\n",
       " Row(Door=1.0, BODY=2.0, HP=182.0, RPM=5400.0, MPG=16.0),\n",
       " Row(Door=1.0, BODY=2.0, HP=184.0, RPM=4500.0, MPG=14.0)]"
      ]
     },
     "execution_count": 55,
     "metadata": {},
     "output_type": "execute_result"
    }
   ],
   "source": [
    "# aplicando função aos dados e persistindo em memoria\n",
    "autoMap = linhas.map(transformaToNumeric)\n",
    "autoMap.persist()\n",
    "autoMap.collect()"
   ]
  },
  {
   "cell_type": "code",
   "execution_count": 56,
   "id": "2d8bb11e",
   "metadata": {},
   "outputs": [
    {
     "name": "stdout",
     "output_type": "stream",
     "text": [
      "+----+----+----+------+----+\n",
      "|Door|BODY|  HP|   RPM| MPG|\n",
      "+----+----+----+------+----+\n",
      "| 1.0| 2.0|69.0|4900.0|31.0|\n",
      "| 1.0| 2.0|48.0|5100.0|47.0|\n",
      "| 1.0| 2.0|68.0|5000.0|30.0|\n",
      "| 1.0| 2.0|62.0|4800.0|35.0|\n",
      "| 1.0| 2.0|68.0|5500.0|37.0|\n",
      "| 1.0| 2.0|60.0|5500.0|38.0|\n",
      "| 1.0| 2.0|69.0|5200.0|31.0|\n",
      "| 1.0| 2.0|68.0|5500.0|37.0|\n",
      "| 1.0| 2.0|68.0|5500.0|37.0|\n",
      "| 1.0| 2.0|68.0|5000.0|31.0|\n",
      "| 1.0| 2.0|68.0|5500.0|31.0|\n",
      "| 2.0| 2.0|68.0|5500.0|31.0|\n",
      "| 2.0| 2.0|68.0|5500.0|31.0|\n",
      "| 1.0| 2.0|70.0|5400.0|38.0|\n",
      "| 1.0| 2.0|62.0|4800.0|31.0|\n",
      "| 1.0| 2.0|68.0|5500.0|31.0|\n",
      "| 1.0| 2.0|58.0|4800.0|49.0|\n",
      "| 2.0| 2.0|62.0|4800.0|31.0|\n",
      "| 1.0| 2.0|76.0|6000.0|30.0|\n",
      "| 2.0| 2.0|70.0|5400.0|38.0|\n",
      "+----+----+----+------+----+\n",
      "only showing top 20 rows\n",
      "\n"
     ]
    }
   ],
   "source": [
    "carrosDF = spkSession.createDataFrame(autoMap)\n",
    "carrosDF.show()"
   ]
  },
  {
   "cell_type": "code",
   "execution_count": 57,
   "id": "3e0cbbfe",
   "metadata": {},
   "outputs": [
    {
     "data": {
      "text/html": [
       "<div>\n",
       "<style scoped>\n",
       "    .dataframe tbody tr th:only-of-type {\n",
       "        vertical-align: middle;\n",
       "    }\n",
       "\n",
       "    .dataframe tbody tr th {\n",
       "        vertical-align: top;\n",
       "    }\n",
       "\n",
       "    .dataframe thead th {\n",
       "        text-align: right;\n",
       "    }\n",
       "</style>\n",
       "<table border=\"1\" class=\"dataframe\">\n",
       "  <thead>\n",
       "    <tr style=\"text-align: right;\">\n",
       "      <th></th>\n",
       "      <th>summary</th>\n",
       "      <th>Door</th>\n",
       "      <th>BODY</th>\n",
       "      <th>HP</th>\n",
       "      <th>RPM</th>\n",
       "      <th>MPG</th>\n",
       "    </tr>\n",
       "  </thead>\n",
       "  <tbody>\n",
       "    <tr>\n",
       "      <th>0</th>\n",
       "      <td>count</td>\n",
       "      <td>197</td>\n",
       "      <td>197</td>\n",
       "      <td>197</td>\n",
       "      <td>197</td>\n",
       "      <td>197</td>\n",
       "    </tr>\n",
       "    <tr>\n",
       "      <th>1</th>\n",
       "      <td>mean</td>\n",
       "      <td>1.5685279187817258</td>\n",
       "      <td>2.0</td>\n",
       "      <td>103.60406091370558</td>\n",
       "      <td>5118.0203045685275</td>\n",
       "      <td>25.15228426395939</td>\n",
       "    </tr>\n",
       "    <tr>\n",
       "      <th>2</th>\n",
       "      <td>stddev</td>\n",
       "      <td>0.49654352778167493</td>\n",
       "      <td>0.0</td>\n",
       "      <td>37.639205349518356</td>\n",
       "      <td>481.03591405011446</td>\n",
       "      <td>6.437862917085915</td>\n",
       "    </tr>\n",
       "    <tr>\n",
       "      <th>3</th>\n",
       "      <td>min</td>\n",
       "      <td>1.0</td>\n",
       "      <td>2.0</td>\n",
       "      <td>48.0</td>\n",
       "      <td>4150.0</td>\n",
       "      <td>13.0</td>\n",
       "    </tr>\n",
       "    <tr>\n",
       "      <th>4</th>\n",
       "      <td>max</td>\n",
       "      <td>2.0</td>\n",
       "      <td>2.0</td>\n",
       "      <td>262.0</td>\n",
       "      <td>6600.0</td>\n",
       "      <td>49.0</td>\n",
       "    </tr>\n",
       "  </tbody>\n",
       "</table>\n",
       "</div>"
      ],
      "text/plain": [
       "  summary                 Door BODY                  HP                 RPM  \\\n",
       "0   count                  197  197                 197                 197   \n",
       "1    mean   1.5685279187817258  2.0  103.60406091370558  5118.0203045685275   \n",
       "2  stddev  0.49654352778167493  0.0  37.639205349518356  481.03591405011446   \n",
       "3     min                  1.0  2.0                48.0              4150.0   \n",
       "4     max                  2.0  2.0               262.0              6600.0   \n",
       "\n",
       "                 MPG  \n",
       "0                197  \n",
       "1  25.15228426395939  \n",
       "2  6.437862917085915  \n",
       "3               13.0  \n",
       "4               49.0  "
      ]
     },
     "execution_count": 57,
     "metadata": {},
     "output_type": "execute_result"
    }
   ],
   "source": [
    "# sumarizando as estatisticas do conjunto de dados\n",
    "statistics = carrosDF.describe().toPandas()\n",
    "statistics"
   ]
  },
  {
   "cell_type": "code",
   "execution_count": 58,
   "id": "8503ca22",
   "metadata": {},
   "outputs": [
    {
     "data": {
      "text/plain": [
       "['1.5685279187817258', '2.0', '103.60406091370558', '5118.0203045685275']"
      ]
     },
     "execution_count": 58,
     "metadata": {},
     "output_type": "execute_result"
    }
   ],
   "source": [
    "# extraindo a média\n",
    "media = statistics.iloc[1,1:5].values.tolist()\n",
    "media"
   ]
  },
  {
   "cell_type": "code",
   "execution_count": 59,
   "id": "635b301a",
   "metadata": {},
   "outputs": [
    {
     "data": {
      "text/plain": [
       "['0.49654352778167493', '0.0', '37.639205349518356', '481.03591405011446']"
      ]
     },
     "execution_count": 59,
     "metadata": {},
     "output_type": "execute_result"
    }
   ],
   "source": [
    "# extraindo desvio padrao\n",
    "std = statistics.iloc[2,1:5].values.tolist()\n",
    "std"
   ]
  },
  {
   "cell_type": "code",
   "execution_count": 60,
   "id": "32b304a6",
   "metadata": {},
   "outputs": [],
   "source": [
    "# inserindo media e desvio padrao em variavel do tipo broadcast\n",
    "bcMedias = sc.broadcast(media)\n",
    "bcStd = sc.broadcast(std)"
   ]
  },
  {
   "cell_type": "code",
   "execution_count": 61,
   "id": "75f23f38",
   "metadata": {},
   "outputs": [],
   "source": [
    "# importando a funcao vectors\n",
    "from pyspark.ml.linalg import Vectors"
   ]
  },
  {
   "cell_type": "code",
   "execution_count": 62,
   "id": "ce723e0f",
   "metadata": {},
   "outputs": [],
   "source": [
    "# criando funcao de nromalizacao\n",
    "def centerAndScale(inRow):\n",
    "    \n",
    "    global bcMedias\n",
    "    global bcStd\n",
    "    \n",
    "    meanarray = bcMedias.value\n",
    "    stdArray = bcStd.value\n",
    "    \n",
    "    retArray = []\n",
    "    \n",
    "    for i in range(len(meanarray)):\n",
    "        retArray.append( (float(inRow[i]) - float(meanarray[i]) / float(stdArray[i])))\n",
    "        \n",
    "        return Vectors.dense(retArray)"
   ]
  },
  {
   "cell_type": "code",
   "execution_count": 63,
   "id": "f57883da",
   "metadata": {},
   "outputs": [
    {
     "data": {
      "text/plain": [
       "[DenseVector([-2.1589]),\n",
       " DenseVector([-2.1589]),\n",
       " DenseVector([-2.1589]),\n",
       " DenseVector([-2.1589]),\n",
       " DenseVector([-2.1589]),\n",
       " DenseVector([-2.1589]),\n",
       " DenseVector([-2.1589]),\n",
       " DenseVector([-2.1589]),\n",
       " DenseVector([-2.1589]),\n",
       " DenseVector([-2.1589]),\n",
       " DenseVector([-2.1589]),\n",
       " DenseVector([-1.1589]),\n",
       " DenseVector([-1.1589]),\n",
       " DenseVector([-2.1589]),\n",
       " DenseVector([-2.1589]),\n",
       " DenseVector([-2.1589]),\n",
       " DenseVector([-2.1589]),\n",
       " DenseVector([-1.1589]),\n",
       " DenseVector([-2.1589]),\n",
       " DenseVector([-1.1589]),\n",
       " DenseVector([-2.1589]),\n",
       " DenseVector([-2.1589]),\n",
       " DenseVector([-1.1589]),\n",
       " DenseVector([-1.1589]),\n",
       " DenseVector([-1.1589]),\n",
       " DenseVector([-1.1589]),\n",
       " DenseVector([-2.1589]),\n",
       " DenseVector([-1.1589]),\n",
       " DenseVector([-2.1589]),\n",
       " DenseVector([-1.1589]),\n",
       " DenseVector([-1.1589]),\n",
       " DenseVector([-1.1589]),\n",
       " DenseVector([-2.1589]),\n",
       " DenseVector([-2.1589]),\n",
       " DenseVector([-1.1589]),\n",
       " DenseVector([-2.1589]),\n",
       " DenseVector([-1.1589]),\n",
       " DenseVector([-1.1589]),\n",
       " DenseVector([-1.1589]),\n",
       " DenseVector([-2.1589]),\n",
       " DenseVector([-1.1589]),\n",
       " DenseVector([-1.1589]),\n",
       " DenseVector([-1.1589]),\n",
       " DenseVector([-1.1589]),\n",
       " DenseVector([-2.1589]),\n",
       " DenseVector([-1.1589]),\n",
       " DenseVector([-1.1589]),\n",
       " DenseVector([-2.1589]),\n",
       " DenseVector([-1.1589]),\n",
       " DenseVector([-1.1589]),\n",
       " DenseVector([-2.1589]),\n",
       " DenseVector([-1.1589]),\n",
       " DenseVector([-2.1589]),\n",
       " DenseVector([-2.1589]),\n",
       " DenseVector([-1.1589]),\n",
       " DenseVector([-1.1589]),\n",
       " DenseVector([-2.1589]),\n",
       " DenseVector([-2.1589]),\n",
       " DenseVector([-2.1589]),\n",
       " DenseVector([-1.1589]),\n",
       " DenseVector([-1.1589]),\n",
       " DenseVector([-1.1589]),\n",
       " DenseVector([-2.1589]),\n",
       " DenseVector([-1.1589]),\n",
       " DenseVector([-1.1589]),\n",
       " DenseVector([-2.1589]),\n",
       " DenseVector([-2.1589]),\n",
       " DenseVector([-1.1589]),\n",
       " DenseVector([-2.1589]),\n",
       " DenseVector([-1.1589]),\n",
       " DenseVector([-1.1589]),\n",
       " DenseVector([-2.1589]),\n",
       " DenseVector([-1.1589]),\n",
       " DenseVector([-1.1589]),\n",
       " DenseVector([-2.1589]),\n",
       " DenseVector([-1.1589]),\n",
       " DenseVector([-1.1589]),\n",
       " DenseVector([-1.1589]),\n",
       " DenseVector([-1.1589]),\n",
       " DenseVector([-2.1589]),\n",
       " DenseVector([-1.1589]),\n",
       " DenseVector([-1.1589]),\n",
       " DenseVector([-1.1589]),\n",
       " DenseVector([-1.1589]),\n",
       " DenseVector([-2.1589]),\n",
       " DenseVector([-1.1589]),\n",
       " DenseVector([-2.1589]),\n",
       " DenseVector([-1.1589]),\n",
       " DenseVector([-2.1589]),\n",
       " DenseVector([-2.1589]),\n",
       " DenseVector([-1.1589]),\n",
       " DenseVector([-2.1589]),\n",
       " DenseVector([-1.1589]),\n",
       " DenseVector([-2.1589]),\n",
       " DenseVector([-1.1589]),\n",
       " DenseVector([-1.1589]),\n",
       " DenseVector([-1.1589]),\n",
       " DenseVector([-1.1589]),\n",
       " DenseVector([-2.1589]),\n",
       " DenseVector([-2.1589]),\n",
       " DenseVector([-1.1589]),\n",
       " DenseVector([-1.1589]),\n",
       " DenseVector([-2.1589]),\n",
       " DenseVector([-2.1589]),\n",
       " DenseVector([-2.1589]),\n",
       " DenseVector([-1.1589]),\n",
       " DenseVector([-1.1589]),\n",
       " DenseVector([-1.1589]),\n",
       " DenseVector([-2.1589]),\n",
       " DenseVector([-2.1589]),\n",
       " DenseVector([-1.1589]),\n",
       " DenseVector([-2.1589]),\n",
       " DenseVector([-2.1589]),\n",
       " DenseVector([-1.1589]),\n",
       " DenseVector([-1.1589]),\n",
       " DenseVector([-1.1589]),\n",
       " DenseVector([-1.1589]),\n",
       " DenseVector([-2.1589]),\n",
       " DenseVector([-2.1589]),\n",
       " DenseVector([-1.1589]),\n",
       " DenseVector([-1.1589]),\n",
       " DenseVector([-2.1589]),\n",
       " DenseVector([-1.1589]),\n",
       " DenseVector([-1.1589]),\n",
       " DenseVector([-1.1589]),\n",
       " DenseVector([-2.1589]),\n",
       " DenseVector([-1.1589]),\n",
       " DenseVector([-1.1589]),\n",
       " DenseVector([-2.1589]),\n",
       " DenseVector([-1.1589]),\n",
       " DenseVector([-1.1589]),\n",
       " DenseVector([-1.1589]),\n",
       " DenseVector([-1.1589]),\n",
       " DenseVector([-2.1589]),\n",
       " DenseVector([-2.1589]),\n",
       " DenseVector([-2.1589]),\n",
       " DenseVector([-2.1589]),\n",
       " DenseVector([-1.1589]),\n",
       " DenseVector([-1.1589]),\n",
       " DenseVector([-2.1589]),\n",
       " DenseVector([-1.1589]),\n",
       " DenseVector([-1.1589]),\n",
       " DenseVector([-1.1589]),\n",
       " DenseVector([-2.1589]),\n",
       " DenseVector([-2.1589]),\n",
       " DenseVector([-2.1589]),\n",
       " DenseVector([-2.1589]),\n",
       " DenseVector([-2.1589]),\n",
       " DenseVector([-1.1589]),\n",
       " DenseVector([-2.1589]),\n",
       " DenseVector([-1.1589]),\n",
       " DenseVector([-1.1589]),\n",
       " DenseVector([-1.1589]),\n",
       " DenseVector([-1.1589]),\n",
       " DenseVector([-1.1589]),\n",
       " DenseVector([-1.1589]),\n",
       " DenseVector([-2.1589]),\n",
       " DenseVector([-1.1589]),\n",
       " DenseVector([-2.1589]),\n",
       " DenseVector([-1.1589]),\n",
       " DenseVector([-1.1589]),\n",
       " DenseVector([-1.1589]),\n",
       " DenseVector([-2.1589]),\n",
       " DenseVector([-1.1589]),\n",
       " DenseVector([-1.1589]),\n",
       " DenseVector([-2.1589]),\n",
       " DenseVector([-1.1589]),\n",
       " DenseVector([-1.1589]),\n",
       " DenseVector([-1.1589]),\n",
       " DenseVector([-1.1589]),\n",
       " DenseVector([-1.1589]),\n",
       " DenseVector([-2.1589]),\n",
       " DenseVector([-2.1589]),\n",
       " DenseVector([-1.1589]),\n",
       " DenseVector([-1.1589]),\n",
       " DenseVector([-2.1589]),\n",
       " DenseVector([-1.1589]),\n",
       " DenseVector([-1.1589]),\n",
       " DenseVector([-1.1589]),\n",
       " DenseVector([-1.1589]),\n",
       " DenseVector([-1.1589]),\n",
       " DenseVector([-2.1589]),\n",
       " DenseVector([-1.1589]),\n",
       " DenseVector([-1.1589]),\n",
       " DenseVector([-1.1589]),\n",
       " DenseVector([-1.1589]),\n",
       " DenseVector([-2.1589]),\n",
       " DenseVector([-2.1589]),\n",
       " DenseVector([-1.1589]),\n",
       " DenseVector([-2.1589]),\n",
       " DenseVector([-1.1589]),\n",
       " DenseVector([-2.1589]),\n",
       " DenseVector([-1.1589]),\n",
       " DenseVector([-2.1589]),\n",
       " DenseVector([-1.1589]),\n",
       " DenseVector([-2.1589]),\n",
       " DenseVector([-2.1589])]"
      ]
     },
     "execution_count": 63,
     "metadata": {},
     "output_type": "execute_result"
    }
   ],
   "source": [
    "# aplicando normalizacao aos dados\n",
    "csAuto = carrosDF.rdd.map(centerAndScale)\n",
    "csAuto.collect()"
   ]
  },
  {
   "cell_type": "code",
   "execution_count": 65,
   "id": "8e32d51f",
   "metadata": {},
   "outputs": [
    {
     "name": "stdout",
     "output_type": "stream",
     "text": [
      "+--------------------+\n",
      "|            features|\n",
      "+--------------------+\n",
      "|[-2.158893089975772]|\n",
      "|[-2.158893089975772]|\n",
      "|[-2.158893089975772]|\n",
      "|[-2.158893089975772]|\n",
      "|[-2.158893089975772]|\n",
      "|[-2.158893089975772]|\n",
      "|[-2.158893089975772]|\n",
      "|[-2.158893089975772]|\n",
      "|[-2.158893089975772]|\n",
      "|[-2.158893089975772]|\n",
      "+--------------------+\n",
      "only showing top 10 rows\n",
      "\n"
     ]
    }
   ],
   "source": [
    "# criando um spark dataframe com os atributos\n",
    "autoRow = csAuto.map(lambda x: Row(features= x))\n",
    "autoDF = spkSession.createDataFrame(autoRow)\n",
    "autoDF.select('features').show(10)"
   ]
  },
  {
   "cell_type": "code",
   "execution_count": 66,
   "id": "4f087289",
   "metadata": {},
   "outputs": [],
   "source": [
    "# sparksql e arquivo JSON\n",
    "\n",
    "funcDF = spkSession.read.json('data/funcionarios.json')"
   ]
  },
  {
   "cell_type": "code",
   "execution_count": 67,
   "id": "478de7a0",
   "metadata": {},
   "outputs": [
    {
     "data": {
      "text/plain": [
       "pyspark.sql.dataframe.DataFrame"
      ]
     },
     "execution_count": 67,
     "metadata": {},
     "output_type": "execute_result"
    }
   ],
   "source": [
    "type(funcDF)"
   ]
  },
  {
   "cell_type": "code",
   "execution_count": 68,
   "id": "2556a5cf",
   "metadata": {},
   "outputs": [
    {
     "data": {
      "text/plain": [
       "[Row(deptid='1000', idade='42', nome='Gilmar Rezende', salario='5000', sexo='m'),\n",
       " Row(deptid='2000', idade='50', nome='Matias Tavares', salario='8500', sexo='m'),\n",
       " Row(deptid='1000', idade='36', nome='Paulo Miranda', salario='9700', sexo='m'),\n",
       " Row(deptid='1000', idade='41', nome='Ana Paula Soares', salario='9500', sexo='f'),\n",
       " Row(deptid='2000', idade='34', nome='Carolina Maia', salario='6500', sexo='m')]"
      ]
     },
     "execution_count": 68,
     "metadata": {},
     "output_type": "execute_result"
    }
   ],
   "source": [
    "funcDF.head(10)"
   ]
  },
  {
   "cell_type": "code",
   "execution_count": 69,
   "id": "0bbe5987",
   "metadata": {},
   "outputs": [
    {
     "name": "stdout",
     "output_type": "stream",
     "text": [
      "root\n",
      " |-- deptid: string (nullable = true)\n",
      " |-- idade: string (nullable = true)\n",
      " |-- nome: string (nullable = true)\n",
      " |-- salario: string (nullable = true)\n",
      " |-- sexo: string (nullable = true)\n",
      "\n"
     ]
    }
   ],
   "source": [
    "funcDF.printSchema()"
   ]
  },
  {
   "cell_type": "code",
   "execution_count": 70,
   "id": "4b8fc137",
   "metadata": {},
   "outputs": [
    {
     "name": "stdout",
     "output_type": "stream",
     "text": [
      "+----------------+\n",
      "|            nome|\n",
      "+----------------+\n",
      "|  Gilmar Rezende|\n",
      "|  Matias Tavares|\n",
      "|   Paulo Miranda|\n",
      "|Ana Paula Soares|\n",
      "|   Carolina Maia|\n",
      "+----------------+\n",
      "\n"
     ]
    }
   ],
   "source": [
    "funcDF.select('nome').show()"
   ]
  },
  {
   "cell_type": "code",
   "execution_count": 74,
   "id": "1d82109e",
   "metadata": {},
   "outputs": [
    {
     "name": "stdout",
     "output_type": "stream",
     "text": [
      "+-----+-----+\n",
      "|idade|count|\n",
      "+-----+-----+\n",
      "|   42|    1|\n",
      "|   34|    1|\n",
      "|   41|    1|\n",
      "|   36|    1|\n",
      "|   50|    1|\n",
      "+-----+-----+\n",
      "\n"
     ]
    }
   ],
   "source": [
    "funcDF.groupBy('idade').count().show()"
   ]
  },
  {
   "cell_type": "code",
   "execution_count": 76,
   "id": "51c7603d",
   "metadata": {},
   "outputs": [
    {
     "name": "stdout",
     "output_type": "stream",
     "text": [
      "+------+-----+--------------+-------+----+\n",
      "|deptid|idade|          nome|salario|sexo|\n",
      "+------+-----+--------------+-------+----+\n",
      "|  2000|   50|Matias Tavares|   8500|   m|\n",
      "+------+-----+--------------+-------+----+\n",
      "\n"
     ]
    }
   ],
   "source": [
    "funcDF.filter(funcDF['idade'] == 50).show()"
   ]
  },
  {
   "cell_type": "code",
   "execution_count": 81,
   "id": "7b387c80",
   "metadata": {},
   "outputs": [
    {
     "name": "stdout",
     "output_type": "stream",
     "text": [
      "+------+----------+-----------------+\n",
      "|deptid|max(idade)|     avg(salario)|\n",
      "+------+----------+-----------------+\n",
      "|  2000|        50|           7500.0|\n",
      "|  1000|        42|8066.666666666667|\n",
      "+------+----------+-----------------+\n",
      "\n"
     ]
    }
   ],
   "source": [
    "funcDF.groupBy('deptid').agg({'salario':'avg', 'idade':'max'}).show()"
   ]
  },
  {
   "cell_type": "code",
   "execution_count": 82,
   "id": "e2f73a4e",
   "metadata": {},
   "outputs": [],
   "source": [
    "# registrando o df como uma tabela temporaria\n",
    "funcDF.registerTempTable('funcTB')"
   ]
  },
  {
   "cell_type": "code",
   "execution_count": 86,
   "id": "29aac01d",
   "metadata": {},
   "outputs": [
    {
     "name": "stdout",
     "output_type": "stream",
     "text": [
      "+------+----------+----------------------------+\n",
      "|deptid|max(idade)|avg(CAST(salario AS DOUBLE))|\n",
      "+------+----------+----------------------------+\n",
      "|  2000|        50|                      7500.0|\n",
      "|  1000|        42|           8066.666666666667|\n",
      "+------+----------+----------------------------+\n",
      "\n"
     ]
    }
   ],
   "source": [
    "spkSession.sql(\"select deptid, max(idade), avg(salario) from funcTB group by deptid\").show()"
   ]
  },
  {
   "cell_type": "markdown",
   "id": "6e02eac0",
   "metadata": {},
   "source": [
    "# banco de dados relacional"
   ]
  },
  {
   "cell_type": "code",
   "execution_count": 15,
   "id": "8db499f3",
   "metadata": {},
   "outputs": [],
   "source": [
    "mysql_df = spkSession.read.format('jdbc').options(\n",
    "    url='jdbc:mysql://localhost/carros',\n",
    "    serverTimeZone='UTC',\n",
    "    driver='com.mysql.jdbc.Driver',\n",
    "    dbtable='carrosTB',\n",
    "    user='sparkUser',\n",
    "    password='sparkUser123').load()"
   ]
  },
  {
   "cell_type": "code",
   "execution_count": 16,
   "id": "7e50093b",
   "metadata": {},
   "outputs": [
    {
     "name": "stdout",
     "output_type": "stream",
     "text": [
      "+----------+--------+------+-----+---------+-----+---------+---+----+-------+------+-----+\n",
      "|      MAKE|FUELTYPE|ASPIRE|DOORS|     BODY|DRIVE|CYLINDERS| HP| RPM|MPGCITY|MPGHWY|PRICE|\n",
      "+----------+--------+------+-----+---------+-----+---------+---+----+-------+------+-----+\n",
      "|    subaru|     gas|   std|  two|hatchback|  fwd|     four| 69|4900|     31|    36| 5118|\n",
      "| chevrolet|     gas|   std|  two|hatchback|  fwd|    three| 48|5100|     47|    53| 5151|\n",
      "|     mazda|     gas|   std|  two|hatchback|  fwd|     four| 68|5000|     30|    31| 5195|\n",
      "|    toyota|     gas|   std|  two|hatchback|  fwd|     four| 62|4800|     35|    39| 5348|\n",
      "|mitsubishi|     gas|   std|  two|hatchback|  fwd|     four| 68|5500|     37|    41| 5389|\n",
      "|     honda|     gas|   std|  two|hatchback|  fwd|     four| 60|5500|     38|    42| 5399|\n",
      "|    nissan|     gas|   std|  two|    sedan|  fwd|     four| 69|5200|     31|    37| 5499|\n",
      "|     dodge|     gas|   std|  two|hatchback|  fwd|     four| 68|5500|     37|    41| 5572|\n",
      "|  plymouth|     gas|   std|  two|hatchback|  fwd|     four| 68|5500|     37|    41| 5572|\n",
      "|     mazda|     gas|   std|  two|hatchback|  fwd|     four| 68|5000|     31|    38| 6095|\n",
      "|mitsubishi|     gas|   std|  two|hatchback|  fwd|     four| 68|5500|     31|    38| 6189|\n",
      "|     dodge|     gas|   std| four|hatchback|  fwd|     four| 68|5500|     31|    38| 6229|\n",
      "|  plymouth|     gas|   std| four|hatchback|  fwd|     four| 68|5500|     31|    38| 6229|\n",
      "| chevrolet|     gas|   std|  two|hatchback|  fwd|     four| 70|5400|     38|    43| 6295|\n",
      "|    toyota|     gas|   std|  two|hatchback|  fwd|     four| 62|4800|     31|    38| 6338|\n",
      "|     dodge|     gas|   std|  two|hatchback|  fwd|     four| 68|5500|     31|    38| 6377|\n",
      "|     honda|     gas|   std|  two|hatchback|  fwd|     four| 58|4800|     49|    54| 6479|\n",
      "|    toyota|     gas|   std| four|hatchback|  fwd|     four| 62|4800|     31|    38| 6488|\n",
      "|     honda|     gas|   std|  two|hatchback|  fwd|     four| 76|6000|     30|    34| 6529|\n",
      "| chevrolet|     gas|   std| four|    sedan|  fwd|     four| 70|5400|     38|    43| 6575|\n",
      "+----------+--------+------+-----+---------+-----+---------+---+----+-------+------+-----+\n",
      "only showing top 20 rows\n",
      "\n"
     ]
    }
   ],
   "source": [
    "mysql_df.show()"
   ]
  },
  {
   "cell_type": "code",
   "execution_count": 7,
   "id": "be6b1fb6",
   "metadata": {},
   "outputs": [],
   "source": [
    "mysql_df.registerTempTable('carrosTB')"
   ]
  },
  {
   "cell_type": "code",
   "execution_count": 10,
   "id": "d1636f1b",
   "metadata": {},
   "outputs": [
    {
     "name": "stdout",
     "output_type": "stream",
     "text": [
      "+----------+--------+------+-----+---------+-----+---------+---+----+-------+------+-----+\n",
      "|      MAKE|FUELTYPE|ASPIRE|DOORS|     BODY|DRIVE|CYLINDERS| HP| RPM|MPGCITY|MPGHWY|PRICE|\n",
      "+----------+--------+------+-----+---------+-----+---------+---+----+-------+------+-----+\n",
      "|     mazda|     gas|   std|  two|hatchback|  fwd|     four| 68|5000|     30|    31| 5195|\n",
      "|mitsubishi|     gas|   std|  two|hatchback|  fwd|     four| 68|5500|     37|    41| 5389|\n",
      "|     dodge|     gas|   std|  two|hatchback|  fwd|     four| 68|5500|     37|    41| 5572|\n",
      "|  plymouth|     gas|   std|  two|hatchback|  fwd|     four| 68|5500|     37|    41| 5572|\n",
      "|     mazda|     gas|   std|  two|hatchback|  fwd|     four| 68|5000|     31|    38| 6095|\n",
      "|mitsubishi|     gas|   std|  two|hatchback|  fwd|     four| 68|5500|     31|    38| 6189|\n",
      "|     dodge|     gas|   std| four|hatchback|  fwd|     four| 68|5500|     31|    38| 6229|\n",
      "|  plymouth|     gas|   std| four|hatchback|  fwd|     four| 68|5500|     31|    38| 6229|\n",
      "|     dodge|     gas|   std|  two|hatchback|  fwd|     four| 68|5500|     31|    38| 6377|\n",
      "|mitsubishi|     gas|   std|  two|hatchback|  fwd|     four| 68|5500|     31|    38| 6669|\n",
      "|     dodge|     gas|   std| four|    sedan|  fwd|     four| 68|5500|     31|    38| 6692|\n",
      "|  plymouth|     gas|   std| four|    sedan|  fwd|     four| 68|5500|     31|    38| 6692|\n",
      "|     mazda|     gas|   std| four|    sedan|  fwd|     four| 68|5000|     31|    38| 6695|\n",
      "|     mazda|     gas|   std|  two|hatchback|  fwd|     four| 68|5000|     31|    38| 6795|\n",
      "|     mazda|     gas|   std| four|    sedan|  fwd|     four| 68|5000|     31|    38| 7395|\n",
      "|     dodge|     gas|   std| four|    sedan|  fwd|     four| 68|5500|     31|    38| 7609|\n",
      "|  plymouth|     gas|   std| four|    sedan|  fwd|     four| 68|5500|     31|    38| 7609|\n",
      "|volkswagen|  diesel| turbo| four|    sedan|  fwd|     four| 68|4500|     37|    42| 9495|\n",
      "|volkswagen|  diesel| turbo| four|    sedan|  fwd|     four| 68|4500|     33|    38|13845|\n",
      "+----------+--------+------+-----+---------+-----+---------+---+----+-------+------+-----+\n",
      "\n"
     ]
    }
   ],
   "source": [
    "spkSession.sql('select * from carrosTB where hp = 68').show()"
   ]
  },
  {
   "cell_type": "code",
   "execution_count": 2,
   "id": "8daf3fc3",
   "metadata": {},
   "outputs": [],
   "source": [
    "# pyspark --conf \"spark.mongodb.input.uri=mongodb://127.0.0.1/test_db.test_collection?readPreference=primaryPreferred\" \\\n",
    "#               --conf \"spark.mongodb.output.uri=mongodb://127.0.0.1/test_db.test_collection\" \\\n",
    "#               --packages org.mongodb.spark:mongo-spark-connector_2.12:3.0.1\n",
    "# Cria a sessão\n",
    "my_spark = SparkSession \\\n",
    "    .builder \\\n",
    "    .master(\"local\") \\\n",
    "    .appName(\"myApp\") \\\n",
    "    .config(\"spark.mongodb.input.uri\", \"mongodb://localhost:/test_db.test_collection\") \\\n",
    "    .config(\"spark.mongodb.output.uri\", \"mongodb://localhost/test_db.test_collection\") \\\n",
    "    .config('spark.jars.packages','org.mongodb.spark:mongo-spark-connector_2.12:3.0.1' ) \\\n",
    "    .getOrCreate()"
   ]
  },
  {
   "cell_type": "code",
   "execution_count": 3,
   "id": "79716082",
   "metadata": {},
   "outputs": [],
   "source": [
    "# Carrega os dados do MongoDB no Spark\n",
    "dados = spark.read.format(\"com.mongodb.spark.sql.DefaultSource\").load()"
   ]
  },
  {
   "cell_type": "code",
   "execution_count": 4,
   "id": "1c7c0bc1",
   "metadata": {},
   "outputs": [
    {
     "name": "stdout",
     "output_type": "stream",
     "text": [
      "root\n",
      " |-- _id: struct (nullable = true)\n",
      " |    |-- oid: string (nullable = true)\n",
      " |-- item: string (nullable = true)\n",
      " |-- qty: double (nullable = true)\n",
      " |-- size: struct (nullable = true)\n",
      " |    |-- h: double (nullable = true)\n",
      " |    |-- w: double (nullable = true)\n",
      " |    |-- uom: string (nullable = true)\n",
      " |-- tags: array (nullable = true)\n",
      " |    |-- element: string (containsNull = true)\n",
      "\n"
     ]
    }
   ],
   "source": [
    "dados.printSchema()"
   ]
  },
  {
   "cell_type": "code",
   "execution_count": 5,
   "id": "59801617",
   "metadata": {},
   "outputs": [
    {
     "name": "stdout",
     "output_type": "stream",
     "text": [
      "+--------------------+---------------+----+-----------------+------------------+\n",
      "|                 _id|           item| qty|             size|              tags|\n",
      "+--------------------+---------------+----+-----------------+------------------+\n",
      "|{618a5b1d996f2557...|    Camisa Polo|25.0| {14.0, 21.0, cm}|[branco, vermelho]|\n",
      "|{618a5b1d996f2557...|Vestido Bordado|85.0| {27.9, 35.5, cm}|           [cinza]|\n",
      "|{618a5b1d996f2557...|        Moleton|45.0|{19.0, 22.85, cm}|     [verde, azul]|\n",
      "+--------------------+---------------+----+-----------------+------------------+\n",
      "\n"
     ]
    }
   ],
   "source": [
    "dados.show()"
   ]
  },
  {
   "cell_type": "code",
   "execution_count": 7,
   "id": "a9b21d0c",
   "metadata": {},
   "outputs": [],
   "source": [
    "# gravando dados\n",
    "registro = spark.createDataFrame([(\"Camisa T-Shirt\", 50)],[\"item\",\"qty\"])"
   ]
  },
  {
   "cell_type": "code",
   "execution_count": 8,
   "id": "1fc08e49",
   "metadata": {},
   "outputs": [],
   "source": [
    "registro.write.format(\"com.mongodb.spark.sql.DefaultSource\").mode(\"append\").save()"
   ]
  },
  {
   "cell_type": "code",
   "execution_count": 9,
   "id": "9dab1426",
   "metadata": {},
   "outputs": [
    {
     "name": "stdout",
     "output_type": "stream",
     "text": [
      "+--------------------+---------------+----+-----------------+------------------+\n",
      "|                 _id|           item| qty|             size|              tags|\n",
      "+--------------------+---------------+----+-----------------+------------------+\n",
      "|{618a5b1d996f2557...|    Camisa Polo|25.0| {14.0, 21.0, cm}|[branco, vermelho]|\n",
      "|{618a5b1d996f2557...|Vestido Bordado|85.0| {27.9, 35.5, cm}|           [cinza]|\n",
      "|{618a5b1d996f2557...|        Moleton|45.0|{19.0, 22.85, cm}|     [verde, azul]|\n",
      "|{618a5ebd8c71d21f...| Camisa T-Shirt|50.0|             null|              null|\n",
      "+--------------------+---------------+----+-----------------+------------------+\n",
      "\n"
     ]
    }
   ],
   "source": [
    "dados.show()"
   ]
  },
  {
   "cell_type": "code",
   "execution_count": null,
   "id": "1d782d80",
   "metadata": {},
   "outputs": [],
   "source": []
  }
 ],
 "metadata": {
  "kernelspec": {
   "display_name": "Python 3",
   "language": "python",
   "name": "python3"
  },
  "language_info": {
   "codemirror_mode": {
    "name": "ipython",
    "version": 3
   },
   "file_extension": ".py",
   "mimetype": "text/x-python",
   "name": "python",
   "nbconvert_exporter": "python",
   "pygments_lexer": "ipython3",
   "version": "3.8.5"
  }
 },
 "nbformat": 4,
 "nbformat_minor": 5
}
