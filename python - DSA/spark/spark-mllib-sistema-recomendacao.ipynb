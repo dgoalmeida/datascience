{
 "cells": [
  {
   "cell_type": "markdown",
   "id": "90229a8e",
   "metadata": {},
   "source": [
    "# Sistema de recomendação"
   ]
  },
  {
   "cell_type": "markdown",
   "id": "c5168056",
   "metadata": {},
   "source": [
    "- Também chamados de filtros colaborativos\n",
    "- Analisa dados passados para compreender comportamento de pessoas\n",
    "- A recomendação é feita por similaridade de comportamento\n",
    "- Recomendação baseada usuários ou itens\n",
    "- Algoritmos de recomendação esperam receber os dados em formato especifico (user_ID, item_ID, score)\n",
    "- Score também chamado de rating, indica a preferência de um usuário sobre um item. Pode mser valores booleanos, ratings ou mesmo volume de vendas"
   ]
  },
  {
   "cell_type": "code",
   "execution_count": 2,
   "id": "382417fe",
   "metadata": {},
   "outputs": [],
   "source": [
    "# imports\n",
    "from pyspark.ml.recommendation import ALS"
   ]
  },
  {
   "cell_type": "code",
   "execution_count": 3,
   "id": "7a99d965",
   "metadata": {},
   "outputs": [],
   "source": [
    "spSession = SparkSession.builder.master('local').appName('SpSession').getOrCreate()"
   ]
  },
  {
   "cell_type": "code",
   "execution_count": 4,
   "id": "903994c4",
   "metadata": {},
   "outputs": [
    {
     "data": {
      "text/plain": [
       "['1001,9001,10',\n",
       " '1001,9002,1',\n",
       " '1001,9003,9',\n",
       " '1002,9001,3',\n",
       " '1002,9002,5',\n",
       " '1002,9003,1',\n",
       " '1002,9004,10',\n",
       " '1003,9001,2',\n",
       " '1003,9002,6',\n",
       " '1003,9003,2',\n",
       " '1003,9004,9',\n",
       " '1003,9005,10',\n",
       " '1003,9006,8',\n",
       " '1003,9007,9',\n",
       " '1004,9001,9',\n",
       " '1004,9002,2',\n",
       " '1004,9003,8',\n",
       " '1004,9004,3',\n",
       " '1004,9010,10',\n",
       " '1004,9011,9',\n",
       " '1004,9012,8',\n",
       " '1005,9001,8',\n",
       " '1005,9002,3',\n",
       " '1005,9003,7',\n",
       " '1005,9004,1',\n",
       " '1005,9010,9',\n",
       " '1005,9011,10',\n",
       " '1005,9012,9',\n",
       " '1005,9013,8',\n",
       " '1005,9014,1',\n",
       " '1005,9015,1',\n",
       " '1006,9001,7',\n",
       " '1006,9002,4',\n",
       " '1006,9003,8',\n",
       " '1006,9004,1',\n",
       " '1006,9010,7',\n",
       " '1006,9011,6',\n",
       " '1006,9012,9']"
      ]
     },
     "execution_count": 4,
     "metadata": {},
     "output_type": "execute_result"
    }
   ],
   "source": [
    "ratingsRDD = sc.textFile('5-Arquivos-Cap11/data/user-item.txt')\n",
    "ratingsRDD.collect()"
   ]
  },
  {
   "cell_type": "code",
   "execution_count": 11,
   "id": "94ee4f56",
   "metadata": {},
   "outputs": [],
   "source": [
    "# convertendo para string\n",
    "ratingRDD2 = ratingsRDD.map(lambda x: x.split(',')).map(lambda x: (int(x[0]),int(x[1]),float(x[2])))"
   ]
  },
  {
   "cell_type": "code",
   "execution_count": 21,
   "id": "188aa0ed",
   "metadata": {},
   "outputs": [],
   "source": [
    "ratingsDF = spSession.createDataFrame(ratingRDD2,['user','item','rating'])"
   ]
  },
  {
   "cell_type": "code",
   "execution_count": 22,
   "id": "fc9f5770",
   "metadata": {},
   "outputs": [
    {
     "name": "stdout",
     "output_type": "stream",
     "text": [
      "+----+----+------+\n",
      "|user|item|rating|\n",
      "+----+----+------+\n",
      "|1001|9001|  10.0|\n",
      "|1001|9002|   1.0|\n",
      "|1001|9003|   9.0|\n",
      "|1002|9001|   3.0|\n",
      "|1002|9002|   5.0|\n",
      "|1002|9003|   1.0|\n",
      "|1002|9004|  10.0|\n",
      "|1003|9001|   2.0|\n",
      "|1003|9002|   6.0|\n",
      "|1003|9003|   2.0|\n",
      "|1003|9004|   9.0|\n",
      "|1003|9005|  10.0|\n",
      "|1003|9006|   8.0|\n",
      "|1003|9007|   9.0|\n",
      "|1004|9001|   9.0|\n",
      "|1004|9002|   2.0|\n",
      "|1004|9003|   8.0|\n",
      "|1004|9004|   3.0|\n",
      "|1004|9010|  10.0|\n",
      "|1004|9011|   9.0|\n",
      "+----+----+------+\n",
      "only showing top 20 rows\n",
      "\n"
     ]
    }
   ],
   "source": [
    "ratingsDF.show()"
   ]
  },
  {
   "cell_type": "code",
   "execution_count": 23,
   "id": "64687cd1",
   "metadata": {},
   "outputs": [],
   "source": [
    "# ALS alternate list squares --> algoritmo de sistema de recomendação\n",
    "als = ALS(rank=10,maxIter=5)\n",
    "modelo = als.fit(ratingsDF)"
   ]
  },
  {
   "cell_type": "code",
   "execution_count": 24,
   "id": "2b2227ff",
   "metadata": {},
   "outputs": [
    {
     "data": {
      "text/plain": [
       "[Row(id=1001, features=[-1.020338773727417, 0.15884457528591156, 0.43435177206993103, 0.42108067870140076, -0.08316300064325333, -0.22315619885921478, 0.43449509143829346, -0.016361376270651817, -0.09652017056941986, 1.2523633241653442]),\n",
       " Row(id=1002, features=[-0.7278647422790527, -0.3039030432701111, -1.4372807741165161, 0.4101669490337372, -0.20219333469867706, 0.30689162015914917, 0.2394382208585739, -0.31496909260749817, -0.42265287041664124, -0.5618031024932861]),\n",
       " Row(id=1003, features=[-0.2754066288471222, -0.02016931213438511, -1.2622171640396118, 0.6222057938575745, -0.3387295603752136, 0.6792862415313721, -0.059917986392974854, 0.23600462079048157, -0.24518680572509766, -0.4790261387825012]),\n",
       " Row(id=1004, features=[-1.1808589696884155, -0.198384091258049, 0.1094837412238121, 0.714041531085968, -0.03430582955479622, -0.05891014635562897, 0.40418773889541626, -0.05229669436812401, -0.19879166781902313, 0.6823390126228333]),\n",
       " Row(id=1005, features=[-0.520517110824585, 0.5383255481719971, -0.4068520665168762, 0.03908100724220276, -0.347207635641098, -0.015325088985264301, 0.27017906308174133, 0.025252632796764374, -0.2160266637802124, 1.1690857410430908]),\n",
       " Row(id=1006, features=[-0.1496032029390335, 0.5460834503173828, 0.15998083353042603, 0.9113137722015381, -0.38128462433815, 0.7204729318618774, -0.14817678928375244, 0.9232698678970337, 0.2015027403831482, 0.7099640369415283])]"
      ]
     },
     "execution_count": 24,
     "metadata": {},
     "output_type": "execute_result"
    }
   ],
   "source": [
    "modelo.userFactors.orderBy('id').collect()"
   ]
  },
  {
   "cell_type": "code",
   "execution_count": 25,
   "id": "b6e771a8",
   "metadata": {},
   "outputs": [],
   "source": [
    "testeDF = spSession.createDataFrame([(1001,9003),(1001,9004),(1001,9005)],['user','item'])"
   ]
  },
  {
   "cell_type": "code",
   "execution_count": 27,
   "id": "2e22aa0f",
   "metadata": {},
   "outputs": [
    {
     "data": {
      "text/plain": [
       "[Row(user=1001, item=9004, prediction=-0.6660881042480469),\n",
       " Row(user=1001, item=9005, prediction=-2.7070765495300293),\n",
       " Row(user=1001, item=9003, prediction=9.008316993713379)]"
      ]
     },
     "execution_count": 27,
     "metadata": {},
     "output_type": "execute_result"
    }
   ],
   "source": [
    "previsoes = modelo.transform(testeDF).collect()\n",
    "previsoes"
   ]
  },
  {
   "cell_type": "code",
   "execution_count": null,
   "id": "1e84a183",
   "metadata": {},
   "outputs": [],
   "source": []
  }
 ],
 "metadata": {
  "kernelspec": {
   "display_name": "Python 3",
   "language": "python",
   "name": "python3"
  },
  "language_info": {
   "codemirror_mode": {
    "name": "ipython",
    "version": 3
   },
   "file_extension": ".py",
   "mimetype": "text/x-python",
   "name": "python",
   "nbconvert_exporter": "python",
   "pygments_lexer": "ipython3",
   "version": "3.8.5"
  }
 },
 "nbformat": 4,
 "nbformat_minor": 5
}
