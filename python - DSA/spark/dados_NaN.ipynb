{
 "cells": [
  {
   "cell_type": "markdown",
   "metadata": {},
   "source": [
    "#  <font color='blue'>Data Science Academy </font>\n",
    "\n",
    "# <font color='blue'>Big Data Real-time Analytics com Python e Spark </font>\n",
    "\n",
    "## Pandas Dados NaN "
   ]
  },
  {
   "cell_type": "code",
   "execution_count": 1,
   "metadata": {},
   "outputs": [],
   "source": [
    "import pandas as pd\n",
    "import numpy as np"
   ]
  },
  {
   "cell_type": "code",
   "execution_count": 4,
   "metadata": {},
   "outputs": [],
   "source": [
    "array1 = np.array([1,2,3,np.nan])"
   ]
  },
  {
   "cell_type": "code",
   "execution_count": 5,
   "metadata": {},
   "outputs": [
    {
     "name": "stdout",
     "output_type": "stream",
     "text": [
      "[ 1.  2.  3. nan]\n"
     ]
    }
   ],
   "source": [
    "print(array1)"
   ]
  },
  {
   "cell_type": "code",
   "execution_count": 7,
   "metadata": {},
   "outputs": [
    {
     "data": {
      "text/plain": [
       "nan"
      ]
     },
     "execution_count": 7,
     "metadata": {},
     "output_type": "execute_result"
    }
   ],
   "source": [
    "array1.mean()"
   ]
  },
  {
   "cell_type": "code",
   "execution_count": 9,
   "metadata": {},
   "outputs": [
    {
     "name": "stdout",
     "output_type": "stream",
     "text": [
      "0    1.0\n",
      "1    2.0\n",
      "2    3.0\n",
      "3    NaN\n",
      "dtype: float64\n"
     ]
    }
   ],
   "source": [
    "serie2 = pd.Series(np.array([1,2,3,np.nan]))\n",
    "print(serie2)"
   ]
  },
  {
   "cell_type": "code",
   "execution_count": 10,
   "metadata": {},
   "outputs": [
    {
     "data": {
      "text/plain": [
       "2.0"
      ]
     },
     "execution_count": 10,
     "metadata": {},
     "output_type": "execute_result"
    }
   ],
   "source": [
    "serie2.mean()"
   ]
  },
  {
   "cell_type": "markdown",
   "metadata": {},
   "source": [
    "Concatenando as series"
   ]
  },
  {
   "cell_type": "code",
   "execution_count": 11,
   "metadata": {},
   "outputs": [],
   "source": [
    "serie3 = pd.Series(np.random.rand(15))"
   ]
  },
  {
   "cell_type": "code",
   "execution_count": 12,
   "metadata": {},
   "outputs": [],
   "source": [
    "serie4 = pd.Series(np.random.rand(15))"
   ]
  },
  {
   "cell_type": "code",
   "execution_count": 14,
   "metadata": {},
   "outputs": [],
   "source": [
    "comb = pd.concat([serie3,serie4])"
   ]
  },
  {
   "cell_type": "code",
   "execution_count": 15,
   "metadata": {},
   "outputs": [
    {
     "data": {
      "text/plain": [
       "0     0.828456\n",
       "1     0.651497\n",
       "2     0.072713\n",
       "3     0.895293\n",
       "4     0.066108\n",
       "5     0.635252\n",
       "6     0.304602\n",
       "7     0.295415\n",
       "8     0.045770\n",
       "9     0.735850\n",
       "10    0.850033\n",
       "11    0.343465\n",
       "12    0.802382\n",
       "13    0.152978\n",
       "14    0.136677\n",
       "0     0.080629\n",
       "1     0.238283\n",
       "2     0.912403\n",
       "3     0.594738\n",
       "4     0.668819\n",
       "5     0.706756\n",
       "6     0.649044\n",
       "7     0.543833\n",
       "8     0.828534\n",
       "9     0.175275\n",
       "10    0.064355\n",
       "11    0.708486\n",
       "12    0.414432\n",
       "13    0.350740\n",
       "14    0.092187\n",
       "dtype: float64"
      ]
     },
     "execution_count": 15,
     "metadata": {},
     "output_type": "execute_result"
    }
   ],
   "source": [
    "comb"
   ]
  },
  {
   "cell_type": "code",
   "execution_count": 18,
   "metadata": {},
   "outputs": [
    {
     "data": {
      "text/plain": [
       "0    0.828456\n",
       "0    0.080629\n",
       "0    0.828456\n",
       "0    0.080629\n",
       "dtype: float64"
      ]
     },
     "execution_count": 18,
     "metadata": {},
     "output_type": "execute_result"
    }
   ],
   "source": [
    "comb[[0,0]]"
   ]
  },
  {
   "cell_type": "code",
   "execution_count": 21,
   "metadata": {},
   "outputs": [],
   "source": [
    "comb.index = range(comb.count())"
   ]
  },
  {
   "cell_type": "code",
   "execution_count": 22,
   "metadata": {},
   "outputs": [
    {
     "data": {
      "text/plain": [
       "0     0.828456\n",
       "1     0.651497\n",
       "2     0.072713\n",
       "3     0.895293\n",
       "4     0.066108\n",
       "5     0.635252\n",
       "6     0.304602\n",
       "7     0.295415\n",
       "8     0.045770\n",
       "9     0.735850\n",
       "10    0.850033\n",
       "11    0.343465\n",
       "12    0.802382\n",
       "13    0.152978\n",
       "14    0.136677\n",
       "15    0.080629\n",
       "16    0.238283\n",
       "17    0.912403\n",
       "18    0.594738\n",
       "19    0.668819\n",
       "20    0.706756\n",
       "21    0.649044\n",
       "22    0.543833\n",
       "23    0.828534\n",
       "24    0.175275\n",
       "25    0.064355\n",
       "26    0.708486\n",
       "27    0.414432\n",
       "28    0.350740\n",
       "29    0.092187\n",
       "dtype: float64"
      ]
     },
     "execution_count": 22,
     "metadata": {},
     "output_type": "execute_result"
    }
   ],
   "source": [
    "comb"
   ]
  },
  {
   "cell_type": "code",
   "execution_count": 27,
   "metadata": {},
   "outputs": [
    {
     "data": {
      "text/plain": [
       "0      0.828456\n",
       "2      0.072713\n",
       "16     0.238283\n",
       "21     0.649044\n",
       "100         NaN\n",
       "dtype: float64"
      ]
     },
     "execution_count": 27,
     "metadata": {},
     "output_type": "execute_result"
    }
   ],
   "source": [
    "comb.reindex([0,2,16,21,100])\n"
   ]
  },
  {
   "cell_type": "code",
   "execution_count": 26,
   "metadata": {},
   "outputs": [
    {
     "data": {
      "text/plain": [
       "0      0.828456\n",
       "2      0.072713\n",
       "16     0.238283\n",
       "21     0.649044\n",
       "100    0.000000\n",
       "dtype: float64"
      ]
     },
     "execution_count": 26,
     "metadata": {},
     "output_type": "execute_result"
    }
   ],
   "source": [
    "comb.reindex([0,2,16,21,100], fill_value=0)"
   ]
  },
  {
   "cell_type": "code",
   "execution_count": 28,
   "metadata": {},
   "outputs": [],
   "source": [
    "new_comb = comb.reindex([0,2,16,21,100])"
   ]
  },
  {
   "cell_type": "code",
   "execution_count": 29,
   "metadata": {},
   "outputs": [
    {
     "data": {
      "text/plain": [
       "0      0.828456\n",
       "2      0.072713\n",
       "16     0.238283\n",
       "21     0.649044\n",
       "100    0.649044\n",
       "dtype: float64"
      ]
     },
     "execution_count": 29,
     "metadata": {},
     "output_type": "execute_result"
    }
   ],
   "source": [
    "new_comb.ffill()"
   ]
  },
  {
   "cell_type": "code",
   "execution_count": 30,
   "metadata": {},
   "outputs": [
    {
     "data": {
      "text/plain": [
       "0      0.828456\n",
       "2      0.072713\n",
       "16     0.238283\n",
       "21     0.649044\n",
       "100         NaN\n",
       "dtype: float64"
      ]
     },
     "execution_count": 30,
     "metadata": {},
     "output_type": "execute_result"
    }
   ],
   "source": [
    "new_comb.bfill()"
   ]
  },
  {
   "cell_type": "code",
   "execution_count": 31,
   "metadata": {},
   "outputs": [
    {
     "data": {
      "text/plain": [
       "0       0.828456\n",
       "2       0.072713\n",
       "16      0.238283\n",
       "21      0.649044\n",
       "100    16.000000\n",
       "dtype: float64"
      ]
     },
     "execution_count": 31,
     "metadata": {},
     "output_type": "execute_result"
    }
   ],
   "source": [
    "new_comb.fillna(16)"
   ]
  },
  {
   "cell_type": "code",
   "execution_count": null,
   "metadata": {},
   "outputs": [],
   "source": []
  }
 ],
 "metadata": {
  "kernelspec": {
   "display_name": "Python 3",
   "language": "python",
   "name": "python3"
  },
  "language_info": {
   "codemirror_mode": {
    "name": "ipython",
    "version": 3
   },
   "file_extension": ".py",
   "mimetype": "text/x-python",
   "name": "python",
   "nbconvert_exporter": "python",
   "pygments_lexer": "ipython3",
   "version": "3.8.5"
  }
 },
 "nbformat": 4,
 "nbformat_minor": 4
}
