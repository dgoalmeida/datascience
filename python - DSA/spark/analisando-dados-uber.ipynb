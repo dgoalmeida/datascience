{
 "cells": [
  {
   "cell_type": "markdown",
   "id": "60e2296a",
   "metadata": {},
   "source": [
    "# Mini-Projeto 1 - Analisando Dados do Uber com Spark "
   ]
  },
  {
   "cell_type": "markdown",
   "id": "926c4af9",
   "metadata": {},
   "source": [
    "Dataset: https://github.com/fivethirtyeight/uber-tlc-foil-response"
   ]
  },
  {
   "cell_type": "markdown",
   "id": "f0222712",
   "metadata": {},
   "source": [
    "Esse conjunto de dados contém dados de mais de 4,5 milhões de captações Uber na cidade de Nova York de abril a setembro de 2014 e 14,3 milhões de captações Uber de janeiro a junho de 2015. Dados em nível de viagem sobre 10 outras empresas de veículos de aluguel (FHV) bem como dados agregados para 329 empresas de FHV, também estão incluídos. Todos os arquivos foram recebidos em 3 de agosto, 15 de setembro e 22 de setembro de 2015."
   ]
  },
  {
   "cell_type": "markdown",
   "id": "0e1bba01",
   "metadata": {},
   "source": [
    "1- Quantos são e quais são as bases de carros do Uber (onde os carros ficam esperando passageiros)?\n",
    "\n",
    "2- Qual o total de veículos que passaram pela base B02617?\n",
    "\n",
    "3- Qual o total de corridas por base? Apresente de forma decrescente."
   ]
  },
  {
   "cell_type": "code",
   "execution_count": 1,
   "id": "5fb83b88",
   "metadata": {},
   "outputs": [],
   "source": [
    "from pandas import read_csv"
   ]
  },
  {
   "cell_type": "code",
   "execution_count": 2,
   "id": "b8e6b76c",
   "metadata": {},
   "outputs": [],
   "source": [
    "uber = read_csv('7-Arquivos-Cap07/data/uber.csv')"
   ]
  },
  {
   "cell_type": "code",
   "execution_count": 3,
   "id": "c32e41f4",
   "metadata": {},
   "outputs": [
    {
     "data": {
      "text/plain": [
       "pandas.core.frame.DataFrame"
      ]
     },
     "execution_count": 3,
     "metadata": {},
     "output_type": "execute_result"
    }
   ],
   "source": [
    "type(uber)"
   ]
  },
  {
   "cell_type": "code",
   "execution_count": 4,
   "id": "f892b015",
   "metadata": {},
   "outputs": [],
   "source": [
    "# convertendo para um datafrema spark\n",
    "uber_rdd = sqlContext.createDataFrame(uber)"
   ]
  },
  {
   "cell_type": "code",
   "execution_count": 5,
   "id": "d1aa4056",
   "metadata": {},
   "outputs": [
    {
     "data": {
      "text/plain": [
       "pyspark.sql.dataframe.DataFrame"
      ]
     },
     "execution_count": 5,
     "metadata": {},
     "output_type": "execute_result"
    }
   ],
   "source": [
    "type(uber_rdd)"
   ]
  },
  {
   "cell_type": "code",
   "execution_count": 6,
   "id": "db8508f4",
   "metadata": {},
   "outputs": [
    {
     "data": {
      "text/plain": [
       "354"
      ]
     },
     "execution_count": 6,
     "metadata": {},
     "output_type": "execute_result"
    }
   ],
   "source": [
    "uber_rdd.count()"
   ]
  },
  {
   "cell_type": "code",
   "execution_count": 7,
   "id": "e3baf42a",
   "metadata": {},
   "outputs": [],
   "source": [
    "# criando rdd a partir de um arquivo csv\n",
    "uber_rdd = sc.textFile('7-Arquivos-Cap07/data/uber.csv')"
   ]
  },
  {
   "cell_type": "code",
   "execution_count": 8,
   "id": "76968a70",
   "metadata": {},
   "outputs": [
    {
     "data": {
      "text/plain": [
       "pyspark.rdd.RDD"
      ]
     },
     "execution_count": 8,
     "metadata": {},
     "output_type": "execute_result"
    }
   ],
   "source": [
    "type(uber_rdd)"
   ]
  },
  {
   "cell_type": "code",
   "execution_count": 11,
   "id": "8653bc91",
   "metadata": {},
   "outputs": [
    {
     "data": {
      "text/plain": [
       "355"
      ]
     },
     "execution_count": 11,
     "metadata": {},
     "output_type": "execute_result"
    }
   ],
   "source": [
    "#. total de registros\n",
    "uber_rdd.count()"
   ]
  },
  {
   "cell_type": "code",
   "execution_count": 13,
   "id": "a9134095",
   "metadata": {},
   "outputs": [
    {
     "data": {
      "text/plain": [
       "'dispatching_base_number,date,active_vehicles,trips'"
      ]
     },
     "execution_count": 13,
     "metadata": {},
     "output_type": "execute_result"
    }
   ],
   "source": [
    "# primeiro registro\n",
    "uber_rdd.first()"
   ]
  },
  {
   "cell_type": "code",
   "execution_count": 14,
   "id": "888c5269",
   "metadata": {},
   "outputs": [],
   "source": [
    "# dividindo o arquivo em colunas separadas por , \n",
    "uber_linhas = uber_rdd.map(lambda x: x.split(','))"
   ]
  },
  {
   "cell_type": "code",
   "execution_count": 16,
   "id": "ff3f079d",
   "metadata": {},
   "outputs": [
    {
     "data": {
      "text/plain": [
       "pyspark.rdd.PipelinedRDD"
      ]
     },
     "execution_count": 16,
     "metadata": {},
     "output_type": "execute_result"
    }
   ],
   "source": [
    "type(uber_linhas)"
   ]
  },
  {
   "cell_type": "code",
   "execution_count": 19,
   "id": "d3f4a608",
   "metadata": {},
   "outputs": [
    {
     "data": {
      "text/plain": [
       "6"
      ]
     },
     "execution_count": 19,
     "metadata": {},
     "output_type": "execute_result"
    }
   ],
   "source": [
    "#numero de base de carros do uber\n",
    "uber_linhas.map(lambda linha: linha[0]).distinct().count() -1 "
   ]
  },
  {
   "cell_type": "code",
   "execution_count": 21,
   "id": "cc8eae4e",
   "metadata": {},
   "outputs": [
    {
     "data": {
      "text/plain": [
       "['dispatching_base_number',\n",
       " 'B02765',\n",
       " 'B02682',\n",
       " 'B02598',\n",
       " 'B02512',\n",
       " 'B02764',\n",
       " 'B02617']"
      ]
     },
     "execution_count": 21,
     "metadata": {},
     "output_type": "execute_result"
    }
   ],
   "source": [
    "# base de carros do uber\n",
    "uber_linhas.map(lambda linha: linha[0]).distinct().collect()"
   ]
  },
  {
   "cell_type": "code",
   "execution_count": 25,
   "id": "e7b927c9",
   "metadata": {},
   "outputs": [
    {
     "data": {
      "text/plain": [
       "59"
      ]
     },
     "execution_count": 25,
     "metadata": {},
     "output_type": "execute_result"
    }
   ],
   "source": [
    "# total de veículos que passaram pela base B02617\n",
    "uber_linhas.filter(lambda linha: 'B02617' in linha).count()"
   ]
  },
  {
   "cell_type": "code",
   "execution_count": 31,
   "id": "faf74441",
   "metadata": {},
   "outputs": [
    {
     "data": {
      "text/plain": [
       "4"
      ]
     },
     "execution_count": 31,
     "metadata": {},
     "output_type": "execute_result"
    }
   ],
   "source": [
    "# Total de dias em que o número de corridas foi superior a 16.000\n",
    "\n",
    "uber_linhas.filter(lambda linha: \"B02617\" in linha).filter(lambda linha: int(linha[3]) > 16000).count()"
   ]
  },
  {
   "cell_type": "code",
   "execution_count": 32,
   "id": "d77a068e",
   "metadata": {},
   "outputs": [
    {
     "data": {
      "text/plain": [
       "[['B02617', '2/13/2015', '1590', '16996'],\n",
       " ['B02617', '2/14/2015', '1486', '16999'],\n",
       " ['B02617', '2/20/2015', '1574', '16856'],\n",
       " ['B02617', '2/21/2015', '1443', '16098']]"
      ]
     },
     "execution_count": 32,
     "metadata": {},
     "output_type": "execute_result"
    }
   ],
   "source": [
    "uber_linhas.filter(lambda linha: \"B02617\" in linha).filter(lambda linha: int(linha[3]) > 16000).collect()"
   ]
  },
  {
   "cell_type": "code",
   "execution_count": 38,
   "id": "691186a2",
   "metadata": {},
   "outputs": [],
   "source": [
    "uberRDD2 = sc.textFile(\"7-Arquivos-Cap07/data/uber.csv\").filter(lambda line: \"base\" not in line).map(lambda line:line.split(\",\"))"
   ]
  },
  {
   "cell_type": "code",
   "execution_count": 39,
   "id": "52d7eed6",
   "metadata": {},
   "outputs": [
    {
     "data": {
      "text/plain": [
       "[('B02765', 193670),\n",
       " ('B02682', 662509),\n",
       " ('B02598', 540791),\n",
       " ('B02512', 93786),\n",
       " ('B02764', 1914449),\n",
       " ('B02617', 725025)]"
      ]
     },
     "execution_count": 39,
     "metadata": {},
     "output_type": "execute_result"
    }
   ],
   "source": [
    "#aplicando redução para calcular total por base\n",
    "uberRDD2.map(lambda pk: (pk[0], int(pk[3]))).reduceByKey(lambda k,v: k+v).collect()"
   ]
  },
  {
   "cell_type": "code",
   "execution_count": 41,
   "id": "46730114",
   "metadata": {},
   "outputs": [
    {
     "data": {
      "text/plain": [
       "[('B02512', 93786),\n",
       " ('B02765', 193670),\n",
       " ('B02598', 540791),\n",
       " ('B02682', 662509),\n",
       " ('B02617', 725025),\n",
       " ('B02764', 1914449)]"
      ]
     },
     "execution_count": 41,
     "metadata": {},
     "output_type": "execute_result"
    }
   ],
   "source": [
    "#aplicando redução para calcular total por base em ordem descrecente\n",
    "\n",
    "uberRDD2.map(lambda pk: (pk[0], int(pk[3]))).reduceByKey(lambda k,v: k+v).sortBy(keyfunc=(lambda x: x[1])).collect()"
   ]
  },
  {
   "cell_type": "code",
   "execution_count": null,
   "id": "2d89b858",
   "metadata": {},
   "outputs": [],
   "source": []
  }
 ],
 "metadata": {
  "kernelspec": {
   "display_name": "Python 3",
   "language": "python",
   "name": "python3"
  },
  "language_info": {
   "codemirror_mode": {
    "name": "ipython",
    "version": 3
   },
   "file_extension": ".py",
   "mimetype": "text/x-python",
   "name": "python",
   "nbconvert_exporter": "python",
   "pygments_lexer": "ipython3",
   "version": "3.8.5"
  }
 },
 "nbformat": 4,
 "nbformat_minor": 5
}
