{
 "cells": [
  {
   "cell_type": "markdown",
   "metadata": {},
   "source": [
    "# <font color='blue'>Data Science Academy</font>\n",
    "# <font color='blue'>Big Data Real-Time Analytics com Python e Spark</font>\n",
    "\n",
    "# <font color='blue'>Capítulo 6 - parte 2</font>\n",
    "\n",
    "# <font color='blue'>Machine learning em python</font>"
   ]
  },
  {
   "cell_type": "markdown",
   "metadata": {},
   "source": [
    "## Definição do problema de negócio\n",
    "\n",
    "Vamos criar um modelo preditivo que seja capáz de prever o preço de casas com base em uma série de variáveis (caracteristicas) sobre diversas casas em um bairro de bostom, cidade dos EUA"
   ]
  },
  {
   "cell_type": "markdown",
   "metadata": {},
   "source": [
    "## Avaliando a performance\n",
    "\n",
    "As metricas que você escolhe para avaliar a performance do modelo vão influenciar a forma como a performance é medida e comparada com os modelos criados com outros algoritmos\n",
    "\n",
    "## Métricas para algoritmos de regreção\n",
    "\n",
    "Mean squared error - MSE\n",
    "Root Mean squared error - RMSE\n",
    "Mean absolute error - MAE\n",
    "R squared - R**\n",
    "Adjusted R squared - R**\n",
    "Mean squared percentage error - MSPE\n",
    "Mean absolite percentage error - MAPE\n",
    "Root Mean squared Logarithmic error - RMSLE"
   ]
  },
  {
   "cell_type": "markdown",
   "metadata": {},
   "source": [
    "## MSE - MEAN SQUARED ERROR\n",
    "\n",
    "É talvez a métrica mais simples e comum para avaliação de regreção, más provvelmente a menos util. O MSE mede basicamente o erro quadrado médio de nossas previsões. PAra cada ponto, calcula a diferença quadrada entre as previões e o valor real da variável alvo e, em seguida, calcula a média desses valores\n",
    "\n",
    "Quanto maior for esse valor, pior é seu modelo. esse valor nunca será negativo, já que estamos elevando ao quadrado os erros individuais da previsão, más seria 0 para um modelo perfeito."
   ]
  },
  {
   "cell_type": "code",
   "execution_count": 3,
   "metadata": {},
   "outputs": [
    {
     "name": "stdout",
     "output_type": "stream",
     "text": [
      "O MSE do modelo é:  28.530458765974686\n"
     ]
    }
   ],
   "source": [
    "# MSE - mean squared error\n",
    "# similar ao MAE fornece a magnetude do erro do modelo\n",
    "# Quanto maior, pior o modelo\n",
    "# Ao extrairmos a raiz quadrada do MSE, convertemos as unidades de volta ao original\n",
    "# O que pode ser util para descrição e apresentação. Isso é chamado de RMSE - Root mean squared error\n",
    "\n",
    "from pandas import read_csv\n",
    "from sklearn.model_selection import train_test_split\n",
    "from sklearn.metrics import mean_squared_error\n",
    "from sklearn.linear_model import LinearRegression\n",
    "\n",
    "# carregando dados\n",
    "arquivo = './9-Arquivos-Cap06/data/boston-houses.csv'\n",
    "colunas = ['CRIM','ZN','INDUS','CHAS','NOX','RM','AGE','DIS','RAD','TAX','PTRATIO','B','LSTAT','MEDV']\n",
    "dados  = read_csv(arquivo, delim_whitespace=True, names=colunas)\n",
    "array = dados.values\n",
    "\n",
    "# separando os dados em componentes de imput e output\n",
    "X = array[:,0:13]\n",
    "Y = array[:,13]\n",
    "\n",
    "# dados de treino e teste\n",
    "X_train, X_test, Y_train, Y_test = train_test_split(X, Y, test_size = 0.33, random_state = 5)\n",
    "\n",
    "# criando modelo\n",
    "model = LinearRegression()\n",
    "\n",
    "# treinando modelo\n",
    "model.fit(X_train, Y_train)\n",
    "\n",
    "# fazendo previsões\n",
    "Y_pred = model.predict(X_test)\n",
    "\n",
    "# resultado\n",
    "mse = mean_squared_error(Y_test, Y_pred)\n",
    "print(\"O MSE do modelo é: \", mse)"
   ]
  },
  {
   "cell_type": "code",
   "execution_count": 4,
   "metadata": {},
   "outputs": [
    {
     "name": "stdout",
     "output_type": "stream",
     "text": [
      "O MSE do modelo é:  3.4550349322483522\n"
     ]
    }
   ],
   "source": [
    "# MAE - Mean absolute error\n",
    "# é a soma da diferença absoluta entre previsões e valores reais\n",
    "# Fornece uma idéia de quão errada estão nossas previsões\n",
    "# Valor iguala a 0 indica que não há error, sendo a previsão perfeita\n",
    "\n",
    "from pandas import read_csv\n",
    "from sklearn.model_selection import train_test_split\n",
    "from sklearn.metrics import mean_absolute_error\n",
    "from sklearn.linear_model import LinearRegression\n",
    "\n",
    "# carregando dados\n",
    "arquivo = './9-Arquivos-Cap06/data/boston-houses.csv'\n",
    "colunas = ['CRIM','ZN','INDUS','CHAS','NOX','RM','AGE','DIS','RAD','TAX','PTRATIO','B','LSTAT','MEDV']\n",
    "dados  = read_csv(arquivo, delim_whitespace=True, names=colunas)\n",
    "array = dados.values\n",
    "\n",
    "# separando os dados em componentes de imput e output\n",
    "X = array[:,0:13]\n",
    "Y = array[:,13]\n",
    "\n",
    "# dados de treino e teste\n",
    "X_train, X_test, Y_train, Y_test = train_test_split(X, Y, test_size = 0.33, random_state = 5)\n",
    "\n",
    "# criando modelo\n",
    "model = LinearRegression()\n",
    "\n",
    "# treinando modelo\n",
    "model.fit(X_train, Y_train)\n",
    "\n",
    "# fazendo previsões\n",
    "Y_pred = model.predict(X_test)\n",
    "\n",
    "# resultado\n",
    "mse = mean_absolute_error(Y_test, Y_pred)\n",
    "print(\"O MSE do modelo é: \", mse)"
   ]
  },
  {
   "cell_type": "markdown",
   "metadata": {},
   "source": [
    "## R^2 - coeficiente de determinação"
   ]
  },
  {
   "cell_type": "code",
   "execution_count": 5,
   "metadata": {},
   "outputs": [
    {
     "name": "stdout",
     "output_type": "stream",
     "text": [
      "O MSE do modelo é:  0.6956551656111596\n"
     ]
    }
   ],
   "source": [
    "# R^2\n",
    "# Essa métrica fornece uma indicação do nivel de precisão das previsões em relação aos valores observados.\n",
    "# também chamado de coeficiente de determinação\n",
    "# Valores entre 0 e 1, sendo 1 o valor ideal\n",
    "\n",
    "from pandas import read_csv\n",
    "from sklearn.model_selection import train_test_split\n",
    "from sklearn.metrics import r2_score\n",
    "from sklearn.linear_model import LinearRegression\n",
    "\n",
    "# carregando dados\n",
    "arquivo = './9-Arquivos-Cap06/data/boston-houses.csv'\n",
    "colunas = ['CRIM','ZN','INDUS','CHAS','NOX','RM','AGE','DIS','RAD','TAX','PTRATIO','B','LSTAT','MEDV']\n",
    "dados  = read_csv(arquivo, delim_whitespace=True, names=colunas)\n",
    "array = dados.values\n",
    "\n",
    "# separando os dados em componentes de imput e output\n",
    "X = array[:,0:13]\n",
    "Y = array[:,13]\n",
    "\n",
    "# dados de treino e teste\n",
    "X_train, X_test, Y_train, Y_test = train_test_split(X, Y, test_size = 0.33, random_state = 5)\n",
    "\n",
    "# criando modelo\n",
    "model = LinearRegression()\n",
    "\n",
    "# treinando modelo\n",
    "model.fit(X_train, Y_train)\n",
    "\n",
    "# fazendo previsões\n",
    "Y_pred = model.predict(X_test)\n",
    "\n",
    "# resultado\n",
    "mse = r2_score(Y_test, Y_pred)\n",
    "print(\"O MSE do modelo é: \", mse)"
   ]
  },
  {
   "cell_type": "markdown",
   "metadata": {},
   "source": [
    "# Algoritmo de regressão\n",
    "\n",
    "Assume que os dados estão em uma distribuição normal, e tmabém assume que as variáveis são relevantes para a construção do modelo e que não sejam colineares, ou seja variaveis com alta correlação (Cabe ao cientista de dados entregar um modelo com variáveis relevantes)"
   ]
  },
  {
   "cell_type": "code",
   "execution_count": 10,
   "metadata": {},
   "outputs": [
    {
     "name": "stdout",
     "output_type": "stream",
     "text": [
      "O MSE do modelo é:  28.530458765974686\n",
      "O Ridge MSE do modelo é:  29.294062013485007\n",
      "O KNN MSE do modelo é:  47.70591377245509\n",
      "O SVM MSE do modelo é:  79.23488170183114\n"
     ]
    }
   ],
   "source": [
    "from pandas import read_csv\n",
    "from sklearn.model_selection import train_test_split\n",
    "from sklearn.metrics import mean_squared_error\n",
    "from sklearn.linear_model import LinearRegression\n",
    "\n",
    "# carregando dados\n",
    "arquivo = './9-Arquivos-Cap06/data/boston-houses.csv'\n",
    "colunas = ['CRIM','ZN','INDUS','CHAS','NOX','RM','AGE','DIS','RAD','TAX','PTRATIO','B','LSTAT','MEDV']\n",
    "dados  = read_csv(arquivo, delim_whitespace=True, names=colunas)\n",
    "array = dados.values\n",
    "\n",
    "# separando os dados em componentes de imput e output\n",
    "X = array[:,0:13]\n",
    "Y = array[:,13]\n",
    "\n",
    "# dados de treino e teste\n",
    "X_train, X_test, Y_train, Y_test = train_test_split(X, Y, test_size = 0.33, random_state = 5)\n",
    "\n",
    "# criando modelo\n",
    "model = LinearRegression()\n",
    "\n",
    "# treinando modelo\n",
    "model.fit(X_train, Y_train)\n",
    "\n",
    "# fazendo previsões\n",
    "Y_pred = model.predict(X_test)\n",
    "\n",
    "# resultado\n",
    "mse = mean_squared_error(Y_test, Y_pred)\n",
    "print(\"O MSE do modelo é: \", mse)\n",
    "\n",
    "# ############################################\n",
    "# RIDGE REGRESSION\n",
    "# Extenção para regressao linear, onde a loss funciotn (função de perda) é modificada para minimizar a complexidade do modelo\n",
    "\n",
    "from sklearn.linear_model import Ridge\n",
    "ridge_model = Ridge()\n",
    "\n",
    "# treinando modelo\n",
    "ridge_model.fit(X_train, Y_train)\n",
    "\n",
    "# fazendo previsões\n",
    "Y_pred_rigde = ridge_model.predict(X_test)\n",
    "\n",
    "# resultado\n",
    "mse = mean_squared_error(Y_test, Y_pred_rigde)\n",
    "print(\"O Ridge MSE do modelo é: \", mse)\n",
    "\n",
    "# ############################################\n",
    "# utilizando o KNN\n",
    "\n",
    "from sklearn.neighbors import KNeighborsRegressor\n",
    "knn_model = KNeighborsRegressor()\n",
    "\n",
    "# treinando modelo\n",
    "knn_model.fit(X_train, Y_train)\n",
    "\n",
    "# fazendo previsões\n",
    "Y_pred_knn = knn_model.predict(X_test)\n",
    "\n",
    "# resultado\n",
    "mse = mean_squared_error(Y_test, Y_pred_knn)\n",
    "print(\"O KNN MSE do modelo é: \", mse)\n",
    "\n",
    "# ############################################\n",
    "# utilizando o SVM\n",
    "\n",
    "from sklearn.svm import SVR\n",
    "svr_model = SVR()\n",
    "\n",
    "\n",
    "# treinando modelo\n",
    "svr_model.fit(X_train, Y_train)\n",
    "\n",
    "# fazendo previsões\n",
    "Y_pred_svr = svr_model.predict(X_test)\n",
    "\n",
    "# resultado\n",
    "mse = mean_squared_error(Y_test, Y_pred_svr)\n",
    "print(\"O SVM MSE do modelo é: \", mse)"
   ]
  },
  {
   "cell_type": "code",
   "execution_count": null,
   "metadata": {},
   "outputs": [],
   "source": [
    "\n"
   ]
  }
 ],
 "metadata": {
  "kernelspec": {
   "display_name": "Python 3",
   "language": "python",
   "name": "python3"
  },
  "language_info": {
   "codemirror_mode": {
    "name": "ipython",
    "version": 3
   },
   "file_extension": ".py",
   "mimetype": "text/x-python",
   "name": "python",
   "nbconvert_exporter": "python",
   "pygments_lexer": "ipython3",
   "version": "3.8.5"
  }
 },
 "nbformat": 4,
 "nbformat_minor": 4
}
