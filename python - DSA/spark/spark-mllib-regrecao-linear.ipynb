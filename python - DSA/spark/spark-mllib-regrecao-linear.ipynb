{
 "cells": [
  {
   "cell_type": "markdown",
   "id": "219df7b2",
   "metadata": {},
   "source": [
    "# Spark MLLIB Regressão linear"
   ]
  },
  {
   "cell_type": "markdown",
   "id": "30c75ab7",
   "metadata": {},
   "source": [
    " - Método para avaliar o relacionamento entre variaveis\n",
    " - Estima o valor de uma variável dependente a partir dos valores de variáveis independentes \n",
    " - Usado quando as variaveis dependentes e independentes são continuas possuem alguma correlação\n",
    " - O R-square mede o quao perdo os dados estão da loinha de regreção. O valor do R-quare será sempre entre 0 e 1, quanto maior o valor melhor.\n",
    " - Os dados de entreda e de saida são usados para construção do modelo. A equeção linear retorna os valores dos coeficientes\n",
    " - A equação linear representa o modelo\n",
    " \n",
    " ### Vantagens\n",
    " - baixo custo\n",
    " - veloz\n",
    " - Excelent para relações lineares\n",
    " \n",
    " ### Desvantagens\n",
    " - somente variáveis numéricas\n",
    " - sensivel a outliers\n",
    " \n",
    " ### Aplicação\n",
    " - Um dos modelos mais antigos e pode resolver varios problemas"
   ]
  },
  {
   "cell_type": "markdown",
   "id": "90fc0f14",
   "metadata": {},
   "source": [
    "## Exemplo irá prever os valores de milhas por galão MPG\n"
   ]
  },
  {
   "cell_type": "code",
   "execution_count": 1,
   "id": "5f5e2900",
   "metadata": {},
   "outputs": [],
   "source": [
    "# imports\n",
    "from pyspark.sql import Row\n",
    "from pyspark.ml.linalg import Vectors\n",
    "from pyspark.ml.regression import LinearRegression\n",
    "from pyspark.ml.evaluation import RegressionEvaluator"
   ]
  },
  {
   "cell_type": "code",
   "execution_count": 5,
   "id": "7cb35e24",
   "metadata": {},
   "outputs": [],
   "source": [
    "# criando spark session\n",
    "spSession = SparkSession.builder.master(\"local\").appName('Diego-SparkLib').getOrCreate()"
   ]
  },
  {
   "cell_type": "code",
   "execution_count": 4,
   "id": "c3a8ab01",
   "metadata": {},
   "outputs": [],
   "source": [
    "# carregando os dados e gerando um RDD\n",
    "carrosRDD = sc.textFile('5-Arquivos-Cap11/data/carros.csv')"
   ]
  },
  {
   "cell_type": "code",
   "execution_count": 6,
   "id": "5bc6bd00",
   "metadata": {},
   "outputs": [
    {
     "data": {
      "text/plain": [
       "5-Arquivos-Cap11/data/carros.csv MapPartitionsRDD[1] at textFile at NativeMethodAccessorImpl.java:0"
      ]
     },
     "execution_count": 6,
     "metadata": {},
     "output_type": "execute_result"
    }
   ],
   "source": [
    "# colocando os dados em um cache para otimizar a performance\n",
    "carrosRDD.cache()"
   ]
  },
  {
   "cell_type": "code",
   "execution_count": 7,
   "id": "13f0751f",
   "metadata": {},
   "outputs": [
    {
     "data": {
      "text/plain": [
       "399"
      ]
     },
     "execution_count": 7,
     "metadata": {},
     "output_type": "execute_result"
    }
   ],
   "source": [
    "carrosRDD.count()"
   ]
  },
  {
   "cell_type": "code",
   "execution_count": 8,
   "id": "aa0d4d0c",
   "metadata": {},
   "outputs": [
    {
     "data": {
      "text/plain": [
       "['MPG,CYLINDERS,DISPLACEMENT,HORSEPOWER,WEIGHT,ACCELERATION,MODELYEAR,NAME',\n",
       " '18,8,307,130,3504,12,70,chevrolet chevelle malibu',\n",
       " '15,8,350,165,3693,11.5,70,buick skylark 320',\n",
       " '18,8,318,150,3436,11,70,plymouth satellite',\n",
       " '16,8,304,150,3433,12,70,amc rebel sst']"
      ]
     },
     "execution_count": 8,
     "metadata": {},
     "output_type": "execute_result"
    }
   ],
   "source": [
    "carrosRDD.take(5)"
   ]
  },
  {
   "cell_type": "code",
   "execution_count": 10,
   "id": "2d7474f1",
   "metadata": {},
   "outputs": [
    {
     "data": {
      "text/plain": [
       "398"
      ]
     },
     "execution_count": 10,
     "metadata": {},
     "output_type": "execute_result"
    }
   ],
   "source": [
    "carrosRDD2 = carrosRDD.filter(lambda x: 'DISPLACEMENT' not in x)\n",
    "carrosRDD2.count()"
   ]
  },
  {
   "cell_type": "markdown",
   "id": "1378707e",
   "metadata": {},
   "source": [
    "### limpeza dos dados"
   ]
  },
  {
   "cell_type": "code",
   "execution_count": 28,
   "id": "7fccae64",
   "metadata": {},
   "outputs": [],
   "source": [
    "# criando um valor padrão para HP\n",
    "medianHP = sc.broadcast(75.0) # criando uma variavel ready only"
   ]
  },
  {
   "cell_type": "code",
   "execution_count": 35,
   "id": "731336bb",
   "metadata": {},
   "outputs": [],
   "source": [
    "# função para limpar os dados\n",
    "def limpaDados(dado):\n",
    "    global medianHP # pegando a variavel ready only\n",
    "    attList = dado.split(',') # quebrando os dados por linha\n",
    "    \n",
    "    hpValue = attList[3] #pegando a coluna de indice 3\n",
    "    if hpValue == \"?\":\n",
    "        hpValue = medianHP.value\n",
    "        \n",
    "    # criando um dataseta atravez da função ROW, limpando os dados e convertendo dados para float \n",
    "    linhas = Row(MPG = float(attList[0]), \n",
    "                 CYLINDERS = float(attList[1]), \n",
    "                 DISPLACEMENT = float(attList[2]), \n",
    "                 HORSEPOWER = float(hpValue), \n",
    "                 HWEIGHT = float(attList[4]), \n",
    "                 ACCELERATION = float(attList[5]),\n",
    "                 MODELYEAR = float(attList[6]), \n",
    "                 NAME = attList[7])\n",
    "    return linhas"
   ]
  },
  {
   "cell_type": "code",
   "execution_count": 36,
   "id": "ab98e4e2",
   "metadata": {},
   "outputs": [
    {
     "data": {
      "text/plain": [
       "[Row(MPG=18.0, CYLINDERS=8.0, DISPLACEMENT=307.0, HORSEPOWER=130.0, HWEIGHT=3504.0, ACCELERATION=12.0, MODELYEAR=70.0, NAME='chevrolet chevelle malibu'),\n",
       " Row(MPG=15.0, CYLINDERS=8.0, DISPLACEMENT=350.0, HORSEPOWER=165.0, HWEIGHT=3693.0, ACCELERATION=11.5, MODELYEAR=70.0, NAME='buick skylark 320'),\n",
       " Row(MPG=18.0, CYLINDERS=8.0, DISPLACEMENT=318.0, HORSEPOWER=150.0, HWEIGHT=3436.0, ACCELERATION=11.0, MODELYEAR=70.0, NAME='plymouth satellite'),\n",
       " Row(MPG=16.0, CYLINDERS=8.0, DISPLACEMENT=304.0, HORSEPOWER=150.0, HWEIGHT=3433.0, ACCELERATION=12.0, MODELYEAR=70.0, NAME='amc rebel sst'),\n",
       " Row(MPG=17.0, CYLINDERS=8.0, DISPLACEMENT=302.0, HORSEPOWER=140.0, HWEIGHT=3449.0, ACCELERATION=10.5, MODELYEAR=70.0, NAME='ford torino')]"
      ]
     },
     "execution_count": 36,
     "metadata": {},
     "output_type": "execute_result"
    }
   ],
   "source": [
    "#aplicando a funcao limpaDados\n",
    "carrosRDD3 = carrosRDD2.map(limpaDados)\n",
    "carrosRDD3.cache()\n",
    "carrosRDD3.take(5)"
   ]
  },
  {
   "cell_type": "markdown",
   "id": "381bb412",
   "metadata": {},
   "source": [
    "## Análise exploratória dos dados"
   ]
  },
  {
   "cell_type": "code",
   "execution_count": 37,
   "id": "dfa8aba0",
   "metadata": {},
   "outputs": [],
   "source": [
    "carrosDF = spSession.createDataFrame(carrosRDD3)"
   ]
  },
  {
   "cell_type": "code",
   "execution_count": 38,
   "id": "dc94135a",
   "metadata": {},
   "outputs": [
    {
     "data": {
      "text/plain": [
       "[Row(MPG=18.0, CYLINDERS=8.0, DISPLACEMENT=307.0, HORSEPOWER=130.0, HWEIGHT=3504.0, ACCELERATION=12.0, MODELYEAR=70.0, NAME='chevrolet chevelle malibu'),\n",
       " Row(MPG=15.0, CYLINDERS=8.0, DISPLACEMENT=350.0, HORSEPOWER=165.0, HWEIGHT=3693.0, ACCELERATION=11.5, MODELYEAR=70.0, NAME='buick skylark 320'),\n",
       " Row(MPG=18.0, CYLINDERS=8.0, DISPLACEMENT=318.0, HORSEPOWER=150.0, HWEIGHT=3436.0, ACCELERATION=11.0, MODELYEAR=70.0, NAME='plymouth satellite'),\n",
       " Row(MPG=16.0, CYLINDERS=8.0, DISPLACEMENT=304.0, HORSEPOWER=150.0, HWEIGHT=3433.0, ACCELERATION=12.0, MODELYEAR=70.0, NAME='amc rebel sst'),\n",
       " Row(MPG=17.0, CYLINDERS=8.0, DISPLACEMENT=302.0, HORSEPOWER=140.0, HWEIGHT=3449.0, ACCELERATION=10.5, MODELYEAR=70.0, NAME='ford torino')]"
      ]
     },
     "execution_count": 38,
     "metadata": {},
     "output_type": "execute_result"
    }
   ],
   "source": [
    "carrosDF.take(5)"
   ]
  },
  {
   "cell_type": "code",
   "execution_count": 39,
   "id": "4ee56644",
   "metadata": {},
   "outputs": [
    {
     "name": "stdout",
     "output_type": "stream",
     "text": [
      "+-------+-----------------+------------------+\n",
      "|summary|              MPG|         CYLINDERS|\n",
      "+-------+-----------------+------------------+\n",
      "|  count|              398|               398|\n",
      "|   mean|23.51457286432161| 5.454773869346734|\n",
      "| stddev|7.815984312565782|1.7010042445332125|\n",
      "|    min|              9.0|               3.0|\n",
      "|    max|             46.6|               8.0|\n",
      "+-------+-----------------+------------------+\n",
      "\n"
     ]
    }
   ],
   "source": [
    "# estatistica descritiva\n",
    "carrosDF.select('MPG','CYLINDERS').describe().show()"
   ]
  },
  {
   "cell_type": "code",
   "execution_count": 41,
   "id": "8584d0e9",
   "metadata": {},
   "outputs": [
    {
     "name": "stdout",
     "output_type": "stream",
     "text": [
      "Correlação entre a variável target MPG e a variavel  MPG 1.0\n",
      "Correlação entre a variável target MPG e a variavel  CYLINDERS -0.7753962854205548\n",
      "Correlação entre a variável target MPG e a variavel  DISPLACEMENT -0.8042028248058979\n",
      "Correlação entre a variável target MPG e a variavel  HORSEPOWER -0.7747041523498721\n",
      "Correlação entre a variável target MPG e a variavel  HWEIGHT -0.8317409332443347\n",
      "Correlação entre a variável target MPG e a variavel  ACCELERATION 0.4202889121016501\n",
      "Correlação entre a variável target MPG e a variavel  MODELYEAR 0.5792671330833091\n"
     ]
    }
   ],
   "source": [
    "# encontrando a correlação entre a variáveos\n",
    "for i in carrosDF.columns:\n",
    "    if not(isinstance(carrosDF.select(i).take(1)[0][0], str)):\n",
    "        print(\"Correlação entre a variável target MPG e a variavel \", i, carrosDF.stat.corr('MPG',i))"
   ]
  },
  {
   "cell_type": "markdown",
   "id": "b1884508",
   "metadata": {},
   "source": [
    "## Pré processamento dos dados\n",
    "\n",
    "Vetores esparsos são vetores que possuem muitos valores como 0. Enquanto que um vetor denso é quando a maioria dos valores do vetor são diferentes de 0\n",
    "Conceitualmente são o mesmo objeto, Apenas um vetor. Normalmente um vetor esparso é representado por uma tupla (id, valor). \n",
    "Por exemplo, um vetor denso (1,2,0,0,5,0,9,0,0) seria representado como esparso dessa forma (0,1,4,6),(1,2,5,9)"
   ]
  },
  {
   "cell_type": "code",
   "execution_count": 111,
   "id": "da35f8d0",
   "metadata": {},
   "outputs": [],
   "source": [
    "# convertend para um labeld point (target, vector[features])\n",
    "# removendo as colunas não relevantes para o modelo ou com baixa correlação\n",
    "def transformaVar(row):\n",
    "    obj = (row['MPG'], Vectors.dense([row['HORSEPOWER'], row['DISPLACEMENT'], row['HWEIGHT'], row['CYLINDERS']]))\n",
    "    return obj"
   ]
  },
  {
   "cell_type": "code",
   "execution_count": 112,
   "id": "85a66593",
   "metadata": {},
   "outputs": [
    {
     "name": "stdout",
     "output_type": "stream",
     "text": [
      "+-----+--------------------+\n",
      "|label|            features|\n",
      "+-----+--------------------+\n",
      "| 18.0|[130.0,307.0,3504...|\n",
      "| 15.0|[165.0,350.0,3693...|\n",
      "| 18.0|[150.0,318.0,3436...|\n",
      "| 16.0|[150.0,304.0,3433...|\n",
      "| 17.0|[140.0,302.0,3449...|\n",
      "| 15.0|[198.0,429.0,4341...|\n",
      "| 14.0|[220.0,454.0,4354...|\n",
      "| 14.0|[215.0,440.0,4312...|\n",
      "| 14.0|[225.0,455.0,4425...|\n",
      "| 15.0|[190.0,390.0,3850...|\n",
      "+-----+--------------------+\n",
      "only showing top 10 rows\n",
      "\n"
     ]
    }
   ],
   "source": [
    "# Utiliza o RDD, aplica a função, converte para dataframe e aplca a função select\n",
    "carrosRDD4 = carrosRDD3.map(transformaVar)\n",
    "carrosDF = spSession.createDataFrame(carrosRDD4,['label','features'])\n",
    "carrosDF.select('label','features').show(10)"
   ]
  },
  {
   "cell_type": "markdown",
   "id": "8cde3607",
   "metadata": {},
   "source": [
    "## Machine Learning"
   ]
  },
  {
   "cell_type": "code",
   "execution_count": 113,
   "id": "4c5d1016",
   "metadata": {},
   "outputs": [],
   "source": [
    "# dividindo em dado de treino e teste\n",
    "(dados_treino, dados_teste) = carrosDF.randomSplit([0.7,0.3])"
   ]
  },
  {
   "cell_type": "code",
   "execution_count": 114,
   "id": "f9f36419",
   "metadata": {},
   "outputs": [
    {
     "data": {
      "text/plain": [
       "288"
      ]
     },
     "execution_count": 114,
     "metadata": {},
     "output_type": "execute_result"
    }
   ],
   "source": [
    "dados_treino.count()"
   ]
  },
  {
   "cell_type": "code",
   "execution_count": 115,
   "id": "243bf541",
   "metadata": {},
   "outputs": [
    {
     "data": {
      "text/plain": [
       "110"
      ]
     },
     "execution_count": 115,
     "metadata": {},
     "output_type": "execute_result"
    }
   ],
   "source": [
    "dados_teste.count()"
   ]
  },
  {
   "cell_type": "code",
   "execution_count": 116,
   "id": "628c7e8f",
   "metadata": {},
   "outputs": [],
   "source": [
    "linearReg = LinearRegression(maxIter=10)\n",
    "modelo = linearReg.fit(dados_treino)"
   ]
  },
  {
   "cell_type": "code",
   "execution_count": 117,
   "id": "327e2dac",
   "metadata": {},
   "outputs": [
    {
     "name": "stdout",
     "output_type": "stream",
     "text": [
      "Coeficientes[-0.044004700223541825,0.0020292710398785514,-0.0052801063634036706,-0.516117219416024]\n",
      "Intercepto46.1810509835858\n"
     ]
    }
   ],
   "source": [
    "# imprimindo as metricas\n",
    "print('Coeficientes' + str(modelo.coefficients))\n",
    "print('Intercepto' + str(modelo.intercept))"
   ]
  },
  {
   "cell_type": "code",
   "execution_count": 118,
   "id": "8deb7993",
   "metadata": {},
   "outputs": [
    {
     "name": "stdout",
     "output_type": "stream",
     "text": [
      "+--------------------+------------------+\n",
      "|            features|        prediction|\n",
      "+--------------------+------------------+\n",
      "|[215.0,360.0,4615...| 8.953949387444446|\n",
      "|[160.0,350.0,4456...|12.193452101121657|\n",
      "|[225.0,455.0,4951...| 6.932567395893862|\n",
      "|[130.0,307.0,4098...|15.316612531211643|\n",
      "|[150.0,400.0,4464...| 12.69272180444377|\n",
      "|[158.0,351.0,4363...|12.774540664405158|\n",
      "|[175.0,350.0,4100...|13.413099463140234|\n",
      "|[137.0,302.0,4042...|15.294119230798064|\n",
      "|[140.0,302.0,4638...|12.015161737538854|\n",
      "|[150.0,318.0,4457...|12.563282323717551|\n",
      "|[175.0,400.0,4464...|11.592604298855228|\n",
      "|[225.0,455.0,4425...| 9.709903343044196|\n",
      "|[72.0,250.0,3158....| 23.74875111533549|\n",
      "|[150.0,318.0,3777...| 16.15375465083205|\n",
      "|[150.0,318.0,4135...|14.263476572733534|\n",
      "|[150.0,400.0,3761...|16.404636577916552|\n",
      "|[190.0,390.0,3850...|14.154226392233163|\n",
      "|[100.0,250.0,3781...| 19.22711324467583|\n",
      "|[150.0,318.0,4190...|13.973070722746336|\n",
      "|[100.0,250.0,3329...|21.613721320934292|\n",
      "+--------------------+------------------+\n",
      "only showing top 20 rows\n",
      "\n"
     ]
    }
   ],
   "source": [
    "predictions = modelo.transform(dados_teste)\n",
    "predictions.select('features','prediction').show()"
   ]
  },
  {
   "cell_type": "code",
   "execution_count": 119,
   "id": "90e6c9f6",
   "metadata": {},
   "outputs": [
    {
     "data": {
      "text/plain": [
       "0.7116182846692942"
      ]
     },
     "execution_count": 119,
     "metadata": {},
     "output_type": "execute_result"
    }
   ],
   "source": [
    "# coeficiente de determinação\n",
    "avaliador = RegressionEvaluator(predictionCol=\"prediction\",labelCol=\"label\", metricName=\"r2\")\n",
    "avaliador.evaluate(predictions)"
   ]
  },
  {
   "cell_type": "code",
   "execution_count": null,
   "id": "223afda8",
   "metadata": {},
   "outputs": [],
   "source": []
  }
 ],
 "metadata": {
  "kernelspec": {
   "display_name": "Python 3",
   "language": "python",
   "name": "python3"
  },
  "language_info": {
   "codemirror_mode": {
    "name": "ipython",
    "version": 3
   },
   "file_extension": ".py",
   "mimetype": "text/x-python",
   "name": "python",
   "nbconvert_exporter": "python",
   "pygments_lexer": "ipython3",
   "version": "3.8.5"
  }
 },
 "nbformat": 4,
 "nbformat_minor": 5
}
