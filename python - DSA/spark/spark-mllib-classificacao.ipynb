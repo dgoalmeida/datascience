{
 "cells": [
  {
   "cell_type": "markdown",
   "id": "f66e703e",
   "metadata": {},
   "source": [
    "## Spark MILIB - modelo de classificação com -Decision Tree\n",
    "\n",
    "Descrição\n",
    "\n",
    "- facil de compreender e facil de explicar\n",
    "- Variáveis preditoras são usadas para construir uma arvore que progressivamente preve valores target\n",
    "- Dados de treino são usados para construir uma arvore de decisao\n",
    "- as arvores de decisão se torna um modelo quye é usado para prever decisoes com novos dados"
   ]
  },
  {
   "cell_type": "markdown",
   "id": "17a4bb33",
   "metadata": {},
   "source": [
    "### Objetivo do estudo \n",
    "### classificar as espécies de flores listadas no dataset iris"
   ]
  },
  {
   "cell_type": "code",
   "execution_count": 26,
   "id": "1daa1421",
   "metadata": {},
   "outputs": [],
   "source": [
    "# imports\n",
    "from pyspark.sql import Row\n",
    "from pyspark.ml.feature import StringIndexer\n",
    "from pyspark.ml.linalg import Vectors\n",
    "from pyspark.ml.classification import DecisionTreeClassifier\n",
    "from pyspark.ml.evaluation import MulticlassClassificationEvaluator"
   ]
  },
  {
   "cell_type": "code",
   "execution_count": 2,
   "id": "b8771f9f",
   "metadata": {},
   "outputs": [],
   "source": [
    "# criando a sessao spark\n",
    "spSession = SparkSession.builder.master('local').appName('SparkMlLib').getOrCreate()"
   ]
  },
  {
   "cell_type": "code",
   "execution_count": 3,
   "id": "df3a9e6e",
   "metadata": {},
   "outputs": [],
   "source": [
    "# carregando dataset iris\n",
    "irisRDD = sc.textFile('5-Arquivos-Cap11/data/iris.csv')"
   ]
  },
  {
   "cell_type": "code",
   "execution_count": 5,
   "id": "601aa793",
   "metadata": {},
   "outputs": [
    {
     "data": {
      "text/plain": [
       "['Sepal.Length,Sepal.Width,Petal.Length,Petal.Width,Species',\n",
       " '5.1,3.5,1.4,0.2,setosa',\n",
       " '4.9,3,1.4,0.2,setosa',\n",
       " '4.7,3.2,1.3,0.2,setosa',\n",
       " '4.6,3.1,1.5,0.2,setosa']"
      ]
     },
     "execution_count": 5,
     "metadata": {},
     "output_type": "execute_result"
    }
   ],
   "source": [
    "irisRDD.take(5)"
   ]
  },
  {
   "cell_type": "code",
   "execution_count": 6,
   "id": "3df87cea",
   "metadata": {},
   "outputs": [
    {
     "data": {
      "text/plain": [
       "5-Arquivos-Cap11/data/iris.csv MapPartitionsRDD[1] at textFile at NativeMethodAccessorImpl.java:0"
      ]
     },
     "execution_count": 6,
     "metadata": {},
     "output_type": "execute_result"
    }
   ],
   "source": [
    "## colocando em um cache para otimizar a performance\n",
    "irisRDD.cache()"
   ]
  },
  {
   "cell_type": "code",
   "execution_count": 9,
   "id": "b39b42de",
   "metadata": {},
   "outputs": [
    {
     "data": {
      "text/plain": [
       "['5.1,3.5,1.4,0.2,setosa',\n",
       " '4.9,3,1.4,0.2,setosa',\n",
       " '4.7,3.2,1.3,0.2,setosa',\n",
       " '4.6,3.1,1.5,0.2,setosa',\n",
       " '5,3.6,1.4,0.2,setosa']"
      ]
     },
     "execution_count": 9,
     "metadata": {},
     "output_type": "execute_result"
    }
   ],
   "source": [
    "# removendo a primiera linha\n",
    "irisRDD2 = irisRDD.filter(lambda x: \"Sepal\" not in x)\n",
    "irisRDD2.cache()\n",
    "irisRDD2.take(5)"
   ]
  },
  {
   "cell_type": "markdown",
   "id": "15b34df9",
   "metadata": {},
   "source": [
    "Limpeza dos dados"
   ]
  },
  {
   "cell_type": "code",
   "execution_count": 10,
   "id": "9b1507c4",
   "metadata": {},
   "outputs": [],
   "source": [
    "irisRDD3 = irisRDD2.map(lambda x: x.split(','))"
   ]
  },
  {
   "cell_type": "code",
   "execution_count": 12,
   "id": "11370f82",
   "metadata": {},
   "outputs": [
    {
     "data": {
      "text/plain": [
       "[['5.1', '3.5', '1.4', '0.2', 'setosa'],\n",
       " ['4.9', '3', '1.4', '0.2', 'setosa'],\n",
       " ['4.7', '3.2', '1.3', '0.2', 'setosa'],\n",
       " ['4.6', '3.1', '1.5', '0.2', 'setosa'],\n",
       " ['5', '3.6', '1.4', '0.2', 'setosa']]"
      ]
     },
     "execution_count": 12,
     "metadata": {},
     "output_type": "execute_result"
    }
   ],
   "source": [
    "irisRDD3.take(5)"
   ]
  },
  {
   "cell_type": "code",
   "execution_count": 14,
   "id": "3bf3507b",
   "metadata": {},
   "outputs": [
    {
     "data": {
      "text/plain": [
       "[Row(SEPAL_LENGTH=5.1, SEPAL_WIDTH=3.5, PETAL_LENGTH=1.4, PETAL_WIDTH=0.2, SPECIES='setosa'),\n",
       " Row(SEPAL_LENGTH=4.9, SEPAL_WIDTH=3.0, PETAL_LENGTH=1.4, PETAL_WIDTH=0.2, SPECIES='setosa'),\n",
       " Row(SEPAL_LENGTH=4.7, SEPAL_WIDTH=3.2, PETAL_LENGTH=1.3, PETAL_WIDTH=0.2, SPECIES='setosa'),\n",
       " Row(SEPAL_LENGTH=4.6, SEPAL_WIDTH=3.1, PETAL_LENGTH=1.5, PETAL_WIDTH=0.2, SPECIES='setosa'),\n",
       " Row(SEPAL_LENGTH=5.0, SEPAL_WIDTH=3.6, PETAL_LENGTH=1.4, PETAL_WIDTH=0.2, SPECIES='setosa')]"
      ]
     },
     "execution_count": 14,
     "metadata": {},
     "output_type": "execute_result"
    }
   ],
   "source": [
    "irisRDD4 = irisRDD3.map(lambda x: Row(SEPAL_LENGTH=float(x[0]), SEPAL_WIDTH=float(x[1]),\n",
    "                                     PETAL_LENGTH=float(x[2]), PETAL_WIDTH=float(x[3]), SPECIES=x[4]))\n",
    "irisRDD4.take(5)"
   ]
  },
  {
   "cell_type": "code",
   "execution_count": 15,
   "id": "1c049f5a",
   "metadata": {},
   "outputs": [
    {
     "data": {
      "text/plain": [
       "[Row(SEPAL_LENGTH=5.1, SEPAL_WIDTH=3.5, PETAL_LENGTH=1.4, PETAL_WIDTH=0.2, SPECIES='setosa'),\n",
       " Row(SEPAL_LENGTH=4.9, SEPAL_WIDTH=3.0, PETAL_LENGTH=1.4, PETAL_WIDTH=0.2, SPECIES='setosa'),\n",
       " Row(SEPAL_LENGTH=4.7, SEPAL_WIDTH=3.2, PETAL_LENGTH=1.3, PETAL_WIDTH=0.2, SPECIES='setosa'),\n",
       " Row(SEPAL_LENGTH=4.6, SEPAL_WIDTH=3.1, PETAL_LENGTH=1.5, PETAL_WIDTH=0.2, SPECIES='setosa'),\n",
       " Row(SEPAL_LENGTH=5.0, SEPAL_WIDTH=3.6, PETAL_LENGTH=1.4, PETAL_WIDTH=0.2, SPECIES='setosa')]"
      ]
     },
     "execution_count": 15,
     "metadata": {},
     "output_type": "execute_result"
    }
   ],
   "source": [
    "# criando dataframe\n",
    "irisDF = spSession.createDataFrame(irisRDD4)\n",
    "irisDF.head(5)"
   ]
  },
  {
   "cell_type": "code",
   "execution_count": 16,
   "id": "cdf5aba1",
   "metadata": {},
   "outputs": [
    {
     "data": {
      "text/plain": [
       "DataFrame[SEPAL_LENGTH: double, SEPAL_WIDTH: double, PETAL_LENGTH: double, PETAL_WIDTH: double, SPECIES: string]"
      ]
     },
     "execution_count": 16,
     "metadata": {},
     "output_type": "execute_result"
    }
   ],
   "source": [
    "irisDF.cache()"
   ]
  },
  {
   "cell_type": "code",
   "execution_count": 17,
   "id": "04c5fd17",
   "metadata": {},
   "outputs": [],
   "source": [
    "# criando indice numérico para species\n",
    "stringIndice = StringIndexer(inputCol='SPECIES', outputCol='IDX_SPECIES')\n",
    "si_model = stringIndice.fit(irisDF)\n",
    "irisNormDF = si_model.transform(irisDF)"
   ]
  },
  {
   "cell_type": "code",
   "execution_count": 20,
   "id": "d779e36d",
   "metadata": {},
   "outputs": [
    {
     "data": {
      "text/plain": [
       "[Row(SPECIES='setosa', IDX_SPECIES=0.0),\n",
       " Row(SPECIES='virginica', IDX_SPECIES=2.0),\n",
       " Row(SPECIES='versicolor', IDX_SPECIES=1.0)]"
      ]
     },
     "execution_count": 20,
     "metadata": {},
     "output_type": "execute_result"
    }
   ],
   "source": [
    "irisNormDF.select('SPECIES','IDX_SPECIES').distinct().collect()"
   ]
  },
  {
   "cell_type": "markdown",
   "id": "53aef653",
   "metadata": {},
   "source": [
    "### Análise exploratória"
   ]
  },
  {
   "cell_type": "code",
   "execution_count": 23,
   "id": "ca1f72b2",
   "metadata": {},
   "outputs": [
    {
     "name": "stdout",
     "output_type": "stream",
     "text": [
      "+-------+------------------+------------------+------------------+------------------+---------+------------------+\n",
      "|summary|      SEPAL_LENGTH|       SEPAL_WIDTH|      PETAL_LENGTH|       PETAL_WIDTH|  SPECIES|       IDX_SPECIES|\n",
      "+-------+------------------+------------------+------------------+------------------+---------+------------------+\n",
      "|  count|               150|               150|               150|               150|      150|               150|\n",
      "|   mean| 5.843333333333332|3.0573333333333337| 3.758000000000001|1.1993333333333331|     null|               1.0|\n",
      "| stddev|0.8280661279778634|0.4358662849366978|1.7652982332594662|0.7622376689603467|     null|0.8192319205190406|\n",
      "|    min|               4.3|               2.0|               1.0|               0.1|   setosa|               0.0|\n",
      "|    max|               7.9|               4.4|               6.9|               2.5|virginica|               2.0|\n",
      "+-------+------------------+------------------+------------------+------------------+---------+------------------+\n",
      "\n"
     ]
    }
   ],
   "source": [
    "irisNormDF.describe().show()"
   ]
  },
  {
   "cell_type": "code",
   "execution_count": 25,
   "id": "1e0a4581",
   "metadata": {},
   "outputs": [
    {
     "name": "stdout",
     "output_type": "stream",
     "text": [
      "Correlação entre a variável target SPECIES e a variavel  SEPAL_LENGTH 0.7825612318100814\n",
      "Correlação entre a variável target SPECIES e a variavel  SEPAL_WIDTH -0.4266575607811232\n",
      "Correlação entre a variável target SPECIES e a variavel  PETAL_LENGTH 0.9490346990083887\n",
      "Correlação entre a variável target SPECIES e a variavel  PETAL_WIDTH 0.9565473328764027\n",
      "Correlação entre a variável target SPECIES e a variavel  IDX_SPECIES 1.0\n"
     ]
    }
   ],
   "source": [
    "# encontrando a correlação entre a variáveos\n",
    "for i in irisNormDF.columns:\n",
    "    if not(isinstance(irisNormDF.select(i).take(1)[0][0], str)):\n",
    "        print(\"Correlação entre a variável target SPECIES e a variavel \", i, irisNormDF.stat.corr('IDX_SPECIES',i))"
   ]
  },
  {
   "cell_type": "markdown",
   "id": "ff961428",
   "metadata": {},
   "source": [
    "## Pré processamento dos dados"
   ]
  },
  {
   "cell_type": "code",
   "execution_count": 34,
   "id": "4edd8591",
   "metadata": {},
   "outputs": [],
   "source": [
    "# Criando um LabeledPOint (target, (Vector[features]))\n",
    "\n",
    "def transformaVar(row):\n",
    "    obj = (row['SPECIES'], row['IDX_SPECIES'], Vectors.dense([row['SEPAL_LENGTH'],row['SEPAL_WIDTH'],\n",
    "                                                              row['PETAL_LENGTH'], row['PETAL_WIDTH']]))\n",
    "    return obj"
   ]
  },
  {
   "cell_type": "code",
   "execution_count": 35,
   "id": "47019e0e",
   "metadata": {},
   "outputs": [],
   "source": [
    "irisRDD5 = irisNormDF.rdd.map(transformaVar)"
   ]
  },
  {
   "cell_type": "code",
   "execution_count": 36,
   "id": "43b6b245",
   "metadata": {},
   "outputs": [
    {
     "data": {
      "text/plain": [
       "[('setosa', 0.0, DenseVector([5.1, 3.5, 1.4, 0.2])),\n",
       " ('setosa', 0.0, DenseVector([4.9, 3.0, 1.4, 0.2])),\n",
       " ('setosa', 0.0, DenseVector([4.7, 3.2, 1.3, 0.2])),\n",
       " ('setosa', 0.0, DenseVector([4.6, 3.1, 1.5, 0.2])),\n",
       " ('setosa', 0.0, DenseVector([5.0, 3.6, 1.4, 0.2]))]"
      ]
     },
     "execution_count": 36,
     "metadata": {},
     "output_type": "execute_result"
    }
   ],
   "source": [
    "irisRDD5.take(5)"
   ]
  },
  {
   "cell_type": "code",
   "execution_count": 39,
   "id": "ef9ad84f",
   "metadata": {},
   "outputs": [],
   "source": [
    "irisDF = spSession.createDataFrame(irisRDD5,['species','label','features'])\n"
   ]
  },
  {
   "cell_type": "code",
   "execution_count": 40,
   "id": "f9f6f0c4",
   "metadata": {},
   "outputs": [
    {
     "name": "stdout",
     "output_type": "stream",
     "text": [
      "+----------+-----+-----------------+\n",
      "|   species|label|         features|\n",
      "+----------+-----+-----------------+\n",
      "|    setosa|  0.0|[4.6,3.6,1.0,0.2]|\n",
      "| virginica|  2.0|[6.3,2.8,5.1,1.5]|\n",
      "| virginica|  2.0|[6.3,3.3,6.0,2.5]|\n",
      "|versicolor|  1.0|[6.0,2.9,4.5,1.5]|\n",
      "|    setosa|  0.0|[4.4,3.0,1.3,0.2]|\n",
      "|    setosa|  0.0|[4.3,3.0,1.1,0.1]|\n",
      "|versicolor|  1.0|[5.9,3.2,4.8,1.8]|\n",
      "|    setosa|  0.0|[5.1,3.5,1.4,0.2]|\n",
      "|versicolor|  1.0|[6.8,2.8,4.8,1.4]|\n",
      "| virginica|  2.0|[6.7,3.0,5.2,2.3]|\n",
      "|versicolor|  1.0|[5.7,2.6,3.5,1.0]|\n",
      "|versicolor|  1.0|[5.5,2.4,3.7,1.0]|\n",
      "| virginica|  2.0|[6.4,3.1,5.5,1.8]|\n",
      "|    setosa|  0.0|[4.8,3.1,1.6,0.2]|\n",
      "|versicolor|  1.0|[5.6,2.9,3.6,1.3]|\n",
      "|versicolor|  1.0|[6.6,3.0,4.4,1.4]|\n",
      "| virginica|  2.0|[6.8,3.0,5.5,2.1]|\n",
      "| virginica|  2.0|[7.7,2.8,6.7,2.0]|\n",
      "|    setosa|  0.0|[4.9,3.0,1.4,0.2]|\n",
      "| virginica|  2.0|[5.7,2.5,5.0,2.0]|\n",
      "+----------+-----+-----------------+\n",
      "only showing top 20 rows\n",
      "\n"
     ]
    }
   ],
   "source": [
    "irisDF.select('species','label','features').distinct().show()"
   ]
  },
  {
   "cell_type": "code",
   "execution_count": 41,
   "id": "e3ce941f",
   "metadata": {},
   "outputs": [
    {
     "data": {
      "text/plain": [
       "DataFrame[species: string, label: double, features: vector]"
      ]
     },
     "execution_count": 41,
     "metadata": {},
     "output_type": "execute_result"
    }
   ],
   "source": [
    "irisDF.cache()"
   ]
  },
  {
   "cell_type": "markdown",
   "id": "c39ec929",
   "metadata": {},
   "source": [
    "## Machine Learning"
   ]
  },
  {
   "cell_type": "code",
   "execution_count": 43,
   "id": "a46d112e",
   "metadata": {},
   "outputs": [],
   "source": [
    "(dados_treino, dados_teste) = irisDF.randomSplit([0.7,0.3])"
   ]
  },
  {
   "cell_type": "code",
   "execution_count": 44,
   "id": "5f87c8dc",
   "metadata": {},
   "outputs": [],
   "source": [
    "# maxdepth = 2 numero de nós na arvore de decisao\n",
    "dfClassificer = DecisionTreeClassifier(maxDepth=2, labelCol='label', featuresCol='features')\n",
    "modelo = dfClassificer.fit(dados_treino)"
   ]
  },
  {
   "cell_type": "code",
   "execution_count": 45,
   "id": "4efc6b6e",
   "metadata": {},
   "outputs": [
    {
     "data": {
      "text/plain": [
       "5"
      ]
     },
     "execution_count": 45,
     "metadata": {},
     "output_type": "execute_result"
    }
   ],
   "source": [
    "modelo.numNodes"
   ]
  },
  {
   "cell_type": "code",
   "execution_count": 46,
   "id": "ff84aaca",
   "metadata": {},
   "outputs": [
    {
     "data": {
      "text/plain": [
       "2"
      ]
     },
     "execution_count": 46,
     "metadata": {},
     "output_type": "execute_result"
    }
   ],
   "source": [
    "modelo.depth"
   ]
  },
  {
   "cell_type": "code",
   "execution_count": 47,
   "id": "1b04baa6",
   "metadata": {},
   "outputs": [],
   "source": [
    "previsoes = modelo.transform(dados_teste)"
   ]
  },
  {
   "cell_type": "code",
   "execution_count": 48,
   "id": "c3528b6e",
   "metadata": {},
   "outputs": [
    {
     "data": {
      "text/plain": [
       "[Row(prediction=0.0, species='setosa', label=0.0),\n",
       " Row(prediction=0.0, species='setosa', label=0.0),\n",
       " Row(prediction=0.0, species='setosa', label=0.0),\n",
       " Row(prediction=0.0, species='setosa', label=0.0),\n",
       " Row(prediction=0.0, species='setosa', label=0.0),\n",
       " Row(prediction=0.0, species='setosa', label=0.0),\n",
       " Row(prediction=0.0, species='setosa', label=0.0),\n",
       " Row(prediction=0.0, species='setosa', label=0.0),\n",
       " Row(prediction=0.0, species='setosa', label=0.0),\n",
       " Row(prediction=0.0, species='setosa', label=0.0),\n",
       " Row(prediction=0.0, species='setosa', label=0.0),\n",
       " Row(prediction=0.0, species='setosa', label=0.0),\n",
       " Row(prediction=0.0, species='setosa', label=0.0),\n",
       " Row(prediction=0.0, species='setosa', label=0.0),\n",
       " Row(prediction=1.0, species='versicolor', label=1.0),\n",
       " Row(prediction=1.0, species='versicolor', label=1.0),\n",
       " Row(prediction=1.0, species='versicolor', label=1.0),\n",
       " Row(prediction=1.0, species='versicolor', label=1.0),\n",
       " Row(prediction=1.0, species='versicolor', label=1.0),\n",
       " Row(prediction=2.0, species='versicolor', label=1.0),\n",
       " Row(prediction=1.0, species='versicolor', label=1.0),\n",
       " Row(prediction=2.0, species='versicolor', label=1.0),\n",
       " Row(prediction=1.0, species='versicolor', label=1.0),\n",
       " Row(prediction=1.0, species='versicolor', label=1.0),\n",
       " Row(prediction=1.0, species='versicolor', label=1.0),\n",
       " Row(prediction=1.0, species='versicolor', label=1.0),\n",
       " Row(prediction=1.0, species='versicolor', label=1.0),\n",
       " Row(prediction=1.0, species='versicolor', label=1.0),\n",
       " Row(prediction=1.0, species='versicolor', label=1.0),\n",
       " Row(prediction=1.0, species='versicolor', label=1.0),\n",
       " Row(prediction=2.0, species='virginica', label=2.0),\n",
       " Row(prediction=2.0, species='virginica', label=2.0),\n",
       " Row(prediction=2.0, species='virginica', label=2.0),\n",
       " Row(prediction=2.0, species='virginica', label=2.0),\n",
       " Row(prediction=2.0, species='virginica', label=2.0),\n",
       " Row(prediction=2.0, species='virginica', label=2.0),\n",
       " Row(prediction=2.0, species='virginica', label=2.0),\n",
       " Row(prediction=2.0, species='virginica', label=2.0),\n",
       " Row(prediction=2.0, species='virginica', label=2.0)]"
      ]
     },
     "execution_count": 48,
     "metadata": {},
     "output_type": "execute_result"
    }
   ],
   "source": [
    "previsoes.select('prediction','species','label').collect()"
   ]
  },
  {
   "cell_type": "code",
   "execution_count": 49,
   "id": "03517d44",
   "metadata": {},
   "outputs": [
    {
     "data": {
      "text/plain": [
       "0.9487179487179487"
      ]
     },
     "execution_count": 49,
     "metadata": {},
     "output_type": "execute_result"
    }
   ],
   "source": [
    "avaliador = MulticlassClassificationEvaluator(predictionCol='prediction',labelCol='label',metricName='accuracy')\n",
    "avaliador.evaluate(previsoes)"
   ]
  },
  {
   "cell_type": "code",
   "execution_count": 50,
   "id": "82d4e245",
   "metadata": {},
   "outputs": [
    {
     "name": "stdout",
     "output_type": "stream",
     "text": [
      "+-----+----------+-----+\n",
      "|label|prediction|count|\n",
      "+-----+----------+-----+\n",
      "|  1.0|       1.0|   14|\n",
      "|  2.0|       2.0|    9|\n",
      "|  1.0|       2.0|    2|\n",
      "|  0.0|       0.0|   14|\n",
      "+-----+----------+-----+\n",
      "\n"
     ]
    }
   ],
   "source": [
    "previsoes.groupBy('label','prediction').count().show()"
   ]
  },
  {
   "cell_type": "code",
   "execution_count": null,
   "id": "735c0f71",
   "metadata": {},
   "outputs": [],
   "source": []
  }
 ],
 "metadata": {
  "kernelspec": {
   "display_name": "Python 3",
   "language": "python",
   "name": "python3"
  },
  "language_info": {
   "codemirror_mode": {
    "name": "ipython",
    "version": 3
   },
   "file_extension": ".py",
   "mimetype": "text/x-python",
   "name": "python",
   "nbconvert_exporter": "python",
   "pygments_lexer": "ipython3",
   "version": "3.8.5"
  }
 },
 "nbformat": 4,
 "nbformat_minor": 5
}
