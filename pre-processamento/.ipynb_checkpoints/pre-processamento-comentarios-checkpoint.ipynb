{
 "cells": [
  {
   "cell_type": "code",
   "execution_count": 115,
   "metadata": {},
   "outputs": [],
   "source": [
    "import pandas as pd\n",
    "import numpy as np"
   ]
  },
  {
   "cell_type": "code",
   "execution_count": 4,
   "metadata": {},
   "outputs": [],
   "source": [
    "# importando dados dos csvs\n",
    "dfc0 = pd.read_csv('../../../data/COMENTARIOS_0.csv')\n",
    "dfc1 = pd.read_csv('../../../data/COMENTARIOS_1.csv')"
   ]
  },
  {
   "cell_type": "code",
   "execution_count": 5,
   "metadata": {},
   "outputs": [],
   "source": [
    "# concatenando os dataframes em um só \n",
    "dfcomentarios = pd.DataFrame()\n",
    "dfcomentarios = pd.concat([dfc0,dfc1], axis=0)"
   ]
  },
  {
   "cell_type": "code",
   "execution_count": 6,
   "metadata": {},
   "outputs": [],
   "source": [
    "# Removendo outliers pela media dos valores fora do outlier\n",
    "dfcomentarios['score'] = np.where(dfcomentarios['score'] >= dfcomentarios['score'].quantile(0.999999),\n",
    "                                 dfcomentarios[dfcomentarios['score'] < dfcomentarios['score'].quantile(0.999999)]['score'].mean(),\n",
    "                                 dfcomentarios['score'])"
   ]
  },
  {
   "cell_type": "code",
   "execution_count": 7,
   "metadata": {},
   "outputs": [],
   "source": [
    "# removendo valor null por N/A\n",
    "dfcomentarios['subreddit'].fillna(value='N/A', inplace=True)"
   ]
  },
  {
   "cell_type": "code",
   "execution_count": 8,
   "metadata": {},
   "outputs": [
    {
     "data": {
      "text/html": [
       "<div>\n",
       "<style scoped>\n",
       "    .dataframe tbody tr th:only-of-type {\n",
       "        vertical-align: middle;\n",
       "    }\n",
       "\n",
       "    .dataframe tbody tr th {\n",
       "        vertical-align: top;\n",
       "    }\n",
       "\n",
       "    .dataframe thead th {\n",
       "        text-align: right;\n",
       "    }\n",
       "</style>\n",
       "<table border=\"1\" class=\"dataframe\">\n",
       "  <thead>\n",
       "    <tr style=\"text-align: right;\">\n",
       "      <th></th>\n",
       "      <th>label</th>\n",
       "      <th>comment</th>\n",
       "      <th>author</th>\n",
       "      <th>subreddit</th>\n",
       "      <th>score</th>\n",
       "      <th>date</th>\n",
       "      <th>parent_comment</th>\n",
       "    </tr>\n",
       "  </thead>\n",
       "  <tbody>\n",
       "    <tr>\n",
       "      <th>234</th>\n",
       "      <td>0</td>\n",
       "      <td>You on kazoo</td>\n",
       "      <td>georgej14</td>\n",
       "      <td>N/A</td>\n",
       "      <td>1.0</td>\n",
       "      <td>2016-09</td>\n",
       "      <td>All on recorders and kazoos, though</td>\n",
       "    </tr>\n",
       "    <tr>\n",
       "      <th>270</th>\n",
       "      <td>0</td>\n",
       "      <td>You can put your weed in there</td>\n",
       "      <td>k0mbine</td>\n",
       "      <td>N/A</td>\n",
       "      <td>0.0</td>\n",
       "      <td>2016-11</td>\n",
       "      <td>Watermelon Death Star carved by my dad!</td>\n",
       "    </tr>\n",
       "    <tr>\n",
       "      <th>300</th>\n",
       "      <td>0</td>\n",
       "      <td>What a great Patrick Kane Review.</td>\n",
       "      <td>iankilledyou</td>\n",
       "      <td>N/A</td>\n",
       "      <td>11.0</td>\n",
       "      <td>2016-12</td>\n",
       "      <td>Patrick kane review buying a base card kaner, ...</td>\n",
       "    </tr>\n",
       "  </tbody>\n",
       "</table>\n",
       "</div>"
      ],
      "text/plain": [
       "     label                            comment        author subreddit  score  \\\n",
       "234      0                       You on kazoo     georgej14       N/A    1.0   \n",
       "270      0     You can put your weed in there       k0mbine       N/A    0.0   \n",
       "300      0  What a great Patrick Kane Review.  iankilledyou       N/A   11.0   \n",
       "\n",
       "        date                                     parent_comment  \n",
       "234  2016-09                All on recorders and kazoos, though  \n",
       "270  2016-11            Watermelon Death Star carved by my dad!  \n",
       "300  2016-12  Patrick kane review buying a base card kaner, ...  "
      ]
     },
     "execution_count": 8,
     "metadata": {},
     "output_type": "execute_result"
    }
   ],
   "source": [
    "dfcomentarios[dfcomentarios['subreddit'] == 'N/A']"
   ]
  },
  {
   "cell_type": "code",
   "execution_count": 9,
   "metadata": {},
   "outputs": [],
   "source": [
    "# removendo valor null pela media\n",
    "dfcomentarios['score'].fillna(value=dfcomentarios['score'].mean(), inplace=True)"
   ]
  },
  {
   "cell_type": "code",
   "execution_count": 10,
   "metadata": {},
   "outputs": [],
   "source": [
    "# criando nova coluna comment_wcount contendo o quantidade de palavras contidas na variável comment;\n",
    "dfcomentarios['comment_wcount'] = dfcomentarios['comment'].str.split().str.len()"
   ]
  },
  {
   "cell_type": "code",
   "execution_count": 11,
   "metadata": {},
   "outputs": [],
   "source": [
    "# criando nova coluna parent_comment_wcount contendo quantidade de palavras contidas na variável parent_comment;\n",
    "dfcomentarios['parent_comment_wcount'] = dfcomentarios['parent_comment'].str.split().str.len()"
   ]
  },
  {
   "cell_type": "code",
   "execution_count": 12,
   "metadata": {},
   "outputs": [
    {
     "data": {
      "text/html": [
       "<div>\n",
       "<style scoped>\n",
       "    .dataframe tbody tr th:only-of-type {\n",
       "        vertical-align: middle;\n",
       "    }\n",
       "\n",
       "    .dataframe tbody tr th {\n",
       "        vertical-align: top;\n",
       "    }\n",
       "\n",
       "    .dataframe thead th {\n",
       "        text-align: right;\n",
       "    }\n",
       "</style>\n",
       "<table border=\"1\" class=\"dataframe\">\n",
       "  <thead>\n",
       "    <tr style=\"text-align: right;\">\n",
       "      <th></th>\n",
       "      <th>label</th>\n",
       "      <th>comment</th>\n",
       "      <th>author</th>\n",
       "      <th>subreddit</th>\n",
       "      <th>score</th>\n",
       "      <th>date</th>\n",
       "      <th>parent_comment</th>\n",
       "      <th>comment_wcount</th>\n",
       "      <th>parent_comment_wcount</th>\n",
       "      <th>comment_char</th>\n",
       "    </tr>\n",
       "  </thead>\n",
       "  <tbody>\n",
       "    <tr>\n",
       "      <th>0</th>\n",
       "      <td>0</td>\n",
       "      <td>NC and NH.</td>\n",
       "      <td>Trumpbart</td>\n",
       "      <td>politics</td>\n",
       "      <td>2.0</td>\n",
       "      <td>2016-10</td>\n",
       "      <td>Yeah, I get that argument. At this point, I'd ...</td>\n",
       "      <td>3.0</td>\n",
       "      <td>17</td>\n",
       "      <td>10</td>\n",
       "    </tr>\n",
       "    <tr>\n",
       "      <th>1</th>\n",
       "      <td>0</td>\n",
       "      <td>You do know west teams play against west teams...</td>\n",
       "      <td>Shbshb906</td>\n",
       "      <td>nba</td>\n",
       "      <td>-4.0</td>\n",
       "      <td>2016-11</td>\n",
       "      <td>The blazers and Mavericks (The wests 5 and 6 s...</td>\n",
       "      <td>14.0</td>\n",
       "      <td>27</td>\n",
       "      <td>74</td>\n",
       "    </tr>\n",
       "    <tr>\n",
       "      <th>2</th>\n",
       "      <td>0</td>\n",
       "      <td>They were underdogs earlier today, but since G...</td>\n",
       "      <td>Creepeth</td>\n",
       "      <td>nfl</td>\n",
       "      <td>3.0</td>\n",
       "      <td>2016-09</td>\n",
       "      <td>They're favored to win.</td>\n",
       "      <td>19.0</td>\n",
       "      <td>4</td>\n",
       "      <td>121</td>\n",
       "    </tr>\n",
       "    <tr>\n",
       "      <th>3</th>\n",
       "      <td>0</td>\n",
       "      <td>This meme isn't funny none of the \"new york ni...</td>\n",
       "      <td>icebrotha</td>\n",
       "      <td>BlackPeopleTwitter</td>\n",
       "      <td>-8.0</td>\n",
       "      <td>2016-10</td>\n",
       "      <td>deadass don't kill my buzz</td>\n",
       "      <td>12.0</td>\n",
       "      <td>5</td>\n",
       "      <td>60</td>\n",
       "    </tr>\n",
       "    <tr>\n",
       "      <th>4</th>\n",
       "      <td>0</td>\n",
       "      <td>I could use one of those tools.</td>\n",
       "      <td>cush2push</td>\n",
       "      <td>MaddenUltimateTeam</td>\n",
       "      <td>6.0</td>\n",
       "      <td>2016-12</td>\n",
       "      <td>Yep can confirm I saw the tool they use for th...</td>\n",
       "      <td>7.0</td>\n",
       "      <td>18</td>\n",
       "      <td>31</td>\n",
       "    </tr>\n",
       "  </tbody>\n",
       "</table>\n",
       "</div>"
      ],
      "text/plain": [
       "   label                                            comment     author  \\\n",
       "0      0                                         NC and NH.  Trumpbart   \n",
       "1      0  You do know west teams play against west teams...  Shbshb906   \n",
       "2      0  They were underdogs earlier today, but since G...   Creepeth   \n",
       "3      0  This meme isn't funny none of the \"new york ni...  icebrotha   \n",
       "4      0                    I could use one of those tools.  cush2push   \n",
       "\n",
       "            subreddit  score     date  \\\n",
       "0            politics    2.0  2016-10   \n",
       "1                 nba   -4.0  2016-11   \n",
       "2                 nfl    3.0  2016-09   \n",
       "3  BlackPeopleTwitter   -8.0  2016-10   \n",
       "4  MaddenUltimateTeam    6.0  2016-12   \n",
       "\n",
       "                                      parent_comment  comment_wcount  \\\n",
       "0  Yeah, I get that argument. At this point, I'd ...             3.0   \n",
       "1  The blazers and Mavericks (The wests 5 and 6 s...            14.0   \n",
       "2                            They're favored to win.            19.0   \n",
       "3                         deadass don't kill my buzz            12.0   \n",
       "4  Yep can confirm I saw the tool they use for th...             7.0   \n",
       "\n",
       "   parent_comment_wcount  comment_char  \n",
       "0                     17            10  \n",
       "1                     27            74  \n",
       "2                      4           121  \n",
       "3                      5            60  \n",
       "4                     18            31  "
      ]
     },
     "execution_count": 12,
     "metadata": {},
     "output_type": "execute_result"
    }
   ],
   "source": [
    "# criando nova coluna comment_char contendo quantidade de caracteres contidas na variável comment;\n",
    "dfcomentarios['comment'] = dfcomentarios['comment'].astype(str)\n",
    "dfcomentarios['comment_char'] = dfcomentarios['comment'].apply(len)\n",
    "dfcomentarios.head()"
   ]
  },
  {
   "cell_type": "code",
   "execution_count": 13,
   "metadata": {
    "scrolled": true
   },
   "outputs": [
    {
     "data": {
      "text/html": [
       "<div>\n",
       "<style scoped>\n",
       "    .dataframe tbody tr th:only-of-type {\n",
       "        vertical-align: middle;\n",
       "    }\n",
       "\n",
       "    .dataframe tbody tr th {\n",
       "        vertical-align: top;\n",
       "    }\n",
       "\n",
       "    .dataframe thead th {\n",
       "        text-align: right;\n",
       "    }\n",
       "</style>\n",
       "<table border=\"1\" class=\"dataframe\">\n",
       "  <thead>\n",
       "    <tr style=\"text-align: right;\">\n",
       "      <th></th>\n",
       "      <th>label</th>\n",
       "      <th>comment</th>\n",
       "      <th>author</th>\n",
       "      <th>subreddit</th>\n",
       "      <th>score</th>\n",
       "      <th>date</th>\n",
       "      <th>parent_comment</th>\n",
       "      <th>comment_wcount</th>\n",
       "      <th>parent_comment_wcount</th>\n",
       "      <th>comment_char</th>\n",
       "      <th>parent_comment_char</th>\n",
       "    </tr>\n",
       "  </thead>\n",
       "  <tbody>\n",
       "    <tr>\n",
       "      <th>0</th>\n",
       "      <td>0</td>\n",
       "      <td>NC and NH.</td>\n",
       "      <td>Trumpbart</td>\n",
       "      <td>politics</td>\n",
       "      <td>2.0</td>\n",
       "      <td>2016-10</td>\n",
       "      <td>Yeah, I get that argument. At this point, I'd ...</td>\n",
       "      <td>3.0</td>\n",
       "      <td>17</td>\n",
       "      <td>10</td>\n",
       "      <td>80</td>\n",
       "    </tr>\n",
       "    <tr>\n",
       "      <th>1</th>\n",
       "      <td>0</td>\n",
       "      <td>You do know west teams play against west teams...</td>\n",
       "      <td>Shbshb906</td>\n",
       "      <td>nba</td>\n",
       "      <td>-4.0</td>\n",
       "      <td>2016-11</td>\n",
       "      <td>The blazers and Mavericks (The wests 5 and 6 s...</td>\n",
       "      <td>14.0</td>\n",
       "      <td>27</td>\n",
       "      <td>74</td>\n",
       "      <td>134</td>\n",
       "    </tr>\n",
       "    <tr>\n",
       "      <th>2</th>\n",
       "      <td>0</td>\n",
       "      <td>They were underdogs earlier today, but since G...</td>\n",
       "      <td>Creepeth</td>\n",
       "      <td>nfl</td>\n",
       "      <td>3.0</td>\n",
       "      <td>2016-09</td>\n",
       "      <td>They're favored to win.</td>\n",
       "      <td>19.0</td>\n",
       "      <td>4</td>\n",
       "      <td>121</td>\n",
       "      <td>23</td>\n",
       "    </tr>\n",
       "    <tr>\n",
       "      <th>3</th>\n",
       "      <td>0</td>\n",
       "      <td>This meme isn't funny none of the \"new york ni...</td>\n",
       "      <td>icebrotha</td>\n",
       "      <td>BlackPeopleTwitter</td>\n",
       "      <td>-8.0</td>\n",
       "      <td>2016-10</td>\n",
       "      <td>deadass don't kill my buzz</td>\n",
       "      <td>12.0</td>\n",
       "      <td>5</td>\n",
       "      <td>60</td>\n",
       "      <td>26</td>\n",
       "    </tr>\n",
       "    <tr>\n",
       "      <th>4</th>\n",
       "      <td>0</td>\n",
       "      <td>I could use one of those tools.</td>\n",
       "      <td>cush2push</td>\n",
       "      <td>MaddenUltimateTeam</td>\n",
       "      <td>6.0</td>\n",
       "      <td>2016-12</td>\n",
       "      <td>Yep can confirm I saw the tool they use for th...</td>\n",
       "      <td>7.0</td>\n",
       "      <td>18</td>\n",
       "      <td>31</td>\n",
       "      <td>85</td>\n",
       "    </tr>\n",
       "  </tbody>\n",
       "</table>\n",
       "</div>"
      ],
      "text/plain": [
       "   label                                            comment     author  \\\n",
       "0      0                                         NC and NH.  Trumpbart   \n",
       "1      0  You do know west teams play against west teams...  Shbshb906   \n",
       "2      0  They were underdogs earlier today, but since G...   Creepeth   \n",
       "3      0  This meme isn't funny none of the \"new york ni...  icebrotha   \n",
       "4      0                    I could use one of those tools.  cush2push   \n",
       "\n",
       "            subreddit  score     date  \\\n",
       "0            politics    2.0  2016-10   \n",
       "1                 nba   -4.0  2016-11   \n",
       "2                 nfl    3.0  2016-09   \n",
       "3  BlackPeopleTwitter   -8.0  2016-10   \n",
       "4  MaddenUltimateTeam    6.0  2016-12   \n",
       "\n",
       "                                      parent_comment  comment_wcount  \\\n",
       "0  Yeah, I get that argument. At this point, I'd ...             3.0   \n",
       "1  The blazers and Mavericks (The wests 5 and 6 s...            14.0   \n",
       "2                            They're favored to win.            19.0   \n",
       "3                         deadass don't kill my buzz            12.0   \n",
       "4  Yep can confirm I saw the tool they use for th...             7.0   \n",
       "\n",
       "   parent_comment_wcount  comment_char  parent_comment_char  \n",
       "0                     17            10                   80  \n",
       "1                     27            74                  134  \n",
       "2                      4           121                   23  \n",
       "3                      5            60                   26  \n",
       "4                     18            31                   85  "
      ]
     },
     "execution_count": 13,
     "metadata": {},
     "output_type": "execute_result"
    }
   ],
   "source": [
    "# criando nova coluna parent_comment_char contendo quantidade de caracteres contidas na variável parent_comment.\n",
    "dfcomentarios['parent_comment'] = dfcomentarios['parent_comment'].astype(str)\n",
    "dfcomentarios['parent_comment_char'] = dfcomentarios['parent_comment'].apply(len)\n",
    "dfcomentarios.head()"
   ]
  },
  {
   "cell_type": "markdown",
   "metadata": {},
   "source": [
    "#### 1. Percentualmente, qual o volume de comentários sarcásticos?"
   ]
  },
  {
   "cell_type": "code",
   "execution_count": 14,
   "metadata": {},
   "outputs": [
    {
     "data": {
      "text/html": [
       "<div>\n",
       "<style scoped>\n",
       "    .dataframe tbody tr th:only-of-type {\n",
       "        vertical-align: middle;\n",
       "    }\n",
       "\n",
       "    .dataframe tbody tr th {\n",
       "        vertical-align: top;\n",
       "    }\n",
       "\n",
       "    .dataframe thead th {\n",
       "        text-align: right;\n",
       "    }\n",
       "</style>\n",
       "<table border=\"1\" class=\"dataframe\">\n",
       "  <thead>\n",
       "    <tr style=\"text-align: right;\">\n",
       "      <th></th>\n",
       "      <th>qtd</th>\n",
       "      <th>%</th>\n",
       "    </tr>\n",
       "    <tr>\n",
       "      <th>label</th>\n",
       "      <th></th>\n",
       "      <th></th>\n",
       "    </tr>\n",
       "  </thead>\n",
       "  <tbody>\n",
       "    <tr>\n",
       "      <th>0</th>\n",
       "      <td>505413</td>\n",
       "      <td>50.0</td>\n",
       "    </tr>\n",
       "    <tr>\n",
       "      <th>1</th>\n",
       "      <td>505413</td>\n",
       "      <td>50.0</td>\n",
       "    </tr>\n",
       "  </tbody>\n",
       "</table>\n",
       "</div>"
      ],
      "text/plain": [
       "          qtd     %\n",
       "label              \n",
       "0      505413  50.0\n",
       "1      505413  50.0"
      ]
     },
     "execution_count": 14,
     "metadata": {},
     "output_type": "execute_result"
    }
   ],
   "source": [
    "percentuais = pd.DataFrame()\n",
    "percentuais['qtd'] = dfcomentarios.groupby('label')['label'].count()\n",
    "percentuais['%'] = round((percentuais['qtd']/percentuais['qtd'].sum())*100, 2)\n",
    "percentuais.head()"
   ]
  },
  {
   "cell_type": "markdown",
   "metadata": {},
   "source": [
    "### 2. Qual o autor que mais comenta com sarcasmo?"
   ]
  },
  {
   "cell_type": "code",
   "execution_count": 15,
   "metadata": {},
   "outputs": [
    {
     "data": {
      "text/plain": [
       "author\n",
       "Biffingston    422\n",
       "Name: label, dtype: int64"
      ]
     },
     "execution_count": 15,
     "metadata": {},
     "output_type": "execute_result"
    }
   ],
   "source": [
    "dfcomentarios[dfcomentarios['label'] == 1].groupby('author')['label'].count().sort_values(ascending=False).head(1)"
   ]
  },
  {
   "cell_type": "markdown",
   "metadata": {},
   "source": [
    "### 3. Percentualmente, ao longo do tempo os comentários sarcásticos tem aumentado ou diminuído?\n",
    "### Plote um gráfico de sua preferência para mostrar a evolução."
   ]
  },
  {
   "cell_type": "code",
   "execution_count": 16,
   "metadata": {},
   "outputs": [
    {
     "data": {
      "text/html": [
       "<div>\n",
       "<style scoped>\n",
       "    .dataframe tbody tr th:only-of-type {\n",
       "        vertical-align: middle;\n",
       "    }\n",
       "\n",
       "    .dataframe tbody tr th {\n",
       "        vertical-align: top;\n",
       "    }\n",
       "\n",
       "    .dataframe thead th {\n",
       "        text-align: right;\n",
       "    }\n",
       "</style>\n",
       "<table border=\"1\" class=\"dataframe\">\n",
       "  <thead>\n",
       "    <tr style=\"text-align: right;\">\n",
       "      <th></th>\n",
       "      <th>qtd</th>\n",
       "      <th>qtd_sarc</th>\n",
       "      <th>%</th>\n",
       "    </tr>\n",
       "    <tr>\n",
       "      <th>date</th>\n",
       "      <th></th>\n",
       "      <th></th>\n",
       "      <th></th>\n",
       "    </tr>\n",
       "  </thead>\n",
       "  <tbody>\n",
       "    <tr>\n",
       "      <th>2009-01</th>\n",
       "      <td>104</td>\n",
       "      <td>72</td>\n",
       "      <td>69.2</td>\n",
       "    </tr>\n",
       "    <tr>\n",
       "      <th>2009-02</th>\n",
       "      <td>89</td>\n",
       "      <td>57</td>\n",
       "      <td>64.0</td>\n",
       "    </tr>\n",
       "    <tr>\n",
       "      <th>2009-03</th>\n",
       "      <td>105</td>\n",
       "      <td>70</td>\n",
       "      <td>66.7</td>\n",
       "    </tr>\n",
       "    <tr>\n",
       "      <th>2009-04</th>\n",
       "      <td>122</td>\n",
       "      <td>71</td>\n",
       "      <td>58.2</td>\n",
       "    </tr>\n",
       "    <tr>\n",
       "      <th>2009-05</th>\n",
       "      <td>110</td>\n",
       "      <td>68</td>\n",
       "      <td>61.8</td>\n",
       "    </tr>\n",
       "  </tbody>\n",
       "</table>\n",
       "</div>"
      ],
      "text/plain": [
       "         qtd  qtd_sarc     %\n",
       "date                        \n",
       "2009-01  104        72  69.2\n",
       "2009-02   89        57  64.0\n",
       "2009-03  105        70  66.7\n",
       "2009-04  122        71  58.2\n",
       "2009-05  110        68  61.8"
      ]
     },
     "execution_count": 16,
     "metadata": {},
     "output_type": "execute_result"
    }
   ],
   "source": [
    "percentuais_mes = pd.DataFrame()\n",
    "percentuais_mes['qtd'] = dfcomentarios.groupby('date')['date'].count()\n",
    "percentuais_mes['qtd_sarc'] = dfcomentarios[dfcomentarios['label'] == 1].groupby('date')['label'].count()\n",
    "percentuais_mes['%'] = round((percentuais_mes['qtd_sarc']/percentuais_mes['qtd'])*100, 1)\n",
    "percentuais_mes.head()"
   ]
  },
  {
   "cell_type": "code",
   "execution_count": 18,
   "metadata": {},
   "outputs": [],
   "source": [
    "import matplotlib.pyplot as plt"
   ]
  },
  {
   "cell_type": "code",
   "execution_count": 19,
   "metadata": {},
   "outputs": [
    {
     "data": {
      "text/plain": [
       "<AxesSubplot:xlabel='date'>"
      ]
     },
     "execution_count": 19,
     "metadata": {},
     "output_type": "execute_result"
    },
    {
     "data": {
      "image/png": "[encoded data removed]",
      "text/plain": [
       "<Figure size 1584x360 with 1 Axes>"
      ]
     },
     "metadata": {
      "needs_background": "light"
     },
     "output_type": "display_data"
    }
   ],
   "source": [
    "plt.figure(figsize=(22,5))\n",
    "percentuais_mes['%'].plot.bar()"
   ]
  },
  {
   "cell_type": "markdown",
   "metadata": {},
   "source": [
    "#### 4. Percentualmente, olhando a variável subreddit, qual o assunto que mais gera comentários sarcásticos? Considere apenas assuntos com mais de 1000 comentários."
   ]
  },
  {
   "cell_type": "code",
   "execution_count": 126,
   "metadata": {},
   "outputs": [
    {
     "data": {
      "text/html": [
       "<div>\n",
       "<style scoped>\n",
       "    .dataframe tbody tr th:only-of-type {\n",
       "        vertical-align: middle;\n",
       "    }\n",
       "\n",
       "    .dataframe tbody tr th {\n",
       "        vertical-align: top;\n",
       "    }\n",
       "\n",
       "    .dataframe thead th {\n",
       "        text-align: right;\n",
       "    }\n",
       "</style>\n",
       "<table border=\"1\" class=\"dataframe\">\n",
       "  <thead>\n",
       "    <tr style=\"text-align: right;\">\n",
       "      <th></th>\n",
       "      <th>qtd</th>\n",
       "      <th>qtd_sarc</th>\n",
       "      <th>%</th>\n",
       "    </tr>\n",
       "    <tr>\n",
       "      <th>subreddit</th>\n",
       "      <th></th>\n",
       "      <th></th>\n",
       "      <th></th>\n",
       "    </tr>\n",
       "  </thead>\n",
       "  <tbody>\n",
       "    <tr>\n",
       "      <th>creepyPMs</th>\n",
       "      <td>5466</td>\n",
       "      <td>4287.0</td>\n",
       "      <td>78.4</td>\n",
       "    </tr>\n",
       "  </tbody>\n",
       "</table>\n",
       "</div>"
      ],
      "text/plain": [
       "            qtd  qtd_sarc     %\n",
       "subreddit                      \n",
       "creepyPMs  5466    4287.0  78.4"
      ]
     },
     "execution_count": 126,
     "metadata": {},
     "output_type": "execute_result"
    }
   ],
   "source": [
    "percentuais_mes = pd.DataFrame()\n",
    "percentuais_mes['qtd'] = dfcomentarios.groupby('subreddit')['subreddit'].count()\n",
    "percentuais_mes['qtd_sarc'] = dfcomentarios[dfcomentarios['label'] == 1].groupby('subreddit')['label'].count()\n",
    "percentuais_mes['%'] = round((percentuais_mes['qtd_sarc']/percentuais_mes['qtd'])*100, 1)\n",
    "percentuais_mes[percentuais_mes['qtd'] > 1000].sort_values(by='%', ascending=False).head(1)"
   ]
  },
  {
   "cell_type": "code",
   "execution_count": 21,
   "metadata": {},
   "outputs": [
    {
     "data": {
      "text/html": [
       "<div>\n",
       "<style scoped>\n",
       "    .dataframe tbody tr th:only-of-type {\n",
       "        vertical-align: middle;\n",
       "    }\n",
       "\n",
       "    .dataframe tbody tr th {\n",
       "        vertical-align: top;\n",
       "    }\n",
       "\n",
       "    .dataframe thead th {\n",
       "        text-align: right;\n",
       "    }\n",
       "</style>\n",
       "<table border=\"1\" class=\"dataframe\">\n",
       "  <thead>\n",
       "    <tr style=\"text-align: right;\">\n",
       "      <th></th>\n",
       "      <th>qtd</th>\n",
       "      <th>qtd_sarc</th>\n",
       "      <th>%</th>\n",
       "    </tr>\n",
       "    <tr>\n",
       "      <th>subreddit</th>\n",
       "      <th></th>\n",
       "      <th></th>\n",
       "      <th></th>\n",
       "    </tr>\n",
       "  </thead>\n",
       "  <tbody>\n",
       "    <tr>\n",
       "      <th>creepyPMs</th>\n",
       "      <td>5466</td>\n",
       "      <td>4287.0</td>\n",
       "      <td>78.4</td>\n",
       "    </tr>\n",
       "    <tr>\n",
       "      <th>circlebroke</th>\n",
       "      <td>174</td>\n",
       "      <td>128.0</td>\n",
       "      <td>73.6</td>\n",
       "    </tr>\n",
       "    <tr>\n",
       "      <th>ShitPoliticsSays</th>\n",
       "      <td>285</td>\n",
       "      <td>204.0</td>\n",
       "      <td>71.6</td>\n",
       "    </tr>\n",
       "    <tr>\n",
       "      <th>progun</th>\n",
       "      <td>541</td>\n",
       "      <td>384.0</td>\n",
       "      <td>71.0</td>\n",
       "    </tr>\n",
       "    <tr>\n",
       "      <th>AndroidMasterRace</th>\n",
       "      <td>156</td>\n",
       "      <td>110.0</td>\n",
       "      <td>70.5</td>\n",
       "    </tr>\n",
       "  </tbody>\n",
       "</table>\n",
       "</div>"
      ],
      "text/plain": [
       "                    qtd  qtd_sarc     %\n",
       "subreddit                              \n",
       "creepyPMs          5466    4287.0  78.4\n",
       "circlebroke         174     128.0  73.6\n",
       "ShitPoliticsSays    285     204.0  71.6\n",
       "progun              541     384.0  71.0\n",
       "AndroidMasterRace   156     110.0  70.5"
      ]
     },
     "execution_count": 21,
     "metadata": {},
     "output_type": "execute_result"
    }
   ],
   "source": [
    "percentuais_mes[percentuais_mes['qtd'] > 100].sort_values(by='%', ascending=False).head()"
   ]
  },
  {
   "cell_type": "markdown",
   "metadata": {},
   "source": [
    "#### 5. Por tipo de comentário (sarcástico ou não), quantas palavras temos em média em comment_wcount e parent_comment_wcount?"
   ]
  },
  {
   "cell_type": "code",
   "execution_count": 22,
   "metadata": {},
   "outputs": [
    {
     "data": {
      "text/html": [
       "<div>\n",
       "<style scoped>\n",
       "    .dataframe tbody tr th:only-of-type {\n",
       "        vertical-align: middle;\n",
       "    }\n",
       "\n",
       "    .dataframe tbody tr th {\n",
       "        vertical-align: top;\n",
       "    }\n",
       "\n",
       "    .dataframe thead th {\n",
       "        text-align: right;\n",
       "    }\n",
       "</style>\n",
       "<table border=\"1\" class=\"dataframe\">\n",
       "  <thead>\n",
       "    <tr style=\"text-align: right;\">\n",
       "      <th></th>\n",
       "      <th>parent_comment_wcount</th>\n",
       "      <th>comment_wcount</th>\n",
       "    </tr>\n",
       "    <tr>\n",
       "      <th>label</th>\n",
       "      <th></th>\n",
       "      <th></th>\n",
       "    </tr>\n",
       "  </thead>\n",
       "  <tbody>\n",
       "    <tr>\n",
       "      <th>0</th>\n",
       "      <td>24.562694</td>\n",
       "      <td>10.591973</td>\n",
       "    </tr>\n",
       "    <tr>\n",
       "      <th>1</th>\n",
       "      <td>24.210784</td>\n",
       "      <td>10.330915</td>\n",
       "    </tr>\n",
       "  </tbody>\n",
       "</table>\n",
       "</div>"
      ],
      "text/plain": [
       "       parent_comment_wcount  comment_wcount\n",
       "label                                       \n",
       "0                  24.562694       10.591973\n",
       "1                  24.210784       10.330915"
      ]
     },
     "execution_count": 22,
     "metadata": {},
     "output_type": "execute_result"
    }
   ],
   "source": [
    "dfcomentarios.groupby('label')[['parent_comment_wcount', 'comment_wcount']].mean()"
   ]
  },
  {
   "cell_type": "markdown",
   "metadata": {},
   "source": [
    "#### 6. Comentários sarcásticos são maiores ou menores em relação aos comentários normais? Use o campo comment_char criado anteriormente para mostrar essa relação através de gráficos de distribuição."
   ]
  },
  {
   "cell_type": "code",
   "execution_count": 23,
   "metadata": {},
   "outputs": [],
   "source": [
    "import seaborn as sns"
   ]
  },
  {
   "cell_type": "code",
   "execution_count": 24,
   "metadata": {},
   "outputs": [
    {
     "data": {
      "text/plain": [
       "<AxesSubplot:xlabel='comment_char', ylabel='Density'>"
      ]
     },
     "execution_count": 24,
     "metadata": {},
     "output_type": "execute_result"
    },
    {
     "data": {
      "image/png": "[encoded data removed]",
      "text/plain": [
       "<Figure size 1080x576 with 1 Axes>"
      ]
     },
     "metadata": {
      "needs_background": "light"
     },
     "output_type": "display_data"
    }
   ],
   "source": [
    "plt.figure(figsize=(15,8))\n",
    "sns.kdeplot(dfcomentarios[dfcomentarios['label'] == 0]['comment_char'], shade=True,label='Normal', color='green', clip = (0,300))\n",
    "sns.kdeplot(dfcomentarios[dfcomentarios['label'] == 1]['comment_char'], shade=True, label='Sarcasmo', color='red', clip = (0,300))"
   ]
  },
  {
   "cell_type": "markdown",
   "metadata": {},
   "source": [
    "### 6 - Se uníssimos comment e parent_comment em uma só mensagem, percentualmente em média, quanto representaria comment em relação a mensagem unida. Utilize os campos comment_char e parent_comment_char que criamos anteriormente."
   ]
  },
  {
   "cell_type": "code",
   "execution_count": 41,
   "metadata": {},
   "outputs": [
    {
     "data": {
      "text/plain": [
       "0    11.111111\n",
       "1    35.576923\n",
       "2    84.027778\n",
       "3    69.767442\n",
       "4    26.724138\n",
       "dtype: float64"
      ]
     },
     "execution_count": 41,
     "metadata": {},
     "output_type": "execute_result"
    }
   ],
   "source": [
    "(dfcomentarios['comment_char'] / (dfcomentarios['comment_char'] + dfcomentarios['parent_comment_char'])*100).head()"
   ]
  },
  {
   "cell_type": "markdown",
   "metadata": {},
   "source": [
    "### Crie uma função que faça as transformações necessárias no texto: \n",
    "####  a. Retire pontuações\n",
    "####  b. Remova stopwords\n",
    "####  c. Normalize no seu sentido mais abstrato (stemming)"
   ]
  },
  {
   "cell_type": "code",
   "execution_count": 26,
   "metadata": {},
   "outputs": [
    {
     "name": "stdout",
     "output_type": "stream",
     "text": [
      "showing info https://raw.githubusercontent.com/nltk/nltk_data/gh-pages/index.xml\n"
     ]
    },
    {
     "data": {
      "text/plain": [
       "True"
      ]
     },
     "execution_count": 26,
     "metadata": {},
     "output_type": "execute_result"
    }
   ],
   "source": [
    "import nltk\n",
    "nltk.download()"
   ]
  },
  {
   "cell_type": "code",
   "execution_count": 1,
   "metadata": {},
   "outputs": [
    {
     "name": "stdout",
     "output_type": "stream",
     "text": [
      "Collecting package metadata (current_repodata.json): done\n",
      "Solving environment: done\n",
      "\n",
      "# All requested packages already installed.\n",
      "\n"
     ]
    }
   ],
   "source": [
    "!conda install nltk"
   ]
  },
  {
   "cell_type": "code",
   "execution_count": 29,
   "metadata": {},
   "outputs": [
    {
     "data": {
      "text/plain": [
       "'!\"#$%&\\'()*+,-./:;<=>?@[\\\\]^_`{|}~'"
      ]
     },
     "execution_count": 29,
     "metadata": {},
     "output_type": "execute_result"
    }
   ],
   "source": [
    "import string \n",
    "string.punctuation"
   ]
  },
  {
   "cell_type": "code",
   "execution_count": 31,
   "metadata": {},
   "outputs": [],
   "source": [
    "from nltk.corpus import stopwords"
   ]
  },
  {
   "cell_type": "code",
   "execution_count": 32,
   "metadata": {},
   "outputs": [],
   "source": [
    "from nltk.stem import PorterStemmer"
   ]
  },
  {
   "cell_type": "code",
   "execution_count": 75,
   "metadata": {},
   "outputs": [],
   "source": [
    "def transfTexto(msg):\n",
    "    \n",
    "    semPonto = [c for c in msg if c not in string.punctuation]\n",
    "    \n",
    "    semPonto = ''.join(semPonto)\n",
    "    \n",
    "    remStWords = [palavra for palavra in semPonto.split() if palavra.lower() not in stopwords.words('english')]\n",
    "\n",
    "    st = PorterStemmer()\n",
    "    return [st.stem(stPalavra) for stPalavra in remStWords]"
   ]
  },
  {
   "cell_type": "code",
   "execution_count": 105,
   "metadata": {},
   "outputs": [],
   "source": [
    "dfFrac = dfcomentarios.sample(frac=0.001, replace=True, random_state=1).copy()\n",
    "dfFrac.reset_index(inplace=True, drop=True)"
   ]
  },
  {
   "cell_type": "code",
   "execution_count": 106,
   "metadata": {},
   "outputs": [
    {
     "data": {
      "text/html": [
       "<div>\n",
       "<style scoped>\n",
       "    .dataframe tbody tr th:only-of-type {\n",
       "        vertical-align: middle;\n",
       "    }\n",
       "\n",
       "    .dataframe tbody tr th {\n",
       "        vertical-align: top;\n",
       "    }\n",
       "\n",
       "    .dataframe thead th {\n",
       "        text-align: right;\n",
       "    }\n",
       "</style>\n",
       "<table border=\"1\" class=\"dataframe\">\n",
       "  <thead>\n",
       "    <tr style=\"text-align: right;\">\n",
       "      <th></th>\n",
       "      <th>label</th>\n",
       "      <th>comment</th>\n",
       "      <th>author</th>\n",
       "      <th>subreddit</th>\n",
       "      <th>score</th>\n",
       "      <th>date</th>\n",
       "      <th>parent_comment</th>\n",
       "      <th>comment_wcount</th>\n",
       "      <th>parent_comment_wcount</th>\n",
       "      <th>comment_char</th>\n",
       "      <th>parent_comment_char</th>\n",
       "    </tr>\n",
       "  </thead>\n",
       "  <tbody>\n",
       "    <tr>\n",
       "      <th>0</th>\n",
       "      <td>0</td>\n",
       "      <td>Nancy Grace is a step up compared to him</td>\n",
       "      <td>JangoDarkSaber</td>\n",
       "      <td>videos</td>\n",
       "      <td>1.0</td>\n",
       "      <td>2016-07</td>\n",
       "      <td>He's the Nancy Grace of Youtube.</td>\n",
       "      <td>9.0</td>\n",
       "      <td>6</td>\n",
       "      <td>40</td>\n",
       "      <td>32</td>\n",
       "    </tr>\n",
       "    <tr>\n",
       "      <th>1</th>\n",
       "      <td>0</td>\n",
       "      <td>The only certification you need is to be sure ...</td>\n",
       "      <td>traxxas</td>\n",
       "      <td>linux</td>\n",
       "      <td>1.0</td>\n",
       "      <td>2012-07</td>\n",
       "      <td>doesn't lenovo get most thinkpads ubuntu certi...</td>\n",
       "      <td>19.0</td>\n",
       "      <td>7</td>\n",
       "      <td>101</td>\n",
       "      <td>51</td>\n",
       "    </tr>\n",
       "    <tr>\n",
       "      <th>2</th>\n",
       "      <td>0</td>\n",
       "      <td>Is that to keep that bad guys out, or *you* in?</td>\n",
       "      <td>analogkid1</td>\n",
       "      <td>WTF</td>\n",
       "      <td>1.0</td>\n",
       "      <td>2012-07</td>\n",
       "      <td>So we're on vacation, and this is our bedrooms...</td>\n",
       "      <td>11.0</td>\n",
       "      <td>11</td>\n",
       "      <td>47</td>\n",
       "      <td>58</td>\n",
       "    </tr>\n",
       "    <tr>\n",
       "      <th>3</th>\n",
       "      <td>1</td>\n",
       "      <td>Yeah, she should have just let those brown peo...</td>\n",
       "      <td>midoman111</td>\n",
       "      <td>worldnews</td>\n",
       "      <td>-28.0</td>\n",
       "      <td>2015-09</td>\n",
       "      <td>Hopefully she'll be imprisoned for treason.</td>\n",
       "      <td>10.0</td>\n",
       "      <td>6</td>\n",
       "      <td>54</td>\n",
       "      <td>43</td>\n",
       "    </tr>\n",
       "    <tr>\n",
       "      <th>4</th>\n",
       "      <td>0</td>\n",
       "      <td>He really shouldn't have gone back into the game.</td>\n",
       "      <td>jh1336</td>\n",
       "      <td>hockey</td>\n",
       "      <td>7.0</td>\n",
       "      <td>2013-06</td>\n",
       "      <td>He had no business sitting on the bench with t...</td>\n",
       "      <td>9.0</td>\n",
       "      <td>22</td>\n",
       "      <td>49</td>\n",
       "      <td>108</td>\n",
       "    </tr>\n",
       "  </tbody>\n",
       "</table>\n",
       "</div>"
      ],
      "text/plain": [
       "   label                                            comment          author  \\\n",
       "0      0           Nancy Grace is a step up compared to him  JangoDarkSaber   \n",
       "1      0  The only certification you need is to be sure ...         traxxas   \n",
       "2      0    Is that to keep that bad guys out, or *you* in?      analogkid1   \n",
       "3      1  Yeah, she should have just let those brown peo...      midoman111   \n",
       "4      0  He really shouldn't have gone back into the game.          jh1336   \n",
       "\n",
       "   subreddit  score     date  \\\n",
       "0     videos    1.0  2016-07   \n",
       "1      linux    1.0  2012-07   \n",
       "2        WTF    1.0  2012-07   \n",
       "3  worldnews  -28.0  2015-09   \n",
       "4     hockey    7.0  2013-06   \n",
       "\n",
       "                                      parent_comment  comment_wcount  \\\n",
       "0                   He's the Nancy Grace of Youtube.             9.0   \n",
       "1  doesn't lenovo get most thinkpads ubuntu certi...            19.0   \n",
       "2  So we're on vacation, and this is our bedrooms...            11.0   \n",
       "3        Hopefully she'll be imprisoned for treason.            10.0   \n",
       "4  He had no business sitting on the bench with t...             9.0   \n",
       "\n",
       "   parent_comment_wcount  comment_char  parent_comment_char  \n",
       "0                      6            40                   32  \n",
       "1                      7           101                   51  \n",
       "2                     11            47                   58  \n",
       "3                      6            54                   43  \n",
       "4                     22            49                  108  "
      ]
     },
     "execution_count": 106,
     "metadata": {},
     "output_type": "execute_result"
    }
   ],
   "source": [
    "dfFrac.head()"
   ]
  },
  {
   "cell_type": "code",
   "execution_count": 37,
   "metadata": {},
   "outputs": [],
   "source": [
    "from sklearn.feature_extraction.text import CountVectorizer"
   ]
  },
  {
   "cell_type": "code",
   "execution_count": 107,
   "metadata": {},
   "outputs": [],
   "source": [
    "vetorizador = CountVectorizer(analyzer=transfTexto).fit(dfFrac['comment'])"
   ]
  },
  {
   "cell_type": "code",
   "execution_count": 108,
   "metadata": {},
   "outputs": [],
   "source": [
    "msVet = vetorizador.transform(dfFrac['comment'])"
   ]
  },
  {
   "cell_type": "code",
   "execution_count": 109,
   "metadata": {},
   "outputs": [
    {
     "data": {
      "text/plain": [
       "(1011, 2583)"
      ]
     },
     "execution_count": 109,
     "metadata": {},
     "output_type": "execute_result"
    }
   ],
   "source": [
    "msVet.shape"
   ]
  },
  {
   "cell_type": "code",
   "execution_count": 110,
   "metadata": {},
   "outputs": [],
   "source": [
    "msVetPandas = pd.DataFrame(msVet.todense(), columns=vetorizador.get_feature_names())"
   ]
  },
  {
   "cell_type": "code",
   "execution_count": 111,
   "metadata": {},
   "outputs": [],
   "source": [
    "msWC = pd.DataFrame()\n",
    "msWC = pd.concat([dfFrac['label'], msVetPandas], axis=1)"
   ]
  },
  {
   "cell_type": "code",
   "execution_count": 112,
   "metadata": {},
   "outputs": [
    {
     "data": {
      "text/html": [
       "<div>\n",
       "<style scoped>\n",
       "    .dataframe tbody tr th:only-of-type {\n",
       "        vertical-align: middle;\n",
       "    }\n",
       "\n",
       "    .dataframe tbody tr th {\n",
       "        vertical-align: top;\n",
       "    }\n",
       "\n",
       "    .dataframe thead th {\n",
       "        text-align: right;\n",
       "    }\n",
       "</style>\n",
       "<table border=\"1\" class=\"dataframe\">\n",
       "  <thead>\n",
       "    <tr style=\"text-align: right;\">\n",
       "      <th></th>\n",
       "      <th>label</th>\n",
       "      <th>0</th>\n",
       "      <th>010</th>\n",
       "      <th>1</th>\n",
       "      <th>10</th>\n",
       "      <th>100</th>\n",
       "      <th>1000</th>\n",
       "      <th>1000000</th>\n",
       "      <th>1080</th>\n",
       "      <th>11</th>\n",
       "      <th>...</th>\n",
       "      <th>youim</th>\n",
       "      <th>youll</th>\n",
       "      <th>younger</th>\n",
       "      <th>your</th>\n",
       "      <th>youtub</th>\n",
       "      <th>youv</th>\n",
       "      <th>yumm</th>\n",
       "      <th>yup</th>\n",
       "      <th>zero</th>\n",
       "      <th>zoo</th>\n",
       "    </tr>\n",
       "  </thead>\n",
       "  <tbody>\n",
       "    <tr>\n",
       "      <th>0</th>\n",
       "      <td>0</td>\n",
       "      <td>0</td>\n",
       "      <td>0</td>\n",
       "      <td>0</td>\n",
       "      <td>0</td>\n",
       "      <td>0</td>\n",
       "      <td>0</td>\n",
       "      <td>0</td>\n",
       "      <td>0</td>\n",
       "      <td>0</td>\n",
       "      <td>...</td>\n",
       "      <td>0</td>\n",
       "      <td>0</td>\n",
       "      <td>0</td>\n",
       "      <td>0</td>\n",
       "      <td>0</td>\n",
       "      <td>0</td>\n",
       "      <td>0</td>\n",
       "      <td>0</td>\n",
       "      <td>0</td>\n",
       "      <td>0</td>\n",
       "    </tr>\n",
       "    <tr>\n",
       "      <th>1</th>\n",
       "      <td>0</td>\n",
       "      <td>0</td>\n",
       "      <td>0</td>\n",
       "      <td>0</td>\n",
       "      <td>0</td>\n",
       "      <td>0</td>\n",
       "      <td>0</td>\n",
       "      <td>0</td>\n",
       "      <td>0</td>\n",
       "      <td>0</td>\n",
       "      <td>...</td>\n",
       "      <td>0</td>\n",
       "      <td>0</td>\n",
       "      <td>0</td>\n",
       "      <td>0</td>\n",
       "      <td>0</td>\n",
       "      <td>0</td>\n",
       "      <td>0</td>\n",
       "      <td>0</td>\n",
       "      <td>0</td>\n",
       "      <td>0</td>\n",
       "    </tr>\n",
       "    <tr>\n",
       "      <th>2</th>\n",
       "      <td>0</td>\n",
       "      <td>0</td>\n",
       "      <td>0</td>\n",
       "      <td>0</td>\n",
       "      <td>0</td>\n",
       "      <td>0</td>\n",
       "      <td>0</td>\n",
       "      <td>0</td>\n",
       "      <td>0</td>\n",
       "      <td>0</td>\n",
       "      <td>...</td>\n",
       "      <td>0</td>\n",
       "      <td>0</td>\n",
       "      <td>0</td>\n",
       "      <td>0</td>\n",
       "      <td>0</td>\n",
       "      <td>0</td>\n",
       "      <td>0</td>\n",
       "      <td>0</td>\n",
       "      <td>0</td>\n",
       "      <td>0</td>\n",
       "    </tr>\n",
       "    <tr>\n",
       "      <th>3</th>\n",
       "      <td>1</td>\n",
       "      <td>0</td>\n",
       "      <td>0</td>\n",
       "      <td>0</td>\n",
       "      <td>0</td>\n",
       "      <td>0</td>\n",
       "      <td>0</td>\n",
       "      <td>0</td>\n",
       "      <td>0</td>\n",
       "      <td>0</td>\n",
       "      <td>...</td>\n",
       "      <td>0</td>\n",
       "      <td>0</td>\n",
       "      <td>0</td>\n",
       "      <td>0</td>\n",
       "      <td>0</td>\n",
       "      <td>0</td>\n",
       "      <td>0</td>\n",
       "      <td>0</td>\n",
       "      <td>0</td>\n",
       "      <td>0</td>\n",
       "    </tr>\n",
       "    <tr>\n",
       "      <th>4</th>\n",
       "      <td>0</td>\n",
       "      <td>0</td>\n",
       "      <td>0</td>\n",
       "      <td>0</td>\n",
       "      <td>0</td>\n",
       "      <td>0</td>\n",
       "      <td>0</td>\n",
       "      <td>0</td>\n",
       "      <td>0</td>\n",
       "      <td>0</td>\n",
       "      <td>...</td>\n",
       "      <td>0</td>\n",
       "      <td>0</td>\n",
       "      <td>0</td>\n",
       "      <td>0</td>\n",
       "      <td>0</td>\n",
       "      <td>0</td>\n",
       "      <td>0</td>\n",
       "      <td>0</td>\n",
       "      <td>0</td>\n",
       "      <td>0</td>\n",
       "    </tr>\n",
       "  </tbody>\n",
       "</table>\n",
       "<p>5 rows × 2584 columns</p>\n",
       "</div>"
      ],
      "text/plain": [
       "   label  0  010  1  10  100  1000  1000000  1080  11  ...  youim  youll  \\\n",
       "0      0  0    0  0   0    0     0        0     0   0  ...      0      0   \n",
       "1      0  0    0  0   0    0     0        0     0   0  ...      0      0   \n",
       "2      0  0    0  0   0    0     0        0     0   0  ...      0      0   \n",
       "3      1  0    0  0   0    0     0        0     0   0  ...      0      0   \n",
       "4      0  0    0  0   0    0     0        0     0   0  ...      0      0   \n",
       "\n",
       "   younger  your  youtub  youv  yumm  yup  zero  zoo  \n",
       "0        0     0       0     0     0    0     0    0  \n",
       "1        0     0       0     0     0    0     0    0  \n",
       "2        0     0       0     0     0    0     0    0  \n",
       "3        0     0       0     0     0    0     0    0  \n",
       "4        0     0       0     0     0    0     0    0  \n",
       "\n",
       "[5 rows x 2584 columns]"
      ]
     },
     "execution_count": 112,
     "metadata": {},
     "output_type": "execute_result"
    }
   ],
   "source": [
    "msWC.head()"
   ]
  },
  {
   "cell_type": "code",
   "execution_count": 113,
   "metadata": {},
   "outputs": [],
   "source": [
    "from sklearn.feature_extraction.text import TfidfTransformer"
   ]
  },
  {
   "cell_type": "code",
   "execution_count": 118,
   "metadata": {},
   "outputs": [],
   "source": [
    "vetorizadorTFIDF = TfidfTransformer().fit(msVetPandas)"
   ]
  },
  {
   "cell_type": "code",
   "execution_count": 119,
   "metadata": {},
   "outputs": [],
   "source": [
    "msWCTFIDF = vetorizadorTFIDF.transform(msVetPandas)"
   ]
  },
  {
   "cell_type": "code",
   "execution_count": 121,
   "metadata": {},
   "outputs": [],
   "source": [
    "msWCTFIDFPandas = pd.DataFrame(msWCTFIDF.todense(), columns=vetorizador.get_feature_names())"
   ]
  },
  {
   "cell_type": "code",
   "execution_count": 122,
   "metadata": {},
   "outputs": [],
   "source": [
    "msWCTFIDF = pd.DataFrame()\n",
    "msWCTFIDF = pd.concat([dfFrac['label'], msVetPandas], axis=1)"
   ]
  },
  {
   "cell_type": "code",
   "execution_count": 123,
   "metadata": {},
   "outputs": [
    {
     "data": {
      "text/html": [
       "<div>\n",
       "<style scoped>\n",
       "    .dataframe tbody tr th:only-of-type {\n",
       "        vertical-align: middle;\n",
       "    }\n",
       "\n",
       "    .dataframe tbody tr th {\n",
       "        vertical-align: top;\n",
       "    }\n",
       "\n",
       "    .dataframe thead th {\n",
       "        text-align: right;\n",
       "    }\n",
       "</style>\n",
       "<table border=\"1\" class=\"dataframe\">\n",
       "  <thead>\n",
       "    <tr style=\"text-align: right;\">\n",
       "      <th></th>\n",
       "      <th>label</th>\n",
       "      <th>0</th>\n",
       "      <th>010</th>\n",
       "      <th>1</th>\n",
       "      <th>10</th>\n",
       "      <th>100</th>\n",
       "      <th>1000</th>\n",
       "      <th>1000000</th>\n",
       "      <th>1080</th>\n",
       "      <th>11</th>\n",
       "      <th>...</th>\n",
       "      <th>youim</th>\n",
       "      <th>youll</th>\n",
       "      <th>younger</th>\n",
       "      <th>your</th>\n",
       "      <th>youtub</th>\n",
       "      <th>youv</th>\n",
       "      <th>yumm</th>\n",
       "      <th>yup</th>\n",
       "      <th>zero</th>\n",
       "      <th>zoo</th>\n",
       "    </tr>\n",
       "  </thead>\n",
       "  <tbody>\n",
       "    <tr>\n",
       "      <th>0</th>\n",
       "      <td>0</td>\n",
       "      <td>0</td>\n",
       "      <td>0</td>\n",
       "      <td>0</td>\n",
       "      <td>0</td>\n",
       "      <td>0</td>\n",
       "      <td>0</td>\n",
       "      <td>0</td>\n",
       "      <td>0</td>\n",
       "      <td>0</td>\n",
       "      <td>...</td>\n",
       "      <td>0</td>\n",
       "      <td>0</td>\n",
       "      <td>0</td>\n",
       "      <td>0</td>\n",
       "      <td>0</td>\n",
       "      <td>0</td>\n",
       "      <td>0</td>\n",
       "      <td>0</td>\n",
       "      <td>0</td>\n",
       "      <td>0</td>\n",
       "    </tr>\n",
       "    <tr>\n",
       "      <th>1</th>\n",
       "      <td>0</td>\n",
       "      <td>0</td>\n",
       "      <td>0</td>\n",
       "      <td>0</td>\n",
       "      <td>0</td>\n",
       "      <td>0</td>\n",
       "      <td>0</td>\n",
       "      <td>0</td>\n",
       "      <td>0</td>\n",
       "      <td>0</td>\n",
       "      <td>...</td>\n",
       "      <td>0</td>\n",
       "      <td>0</td>\n",
       "      <td>0</td>\n",
       "      <td>0</td>\n",
       "      <td>0</td>\n",
       "      <td>0</td>\n",
       "      <td>0</td>\n",
       "      <td>0</td>\n",
       "      <td>0</td>\n",
       "      <td>0</td>\n",
       "    </tr>\n",
       "    <tr>\n",
       "      <th>2</th>\n",
       "      <td>0</td>\n",
       "      <td>0</td>\n",
       "      <td>0</td>\n",
       "      <td>0</td>\n",
       "      <td>0</td>\n",
       "      <td>0</td>\n",
       "      <td>0</td>\n",
       "      <td>0</td>\n",
       "      <td>0</td>\n",
       "      <td>0</td>\n",
       "      <td>...</td>\n",
       "      <td>0</td>\n",
       "      <td>0</td>\n",
       "      <td>0</td>\n",
       "      <td>0</td>\n",
       "      <td>0</td>\n",
       "      <td>0</td>\n",
       "      <td>0</td>\n",
       "      <td>0</td>\n",
       "      <td>0</td>\n",
       "      <td>0</td>\n",
       "    </tr>\n",
       "    <tr>\n",
       "      <th>3</th>\n",
       "      <td>1</td>\n",
       "      <td>0</td>\n",
       "      <td>0</td>\n",
       "      <td>0</td>\n",
       "      <td>0</td>\n",
       "      <td>0</td>\n",
       "      <td>0</td>\n",
       "      <td>0</td>\n",
       "      <td>0</td>\n",
       "      <td>0</td>\n",
       "      <td>...</td>\n",
       "      <td>0</td>\n",
       "      <td>0</td>\n",
       "      <td>0</td>\n",
       "      <td>0</td>\n",
       "      <td>0</td>\n",
       "      <td>0</td>\n",
       "      <td>0</td>\n",
       "      <td>0</td>\n",
       "      <td>0</td>\n",
       "      <td>0</td>\n",
       "    </tr>\n",
       "    <tr>\n",
       "      <th>4</th>\n",
       "      <td>0</td>\n",
       "      <td>0</td>\n",
       "      <td>0</td>\n",
       "      <td>0</td>\n",
       "      <td>0</td>\n",
       "      <td>0</td>\n",
       "      <td>0</td>\n",
       "      <td>0</td>\n",
       "      <td>0</td>\n",
       "      <td>0</td>\n",
       "      <td>...</td>\n",
       "      <td>0</td>\n",
       "      <td>0</td>\n",
       "      <td>0</td>\n",
       "      <td>0</td>\n",
       "      <td>0</td>\n",
       "      <td>0</td>\n",
       "      <td>0</td>\n",
       "      <td>0</td>\n",
       "      <td>0</td>\n",
       "      <td>0</td>\n",
       "    </tr>\n",
       "  </tbody>\n",
       "</table>\n",
       "<p>5 rows × 2584 columns</p>\n",
       "</div>"
      ],
      "text/plain": [
       "   label  0  010  1  10  100  1000  1000000  1080  11  ...  youim  youll  \\\n",
       "0      0  0    0  0   0    0     0        0     0   0  ...      0      0   \n",
       "1      0  0    0  0   0    0     0        0     0   0  ...      0      0   \n",
       "2      0  0    0  0   0    0     0        0     0   0  ...      0      0   \n",
       "3      1  0    0  0   0    0     0        0     0   0  ...      0      0   \n",
       "4      0  0    0  0   0    0     0        0     0   0  ...      0      0   \n",
       "\n",
       "   younger  your  youtub  youv  yumm  yup  zero  zoo  \n",
       "0        0     0       0     0     0    0     0    0  \n",
       "1        0     0       0     0     0    0     0    0  \n",
       "2        0     0       0     0     0    0     0    0  \n",
       "3        0     0       0     0     0    0     0    0  \n",
       "4        0     0       0     0     0    0     0    0  \n",
       "\n",
       "[5 rows x 2584 columns]"
      ]
     },
     "execution_count": 123,
     "metadata": {},
     "output_type": "execute_result"
    }
   ],
   "source": [
    "msWCTFIDF.head()"
   ]
  },
  {
   "cell_type": "code",
   "execution_count": 125,
   "metadata": {},
   "outputs": [
    {
     "data": {
      "text/html": [
       "<div>\n",
       "<style scoped>\n",
       "    .dataframe tbody tr th:only-of-type {\n",
       "        vertical-align: middle;\n",
       "    }\n",
       "\n",
       "    .dataframe tbody tr th {\n",
       "        vertical-align: top;\n",
       "    }\n",
       "\n",
       "    .dataframe thead th {\n",
       "        text-align: right;\n",
       "    }\n",
       "</style>\n",
       "<table border=\"1\" class=\"dataframe\">\n",
       "  <thead>\n",
       "    <tr style=\"text-align: right;\">\n",
       "      <th></th>\n",
       "      <th>TF-IDF</th>\n",
       "    </tr>\n",
       "  </thead>\n",
       "  <tbody>\n",
       "    <tr>\n",
       "      <th>jungl</th>\n",
       "      <td>7.226537</td>\n",
       "    </tr>\n",
       "    <tr>\n",
       "      <th>news</th>\n",
       "      <td>7.226537</td>\n",
       "    </tr>\n",
       "    <tr>\n",
       "      <th>network</th>\n",
       "      <td>7.226537</td>\n",
       "    </tr>\n",
       "    <tr>\n",
       "      <th>netscap</th>\n",
       "      <td>7.226537</td>\n",
       "    </tr>\n",
       "    <tr>\n",
       "      <th>nerv</th>\n",
       "      <td>7.226537</td>\n",
       "    </tr>\n",
       "    <tr>\n",
       "      <th>nerd</th>\n",
       "      <td>7.226537</td>\n",
       "    </tr>\n",
       "    <tr>\n",
       "      <th>neoliber</th>\n",
       "      <td>7.226537</td>\n",
       "    </tr>\n",
       "    <tr>\n",
       "      <th>neighborhood</th>\n",
       "      <td>7.226537</td>\n",
       "    </tr>\n",
       "    <tr>\n",
       "      <th>neighbor</th>\n",
       "      <td>7.226537</td>\n",
       "    </tr>\n",
       "    <tr>\n",
       "      <th>neg</th>\n",
       "      <td>7.226537</td>\n",
       "    </tr>\n",
       "  </tbody>\n",
       "</table>\n",
       "</div>"
      ],
      "text/plain": [
       "                TF-IDF\n",
       "jungl         7.226537\n",
       "news          7.226537\n",
       "network       7.226537\n",
       "netscap       7.226537\n",
       "nerv          7.226537\n",
       "nerd          7.226537\n",
       "neoliber      7.226537\n",
       "neighborhood  7.226537\n",
       "neighbor      7.226537\n",
       "neg           7.226537"
      ]
     },
     "execution_count": 125,
     "metadata": {},
     "output_type": "execute_result"
    }
   ],
   "source": [
    "# os valores de TF-IDF ficam disponíveis na propriedade idf_ do objeto vetorizado, podemos buscar os valores da seguinte forma:\n",
    "top10 = pd.DataFrame(vetorizadorTFIDF.idf_, index=vetorizador.get_feature_names(),columns=['TF-IDF'])\n",
    "top10.sort_values(by=['TF-IDF'], ascending=False).head(10)"
   ]
  },
  {
   "cell_type": "code",
   "execution_count": null,
   "metadata": {},
   "outputs": [],
   "source": []
  }
 ],
 "metadata": {
  "kernelspec": {
   "display_name": "Python 3",
   "language": "python",
   "name": "python3"
  },
  "language_info": {
   "codemirror_mode": {
    "name": "ipython",
    "version": 3
   },
   "file_extension": ".py",
   "mimetype": "text/x-python",
   "name": "python",
   "nbconvert_exporter": "python",
   "pygments_lexer": "ipython3",
   "version": "3.8.5"
  }
 },
 "nbformat": 4,
 "nbformat_minor": 4
}
